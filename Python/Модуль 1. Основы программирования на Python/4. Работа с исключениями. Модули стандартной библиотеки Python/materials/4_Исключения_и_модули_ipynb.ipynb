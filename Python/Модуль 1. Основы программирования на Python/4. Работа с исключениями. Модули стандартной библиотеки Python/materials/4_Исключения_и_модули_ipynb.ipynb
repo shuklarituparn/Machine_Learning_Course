{
  "cells": [
    {
      "cell_type": "markdown",
      "metadata": {
        "id": "Wg1Q6yuRAv5l"
      },
      "source": [
        "# Исключения"
      ]
    },
    {
      "cell_type": "markdown",
      "metadata": {
        "id": "hFDamnzBAv5o"
      },
      "source": [
        "Исключительные ситуации или исключения (exceptions) – это механизм обработки ошибок, обнаруженных при исполнении.\n",
        "\n",
        "Ошибки могут быть вызваны самыми разными причинами от деления на ноль до нехватки прав выполнить операцию.\n",
        "\n",
        "Примеры ошибки:"
      ]
    },
    {
      "cell_type": "code",
      "execution_count": null,
      "metadata": {
        "id": "gm_WJ0GWAv5q",
        "outputId": "bdb7c4fc-2588-4851-dbe1-a5c174d34479",
        "colab": {
          "base_uri": "https://localhost:8080/",
          "height": 179
        }
      },
      "outputs": [
        {
          "output_type": "error",
          "ename": "ZeroDivisionError",
          "evalue": "division by zero",
          "traceback": [
            "\u001b[0;31m---------------------------------------------------------------------------\u001b[0m",
            "\u001b[0;31mZeroDivisionError\u001b[0m                         Traceback (most recent call last)",
            "\u001b[0;32m<ipython-input-1-bc757c3fda29>\u001b[0m in \u001b[0;36m<cell line: 1>\u001b[0;34m()\u001b[0m\n\u001b[0;32m----> 1\u001b[0;31m \u001b[0;36m1\u001b[0m \u001b[0;34m/\u001b[0m \u001b[0;36m0\u001b[0m\u001b[0;34m\u001b[0m\u001b[0;34m\u001b[0m\u001b[0m\n\u001b[0m",
            "\u001b[0;31mZeroDivisionError\u001b[0m: division by zero"
          ]
        }
      ],
      "source": [
        "1 / 0"
      ]
    },
    {
      "cell_type": "code",
      "source": [
        "f = open('unexisting.txt', 'r')"
      ],
      "metadata": {
        "colab": {
          "base_uri": "https://localhost:8080/",
          "height": 179
        },
        "id": "tnWD58TmuMln",
        "outputId": "48844b48-8ff6-419e-a40f-919a5d1a8551"
      },
      "execution_count": null,
      "outputs": [
        {
          "output_type": "error",
          "ename": "FileNotFoundError",
          "evalue": "[Errno 2] No such file or directory: 'unexisting.txt'",
          "traceback": [
            "\u001b[0;31m---------------------------------------------------------------------------\u001b[0m",
            "\u001b[0;31mFileNotFoundError\u001b[0m                         Traceback (most recent call last)",
            "\u001b[0;32m<ipython-input-2-2b324b9c8ed2>\u001b[0m in \u001b[0;36m<cell line: 1>\u001b[0;34m()\u001b[0m\n\u001b[0;32m----> 1\u001b[0;31m \u001b[0mf\u001b[0m \u001b[0;34m=\u001b[0m \u001b[0mopen\u001b[0m\u001b[0;34m(\u001b[0m\u001b[0;34m'unexisting.txt'\u001b[0m\u001b[0;34m,\u001b[0m \u001b[0;34m'r'\u001b[0m\u001b[0;34m)\u001b[0m\u001b[0;34m\u001b[0m\u001b[0;34m\u001b[0m\u001b[0m\n\u001b[0m",
            "\u001b[0;31mFileNotFoundError\u001b[0m: [Errno 2] No such file or directory: 'unexisting.txt'"
          ]
        }
      ]
    },
    {
      "cell_type": "code",
      "source": [
        "open('file.txt', 'w')"
      ],
      "metadata": {
        "colab": {
          "base_uri": "https://localhost:8080/"
        },
        "id": "WJj6opPLuS37",
        "outputId": "e29ca5f2-0f21-42bb-f993-b4c53a167bf0"
      },
      "execution_count": null,
      "outputs": [
        {
          "output_type": "execute_result",
          "data": {
            "text/plain": [
              "<_io.TextIOWrapper name='file.txt' mode='w' encoding='UTF-8'>"
            ]
          },
          "metadata": {},
          "execution_count": 3
        }
      ]
    },
    {
      "cell_type": "code",
      "execution_count": null,
      "metadata": {
        "id": "e6A9tkwVAv5s",
        "outputId": "30a9f546-e58f-499f-d9ba-79f362b9ca18",
        "colab": {
          "base_uri": "https://localhost:8080/",
          "height": 179
        }
      },
      "outputs": [
        {
          "output_type": "error",
          "ename": "FileExistsError",
          "evalue": "[Errno 17] File exists: 'file.txt'",
          "traceback": [
            "\u001b[0;31m---------------------------------------------------------------------------\u001b[0m",
            "\u001b[0;31mFileExistsError\u001b[0m                           Traceback (most recent call last)",
            "\u001b[0;32m<ipython-input-4-15b2ab88e57c>\u001b[0m in \u001b[0;36m<cell line: 1>\u001b[0;34m()\u001b[0m\n\u001b[0;32m----> 1\u001b[0;31m \u001b[0mf\u001b[0m \u001b[0;34m=\u001b[0m \u001b[0mopen\u001b[0m\u001b[0;34m(\u001b[0m\u001b[0;34m'file.txt'\u001b[0m\u001b[0;34m,\u001b[0m \u001b[0;34m'x'\u001b[0m\u001b[0;34m)\u001b[0m\u001b[0;34m\u001b[0m\u001b[0;34m\u001b[0m\u001b[0m\n\u001b[0m",
            "\u001b[0;31mFileExistsError\u001b[0m: [Errno 17] File exists: 'file.txt'"
          ]
        }
      ],
      "source": [
        "f = open('file.txt', 'x')"
      ]
    },
    {
      "cell_type": "code",
      "execution_count": null,
      "metadata": {
        "id": "weWSfJRhAv5u",
        "outputId": "59907179-ac71-48d7-ddc6-1d21abce3a6c",
        "colab": {
          "base_uri": "https://localhost:8080/",
          "height": 197
        }
      },
      "outputs": [
        {
          "name": "stdout",
          "output_type": "stream",
          "text": [
            "Введите число: dcsc\n"
          ]
        },
        {
          "output_type": "error",
          "ename": "ValueError",
          "evalue": "could not convert string to float: 'dcsc'",
          "traceback": [
            "\u001b[0;31m---------------------------------------------------------------------------\u001b[0m",
            "\u001b[0;31mValueError\u001b[0m                                Traceback (most recent call last)",
            "\u001b[0;32m<ipython-input-7-74e0a0cd96f8>\u001b[0m in \u001b[0;36m<cell line: 1>\u001b[0;34m()\u001b[0m\n\u001b[0;32m----> 1\u001b[0;31m \u001b[0mx\u001b[0m \u001b[0;34m=\u001b[0m \u001b[0mfloat\u001b[0m\u001b[0;34m(\u001b[0m\u001b[0minput\u001b[0m\u001b[0;34m(\u001b[0m\u001b[0;34m'Введите число: '\u001b[0m\u001b[0;34m)\u001b[0m\u001b[0;34m)\u001b[0m\u001b[0;34m\u001b[0m\u001b[0;34m\u001b[0m\u001b[0m\n\u001b[0m",
            "\u001b[0;31mValueError\u001b[0m: could not convert string to float: 'dcsc'"
          ]
        }
      ],
      "source": [
        "x = float(input('Введите число: '))"
      ]
    },
    {
      "cell_type": "markdown",
      "metadata": {
        "id": "MzoqdwjOAv52"
      },
      "source": [
        "## Типы ошибок"
      ]
    },
    {
      "cell_type": "markdown",
      "metadata": {
        "id": "Tude9gpqAv53"
      },
      "source": [
        "[Иерархия типов ошибок](https://docs.python.org/3/library/exceptions.html#exception-hierarchy) из стандартной библиотеки:\n",
        "\n",
        "```text\n",
        "BaseException\n",
        " ├── BaseExceptionGroup\n",
        " ├── GeneratorExit\n",
        " ├── KeyboardInterrupt\n",
        " ├── SystemExit\n",
        " └── Exception\n",
        "      ├── ArithmeticError\n",
        "      │    ├── FloatingPointError\n",
        "      │    ├── OverflowError\n",
        "      │    └── ZeroDivisionError\n",
        "      ├── AssertionError\n",
        "      ├── AttributeError\n",
        "      ├── BufferError\n",
        "      ├── EOFError\n",
        "      ├── ExceptionGroup [BaseExceptionGroup]\n",
        "      ├── ImportError\n",
        "      │    └── ModuleNotFoundError\n",
        "      ├── LookupError\n",
        "      │    ├── IndexError\n",
        "      │    └── KeyError\n",
        "      ├── MemoryError\n",
        "      ├── NameError\n",
        "      │    └── UnboundLocalError\n",
        "      ├── OSError\n",
        "      │    ├── BlockingIOError\n",
        "      │    ├── ChildProcessError\n",
        "      │    ├── ConnectionError\n",
        "      │    │    ├── BrokenPipeError\n",
        "      │    │    ├── ConnectionAbortedError\n",
        "      │    │    ├── ConnectionRefusedError\n",
        "      │    │    └── ConnectionResetError\n",
        "      │    ├── FileExistsError\n",
        "      │    ├── FileNotFoundError\n",
        "      │    ├── InterruptedError\n",
        "      │    ├── IsADirectoryError\n",
        "      │    ├── NotADirectoryError\n",
        "      │    ├── PermissionError\n",
        "      │    ├── ProcessLookupError\n",
        "      │    └── TimeoutError\n",
        "      ├── ReferenceError\n",
        "      ├── RuntimeError\n",
        "      │    ├── NotImplementedError\n",
        "      │    └── RecursionError\n",
        "      ├── StopAsyncIteration\n",
        "      ├── StopIteration\n",
        "      ├── SyntaxError\n",
        "      │    └── IndentationError\n",
        "      │         └── TabError\n",
        "      ├── SystemError\n",
        "      ├── TypeError\n",
        "      ├── ValueError\n",
        "      │    └── UnicodeError\n",
        "      │         ├── UnicodeDecodeError\n",
        "      │         ├── UnicodeEncodeError\n",
        "      │         └── UnicodeTranslateError\n",
        "      └── Warning\n",
        "           ├── BytesWarning\n",
        "           ├── DeprecationWarning\n",
        "           ├── EncodingWarning\n",
        "           ├── FutureWarning\n",
        "           ├── ImportWarning\n",
        "           ├── PendingDeprecationWarning\n",
        "           ├── ResourceWarning\n",
        "           ├── RuntimeWarning\n",
        "           ├── SyntaxWarning\n",
        "           ├── UnicodeWarning\n",
        "           └── UserWarning\n",
        "```"
      ]
    },
    {
      "cell_type": "markdown",
      "metadata": {
        "id": "PIUgc44QAv5v"
      },
      "source": [
        "## Обработка ошибок\n",
        "\n",
        "\n",
        "Полная форма выглядит следующим образом:\n",
        "\n",
        "```python\n",
        "try:\n",
        "    operator1\n",
        "except:\n",
        "    operator2  # выполняется, если было исключение\n",
        "else:\n",
        "    operator3  # выполняется, если не было исключения\n",
        "finally:\n",
        "    operator4  # выполняется всегда\n",
        "```"
      ]
    },
    {
      "cell_type": "code",
      "source": [
        "try:\n",
        "    input_num = input('Введите число: ')\n",
        "    print(input_num)\n",
        "    x = float(input_num)\n",
        "except:\n",
        "    print('Вы ввели не число!')"
      ],
      "metadata": {
        "colab": {
          "base_uri": "https://localhost:8080/"
        },
        "id": "wsJQPnuovV-p",
        "outputId": "88cb69e3-0df1-4e00-b895-ba278e61d7f1"
      },
      "execution_count": null,
      "outputs": [
        {
          "output_type": "stream",
          "name": "stdout",
          "text": [
            "Введите число: dcscd\n",
            "dcscd\n",
            "Вы ввели не число!\n"
          ]
        }
      ]
    },
    {
      "cell_type": "markdown",
      "metadata": {
        "id": "uV8J-vBVAv5y"
      },
      "source": [
        "Если не указывать тип (как в примере выше), то перехватываться будут ошибки всех типов.\n",
        "\n",
        "Указать конкретный тип можно после слова `except`:"
      ]
    },
    {
      "cell_type": "code",
      "execution_count": null,
      "metadata": {
        "id": "3OlBsyqLAv50",
        "colab": {
          "base_uri": "https://localhost:8080/"
        },
        "outputId": "ffe273fa-d508-41d0-ecf4-71611103ec90"
      },
      "outputs": [
        {
          "output_type": "stream",
          "name": "stdout",
          "text": [
            "Введите число: dcsdcsdc\n",
            "Что-то пошло не так: could not convert string to float: 'dcsdcsdc'\n"
          ]
        }
      ],
      "source": [
        "try:\n",
        "    x = float(input('Введите число: '))\n",
        "\n",
        "except ValueError as e:\n",
        "    print(f'Что-то пошло не так: {e}')"
      ]
    },
    {
      "cell_type": "markdown",
      "metadata": {
        "id": "jh1kdEG2Av51"
      },
      "source": [
        "Можно перехватывать разные типы ошибок в разных блоках `except` и в одном блоке обрабатывать ошибки разных типов:"
      ]
    },
    {
      "cell_type": "code",
      "source": [
        "try:\n",
        "    x = float(input('Введите число: '))\n",
        "    10 / x\n",
        "\n",
        "except ValueError as e:\n",
        "    x = float(input('Введите ТОЧНО число: '))\n",
        "    10 / x\n",
        "except ZeroDivisionError as e:\n",
        "    print(f'Что-то пошло не так: {e}')"
      ],
      "metadata": {
        "colab": {
          "base_uri": "https://localhost:8080/"
        },
        "id": "kEQ5K24Cw9Vk",
        "outputId": "e37e7e55-bc06-4905-92a4-e857cfef2e95"
      },
      "execution_count": null,
      "outputs": [
        {
          "output_type": "stream",
          "name": "stdout",
          "text": [
            "Введите число: 0\n",
            "Что-то пошло не так: float division by zero\n"
          ]
        }
      ]
    },
    {
      "cell_type": "markdown",
      "metadata": {
        "id": "-R25L4KFAv56"
      },
      "source": [
        "### `try/except/else`"
      ]
    },
    {
      "cell_type": "markdown",
      "metadata": {
        "id": "ZNQdy3qGAv56"
      },
      "source": [
        "Как и другие операторы (например, `if`, `for`, `while`), оператор `try` также может иметь блок `else`, который выполняется если не было возбуждено исключение:\n"
      ]
    },
    {
      "cell_type": "code",
      "execution_count": null,
      "metadata": {
        "id": "YVDkfNubAv56",
        "colab": {
          "base_uri": "https://localhost:8080/"
        },
        "outputId": "ee5e0b75-6da5-422d-fa13-a335c685fbc8"
      },
      "outputs": [
        {
          "output_type": "stream",
          "name": "stdout",
          "text": [
            "Введите число: 10\n",
            "0.1\n"
          ]
        }
      ],
      "source": [
        "try:\n",
        "    n = int(input('Введите число: '))\n",
        "    res = 1/n\n",
        "except:\n",
        "    print('Произошла ошибка')\n",
        "else:\n",
        "    print(res)"
      ]
    },
    {
      "cell_type": "markdown",
      "metadata": {
        "id": "tNAX9VtmAv57"
      },
      "source": [
        "### `try/except/finally`"
      ]
    },
    {
      "cell_type": "markdown",
      "metadata": {
        "id": "lQ-sf38RAv57"
      },
      "source": [
        "Блок `else` выполняется не всегда - только если не было исключения. Иногда нужно выполнить некоторые действия всегда - вне зависимости было исключение или нет. Для этого используется блок `finally`:"
      ]
    },
    {
      "cell_type": "code",
      "execution_count": null,
      "metadata": {
        "id": "W4B2ncg0Av57",
        "colab": {
          "base_uri": "https://localhost:8080/",
          "height": 266
        },
        "outputId": "b3550fab-5b51-4b67-fca3-dd0500f1aedf"
      },
      "outputs": [
        {
          "output_type": "stream",
          "name": "stdout",
          "text": [
            "файл закрыт\n"
          ]
        },
        {
          "output_type": "error",
          "ename": "ZeroDivisionError",
          "evalue": "division by zero",
          "traceback": [
            "\u001b[0;31m---------------------------------------------------------------------------\u001b[0m",
            "\u001b[0;31mZeroDivisionError\u001b[0m                         Traceback (most recent call last)",
            "\u001b[0;32m<ipython-input-34-9f2e697cae6f>\u001b[0m in \u001b[0;36m<cell line: 2>\u001b[0;34m()\u001b[0m\n\u001b[1;32m      2\u001b[0m \u001b[0;32mtry\u001b[0m\u001b[0;34m:\u001b[0m\u001b[0;34m\u001b[0m\u001b[0;34m\u001b[0m\u001b[0m\n\u001b[1;32m      3\u001b[0m     \u001b[0mf\u001b[0m \u001b[0;34m=\u001b[0m \u001b[0mopen\u001b[0m\u001b[0;34m(\u001b[0m\u001b[0;34m'test.txt'\u001b[0m\u001b[0;34m,\u001b[0m \u001b[0;34m'w'\u001b[0m\u001b[0;34m)\u001b[0m\u001b[0;34m\u001b[0m\u001b[0;34m\u001b[0m\u001b[0m\n\u001b[0;32m----> 4\u001b[0;31m     \u001b[0;36m1\u001b[0m\u001b[0;34m/\u001b[0m\u001b[0;36m0\u001b[0m  \u001b[0;31m# error\u001b[0m\u001b[0;34m\u001b[0m\u001b[0;34m\u001b[0m\u001b[0m\n\u001b[0m\u001b[1;32m      5\u001b[0m \u001b[0;32mfinally\u001b[0m\u001b[0;34m:\u001b[0m\u001b[0;34m\u001b[0m\u001b[0;34m\u001b[0m\u001b[0m\n\u001b[1;32m      6\u001b[0m     \u001b[0;32mif\u001b[0m \u001b[0mf\u001b[0m\u001b[0;34m:\u001b[0m\u001b[0;34m\u001b[0m\u001b[0;34m\u001b[0m\u001b[0m\n",
            "\u001b[0;31mZeroDivisionError\u001b[0m: division by zero"
          ]
        }
      ],
      "source": [
        "f = None\n",
        "try:\n",
        "    f = open('test.txt', 'w')\n",
        "    1/0  # error\n",
        "finally:\n",
        "    if f:\n",
        "        f.close()\n",
        "    print('файл закрыт')"
      ]
    },
    {
      "cell_type": "markdown",
      "metadata": {
        "id": "9qBpwUsxAv53"
      },
      "source": [
        "### 🧠 Упражнение: Сумма чисел из файла"
      ]
    },
    {
      "cell_type": "code",
      "source": [
        "!wget 'https://drive.google.com/uc?id=1ajtdfQNnqb7XcL7iifDMRXqZMaU1c-zr' -O numbers.txt"
      ],
      "metadata": {
        "colab": {
          "base_uri": "https://localhost:8080/"
        },
        "id": "y_efckkaBD7X",
        "outputId": "9239fafd-ec1e-4602-adef-ba791acd0996"
      },
      "execution_count": null,
      "outputs": [
        {
          "output_type": "stream",
          "name": "stdout",
          "text": [
            "--2024-03-26 11:34:35--  https://drive.google.com/uc?id=1ajtdfQNnqb7XcL7iifDMRXqZMaU1c-zr\n",
            "Resolving drive.google.com (drive.google.com)... 108.177.127.139, 108.177.127.101, 108.177.127.102, ...\n",
            "Connecting to drive.google.com (drive.google.com)|108.177.127.139|:443... connected.\n",
            "HTTP request sent, awaiting response... 303 See Other\n",
            "Location: https://drive.usercontent.google.com/download?id=1ajtdfQNnqb7XcL7iifDMRXqZMaU1c-zr [following]\n",
            "--2024-03-26 11:34:35--  https://drive.usercontent.google.com/download?id=1ajtdfQNnqb7XcL7iifDMRXqZMaU1c-zr\n",
            "Resolving drive.usercontent.google.com (drive.usercontent.google.com)... 108.177.119.132, 2a00:1450:4013:c00::84\n",
            "Connecting to drive.usercontent.google.com (drive.usercontent.google.com)|108.177.119.132|:443... connected.\n",
            "HTTP request sent, awaiting response... 200 OK\n",
            "Length: 42 [application/octet-stream]\n",
            "Saving to: ‘numbers.txt’\n",
            "\n",
            "numbers.txt         100%[===================>]      42  --.-KB/s    in 0s      \n",
            "\n",
            "2024-03-26 11:34:37 (877 KB/s) - ‘numbers.txt’ saved [42/42]\n",
            "\n"
          ]
        }
      ]
    },
    {
      "cell_type": "markdown",
      "metadata": {
        "id": "Vszwol56Av54"
      },
      "source": [
        "Пользователь вводит имя файла. Программа открывает этот файл и читает построчно числа (одна строка = одно число).\n",
        "В конце программа выводит сумму чисел.\n",
        "\n",
        "Пример работы программы:\n",
        "\n",
        "```text\n",
        "Введите имя файла: numbers.txt\n",
        "Сумма чисел: 10\n",
        "```\n",
        "\n",
        "Содержимое файла `numbers.txt`:\n",
        "\n",
        "```text\n",
        "1\n",
        "3\n",
        "4\n",
        "2\n",
        "```\n",
        "\n",
        "Программа должна отрабатывать случай, когда файл не найден:\n",
        "\n",
        "```text\n",
        "Введите имя файла: n0mb3r.txt\n",
        "Файл 'n0mb3r.txt' не найден\n",
        "```\n",
        "\n",
        "Также программа должна отрабатывать случай, когда в файле содержаться не числа:\n",
        "\n",
        "\n",
        "```text\n",
        "Введите имя файла: numbers.txt\n",
        "Файл содержит нечисловое значение: #!/usr/bin/env python3\n",
        "Файл содержит нечисловое значение: abcd\n",
        "Сумма чисел: 10\n",
        "```\n",
        "\n",
        "Содержимое файла `numbers.txt`:\n",
        "\n",
        "```text\n",
        "#!/usr/bin/env python3\n",
        "1\n",
        "3\n",
        "abcd\n",
        "4\n",
        "2\n",
        "```\n"
      ]
    },
    {
      "cell_type": "code",
      "execution_count": null,
      "metadata": {
        "colab": {
          "base_uri": "https://localhost:8080/"
        },
        "id": "0t__AH35Av55",
        "outputId": "3e4e059e-8ff5-4319-d646-343e90c5f8ba"
      },
      "outputs": [
        {
          "output_type": "stream",
          "name": "stdout",
          "text": [
            "Введите имя файла: numbers.txt\n",
            "Файл содержит нечисловое значение: #!/usr/bin/env python3\n",
            "Файл содержит нечисловое значение: abcd\n",
            "Сумма чисел: 10.0\n"
          ]
        }
      ],
      "source": []
    },
    {
      "cell_type": "code",
      "source": [
        "#@title Решение\n",
        "import os\n",
        "\n",
        "filename = input('Введите имя файла: ')\n",
        "\n",
        "try:\n",
        "    f = open(filename, 'r', encoding='utf-8')\n",
        "except FileNotFoundError:\n",
        "    print(f'Файл \"{filename}\" не найден')\n",
        "    exit(1)\n",
        "\n",
        "sum = 0\n",
        "for line in f:\n",
        "    s = line.strip()\n",
        "    try:\n",
        "        sum += float(s)\n",
        "    except ValueError:\n",
        "        print(f'Файл содержит нечисловое значение: {s}')\n",
        "\n",
        "f.close()\n",
        "print(f'Сумма чисел: {sum}')\n"
      ],
      "metadata": {
        "id": "DgCjUtHiBjIo",
        "colab": {
          "base_uri": "https://localhost:8080/"
        },
        "outputId": "ecec8323-8521-45b2-8798-e7859cf0a914",
        "cellView": "form"
      },
      "execution_count": null,
      "outputs": [
        {
          "output_type": "stream",
          "name": "stdout",
          "text": [
            "Введите имя файла: numbers.txt\n",
            "Файл содержит нечисловое значение: #!/usr/bin/env python3\n",
            "Файл содержит нечисловое значение: abcd\n",
            "Сумма чисел: 10.0\n"
          ]
        }
      ]
    },
    {
      "cell_type": "markdown",
      "metadata": {
        "id": "JEu-a5AJAv59"
      },
      "source": [
        "## Возбуждение исключений"
      ]
    },
    {
      "cell_type": "markdown",
      "metadata": {
        "id": "0CpYJtDFAv59"
      },
      "source": [
        "Ранее мы получали ошибки из функций, которые вызывали. Но мы сами может возбуждать вызывать такие ошибки с помощью оператора `raise`:\n",
        "\n",
        "```python\n",
        "raise ValueError(\"текст исключения\")\n",
        "```\n",
        "\n",
        "Вместо `ValueError` мы можем указывать нужный нам тип.\n",
        "\n",
        "Как правило, в качестве аргумента можно передать текстовое описание ошибки:"
      ]
    },
    {
      "cell_type": "code",
      "source": [
        "def mysum(x, y):\n",
        "    return x + y"
      ],
      "metadata": {
        "id": "pex6ptjF0R3m"
      },
      "execution_count": null,
      "outputs": []
    },
    {
      "cell_type": "code",
      "source": [
        "mysum('1', 2)"
      ],
      "metadata": {
        "colab": {
          "base_uri": "https://localhost:8080/",
          "height": 249
        },
        "id": "AxZ6LsHX0TMS",
        "outputId": "44e49a6e-ebf5-4283-9a62-cf78690c4124"
      },
      "execution_count": null,
      "outputs": [
        {
          "output_type": "error",
          "ename": "TypeError",
          "evalue": "can only concatenate str (not \"int\") to str",
          "traceback": [
            "\u001b[0;31m---------------------------------------------------------------------------\u001b[0m",
            "\u001b[0;31mTypeError\u001b[0m                                 Traceback (most recent call last)",
            "\u001b[0;32m<ipython-input-38-e86341fb593d>\u001b[0m in \u001b[0;36m<cell line: 1>\u001b[0;34m()\u001b[0m\n\u001b[0;32m----> 1\u001b[0;31m \u001b[0mmysum\u001b[0m\u001b[0;34m(\u001b[0m\u001b[0;34m'1'\u001b[0m\u001b[0;34m,\u001b[0m \u001b[0;36m2\u001b[0m\u001b[0;34m)\u001b[0m\u001b[0;34m\u001b[0m\u001b[0;34m\u001b[0m\u001b[0m\n\u001b[0m",
            "\u001b[0;32m<ipython-input-36-0981dd9a14f2>\u001b[0m in \u001b[0;36mmysum\u001b[0;34m(x, y)\u001b[0m\n\u001b[1;32m      1\u001b[0m \u001b[0;32mdef\u001b[0m \u001b[0mmysum\u001b[0m\u001b[0;34m(\u001b[0m\u001b[0mx\u001b[0m\u001b[0;34m,\u001b[0m \u001b[0my\u001b[0m\u001b[0;34m)\u001b[0m\u001b[0;34m:\u001b[0m\u001b[0;34m\u001b[0m\u001b[0;34m\u001b[0m\u001b[0m\n\u001b[0;32m----> 2\u001b[0;31m     \u001b[0;32mreturn\u001b[0m \u001b[0mx\u001b[0m \u001b[0;34m+\u001b[0m \u001b[0my\u001b[0m\u001b[0;34m\u001b[0m\u001b[0;34m\u001b[0m\u001b[0m\n\u001b[0m",
            "\u001b[0;31mTypeError\u001b[0m: can only concatenate str (not \"int\") to str"
          ]
        }
      ]
    },
    {
      "cell_type": "code",
      "execution_count": null,
      "metadata": {
        "id": "sx7wMKSoAv59"
      },
      "outputs": [],
      "source": [
        "def mysum(x, y):\n",
        "    if type(x) is not int and type(x) is not float:\n",
        "        raise TypeError(f'Ошибка: x имеет неподходящий тип {type(x)}')\n",
        "    if type(y) is not int and type(y) is not float:\n",
        "        raise TypeError(f'Ошибка: y имеет неподходящий тип {type(y)}')\n",
        "    return x + y"
      ]
    },
    {
      "cell_type": "code",
      "execution_count": null,
      "metadata": {
        "id": "PBKn9J1tAv5-",
        "outputId": "974e2210-92ff-45ae-f4cd-c4c51671cfba",
        "colab": {
          "base_uri": "https://localhost:8080/"
        }
      },
      "outputs": [
        {
          "output_type": "execute_result",
          "data": {
            "text/plain": [
              "3"
            ]
          },
          "metadata": {},
          "execution_count": 40
        }
      ],
      "source": [
        "mysum(1, 2)"
      ]
    },
    {
      "cell_type": "code",
      "execution_count": null,
      "metadata": {
        "id": "evpfxL-uAv5-",
        "outputId": "6cfe1420-25aa-431c-ab3e-726e8ee5c9d7",
        "colab": {
          "base_uri": "https://localhost:8080/"
        }
      },
      "outputs": [
        {
          "output_type": "execute_result",
          "data": {
            "text/plain": [
              "4.6"
            ]
          },
          "metadata": {},
          "execution_count": 41
        }
      ],
      "source": [
        "mysum(1.2, 3.4)"
      ]
    },
    {
      "cell_type": "code",
      "source": [
        "mysum(1, 2.1)"
      ],
      "metadata": {
        "colab": {
          "base_uri": "https://localhost:8080/"
        },
        "id": "glNmJTKv0iS2",
        "outputId": "43e3dc5f-4864-44ce-d57a-fc9a1e36b767"
      },
      "execution_count": null,
      "outputs": [
        {
          "output_type": "execute_result",
          "data": {
            "text/plain": [
              "3.1"
            ]
          },
          "metadata": {},
          "execution_count": 42
        }
      ]
    },
    {
      "cell_type": "code",
      "execution_count": null,
      "metadata": {
        "id": "Xeit8M9SAv5_",
        "outputId": "3b00272b-992e-4330-a334-1451c51176ac",
        "colab": {
          "base_uri": "https://localhost:8080/",
          "height": 284
        }
      },
      "outputs": [
        {
          "output_type": "error",
          "ename": "TypeError",
          "evalue": "Ошибка: y имеет неподходящий тип <class 'str'>",
          "traceback": [
            "\u001b[0;31m---------------------------------------------------------------------------\u001b[0m",
            "\u001b[0;31mTypeError\u001b[0m                                 Traceback (most recent call last)",
            "\u001b[0;32m<ipython-input-46-7a737bcd2033>\u001b[0m in \u001b[0;36m<cell line: 1>\u001b[0;34m()\u001b[0m\n\u001b[0;32m----> 1\u001b[0;31m \u001b[0mmysum\u001b[0m\u001b[0;34m(\u001b[0m\u001b[0;36m1.2\u001b[0m\u001b[0;34m,\u001b[0m \u001b[0;34m'3.4'\u001b[0m\u001b[0;34m)\u001b[0m\u001b[0;34m\u001b[0m\u001b[0;34m\u001b[0m\u001b[0m\n\u001b[0m",
            "\u001b[0;32m<ipython-input-39-2f204cfefa61>\u001b[0m in \u001b[0;36mmysum\u001b[0;34m(x, y)\u001b[0m\n\u001b[1;32m      3\u001b[0m         \u001b[0;32mraise\u001b[0m \u001b[0mTypeError\u001b[0m\u001b[0;34m(\u001b[0m\u001b[0;34mf'Ошибка: x имеет неподходящий тип {type(x)}'\u001b[0m\u001b[0;34m)\u001b[0m\u001b[0;34m\u001b[0m\u001b[0;34m\u001b[0m\u001b[0m\n\u001b[1;32m      4\u001b[0m     \u001b[0;32mif\u001b[0m \u001b[0mtype\u001b[0m\u001b[0;34m(\u001b[0m\u001b[0my\u001b[0m\u001b[0;34m)\u001b[0m \u001b[0;32mis\u001b[0m \u001b[0;32mnot\u001b[0m \u001b[0mint\u001b[0m \u001b[0;32mand\u001b[0m \u001b[0mtype\u001b[0m\u001b[0;34m(\u001b[0m\u001b[0my\u001b[0m\u001b[0;34m)\u001b[0m \u001b[0;32mis\u001b[0m \u001b[0;32mnot\u001b[0m \u001b[0mfloat\u001b[0m\u001b[0;34m:\u001b[0m\u001b[0;34m\u001b[0m\u001b[0;34m\u001b[0m\u001b[0m\n\u001b[0;32m----> 5\u001b[0;31m         \u001b[0;32mraise\u001b[0m \u001b[0mTypeError\u001b[0m\u001b[0;34m(\u001b[0m\u001b[0;34mf'Ошибка: y имеет неподходящий тип {type(y)}'\u001b[0m\u001b[0;34m)\u001b[0m\u001b[0;34m\u001b[0m\u001b[0;34m\u001b[0m\u001b[0m\n\u001b[0m\u001b[1;32m      6\u001b[0m     \u001b[0;32mreturn\u001b[0m \u001b[0mx\u001b[0m \u001b[0;34m+\u001b[0m \u001b[0my\u001b[0m\u001b[0;34m\u001b[0m\u001b[0;34m\u001b[0m\u001b[0m\n",
            "\u001b[0;31mTypeError\u001b[0m: Ошибка: y имеет неподходящий тип <class 'str'>"
          ]
        }
      ],
      "source": [
        "mysum(1.2, '3.4')"
      ]
    },
    {
      "cell_type": "markdown",
      "metadata": {
        "id": "49Uf59VtAv5_"
      },
      "source": [
        "### 🧠 Упражнение: Обработка `CTRL+C`"
      ]
    },
    {
      "cell_type": "markdown",
      "metadata": {
        "id": "z8Oezln2Av6A"
      },
      "source": [
        "Пользователь вводит `n`. Программа находит сумму чисел от `1` по `n` через цикл `for`.\n",
        "\n",
        "Какое исключение возбуждается, если прервать выполнение программы, нажав `CTRL+C`?\n",
        "\n",
        "Добавьте обработку этого исключения - пусть программа выводит сообщение \"`выполнение было прервано`\"."
      ]
    },
    {
      "cell_type": "code",
      "source": [],
      "metadata": {
        "colab": {
          "base_uri": "https://localhost:8080/"
        },
        "id": "mSi8A58f2Cou",
        "outputId": "1b65bd1b-251a-4012-d529-3758780bee4f"
      },
      "execution_count": null,
      "outputs": [
        {
          "output_type": "stream",
          "name": "stdout",
          "text": [
            "Введите число n:1000000000000000\n",
            "выполнение было прервано\n"
          ]
        },
        {
          "output_type": "execute_result",
          "data": {
            "text/plain": [
              "67967708644545"
            ]
          },
          "metadata": {},
          "execution_count": 56
        }
      ]
    },
    {
      "cell_type": "code",
      "source": [
        "#@title Решение\n",
        "while True:\n",
        "    try:\n",
        "        n = int(input('Введите количество чисел: '))\n",
        "        break\n",
        "    except ValueError as e:\n",
        "        print(f'Что-то пошло не так: {str(e)}')\n",
        "\n",
        "try:\n",
        "    sum = 0\n",
        "    for i in range(1, n+1):\n",
        "        sum += i\n",
        "    print(f'Сумма чисел 1..{n}={sum}')\n",
        "except KeyboardInterrupt:\n",
        "    print('выполнение было прервано')\n",
        "    exit(1)\n"
      ],
      "metadata": {
        "id": "S0mWFsPjBnL_",
        "colab": {
          "base_uri": "https://localhost:8080/"
        },
        "outputId": "28afa627-d645-4c4b-ad75-72231d65cc4b",
        "cellView": "form"
      },
      "execution_count": null,
      "outputs": [
        {
          "output_type": "stream",
          "name": "stdout",
          "text": [
            "Введите количество чисел: 100000000000000\n",
            "выполнение было прервано\n"
          ]
        }
      ]
    },
    {
      "cell_type": "markdown",
      "metadata": {
        "id": "V1kHXV8nAv6A"
      },
      "source": [
        "## Собственные исключения"
      ]
    },
    {
      "cell_type": "markdown",
      "metadata": {
        "id": "lL6MurBfAv6B"
      },
      "source": [
        "Если ваш тип ошибок не попадает в иерархию стандартных исключений, то можно сделать собственные типы для исключений:"
      ]
    },
    {
      "cell_type": "code",
      "execution_count": null,
      "metadata": {
        "id": "A5NAdHRKAv6B",
        "outputId": "50599704-be3a-4ee8-f348-c25045cb8b01",
        "colab": {
          "base_uri": "https://localhost:8080/"
        }
      },
      "outputs": [
        {
          "output_type": "stream",
          "name": "stdout",
          "text": [
            "1\n",
            "3что-то не так\n"
          ]
        }
      ],
      "source": [
        "class MyException(Exception):\n",
        "    pass\n",
        "\n",
        "try:\n",
        "    print('1')\n",
        "    raise MyException('что-то не так')\n",
        "    print('2')\n",
        "except MyException as e:\n",
        "    print('3' + str(e))\n",
        "\n"
      ]
    },
    {
      "cell_type": "markdown",
      "metadata": {
        "id": "I48fa-lMAv6C"
      },
      "source": [
        "Как видно, исключения реализуются с помощью классов. Поэтому всё что справедливо для классов, будет справедливо и для исключений."
      ]
    },
    {
      "cell_type": "markdown",
      "source": [
        "## Рекомендации\n",
        "1. Текст ошибки всегда пишется в конце - переводим на русский язык. Читаем лог ошибки - traceback. Все коллеги читают traceback - вы можете это сами. А сможет ли ваш коллега это проделать?\n",
        "2. Ищем ошибку в поисковике.\n",
        "3. Обращаемся к коллегам\n",
        "- (в рабочих проектах) Какую проблему я решаю?\n",
        "- Проверяйте могут ли ваши коллеги проверить, что значат переменные?\n",
        "- Про исходные данные?\n",
        "\n",
        "4. Составлять воспроизводимый пример.\n",
        "- Проверяем, что дело НЕ в последовательности выполнения ячеек.\n",
        "- Если у коллег воспроизводится - он напишет принты и разберется\n",
        "- НЕ воиспроводится, может значить, что у вас разное окружение (версии библиотек, операционная система, местоположение, пароли и т.д.)"
      ],
      "metadata": {
        "id": "Gb7CLSFa6czD"
      }
    },
    {
      "cell_type": "markdown",
      "metadata": {
        "id": "dBSocWRmt_ms"
      },
      "source": [
        "# Даты"
      ]
    },
    {
      "cell_type": "code",
      "execution_count": null,
      "metadata": {
        "id": "OW4lJyqxt_mt"
      },
      "outputs": [],
      "source": [
        "# иногда импортируют так\n",
        "import datetime"
      ]
    },
    {
      "cell_type": "code",
      "execution_count": null,
      "metadata": {
        "id": "StXuh6cVt_mt"
      },
      "outputs": [],
      "source": [
        "# можно и так\n",
        "import datetime as dt"
      ]
    },
    {
      "cell_type": "code",
      "execution_count": null,
      "metadata": {
        "id": "lRmVMTEht_mt"
      },
      "outputs": [],
      "source": [
        "from datetime import datetime"
      ]
    },
    {
      "cell_type": "code",
      "execution_count": null,
      "metadata": {
        "id": "5tlvuTAjt_mu",
        "colab": {
          "base_uri": "https://localhost:8080/",
          "height": 36
        },
        "outputId": "fcbae537-4a16-431a-bb44-aff0413ed25a"
      },
      "outputs": [
        {
          "output_type": "execute_result",
          "data": {
            "text/plain": [
              "'09.05.2018  09:00'"
            ],
            "application/vnd.google.colaboratory.intrinsic+json": {
              "type": "string"
            }
          },
          "metadata": {},
          "execution_count": 61
        }
      ],
      "source": [
        "date_string = '09.05.2018  09:00'\n",
        "date_string"
      ]
    },
    {
      "cell_type": "code",
      "execution_count": null,
      "metadata": {
        "id": "z3ipf0jVt_mu",
        "colab": {
          "base_uri": "https://localhost:8080/"
        },
        "outputId": "30e5170e-7289-4940-d3e0-4dbc0e73dceb"
      },
      "outputs": [
        {
          "output_type": "execute_result",
          "data": {
            "text/plain": [
              "str"
            ]
          },
          "metadata": {},
          "execution_count": 62
        }
      ],
      "source": [
        "# сейчас date_string это просто строка\n",
        "type(date_string)"
      ]
    },
    {
      "cell_type": "code",
      "execution_count": null,
      "metadata": {
        "id": "y_N0NIjHt_mv",
        "colab": {
          "base_uri": "https://localhost:8080/"
        },
        "outputId": "2eff2608-eab6-4168-f750-b3e4009f9caf"
      },
      "outputs": [
        {
          "output_type": "execute_result",
          "data": {
            "text/plain": [
              "datetime.datetime(2018, 5, 9, 9, 0)"
            ]
          },
          "metadata": {},
          "execution_count": 63
        }
      ],
      "source": [
        "# https://docs.python.org/3/library/datetime.html\n",
        "\n",
        "date_datetime = datetime.strptime(date_string, '%d.%m.%Y %H:%M')\n",
        "date_datetime"
      ]
    },
    {
      "cell_type": "code",
      "execution_count": null,
      "metadata": {
        "id": "YK9Sqs1Ot_mv",
        "colab": {
          "base_uri": "https://localhost:8080/"
        },
        "outputId": "fd0abb17-49a4-47af-8752-6de7f0926059"
      },
      "outputs": [
        {
          "output_type": "execute_result",
          "data": {
            "text/plain": [
              "datetime.datetime"
            ]
          },
          "metadata": {},
          "execution_count": 64
        }
      ],
      "source": [
        "# теперь можем работать с датами\n",
        "type(date_datetime)"
      ]
    },
    {
      "cell_type": "code",
      "execution_count": null,
      "metadata": {
        "id": "-kuVD1OPt_mw",
        "colab": {
          "base_uri": "https://localhost:8080/"
        },
        "outputId": "7f24d0a2-44e4-4619-f923-c780bc657509"
      },
      "outputs": [
        {
          "output_type": "execute_result",
          "data": {
            "text/plain": [
              "(2018, 9)"
            ]
          },
          "metadata": {},
          "execution_count": 65
        }
      ],
      "source": [
        "# получить номер года и часа\n",
        "date_datetime.year, date_datetime.hour"
      ]
    },
    {
      "cell_type": "code",
      "execution_count": null,
      "metadata": {
        "id": "cX3ixubct_mw",
        "colab": {
          "base_uri": "https://localhost:8080/"
        },
        "outputId": "8412552e-4f12-4b88-f0fa-9654e71f52e6"
      },
      "outputs": [
        {
          "output_type": "execute_result",
          "data": {
            "text/plain": [
              "2"
            ]
          },
          "metadata": {},
          "execution_count": 66
        }
      ],
      "source": [
        "# день недели\n",
        "date_datetime.weekday()"
      ]
    },
    {
      "cell_type": "code",
      "execution_count": null,
      "metadata": {
        "id": "IBzqWKr1t_mw",
        "colab": {
          "base_uri": "https://localhost:8080/"
        },
        "outputId": "435f7298-038f-412b-afef-040c19562719"
      },
      "outputs": [
        {
          "output_type": "execute_result",
          "data": {
            "text/plain": [
              "datetime.datetime(2024, 1, 15, 6, 51, 33, 805857)"
            ]
          },
          "metadata": {},
          "execution_count": 68
        }
      ],
      "source": [
        "# сегодня\n",
        "datetime.now()"
      ]
    },
    {
      "cell_type": "markdown",
      "metadata": {
        "id": "csXANecNt_mx"
      },
      "source": [
        "### 🧠 Упражнение:\n",
        "С помощью метода datetime.strptime переведите строку 'May 25 2017 5:00' в формат datetime."
      ]
    },
    {
      "cell_type": "code",
      "execution_count": null,
      "metadata": {
        "id": "h3lUymsBt_mx",
        "colab": {
          "base_uri": "https://localhost:8080/"
        },
        "outputId": "9352b868-07ff-4735-c6ba-c02c5f4045e5"
      },
      "outputs": [
        {
          "output_type": "execute_result",
          "data": {
            "text/plain": [
              "datetime.datetime(2017, 5, 25, 5, 0)"
            ]
          },
          "metadata": {},
          "execution_count": 70
        }
      ],
      "source": [
        "date = 'May 25 2017 5:00'\n"
      ]
    },
    {
      "cell_type": "code",
      "source": [
        "#@title Решение\n",
        "date_str = 'May 25 2017 5:00'\n",
        "datetime.strptime(date_str, '%b %d %Y %H:%M')"
      ],
      "metadata": {
        "colab": {
          "base_uri": "https://localhost:8080/"
        },
        "id": "Nzuoij_z3kMH",
        "outputId": "5f3d533e-f52e-4fa9-ab15-d0608c915f3f",
        "cellView": "form"
      },
      "execution_count": null,
      "outputs": [
        {
          "output_type": "execute_result",
          "data": {
            "text/plain": [
              "datetime.datetime(2017, 5, 25, 5, 0)"
            ]
          },
          "metadata": {},
          "execution_count": 16
        }
      ]
    },
    {
      "cell_type": "markdown",
      "metadata": {
        "id": "hURz19CFt_my"
      },
      "source": [
        "### Прибавление интервала к датам"
      ]
    },
    {
      "cell_type": "code",
      "execution_count": null,
      "metadata": {
        "id": "CAiAfOgst_my"
      },
      "outputs": [],
      "source": [
        "from datetime import timedelta"
      ]
    },
    {
      "cell_type": "code",
      "execution_count": null,
      "metadata": {
        "id": "cEaDZIh6t_mz"
      },
      "outputs": [],
      "source": [
        "start_date = '2018-01-01'\n",
        "end_date = '2018-01-07'"
      ]
    },
    {
      "cell_type": "code",
      "execution_count": null,
      "metadata": {
        "id": "xT03hM7qt_mz",
        "colab": {
          "base_uri": "https://localhost:8080/"
        },
        "outputId": "37f804ec-f3b2-49c5-e76d-c88d1a418a76"
      },
      "outputs": [
        {
          "output_type": "execute_result",
          "data": {
            "text/plain": [
              "str"
            ]
          },
          "metadata": {},
          "execution_count": 74
        }
      ],
      "source": [
        "type(start_date)"
      ]
    },
    {
      "cell_type": "code",
      "execution_count": null,
      "metadata": {
        "id": "vUpJsR5Qt_mz",
        "colab": {
          "base_uri": "https://localhost:8080/"
        },
        "outputId": "265db29d-535c-46db-a61a-a4039dd4a404"
      },
      "outputs": [
        {
          "output_type": "execute_result",
          "data": {
            "text/plain": [
              "datetime.datetime(2018, 1, 1, 0, 0)"
            ]
          },
          "metadata": {},
          "execution_count": 82
        }
      ],
      "source": [
        "start_date_datetime = datetime.strptime(start_date, '%Y-%m-%d')\n",
        "start_date_datetime"
      ]
    },
    {
      "cell_type": "code",
      "execution_count": null,
      "metadata": {
        "id": "MfJc-S5rt_m0",
        "colab": {
          "base_uri": "https://localhost:8080/"
        },
        "outputId": "5fcdc3fb-e972-4a50-ff27-8afd2634478e"
      },
      "outputs": [
        {
          "output_type": "execute_result",
          "data": {
            "text/plain": [
              "datetime.datetime(2018, 1, 2, 0, 0)"
            ]
          },
          "metadata": {},
          "execution_count": 77
        }
      ],
      "source": [
        "start_date_datetime + timedelta(days=1)"
      ]
    },
    {
      "cell_type": "code",
      "source": [
        "start_date_datetime += timedelta(days=1)\n",
        "start_date_datetime"
      ],
      "metadata": {
        "colab": {
          "base_uri": "https://localhost:8080/"
        },
        "id": "N9ZD9_FI57SA",
        "outputId": "19306a70-7796-48ad-febf-d47d9dbe03c3"
      },
      "execution_count": null,
      "outputs": [
        {
          "output_type": "execute_result",
          "data": {
            "text/plain": [
              "datetime.datetime(2018, 1, 4, 0, 0)"
            ]
          },
          "metadata": {},
          "execution_count": 80
        }
      ]
    },
    {
      "cell_type": "code",
      "execution_count": null,
      "metadata": {
        "id": "p8WCtp4Tt_m0",
        "colab": {
          "base_uri": "https://localhost:8080/"
        },
        "outputId": "464b90c1-e00f-499f-ff9d-b5adaa4928a5"
      },
      "outputs": [
        {
          "output_type": "execute_result",
          "data": {
            "text/plain": [
              "datetime.datetime(2017, 12, 24, 23, 59)"
            ]
          },
          "metadata": {},
          "execution_count": 84
        }
      ],
      "source": [
        "start_date_datetime + timedelta(days=-7, minutes=-1)"
      ]
    },
    {
      "cell_type": "markdown",
      "metadata": {
        "id": "wneSmRZOt_m1"
      },
      "source": [
        "### Перевод обратно в строку"
      ]
    },
    {
      "cell_type": "code",
      "execution_count": null,
      "metadata": {
        "id": "lB1b7uFct_m1",
        "colab": {
          "base_uri": "https://localhost:8080/"
        },
        "outputId": "e8d0354c-5c9e-4432-a8ad-63d7ed7fac38"
      },
      "outputs": [
        {
          "output_type": "execute_result",
          "data": {
            "text/plain": [
              "datetime.datetime(2018, 9, 1, 0, 0)"
            ]
          },
          "metadata": {},
          "execution_count": 85
        }
      ],
      "source": [
        "date = datetime(2018, 9, 1)\n",
        "date"
      ]
    },
    {
      "cell_type": "code",
      "execution_count": null,
      "metadata": {
        "id": "1KJgSOsJt_m1",
        "colab": {
          "base_uri": "https://localhost:8080/",
          "height": 36
        },
        "outputId": "632876ad-61dc-4501-a644-3986c8077902"
      },
      "outputs": [
        {
          "output_type": "execute_result",
          "data": {
            "text/plain": [
              "'2018-09-01'"
            ],
            "application/vnd.google.colaboratory.intrinsic+json": {
              "type": "string"
            }
          },
          "metadata": {},
          "execution_count": 87
        }
      ],
      "source": [
        "date.strftime('%Y-%m-%d')"
      ]
    },
    {
      "cell_type": "code",
      "execution_count": null,
      "metadata": {
        "scrolled": false,
        "id": "qrBXbDcSt_m2",
        "colab": {
          "base_uri": "https://localhost:8080/",
          "height": 36
        },
        "outputId": "293bf1e3-c78c-4b2a-d8a6-259d23b608fa"
      },
      "outputs": [
        {
          "output_type": "execute_result",
          "data": {
            "text/plain": [
              "'September 01 2018 12:00'"
            ],
            "application/vnd.google.colaboratory.intrinsic+json": {
              "type": "string"
            }
          },
          "metadata": {},
          "execution_count": 30
        }
      ],
      "source": [
        "date.strftime('%B %d %Y %I:%M')"
      ]
    },
    {
      "cell_type": "code",
      "execution_count": null,
      "metadata": {
        "id": "HaWKoL99t_m2",
        "colab": {
          "base_uri": "https://localhost:8080/",
          "height": 36
        },
        "outputId": "2df2f7e8-4b19-42e6-b834-04429a390ace"
      },
      "outputs": [
        {
          "output_type": "execute_result",
          "data": {
            "text/plain": [
              "'2024-01-01'"
            ],
            "application/vnd.google.colaboratory.intrinsic+json": {
              "type": "string"
            }
          },
          "metadata": {},
          "execution_count": 89
        }
      ],
      "source": [
        "datetime.now().strftime('%Y-%m-01')"
      ]
    },
    {
      "cell_type": "markdown",
      "metadata": {
        "id": "voF6yENLt_lu"
      },
      "source": [
        "## 🧠 Упражнение: Задача про интервалы дат\n",
        "Имеется список отсортированных по возрастанию дат dates_list. А также дата date, которая лежит между минимальным и максимальным значениями из списка dates_list. Вам необходимо определить ближайшие даты в списке dates_list, которые окружают дату date.\n",
        "\n",
        "Пример:\n",
        "```python\n",
        "dates_list = ['2022-01-01', '2022-01-07', '2022-02-23', '2022-03-08', '2022-05-01', '2022-05-09', '2022-06-12']\n",
        "date = '2022-04-01'\n",
        "```"
      ]
    },
    {
      "cell_type": "code",
      "execution_count": null,
      "metadata": {
        "id": "hxhTv_GGt_l_",
        "outputId": "2cb24952-b322-4902-bf60-53d052e3cd6c",
        "colab": {
          "base_uri": "https://localhost:8080/"
        }
      },
      "outputs": [
        {
          "output_type": "stream",
          "name": "stdout",
          "text": [
            "0 2022-01-01 2022-01-07\n",
            "1 2022-01-07 2022-02-23\n",
            "2 2022-02-23 2022-03-08\n",
            "3 2022-03-08 2022-05-01\n",
            "Ура нашлось\n"
          ]
        }
      ],
      "source": [
        "#@title Решение\n",
        "\n",
        "dates_list = ['2022-01-01', '2022-01-07', '2022-02-23', '2022-03-08', '2022-05-01', '2022-05-09', '2022-06-12']\n",
        "date = '2022-04-01'\n",
        "\n",
        "for i, dt in enumerate(dates_list[:-1]):\n",
        "    print(i, dt, dates_list[i+1])\n",
        "\n",
        "    if dt < date < dates_list[i+1]:\n",
        "        print('Ура нашлось')\n",
        "        break"
      ]
    },
    {
      "cell_type": "markdown",
      "metadata": {
        "id": "fqg86d_0t_mm"
      },
      "source": [
        "## Более жизненный пример"
      ]
    },
    {
      "cell_type": "markdown",
      "metadata": {
        "id": "vf82OEs1t_mr"
      },
      "source": [
        "Чем прекрасен этот файл:\n",
        "\n",
        "Даты имеют разный формат: за 8 и 9 октября формат с \"09.10.2016 21:40\" сменился на \"09.10.2016T 21:40:00\" (добавилась буква T и секунды). Разработчики объяснили этот тем, что сбились настройки после обновления одной из баз данных."
      ]
    },
    {
      "cell_type": "code",
      "source": [
        "!wget 'https://drive.google.com/uc?id=1DZC7ykEsmbGB8y68MGD2h8-RP6MIhhtS' -O real_data.txt"
      ],
      "metadata": {
        "colab": {
          "base_uri": "https://localhost:8080/"
        },
        "id": "9EL7G4t4IMRC",
        "outputId": "087f60d1-0387-4b4a-9b1c-ecace021c664"
      },
      "execution_count": null,
      "outputs": [
        {
          "output_type": "stream",
          "name": "stdout",
          "text": [
            "--2024-03-26 11:39:53--  https://drive.google.com/uc?id=1DZC7ykEsmbGB8y68MGD2h8-RP6MIhhtS\n",
            "Resolving drive.google.com (drive.google.com)... 108.177.127.102, 108.177.127.139, 108.177.127.101, ...\n",
            "Connecting to drive.google.com (drive.google.com)|108.177.127.102|:443... connected.\n",
            "HTTP request sent, awaiting response... 303 See Other\n",
            "Location: https://drive.usercontent.google.com/download?id=1DZC7ykEsmbGB8y68MGD2h8-RP6MIhhtS [following]\n",
            "--2024-03-26 11:39:54--  https://drive.usercontent.google.com/download?id=1DZC7ykEsmbGB8y68MGD2h8-RP6MIhhtS\n",
            "Resolving drive.usercontent.google.com (drive.usercontent.google.com)... 108.177.127.132, 2a00:1450:4013:c07::84\n",
            "Connecting to drive.usercontent.google.com (drive.usercontent.google.com)|108.177.127.132|:443... connected.\n",
            "HTTP request sent, awaiting response... 200 OK\n",
            "Length: 276 [application/octet-stream]\n",
            "Saving to: ‘real_data.txt’\n",
            "\n",
            "real_data.txt       100%[===================>]     276  --.-KB/s    in 0s      \n",
            "\n",
            "2024-03-26 11:39:54 (12.4 MB/s) - ‘real_data.txt’ saved [276/276]\n",
            "\n"
          ]
        }
      ]
    },
    {
      "cell_type": "code",
      "source": [
        "with open('real_data.txt', 'r') as f:\n",
        "    for line in f:\n",
        "        print(line)\n",
        "        data, user_id, value = line.strip().split(';')"
      ],
      "metadata": {
        "id": "O7T8NTJXWewP",
        "colab": {
          "base_uri": "https://localhost:8080/",
          "height": 280
        },
        "outputId": "da170ca5-50cc-45f3-c382-709ecb200529"
      },
      "execution_count": null,
      "outputs": [
        {
          "output_type": "stream",
          "name": "stdout",
          "text": [
            "05.10.16 23:18;1010;20,2\n",
            "\n",
            "09.10.2016T 21:40:00;1036;15,6\n",
            "\n",
            "05.10.16 3:23;1041\n",
            "\n"
          ]
        },
        {
          "output_type": "error",
          "ename": "ValueError",
          "evalue": "not enough values to unpack (expected 3, got 2)",
          "traceback": [
            "\u001b[0;31m---------------------------------------------------------------------------\u001b[0m",
            "\u001b[0;31mValueError\u001b[0m                                Traceback (most recent call last)",
            "\u001b[0;32m<ipython-input-5-122f8dca16a0>\u001b[0m in \u001b[0;36m<cell line: 1>\u001b[0;34m()\u001b[0m\n\u001b[1;32m      2\u001b[0m     \u001b[0;32mfor\u001b[0m \u001b[0mline\u001b[0m \u001b[0;32min\u001b[0m \u001b[0mf\u001b[0m\u001b[0;34m:\u001b[0m\u001b[0;34m\u001b[0m\u001b[0;34m\u001b[0m\u001b[0m\n\u001b[1;32m      3\u001b[0m         \u001b[0mprint\u001b[0m\u001b[0;34m(\u001b[0m\u001b[0mline\u001b[0m\u001b[0;34m)\u001b[0m\u001b[0;34m\u001b[0m\u001b[0;34m\u001b[0m\u001b[0m\n\u001b[0;32m----> 4\u001b[0;31m         \u001b[0mdata\u001b[0m\u001b[0;34m,\u001b[0m \u001b[0muser_id\u001b[0m\u001b[0;34m,\u001b[0m \u001b[0mvalue\u001b[0m \u001b[0;34m=\u001b[0m \u001b[0mline\u001b[0m\u001b[0;34m.\u001b[0m\u001b[0mstrip\u001b[0m\u001b[0;34m(\u001b[0m\u001b[0;34m)\u001b[0m\u001b[0;34m.\u001b[0m\u001b[0msplit\u001b[0m\u001b[0;34m(\u001b[0m\u001b[0;34m';'\u001b[0m\u001b[0;34m)\u001b[0m\u001b[0;34m\u001b[0m\u001b[0;34m\u001b[0m\u001b[0m\n\u001b[0m",
            "\u001b[0;31mValueError\u001b[0m: not enough values to unpack (expected 3, got 2)"
          ]
        }
      ]
    },
    {
      "cell_type": "code",
      "source": [
        "with open('real_data.txt', 'r') as f:\n",
        "    for line in f:\n",
        "        line = line.strip().split(';')\n",
        "\n",
        "        print(len(line))\n",
        "        if len(line) == 3:\n",
        "            date, user_id, value = line"
      ],
      "metadata": {
        "id": "mCNGndcGWzRK",
        "colab": {
          "base_uri": "https://localhost:8080/"
        },
        "outputId": "935e40bc-1a29-4384-df78-e108ec6fd82d"
      },
      "execution_count": null,
      "outputs": [
        {
          "output_type": "stream",
          "name": "stdout",
          "text": [
            "3\n",
            "3\n",
            "2\n",
            "3\n",
            "3\n",
            "3\n",
            "3\n",
            "3\n",
            "3\n",
            "3\n",
            "3\n",
            "1\n"
          ]
        }
      ]
    },
    {
      "cell_type": "markdown",
      "source": [
        "Сделаем что-то с датой"
      ],
      "metadata": {
        "id": "Pe-NBWagXAQb"
      }
    },
    {
      "cell_type": "code",
      "execution_count": null,
      "metadata": {
        "id": "EFryLTC4t_mm"
      },
      "outputs": [],
      "source": [
        "from datetime import datetime  # datetime.py"
      ]
    },
    {
      "cell_type": "code",
      "source": [
        "def date_parse(date):\n",
        "    # https://docs.python.org/3/library/datetime.html\n",
        "    # 05.10.16 23:18\n",
        "    return datetime.strptime(date, '%d.%m.%y %H:%M')"
      ],
      "metadata": {
        "id": "TBdlB_L9XJdN"
      },
      "execution_count": null,
      "outputs": []
    },
    {
      "cell_type": "code",
      "execution_count": null,
      "metadata": {
        "id": "t_f-woWNt_mo",
        "outputId": "d45d3b67-797e-44be-b152-ed2a6ed44ea2",
        "colab": {
          "base_uri": "https://localhost:8080/"
        }
      },
      "outputs": [
        {
          "output_type": "execute_result",
          "data": {
            "text/plain": [
              "datetime.datetime(2016, 10, 5, 23, 18)"
            ]
          },
          "metadata": {},
          "execution_count": 137
        }
      ],
      "source": [
        "date_parse('05.10.16 23:18')"
      ]
    },
    {
      "cell_type": "code",
      "source": [
        "with open('real_data.txt', 'r') as f:\n",
        "    for line in f:\n",
        "        line = line.strip().split(';')\n",
        "\n",
        "        if len(line) == 3:\n",
        "            date, user_id, value = line\n",
        "            print(date)\n",
        "            date = date_parse(date)"
      ],
      "metadata": {
        "colab": {
          "base_uri": "https://localhost:8080/",
          "height": 394
        },
        "id": "gMIBmvg8YGUi",
        "outputId": "567f08c6-1a66-4624-cd89-282db641f902"
      },
      "execution_count": null,
      "outputs": [
        {
          "output_type": "stream",
          "name": "stdout",
          "text": [
            "05.10.16 23:18\n",
            "09.10.2016T 21:40:00\n"
          ]
        },
        {
          "output_type": "error",
          "ename": "ValueError",
          "evalue": "time data '09.10.2016T 21:40:00' does not match format '%d.%m.%y %H:%M'",
          "traceback": [
            "\u001b[0;31m---------------------------------------------------------------------------\u001b[0m",
            "\u001b[0;31mValueError\u001b[0m                                Traceback (most recent call last)",
            "\u001b[0;32m<ipython-input-138-c8164dda49c9>\u001b[0m in \u001b[0;36m<cell line: 1>\u001b[0;34m()\u001b[0m\n\u001b[1;32m      6\u001b[0m             \u001b[0mdate\u001b[0m\u001b[0;34m,\u001b[0m \u001b[0muser_id\u001b[0m\u001b[0;34m,\u001b[0m \u001b[0mvalue\u001b[0m \u001b[0;34m=\u001b[0m \u001b[0mline\u001b[0m\u001b[0;34m\u001b[0m\u001b[0;34m\u001b[0m\u001b[0m\n\u001b[1;32m      7\u001b[0m             \u001b[0mprint\u001b[0m\u001b[0;34m(\u001b[0m\u001b[0mdate\u001b[0m\u001b[0;34m)\u001b[0m\u001b[0;34m\u001b[0m\u001b[0;34m\u001b[0m\u001b[0m\n\u001b[0;32m----> 8\u001b[0;31m             \u001b[0mdate\u001b[0m \u001b[0;34m=\u001b[0m \u001b[0mdate_parse\u001b[0m\u001b[0;34m(\u001b[0m\u001b[0mdate\u001b[0m\u001b[0;34m)\u001b[0m\u001b[0;34m\u001b[0m\u001b[0;34m\u001b[0m\u001b[0m\n\u001b[0m",
            "\u001b[0;32m<ipython-input-136-cf35d7d7423b>\u001b[0m in \u001b[0;36mdate_parse\u001b[0;34m(date)\u001b[0m\n\u001b[1;32m      2\u001b[0m     \u001b[0;31m# https://docs.python.org/3/library/datetime.html\u001b[0m\u001b[0;34m\u001b[0m\u001b[0;34m\u001b[0m\u001b[0m\n\u001b[1;32m      3\u001b[0m     \u001b[0;31m# 05.10.16 23:18\u001b[0m\u001b[0;34m\u001b[0m\u001b[0;34m\u001b[0m\u001b[0m\n\u001b[0;32m----> 4\u001b[0;31m     \u001b[0;32mreturn\u001b[0m \u001b[0mdatetime\u001b[0m\u001b[0;34m.\u001b[0m\u001b[0mstrptime\u001b[0m\u001b[0;34m(\u001b[0m\u001b[0mdate\u001b[0m\u001b[0;34m,\u001b[0m \u001b[0;34m'%d.%m.%y %H:%M'\u001b[0m\u001b[0;34m)\u001b[0m\u001b[0;34m\u001b[0m\u001b[0;34m\u001b[0m\u001b[0m\n\u001b[0m",
            "\u001b[0;32m/usr/lib/python3.10/_strptime.py\u001b[0m in \u001b[0;36m_strptime_datetime\u001b[0;34m(cls, data_string, format)\u001b[0m\n\u001b[1;32m    566\u001b[0m     \"\"\"Return a class cls instance based on the input string and the\n\u001b[1;32m    567\u001b[0m     format string.\"\"\"\n\u001b[0;32m--> 568\u001b[0;31m     \u001b[0mtt\u001b[0m\u001b[0;34m,\u001b[0m \u001b[0mfraction\u001b[0m\u001b[0;34m,\u001b[0m \u001b[0mgmtoff_fraction\u001b[0m \u001b[0;34m=\u001b[0m \u001b[0m_strptime\u001b[0m\u001b[0;34m(\u001b[0m\u001b[0mdata_string\u001b[0m\u001b[0;34m,\u001b[0m \u001b[0mformat\u001b[0m\u001b[0;34m)\u001b[0m\u001b[0;34m\u001b[0m\u001b[0;34m\u001b[0m\u001b[0m\n\u001b[0m\u001b[1;32m    569\u001b[0m     \u001b[0mtzname\u001b[0m\u001b[0;34m,\u001b[0m \u001b[0mgmtoff\u001b[0m \u001b[0;34m=\u001b[0m \u001b[0mtt\u001b[0m\u001b[0;34m[\u001b[0m\u001b[0;34m-\u001b[0m\u001b[0;36m2\u001b[0m\u001b[0;34m:\u001b[0m\u001b[0;34m]\u001b[0m\u001b[0;34m\u001b[0m\u001b[0;34m\u001b[0m\u001b[0m\n\u001b[1;32m    570\u001b[0m     \u001b[0margs\u001b[0m \u001b[0;34m=\u001b[0m \u001b[0mtt\u001b[0m\u001b[0;34m[\u001b[0m\u001b[0;34m:\u001b[0m\u001b[0;36m6\u001b[0m\u001b[0;34m]\u001b[0m \u001b[0;34m+\u001b[0m \u001b[0;34m(\u001b[0m\u001b[0mfraction\u001b[0m\u001b[0;34m,\u001b[0m\u001b[0;34m)\u001b[0m\u001b[0;34m\u001b[0m\u001b[0;34m\u001b[0m\u001b[0m\n",
            "\u001b[0;32m/usr/lib/python3.10/_strptime.py\u001b[0m in \u001b[0;36m_strptime\u001b[0;34m(data_string, format)\u001b[0m\n\u001b[1;32m    347\u001b[0m     \u001b[0mfound\u001b[0m \u001b[0;34m=\u001b[0m \u001b[0mformat_regex\u001b[0m\u001b[0;34m.\u001b[0m\u001b[0mmatch\u001b[0m\u001b[0;34m(\u001b[0m\u001b[0mdata_string\u001b[0m\u001b[0;34m)\u001b[0m\u001b[0;34m\u001b[0m\u001b[0;34m\u001b[0m\u001b[0m\n\u001b[1;32m    348\u001b[0m     \u001b[0;32mif\u001b[0m \u001b[0;32mnot\u001b[0m \u001b[0mfound\u001b[0m\u001b[0;34m:\u001b[0m\u001b[0;34m\u001b[0m\u001b[0;34m\u001b[0m\u001b[0m\n\u001b[0;32m--> 349\u001b[0;31m         raise ValueError(\"time data %r does not match format %r\" %\n\u001b[0m\u001b[1;32m    350\u001b[0m                          (data_string, format))\n\u001b[1;32m    351\u001b[0m     \u001b[0;32mif\u001b[0m \u001b[0mlen\u001b[0m\u001b[0;34m(\u001b[0m\u001b[0mdata_string\u001b[0m\u001b[0;34m)\u001b[0m \u001b[0;34m!=\u001b[0m \u001b[0mfound\u001b[0m\u001b[0;34m.\u001b[0m\u001b[0mend\u001b[0m\u001b[0;34m(\u001b[0m\u001b[0;34m)\u001b[0m\u001b[0;34m:\u001b[0m\u001b[0;34m\u001b[0m\u001b[0;34m\u001b[0m\u001b[0m\n",
            "\u001b[0;31mValueError\u001b[0m: time data '09.10.2016T 21:40:00' does not match format '%d.%m.%y %H:%M'"
          ]
        }
      ]
    },
    {
      "cell_type": "markdown",
      "source": [
        "Лечим через try except"
      ],
      "metadata": {
        "id": "L_S36Ke9YR7E"
      }
    },
    {
      "cell_type": "code",
      "source": [
        "def date_parse(date):\n",
        "    # https://docs.python.org/3/library/datetime.html\n",
        "    try:\n",
        "        # 05.10.16 23:18\n",
        "        return datetime.strptime(date, '%d.%m.%y %H:%M')\n",
        "    except ValueError:\n",
        "        # 09.10.2016T 21:40:00\n",
        "        return datetime.strptime(date, '%d.%m.%YT %H:%M:%S')"
      ],
      "metadata": {
        "id": "hsJo1i9-YaCE"
      },
      "execution_count": null,
      "outputs": []
    },
    {
      "cell_type": "code",
      "source": [
        "date_parse('05.10.16 23:18')"
      ],
      "metadata": {
        "id": "BaVcN13VYmAS",
        "colab": {
          "base_uri": "https://localhost:8080/"
        },
        "outputId": "4baa8c77-91bd-44fa-e547-7d64c3be016c"
      },
      "execution_count": null,
      "outputs": [
        {
          "output_type": "execute_result",
          "data": {
            "text/plain": [
              "datetime.datetime(2016, 10, 5, 23, 18)"
            ]
          },
          "metadata": {},
          "execution_count": 140
        }
      ]
    },
    {
      "cell_type": "code",
      "execution_count": null,
      "metadata": {
        "id": "zTXQm6mFt_mp",
        "outputId": "b189d068-59f0-45bb-bdce-1b89eba7ca0d",
        "colab": {
          "base_uri": "https://localhost:8080/"
        }
      },
      "outputs": [
        {
          "output_type": "execute_result",
          "data": {
            "text/plain": [
              "datetime.datetime(2016, 10, 9, 21, 40)"
            ]
          },
          "metadata": {},
          "execution_count": 141
        }
      ],
      "source": [
        "date_parse('09.10.2016T 21:40:00')"
      ]
    },
    {
      "cell_type": "markdown",
      "source": [
        "Если форматов больше"
      ],
      "metadata": {
        "id": "WbZGWXRpYsLz"
      }
    },
    {
      "cell_type": "code",
      "execution_count": null,
      "metadata": {
        "id": "5rp-gx8ot_mn"
      },
      "outputs": [],
      "source": [
        "DATE_FORMATS = ['%d.%m.%y %H:%M', '%d.%m.%YT %H:%M:%S']"
      ]
    },
    {
      "cell_type": "code",
      "source": [
        "def date_parse(date):\n",
        "    for format in DATE_FORMATS:\n",
        "        try:\n",
        "            return datetime.strptime(date, format)\n",
        "        except ValueError:\n",
        "            pass\n",
        "\n",
        "    # когда дата не распознана\n",
        "    raise ValueError(f'Ошибка на дате {date}')"
      ],
      "metadata": {
        "id": "8LmCA_ACW_Nx"
      },
      "execution_count": null,
      "outputs": []
    },
    {
      "cell_type": "code",
      "execution_count": null,
      "metadata": {
        "id": "QkSvA7pbt_mo",
        "outputId": "9b3e990e-055c-4dd1-eb0a-29b91b2eb3b3",
        "colab": {
          "base_uri": "https://localhost:8080/",
          "height": 266
        }
      },
      "outputs": [
        {
          "output_type": "error",
          "ename": "ValueError",
          "evalue": "Ошибка на дате 111",
          "traceback": [
            "\u001b[0;31m---------------------------------------------------------------------------\u001b[0m",
            "\u001b[0;31mValueError\u001b[0m                                Traceback (most recent call last)",
            "\u001b[0;32m<ipython-input-144-75238eedd8cb>\u001b[0m in \u001b[0;36m<cell line: 1>\u001b[0;34m()\u001b[0m\n\u001b[0;32m----> 1\u001b[0;31m \u001b[0mdate_parse\u001b[0m\u001b[0;34m(\u001b[0m\u001b[0;34m'111'\u001b[0m\u001b[0;34m)\u001b[0m\u001b[0;34m\u001b[0m\u001b[0;34m\u001b[0m\u001b[0m\n\u001b[0m",
            "\u001b[0;32m<ipython-input-143-6ccf8e0e93c9>\u001b[0m in \u001b[0;36mdate_parse\u001b[0;34m(date)\u001b[0m\n\u001b[1;32m      7\u001b[0m \u001b[0;34m\u001b[0m\u001b[0m\n\u001b[1;32m      8\u001b[0m     \u001b[0;31m# когда дата не распознана\u001b[0m\u001b[0;34m\u001b[0m\u001b[0;34m\u001b[0m\u001b[0m\n\u001b[0;32m----> 9\u001b[0;31m     \u001b[0;32mraise\u001b[0m \u001b[0mValueError\u001b[0m\u001b[0;34m(\u001b[0m\u001b[0;34mf'Ошибка на дате {date}'\u001b[0m\u001b[0;34m)\u001b[0m\u001b[0;34m\u001b[0m\u001b[0;34m\u001b[0m\u001b[0m\n\u001b[0m",
            "\u001b[0;31mValueError\u001b[0m: Ошибка на дате 111"
          ]
        }
      ],
      "source": [
        "date_parse('111')"
      ]
    },
    {
      "cell_type": "code",
      "execution_count": null,
      "metadata": {
        "id": "U_3eXWEyt_mq"
      },
      "outputs": [],
      "source": [
        "with open('real_data.txt', 'r') as f:\n",
        "    for line in f:\n",
        "        line = line.strip().split(';')\n",
        "\n",
        "        if len(line) == 3:\n",
        "            date, user_id, value = line\n",
        "            date = date_parse(date)"
      ]
    },
    {
      "cell_type": "code",
      "source": [
        "DATE_FORMATS = ['%d.%m.%y %H:%M', '%d.%m.%YT %H:%M:%S', '%d.%m.%yT %H:%M:%S']"
      ],
      "metadata": {
        "id": "4u3rG-F9Jfq6"
      },
      "execution_count": null,
      "outputs": []
    },
    {
      "cell_type": "markdown",
      "metadata": {
        "id": "UjCnk-5hAv6C"
      },
      "source": [
        "## Документация"
      ]
    },
    {
      "cell_type": "markdown",
      "metadata": {
        "id": "yl5uUtWgAv6D"
      },
      "source": [
        "- https://docs.python.org/3/library/exceptions.html\n",
        "- https://docs.python.org/3/tutorial/errors.html"
      ]
    }
  ],
  "metadata": {
    "kernelspec": {
      "display_name": "venv310",
      "language": "python",
      "name": "python3"
    },
    "language_info": {
      "codemirror_mode": {
        "name": "ipython",
        "version": 3
      },
      "file_extension": ".py",
      "mimetype": "text/x-python",
      "name": "python",
      "nbconvert_exporter": "python",
      "pygments_lexer": "ipython3",
      "version": "3.10.7"
    },
    "orig_nbformat": 4,
    "vscode": {
      "interpreter": {
        "hash": "38e75ce933e579243472a492358115ffa3b0cc7ac9685c5e4afa3c08c0540864"
      }
    },
    "colab": {
      "provenance": [],
      "toc_visible": true
    }
  },
  "nbformat": 4,
  "nbformat_minor": 0
}