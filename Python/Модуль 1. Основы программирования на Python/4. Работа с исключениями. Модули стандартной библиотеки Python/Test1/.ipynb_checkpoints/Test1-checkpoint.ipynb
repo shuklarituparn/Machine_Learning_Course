{
 "cells": [
  {
   "metadata": {
    "ExecuteTime": {
     "end_time": "2024-04-19T19:31:12.668747Z",
     "start_time": "2024-04-19T19:31:12.479495Z"
    }
   },
   "cell_type": "code",
   "source": [
    "x = '90'\n",
    "y = '11'\n",
    "print (x//y)"
   ],
   "id": "c9c4e266c5bc73e2",
   "outputs": [
    {
     "ename": "TypeError",
     "evalue": "unsupported operand type(s) for //: 'str' and 'str'",
     "output_type": "error",
     "traceback": [
      "\u001B[0;31m---------------------------------------------------------------------------\u001B[0m",
      "\u001B[0;31mTypeError\u001B[0m                                 Traceback (most recent call last)",
      "Cell \u001B[0;32mIn[1], line 3\u001B[0m\n\u001B[1;32m      1\u001B[0m x \u001B[38;5;241m=\u001B[39m \u001B[38;5;124m'\u001B[39m\u001B[38;5;124m90\u001B[39m\u001B[38;5;124m'\u001B[39m\n\u001B[1;32m      2\u001B[0m y \u001B[38;5;241m=\u001B[39m \u001B[38;5;124m'\u001B[39m\u001B[38;5;124m11\u001B[39m\u001B[38;5;124m'\u001B[39m\n\u001B[0;32m----> 3\u001B[0m \u001B[38;5;28mprint\u001B[39m (\u001B[43mx\u001B[49m\u001B[38;5;241;43m/\u001B[39;49m\u001B[38;5;241;43m/\u001B[39;49m\u001B[43my\u001B[49m)\n",
      "\u001B[0;31mTypeError\u001B[0m: unsupported operand type(s) for //: 'str' and 'str'"
     ]
    }
   ],
   "execution_count": 1
  },
  {
   "metadata": {
    "ExecuteTime": {
     "end_time": "2024-04-19T19:32:50.402748Z",
     "start_time": "2024-04-19T19:32:46.434404Z"
    }
   },
   "cell_type": "code",
   "source": [
    "a = input().split() \n",
    "print(type(a))\n",
    "print(a)"
   ],
   "id": "db5a0c102f20a72a",
   "outputs": [
    {
     "name": "stdout",
     "output_type": "stream",
     "text": [
      "<class 'list'>\n",
      "['samisaniceguy']\n"
     ]
    }
   ],
   "execution_count": 3
  },
  {
   "metadata": {
    "ExecuteTime": {
     "end_time": "2024-04-19T19:34:00.166413Z",
     "start_time": "2024-04-19T19:34:00.162054Z"
    }
   },
   "cell_type": "code",
   "source": [
    "cart = {'bread': 35, 'milk': 70, 'oil': 100, 'sugar': 80, 'pasta': 75, 'ice cream': 40}\n",
    "\n",
    "print(cart)\n",
    "\n",
    "cart.pop('ice cream')\n",
    "\n",
    "print(cart)"
   ],
   "id": "e5f8907df73cb63f",
   "outputs": [
    {
     "name": "stdout",
     "output_type": "stream",
     "text": [
      "{'bread': 35, 'milk': 70, 'oil': 100, 'sugar': 80, 'pasta': 75, 'ice cream': 40}\n",
      "{'bread': 35, 'milk': 70, 'oil': 100, 'sugar': 80, 'pasta': 75}\n"
     ]
    }
   ],
   "execution_count": 8
  },
  {
   "metadata": {
    "ExecuteTime": {
     "end_time": "2024-04-19T19:41:14.379472Z",
     "start_time": "2024-04-19T19:41:14.374644Z"
    }
   },
   "cell_type": "code",
   "source": [
    "# f = open('test.txt', 'w')\n",
    "# for i in range(10):\n",
    "#     f.write(str(i ** 2) + ' ')\n",
    "# f.close()\n",
    "\n",
    "# f = open('test.txt', 'w')\n",
    "# for i in range(10):\n",
    "#     print(i * i, end=' ', file=f)\n",
    "# f.close()\n",
    "\n",
    "# f = open('test.txt')\n",
    "# res = ''\n",
    "# for i in range(10):\n",
    "#     res += str(i ** 2) + ' '\n",
    "# f.write(res)\n",
    "# f.close()  #wrong\n",
    "\n",
    "\n",
    "# f = open('test.txt', 'w')\n",
    "# res = ''\n",
    "# for i in range(10):\n",
    "#     res += str(i ** 2) + ' '\n",
    "# f.write(res)\n",
    "# f.close()\n",
    "\n",
    "# f = open('test.txt', 'r')\n",
    "# for i in range(10):\n",
    "#     t = str(i ** 2) + ' '\n",
    "#     f.write(t)\n",
    "# f.close()   #wrong\n",
    "\n",
    "\n",
    "# f = open('test.txt', 'w')\n",
    "# for i in range(9):\n",
    "#     print(i * i, end=' ', file=f)\n",
    "# f.close()"
   ],
   "id": "8d1215439b0f83c5",
   "outputs": [],
   "execution_count": 17
  },
  {
   "metadata": {
    "ExecuteTime": {
     "end_time": "2024-04-19T19:49:27.794966Z",
     "start_time": "2024-04-19T19:49:27.790444Z"
    }
   },
   "cell_type": "code",
   "source": [
    "\n",
    "f = open('test.txt', 'w') \n",
    "for i in range(10): \n",
    "    print(i ** 2, file=f) \n",
    "f.close() "
   ],
   "id": "50111be63318da0b",
   "outputs": [],
   "execution_count": 19
  },
  {
   "metadata": {},
   "cell_type": "code",
   "outputs": [],
   "execution_count": null,
   "source": [
    "class Person:\n",
    "    def __init__(self, name):\n",
    "     self.name = name\n",
    "  \n",
    "    def greet(self):\n",
    "         print(f'Hello, {self.name}!')"
   ],
   "id": "8913893f630694d3"
  },
  {
   "metadata": {},
   "cell_type": "code",
   "outputs": [],
   "execution_count": null,
   "source": "",
   "id": "cd84b3a3d7ee9c06"
  },
  {
   "metadata": {},
   "cell_type": "markdown",
   "source": [
    "Какую команду следует использовать, чтобы сохранить информацию об установленных пакетах в формате, пригодном для последующей автоматической установки?\n",
    "Выберите один ответ:\n",
    "pip list\n",
    "pip freeze\n",
    "pip save\n",
    "pip dump\n"
   ],
   "id": "8bbeb13895deccf5"
  }
 ],
 "metadata": {
  "kernelspec": {
   "display_name": "Python 3",
   "language": "python",
   "name": "python3"
  },
  "language_info": {
   "codemirror_mode": {
    "name": "ipython",
    "version": 2
   },
   "file_extension": ".py",
   "mimetype": "text/x-python",
   "name": "python",
   "nbconvert_exporter": "python",
   "pygments_lexer": "ipython2",
   "version": "2.7.6"
  }
 },
 "nbformat": 4,
 "nbformat_minor": 5
}
