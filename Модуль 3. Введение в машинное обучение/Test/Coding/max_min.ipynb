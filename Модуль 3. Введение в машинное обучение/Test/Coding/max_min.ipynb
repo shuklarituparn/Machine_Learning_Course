{
 "cells": [
  {
   "cell_type": "code",
   "id": "initial_id",
   "metadata": {
    "collapsed": true,
    "ExecuteTime": {
     "end_time": "2024-06-20T20:36:28.680368Z",
     "start_time": "2024-06-20T20:36:28.675119Z"
    }
   },
   "source": [
    "import numpy as np\n",
    "from scipy.optimize import minimize_scalar\n",
    "\n",
    "def f(x):\n",
    "    return 25 * x**3 * (1 - 4 * x**2) * np.exp(-5 * x**2)\n",
    "\n",
    "res = minimize_scalar(f, bounds=[-10, 10], method=\"bounded\")\n",
    "print(res.x)"
   ],
   "outputs": [
    {
     "name": "stdout",
     "output_type": "stream",
     "text": [
      "0.7944647046155822\n"
     ]
    }
   ],
   "execution_count": 5
  },
  {
   "metadata": {
    "ExecuteTime": {
     "end_time": "2024-06-20T20:35:57.932440Z",
     "start_time": "2024-06-20T20:35:57.927960Z"
    }
   },
   "cell_type": "code",
   "source": [
    "import numpy as np\n",
    "from scipy.optimize import minimize_scalar\n",
    "\n",
    "def f(x):\n",
    "    return 25 * x**3 * (1 - 4 * x**2) * np.exp(-5 * x**2)\n",
    "\n",
    "res = minimize_scalar(f, bounds=[-10, 10], method=\"bounded\")\n",
    "print(f(res.x).__round__(4))"
   ],
   "id": "8429137d5c38aca9",
   "outputs": [
    {
     "name": "stdout",
     "output_type": "stream",
     "text": [
      "-0.8143\n"
     ]
    }
   ],
   "execution_count": 3
  }
 ],
 "metadata": {
  "kernelspec": {
   "display_name": "Python 3",
   "language": "python",
   "name": "python3"
  },
  "language_info": {
   "codemirror_mode": {
    "name": "ipython",
    "version": 2
   },
   "file_extension": ".py",
   "mimetype": "text/x-python",
   "name": "python",
   "nbconvert_exporter": "python",
   "pygments_lexer": "ipython2",
   "version": "2.7.6"
  }
 },
 "nbformat": 4,
 "nbformat_minor": 5
}
