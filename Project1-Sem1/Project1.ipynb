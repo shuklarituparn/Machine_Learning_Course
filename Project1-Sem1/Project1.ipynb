{
 "cells": [
  {
   "metadata": {},
   "cell_type": "markdown",
   "source": [
    "# Задание-проект\n",
    "\n",
    "---\n",
    "- Датасет: Продажи игр (https://www.kaggle.com/datasets/gregorut/videogamesales)\n",
    "\n",
    "- Цель: Найти наиболее перспективный жанр игры для потенциальной разработки.\n",
    "---"
   ],
   "id": "9b1c156697b4ed26"
  },
  {
   "metadata": {},
   "cell_type": "markdown",
   "source": "## Проверка качества данных",
   "id": "801aa5d015a90006"
  },
  {
   "metadata": {
    "ExecuteTime": {
     "end_time": "2024-05-24T21:19:30.399362Z",
     "start_time": "2024-05-24T21:19:30.322638Z"
    }
   },
   "cell_type": "code",
   "source": [
    "import pandas as pd\n",
    "\n",
    "data=pd.read_csv('Datasets/vgsales.csv', sep=\",\")  # Загрузка данных\n",
    "\n",
    "data.head(10) # Просмотрим 10 значений сверху\n"
   ],
   "id": "6db214a573b18e20",
   "outputs": [
    {
     "data": {
      "text/plain": [
       "   Rank                       Name Platform    Year         Genre Publisher  \\\n",
       "0     1                 Wii Sports      Wii  2006.0        Sports  Nintendo   \n",
       "1     2          Super Mario Bros.      NES  1985.0      Platform  Nintendo   \n",
       "2     3             Mario Kart Wii      Wii  2008.0        Racing  Nintendo   \n",
       "3     4          Wii Sports Resort      Wii  2009.0        Sports  Nintendo   \n",
       "4     5   Pokemon Red/Pokemon Blue       GB  1996.0  Role-Playing  Nintendo   \n",
       "5     6                     Tetris       GB  1989.0        Puzzle  Nintendo   \n",
       "6     7      New Super Mario Bros.       DS  2006.0      Platform  Nintendo   \n",
       "7     8                   Wii Play      Wii  2006.0          Misc  Nintendo   \n",
       "8     9  New Super Mario Bros. Wii      Wii  2009.0      Platform  Nintendo   \n",
       "9    10                  Duck Hunt      NES  1984.0       Shooter  Nintendo   \n",
       "\n",
       "   NA_Sales  EU_Sales  JP_Sales  Other_Sales  Global_Sales  \n",
       "0     41.49     29.02      3.77         8.46         82.74  \n",
       "1     29.08      3.58      6.81         0.77         40.24  \n",
       "2     15.85     12.88      3.79         3.31         35.82  \n",
       "3     15.75     11.01      3.28         2.96         33.00  \n",
       "4     11.27      8.89     10.22         1.00         31.37  \n",
       "5     23.20      2.26      4.22         0.58         30.26  \n",
       "6     11.38      9.23      6.50         2.90         30.01  \n",
       "7     14.03      9.20      2.93         2.85         29.02  \n",
       "8     14.59      7.06      4.70         2.26         28.62  \n",
       "9     26.93      0.63      0.28         0.47         28.31  "
      ],
      "text/html": [
       "<div>\n",
       "<style scoped>\n",
       "    .dataframe tbody tr th:only-of-type {\n",
       "        vertical-align: middle;\n",
       "    }\n",
       "\n",
       "    .dataframe tbody tr th {\n",
       "        vertical-align: top;\n",
       "    }\n",
       "\n",
       "    .dataframe thead th {\n",
       "        text-align: right;\n",
       "    }\n",
       "</style>\n",
       "<table border=\"1\" class=\"dataframe\">\n",
       "  <thead>\n",
       "    <tr style=\"text-align: right;\">\n",
       "      <th></th>\n",
       "      <th>Rank</th>\n",
       "      <th>Name</th>\n",
       "      <th>Platform</th>\n",
       "      <th>Year</th>\n",
       "      <th>Genre</th>\n",
       "      <th>Publisher</th>\n",
       "      <th>NA_Sales</th>\n",
       "      <th>EU_Sales</th>\n",
       "      <th>JP_Sales</th>\n",
       "      <th>Other_Sales</th>\n",
       "      <th>Global_Sales</th>\n",
       "    </tr>\n",
       "  </thead>\n",
       "  <tbody>\n",
       "    <tr>\n",
       "      <th>0</th>\n",
       "      <td>1</td>\n",
       "      <td>Wii Sports</td>\n",
       "      <td>Wii</td>\n",
       "      <td>2006.0</td>\n",
       "      <td>Sports</td>\n",
       "      <td>Nintendo</td>\n",
       "      <td>41.49</td>\n",
       "      <td>29.02</td>\n",
       "      <td>3.77</td>\n",
       "      <td>8.46</td>\n",
       "      <td>82.74</td>\n",
       "    </tr>\n",
       "    <tr>\n",
       "      <th>1</th>\n",
       "      <td>2</td>\n",
       "      <td>Super Mario Bros.</td>\n",
       "      <td>NES</td>\n",
       "      <td>1985.0</td>\n",
       "      <td>Platform</td>\n",
       "      <td>Nintendo</td>\n",
       "      <td>29.08</td>\n",
       "      <td>3.58</td>\n",
       "      <td>6.81</td>\n",
       "      <td>0.77</td>\n",
       "      <td>40.24</td>\n",
       "    </tr>\n",
       "    <tr>\n",
       "      <th>2</th>\n",
       "      <td>3</td>\n",
       "      <td>Mario Kart Wii</td>\n",
       "      <td>Wii</td>\n",
       "      <td>2008.0</td>\n",
       "      <td>Racing</td>\n",
       "      <td>Nintendo</td>\n",
       "      <td>15.85</td>\n",
       "      <td>12.88</td>\n",
       "      <td>3.79</td>\n",
       "      <td>3.31</td>\n",
       "      <td>35.82</td>\n",
       "    </tr>\n",
       "    <tr>\n",
       "      <th>3</th>\n",
       "      <td>4</td>\n",
       "      <td>Wii Sports Resort</td>\n",
       "      <td>Wii</td>\n",
       "      <td>2009.0</td>\n",
       "      <td>Sports</td>\n",
       "      <td>Nintendo</td>\n",
       "      <td>15.75</td>\n",
       "      <td>11.01</td>\n",
       "      <td>3.28</td>\n",
       "      <td>2.96</td>\n",
       "      <td>33.00</td>\n",
       "    </tr>\n",
       "    <tr>\n",
       "      <th>4</th>\n",
       "      <td>5</td>\n",
       "      <td>Pokemon Red/Pokemon Blue</td>\n",
       "      <td>GB</td>\n",
       "      <td>1996.0</td>\n",
       "      <td>Role-Playing</td>\n",
       "      <td>Nintendo</td>\n",
       "      <td>11.27</td>\n",
       "      <td>8.89</td>\n",
       "      <td>10.22</td>\n",
       "      <td>1.00</td>\n",
       "      <td>31.37</td>\n",
       "    </tr>\n",
       "    <tr>\n",
       "      <th>5</th>\n",
       "      <td>6</td>\n",
       "      <td>Tetris</td>\n",
       "      <td>GB</td>\n",
       "      <td>1989.0</td>\n",
       "      <td>Puzzle</td>\n",
       "      <td>Nintendo</td>\n",
       "      <td>23.20</td>\n",
       "      <td>2.26</td>\n",
       "      <td>4.22</td>\n",
       "      <td>0.58</td>\n",
       "      <td>30.26</td>\n",
       "    </tr>\n",
       "    <tr>\n",
       "      <th>6</th>\n",
       "      <td>7</td>\n",
       "      <td>New Super Mario Bros.</td>\n",
       "      <td>DS</td>\n",
       "      <td>2006.0</td>\n",
       "      <td>Platform</td>\n",
       "      <td>Nintendo</td>\n",
       "      <td>11.38</td>\n",
       "      <td>9.23</td>\n",
       "      <td>6.50</td>\n",
       "      <td>2.90</td>\n",
       "      <td>30.01</td>\n",
       "    </tr>\n",
       "    <tr>\n",
       "      <th>7</th>\n",
       "      <td>8</td>\n",
       "      <td>Wii Play</td>\n",
       "      <td>Wii</td>\n",
       "      <td>2006.0</td>\n",
       "      <td>Misc</td>\n",
       "      <td>Nintendo</td>\n",
       "      <td>14.03</td>\n",
       "      <td>9.20</td>\n",
       "      <td>2.93</td>\n",
       "      <td>2.85</td>\n",
       "      <td>29.02</td>\n",
       "    </tr>\n",
       "    <tr>\n",
       "      <th>8</th>\n",
       "      <td>9</td>\n",
       "      <td>New Super Mario Bros. Wii</td>\n",
       "      <td>Wii</td>\n",
       "      <td>2009.0</td>\n",
       "      <td>Platform</td>\n",
       "      <td>Nintendo</td>\n",
       "      <td>14.59</td>\n",
       "      <td>7.06</td>\n",
       "      <td>4.70</td>\n",
       "      <td>2.26</td>\n",
       "      <td>28.62</td>\n",
       "    </tr>\n",
       "    <tr>\n",
       "      <th>9</th>\n",
       "      <td>10</td>\n",
       "      <td>Duck Hunt</td>\n",
       "      <td>NES</td>\n",
       "      <td>1984.0</td>\n",
       "      <td>Shooter</td>\n",
       "      <td>Nintendo</td>\n",
       "      <td>26.93</td>\n",
       "      <td>0.63</td>\n",
       "      <td>0.28</td>\n",
       "      <td>0.47</td>\n",
       "      <td>28.31</td>\n",
       "    </tr>\n",
       "  </tbody>\n",
       "</table>\n",
       "</div>"
      ]
     },
     "execution_count": 45,
     "metadata": {},
     "output_type": "execute_result"
    }
   ],
   "execution_count": 45
  },
  {
   "metadata": {},
   "cell_type": "markdown",
   "source": "",
   "id": "167953f60a5a94f5"
  },
  {
   "metadata": {},
   "cell_type": "markdown",
   "source": [
    "### Столбцы и их значение\n",
    "\n",
    "Column | Definition\n",
    "---|---------\n",
    "Rank | Рейтинг, основанный на общем объеме продаж\n",
    "Name | Название игры\n",
    "Platform | Платформа, для которой была выпущена игра\n",
    "Year | Год, когда была выпущена игра\n",
    "Genre | Жанр, к которому относится игра\n",
    "Publisher |  Издатель, который опубликовал игру\n",
    "NA_Sales | Продажи в Северной Америке\n",
    "EU_Sales | Продажи в Европейском союзе\n",
    "JP_Sales |  Продажи в Японии\n",
    "Other_Sales | Продажи в другой части мира\n",
    "Global_Sales |  Общий объем продаж игры по всему миру"
   ],
   "id": "eddb76057e1589ea"
  },
  {
   "metadata": {
    "ExecuteTime": {
     "end_time": "2024-05-24T20:44:26.135952Z",
     "start_time": "2024-05-24T20:44:26.125243Z"
    }
   },
   "cell_type": "code",
   "source": "print(data.dtypes)  # проверяем типы данных",
   "id": "af4682be3e86874b",
   "outputs": [
    {
     "name": "stdout",
     "output_type": "stream",
     "text": [
      "Rank              int64\n",
      "Name             object\n",
      "Platform         object\n",
      "Year            float64\n",
      "Genre            object\n",
      "Publisher        object\n",
      "NA_Sales        float64\n",
      "EU_Sales        float64\n",
      "JP_Sales        float64\n",
      "Other_Sales     float64\n",
      "Global_Sales    float64\n",
      "dtype: object\n"
     ]
    }
   ],
   "execution_count": 26
  },
  {
   "metadata": {
    "ExecuteTime": {
     "end_time": "2024-05-24T20:44:26.173772Z",
     "start_time": "2024-05-24T20:44:26.158414Z"
    }
   },
   "cell_type": "code",
   "source": "data.isnull().values.any()  # Чтобы проверить, есть ли какое-то нулевое значение",
   "id": "5bb21863085e08dd",
   "outputs": [
    {
     "data": {
      "text/plain": [
       "True"
      ]
     },
     "execution_count": 27,
     "metadata": {},
     "output_type": "execute_result"
    }
   ],
   "execution_count": 27
  },
  {
   "metadata": {
    "ExecuteTime": {
     "end_time": "2024-05-24T20:44:26.203368Z",
     "start_time": "2024-05-24T20:44:26.187653Z"
    }
   },
   "cell_type": "code",
   "source": "data.isnull().sum().sum()  # Итоговые нулевые значения",
   "id": "9af70a0165c0ee4c",
   "outputs": [
    {
     "data": {
      "text/plain": [
       "329"
      ]
     },
     "execution_count": 28,
     "metadata": {},
     "output_type": "execute_result"
    }
   ],
   "execution_count": 28
  },
  {
   "metadata": {
    "ExecuteTime": {
     "end_time": "2024-05-24T20:44:26.269999Z",
     "start_time": "2024-05-24T20:44:26.252945Z"
    }
   },
   "cell_type": "code",
   "source": "data.isnull().sum() # Узнаем где находятся нулевые значения и их сколько по итогу",
   "id": "1f43cd2ad2297a0d",
   "outputs": [
    {
     "data": {
      "text/plain": [
       "Rank              0\n",
       "Name              0\n",
       "Platform          0\n",
       "Year            271\n",
       "Genre             0\n",
       "Publisher        58\n",
       "NA_Sales          0\n",
       "EU_Sales          0\n",
       "JP_Sales          0\n",
       "Other_Sales       0\n",
       "Global_Sales      0\n",
       "dtype: int64"
      ]
     },
     "execution_count": 29,
     "metadata": {},
     "output_type": "execute_result"
    }
   ],
   "execution_count": 29
  },
  {
   "metadata": {
    "ExecuteTime": {
     "end_time": "2024-05-24T20:44:26.441264Z",
     "start_time": "2024-05-24T20:44:26.412741Z"
    }
   },
   "cell_type": "code",
   "source": "data.duplicated().sum() # В данных нет дубликатов строк",
   "id": "80a1338f9b0c293f",
   "outputs": [
    {
     "data": {
      "text/plain": [
       "0"
      ]
     },
     "execution_count": 30,
     "metadata": {},
     "output_type": "execute_result"
    }
   ],
   "execution_count": 30
  },
  {
   "metadata": {
    "ExecuteTime": {
     "end_time": "2024-05-24T20:44:26.518540Z",
     "start_time": "2024-05-24T20:44:26.495298Z"
    }
   },
   "cell_type": "code",
   "source": "data.info()",
   "id": "eefa1590297cb8e0",
   "outputs": [
    {
     "name": "stdout",
     "output_type": "stream",
     "text": [
      "<class 'pandas.core.frame.DataFrame'>\n",
      "RangeIndex: 16598 entries, 0 to 16597\n",
      "Data columns (total 11 columns):\n",
      " #   Column        Non-Null Count  Dtype  \n",
      "---  ------        --------------  -----  \n",
      " 0   Rank          16598 non-null  int64  \n",
      " 1   Name          16598 non-null  object \n",
      " 2   Platform      16598 non-null  object \n",
      " 3   Year          16327 non-null  float64\n",
      " 4   Genre         16598 non-null  object \n",
      " 5   Publisher     16540 non-null  object \n",
      " 6   NA_Sales      16598 non-null  float64\n",
      " 7   EU_Sales      16598 non-null  float64\n",
      " 8   JP_Sales      16598 non-null  float64\n",
      " 9   Other_Sales   16598 non-null  float64\n",
      " 10  Global_Sales  16598 non-null  float64\n",
      "dtypes: float64(6), int64(1), object(4)\n",
      "memory usage: 1.4+ MB\n"
     ]
    }
   ],
   "execution_count": 31
  },
  {
   "metadata": {
    "ExecuteTime": {
     "end_time": "2024-05-24T20:44:26.566385Z",
     "start_time": "2024-05-24T20:44:26.548977Z"
    }
   },
   "cell_type": "code",
   "source": "data.dropna(inplace=True)  # Удаляем нулевые значение, чтобы устранить пробелы в данных",
   "id": "a62da2358fd50e80",
   "outputs": [],
   "execution_count": 32
  },
  {
   "metadata": {
    "ExecuteTime": {
     "end_time": "2024-05-24T20:44:37.255878Z",
     "start_time": "2024-05-24T20:44:37.235843Z"
    }
   },
   "cell_type": "code",
   "source": "data.isnull().sum()  # Проверяем итоговые нулевые значения после удаления\n",
   "id": "464a34759bcf6e82",
   "outputs": [
    {
     "data": {
      "text/plain": [
       "Rank            0\n",
       "Name            0\n",
       "Platform        0\n",
       "Year            0\n",
       "Genre           0\n",
       "Publisher       0\n",
       "NA_Sales        0\n",
       "EU_Sales        0\n",
       "JP_Sales        0\n",
       "Other_Sales     0\n",
       "Global_Sales    0\n",
       "dtype: int64"
      ]
     },
     "execution_count": 34,
     "metadata": {},
     "output_type": "execute_result"
    }
   ],
   "execution_count": 34
  },
  {
   "metadata": {},
   "cell_type": "markdown",
   "source": "---",
   "id": "f8f9e935fa7e3f02"
  },
  {
   "metadata": {},
   "cell_type": "markdown",
   "source": "## Основные статистические показатели",
   "id": "53b13722afbb2ed8"
  },
  {
   "metadata": {
    "ExecuteTime": {
     "end_time": "2024-05-24T21:16:48.653795Z",
     "start_time": "2024-05-24T21:16:48.644955Z"
    }
   },
   "cell_type": "code",
   "source": "data['Year'].astype(int).min()  # Это показывает, что у нас есть данные с 1980 года и далее",
   "id": "52b595c9c489fc81",
   "outputs": [
    {
     "data": {
      "text/plain": [
       "1980"
      ]
     },
     "execution_count": 41,
     "metadata": {},
     "output_type": "execute_result"
    }
   ],
   "execution_count": 41
  },
  {
   "metadata": {
    "ExecuteTime": {
     "end_time": "2024-05-24T21:18:23.591226Z",
     "start_time": "2024-05-24T21:18:23.582221Z"
    }
   },
   "cell_type": "code",
   "source": "data['Year'].astype(int).max() # Это показывает, что у нас есть данные до 2020 года",
   "id": "19b81781cf7095a2",
   "outputs": [
    {
     "data": {
      "text/plain": [
       "2020"
      ]
     },
     "execution_count": 42,
     "metadata": {},
     "output_type": "execute_result"
    }
   ],
   "execution_count": 42
  },
  {
   "metadata": {
    "ExecuteTime": {
     "end_time": "2024-05-24T21:40:00.383436Z",
     "start_time": "2024-05-24T21:40:00.380377Z"
    }
   },
   "cell_type": "code",
   "source": "data['Year'].nunique()  # В наших данных 39 уникальных лет",
   "id": "403525dbe2844594",
   "outputs": [
    {
     "data": {
      "text/plain": [
       "39"
      ]
     },
     "execution_count": 48,
     "metadata": {},
     "output_type": "execute_result"
    }
   ],
   "execution_count": 48
  },
  {
   "metadata": {
    "ExecuteTime": {
     "end_time": "2024-05-24T21:54:50.533508Z",
     "start_time": "2024-05-24T21:54:50.529460Z"
    }
   },
   "cell_type": "code",
   "source": "data['Year'].mean()  ",
   "id": "aa849d6d53bc2ba6",
   "outputs": [
    {
     "data": {
      "text/plain": [
       "2006.4064433147546"
      ]
     },
     "execution_count": 50,
     "metadata": {},
     "output_type": "execute_result"
    }
   ],
   "execution_count": 50
  },
  {
   "metadata": {
    "ExecuteTime": {
     "end_time": "2024-05-24T21:54:59.998324Z",
     "start_time": "2024-05-24T21:54:59.994375Z"
    }
   },
   "cell_type": "code",
   "source": "data['Year'].std()",
   "id": "76b547af6403254d",
   "outputs": [
    {
     "data": {
      "text/plain": [
       "5.828981114712805"
      ]
     },
     "execution_count": 51,
     "metadata": {},
     "output_type": "execute_result"
    }
   ],
   "execution_count": 51
  },
  {
   "metadata": {
    "ExecuteTime": {
     "end_time": "2024-05-24T21:55:51.655296Z",
     "start_time": "2024-05-24T21:55:51.649361Z"
    }
   },
   "cell_type": "code",
   "source": "data['Year'].quantile(.25) # 25 процентов значения в столбце \"ГОД\" меньше 2003 года",
   "id": "783ea24e5c341d6e",
   "outputs": [
    {
     "data": {
      "text/plain": [
       "2003.0"
      ]
     },
     "execution_count": 57,
     "metadata": {},
     "output_type": "execute_result"
    }
   ],
   "execution_count": 57
  },
  {
   "metadata": {
    "ExecuteTime": {
     "end_time": "2024-05-24T22:08:32.471694Z",
     "start_time": "2024-05-24T22:08:32.466727Z"
    }
   },
   "cell_type": "code",
   "source": "data['Year'].quantile(.75) # 75 процентов значения в столбце \"ГОД\" меньше 2010 года",
   "id": "c980a3b97df3afe1",
   "outputs": [
    {
     "data": {
      "text/plain": [
       "2010.0"
      ]
     },
     "execution_count": 60,
     "metadata": {},
     "output_type": "execute_result"
    }
   ],
   "execution_count": 60
  },
  {
   "metadata": {
    "ExecuteTime": {
     "end_time": "2024-05-24T22:14:15.781056Z",
     "start_time": "2024-05-24T22:14:15.775801Z"
    }
   },
   "cell_type": "code",
   "source": "data['Name'].count()  # У нас есть в общей сумме 16598 значений в столбце \"Name\"",
   "id": "d458abb08574b62e",
   "outputs": [
    {
     "data": {
      "text/plain": [
       "16598"
      ]
     },
     "execution_count": 68,
     "metadata": {},
     "output_type": "execute_result"
    }
   ],
   "execution_count": 68
  },
  {
   "metadata": {
    "ExecuteTime": {
     "end_time": "2024-05-24T22:14:49.711688Z",
     "start_time": "2024-05-24T22:14:49.705510Z"
    }
   },
   "cell_type": "code",
   "source": "data['Name'].nunique()  # unique() представляет количество уникальных значений, которое в столбце \"Name\" равно 11493",
   "id": "4f61d9b4c7acf43e",
   "outputs": [
    {
     "data": {
      "text/plain": [
       "11493"
      ]
     },
     "execution_count": 70,
     "metadata": {},
     "output_type": "execute_result"
    }
   ],
   "execution_count": 70
  },
  {
   "metadata": {
    "ExecuteTime": {
     "end_time": "2024-05-24T22:18:08.350216Z",
     "start_time": "2024-05-24T22:18:08.342587Z"
    }
   },
   "cell_type": "code",
   "source": "data['Name'].mode() #  Наиболее распространенное значение в нашем столбце \"Name\"",
   "id": "73eed01459698a5a",
   "outputs": [
    {
     "data": {
      "text/plain": [
       "0    Need for Speed: Most Wanted\n",
       "Name: Name, dtype: object"
      ]
     },
     "execution_count": 74,
     "metadata": {},
     "output_type": "execute_result"
    }
   ],
   "execution_count": 74
  },
  {
   "metadata": {
    "ExecuteTime": {
     "end_time": "2024-05-24T22:43:05.796687Z",
     "start_time": "2024-05-24T22:43:05.790244Z"
    }
   },
   "cell_type": "code",
   "source": "data['Name'].value_counts()",
   "id": "fd8134bf1fd670f",
   "outputs": [
    {
     "data": {
      "text/plain": [
       "Name\n",
       "Need for Speed: Most Wanted                12\n",
       "Ratatouille                                 9\n",
       "FIFA 14                                     9\n",
       "LEGO Marvel Super Heroes                    9\n",
       "Madden NFL 07                               9\n",
       "                                           ..\n",
       "Ar tonelico Qoga: Knell of Ar Ciel          1\n",
       "Galaga: Destination Earth                   1\n",
       "Nintendo Presents: Crossword Collection     1\n",
       "TrackMania: Build to Race                   1\n",
       "Know How 2                                  1\n",
       "Name: count, Length: 11493, dtype: int64"
      ]
     },
     "execution_count": 75,
     "metadata": {},
     "output_type": "execute_result"
    }
   ],
   "execution_count": 75
  },
  {
   "metadata": {
    "ExecuteTime": {
     "end_time": "2024-05-24T23:51:11.927104Z",
     "start_time": "2024-05-24T23:51:11.921494Z"
    }
   },
   "cell_type": "code",
   "source": "data['Platform'].count()  # У нас есть в общей сумме 16598 значений в столбце \"Platform\"\n",
   "id": "69e0aaaf85fb0436",
   "outputs": [
    {
     "data": {
      "text/plain": [
       "16598"
      ]
     },
     "execution_count": 79,
     "metadata": {},
     "output_type": "execute_result"
    }
   ],
   "execution_count": 79
  },
  {
   "metadata": {
    "ExecuteTime": {
     "end_time": "2024-05-24T23:51:42.530652Z",
     "start_time": "2024-05-24T23:51:42.525005Z"
    }
   },
   "cell_type": "code",
   "source": [
    "data['Platform'].nunique()  # unique() представляет количество уникальных значений, которое в столбце \"Platform\" равно 31. \n",
    "                            # Здесь мы видим, что количество уникальных платформ, на которых выпущена игра, меньше, чем количество уникальных игр\n"
   ],
   "id": "dd07eb977586a41a",
   "outputs": [
    {
     "data": {
      "text/plain": [
       "31"
      ]
     },
     "execution_count": 80,
     "metadata": {},
     "output_type": "execute_result"
    }
   ],
   "execution_count": 80
  },
  {
   "metadata": {
    "ExecuteTime": {
     "end_time": "2024-05-24T23:52:44.933073Z",
     "start_time": "2024-05-24T23:52:44.926317Z"
    }
   },
   "cell_type": "code",
   "source": [
    "data['Platform'].mode() #  Наиболее распространенное значение в нашем столбце \"Platform\", Мы выясняем, что большинство игр было выпущено на nintendo ds\n",
    "\n",
    "# https://ru.wikipedia.org/wiki/Nintendo_DS\n"
   ],
   "id": "555273e019c642",
   "outputs": [
    {
     "data": {
      "text/plain": [
       "0    DS\n",
       "Name: Platform, dtype: object"
      ]
     },
     "execution_count": 82,
     "metadata": {},
     "output_type": "execute_result"
    }
   ],
   "execution_count": 82
  },
  {
   "metadata": {
    "ExecuteTime": {
     "end_time": "2024-05-24T23:55:56.224216Z",
     "start_time": "2024-05-24T23:55:56.217543Z"
    }
   },
   "cell_type": "code",
   "source": "data['Platform'].value_counts()  # ",
   "id": "da4987436b1652e9",
   "outputs": [
    {
     "data": {
      "text/plain": [
       "Platform\n",
       "DS      2163\n",
       "PS2     2161\n",
       "PS3     1329\n",
       "Wii     1325\n",
       "X360    1265\n",
       "PSP     1213\n",
       "PS      1196\n",
       "PC       960\n",
       "XB       824\n",
       "GBA      822\n",
       "GC       556\n",
       "3DS      509\n",
       "PSV      413\n",
       "PS4      336\n",
       "N64      319\n",
       "SNES     239\n",
       "XOne     213\n",
       "SAT      173\n",
       "WiiU     143\n",
       "2600     133\n",
       "NES       98\n",
       "GB        98\n",
       "DC        52\n",
       "GEN       27\n",
       "NG        12\n",
       "SCD        6\n",
       "WS         6\n",
       "3DO        3\n",
       "TG16       2\n",
       "GG         1\n",
       "PCFX       1\n",
       "Name: count, dtype: int64"
      ]
     },
     "execution_count": 83,
     "metadata": {},
     "output_type": "execute_result"
    }
   ],
   "execution_count": 83
  },
  {
   "metadata": {
    "ExecuteTime": {
     "end_time": "2024-05-24T22:11:52.912539Z",
     "start_time": "2024-05-24T22:11:52.905548Z"
    }
   },
   "cell_type": "code",
   "source": "data['Genre'].describe()\n",
   "id": "bd7a5b3194767e95",
   "outputs": [
    {
     "data": {
      "text/plain": [
       "count      16598\n",
       "unique        12\n",
       "top       Action\n",
       "freq        3316\n",
       "Name: Genre, dtype: object"
      ]
     },
     "execution_count": 65,
     "metadata": {},
     "output_type": "execute_result"
    }
   ],
   "execution_count": 65
  },
  {
   "metadata": {
    "ExecuteTime": {
     "end_time": "2024-05-24T22:12:04.677019Z",
     "start_time": "2024-05-24T22:12:04.669837Z"
    }
   },
   "cell_type": "code",
   "source": "data['Publisher'].describe()\n",
   "id": "c76a8a666a0b8c3c",
   "outputs": [
    {
     "data": {
      "text/plain": [
       "count               16540\n",
       "unique                578\n",
       "top       Electronic Arts\n",
       "freq                 1351\n",
       "Name: Publisher, dtype: object"
      ]
     },
     "execution_count": 66,
     "metadata": {},
     "output_type": "execute_result"
    }
   ],
   "execution_count": 66
  },
  {
   "metadata": {
    "ExecuteTime": {
     "end_time": "2024-05-24T22:12:13.103052Z",
     "start_time": "2024-05-24T22:12:13.097724Z"
    }
   },
   "cell_type": "code",
   "source": "data['Global_Sales'].describe()\n",
   "id": "d8a964491f60b2dc",
   "outputs": [
    {
     "data": {
      "text/plain": [
       "count    16598.000000\n",
       "mean         0.537441\n",
       "std          1.555028\n",
       "min          0.010000\n",
       "25%          0.060000\n",
       "50%          0.170000\n",
       "75%          0.470000\n",
       "max         82.740000\n",
       "Name: Global_Sales, dtype: float64"
      ]
     },
     "execution_count": 67,
     "metadata": {},
     "output_type": "execute_result"
    }
   ],
   "execution_count": 67
  },
  {
   "metadata": {},
   "cell_type": "code",
   "outputs": [],
   "execution_count": null,
   "source": "",
   "id": "3adc1ef69c359aa5"
  }
 ],
 "metadata": {
  "kernelspec": {
   "display_name": "Python 3",
   "language": "python",
   "name": "python3"
  },
  "language_info": {
   "codemirror_mode": {
    "name": "ipython",
    "version": 2
   },
   "file_extension": ".py",
   "mimetype": "text/x-python",
   "name": "python",
   "nbconvert_exporter": "python",
   "pygments_lexer": "ipython2",
   "version": "2.7.6"
  }
 },
 "nbformat": 4,
 "nbformat_minor": 5
}
