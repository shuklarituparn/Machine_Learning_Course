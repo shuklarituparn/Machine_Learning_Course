{
 "cells": [
  {
   "metadata": {},
   "cell_type": "markdown",
   "source": [
    "Для какой задачи определена ROC-AUC?\n",
    " Выберите один ответ:- \n",
    "- бинарной классификации  [x]\n",
    "- регрессии\n",
    "- снижения размерности\n"
   ],
   "id": "f0feaf630c302b35"
  },
  {
   "metadata": {},
   "cell_type": "markdown",
   "source": [
    "Выберите правильную формулу для precision.\n",
    "Выберите один ответ:\n",
    "- tp / (tp+tn)\n",
    "\n",
    "- tp/ (tp+fp)  [ x ]\n",
    "\n",
    "- tp/(tn+fp)\n",
    "\n",
    "- fp/ (fp+fn)\n",
    "\n",
    "- tp/(tp+fn)\n"
   ],
   "id": "c29b090262fe0483"
  },
  {
   "metadata": {},
   "cell_type": "markdown",
   "source": [
    "Выберите правильную формулу для recall.\n",
    "Выберите один ответ:\n",
    "- tp / (tp+tn)\n",
    "\n",
    "- tp/ (tp+fp)  \n",
    "\n",
    "- tp/(tn+fp)   \n",
    "\n",
    "- fp/ (fp+fn)\n",
    "\n",
    "- tp/(tp+fn)  [ x ]\n"
   ],
   "id": "e911dc568c5f0250"
  },
  {
   "metadata": {},
   "cell_type": "code",
   "outputs": [],
   "execution_count": null,
   "source": "",
   "id": "aa25375c10b1127"
  }
 ],
 "metadata": {
  "kernelspec": {
   "display_name": "Python 3",
   "language": "python",
   "name": "python3"
  },
  "language_info": {
   "codemirror_mode": {
    "name": "ipython",
    "version": 2
   },
   "file_extension": ".py",
   "mimetype": "text/x-python",
   "name": "python",
   "nbconvert_exporter": "python",
   "pygments_lexer": "ipython2",
   "version": "2.7.6"
  }
 },
 "nbformat": 4,
 "nbformat_minor": 5
}
