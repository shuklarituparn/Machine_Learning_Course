{
 "cells": [
  {
   "cell_type": "code",
   "id": "initial_id",
   "metadata": {
    "collapsed": true,
    "ExecuteTime": {
     "end_time": "2024-08-25T21:24:18.321245Z",
     "start_time": "2024-08-25T21:24:17.624554Z"
    }
   },
   "source": [
    "import pandas as pd\n",
    "import  numpy as np\n",
    "from triton.language.semantic import less_than\n",
    "\n",
    "data= pd.read_csv(\"orders.csv\", sep=',')\n",
    "\n",
    "data['city_id'].nunique()   # number of unique cities\n",
    "\n",
    "# Переписываем запросы с учетом названий столбцов\n",
    "# 1. Количество уникальных городов (используем city_id)\n",
    "unique_cities = data['city_id'].nunique()\n",
    "\n",
    "# 2. Количество ресторанов, специализирующихся на рыбе (заменим 'fish' на подходящее значение)\n",
    "fish_restaurants = data[data['spec'] == 'Рыба']['vendor_id'].nunique()\n",
    "\n",
    "# 3. Количество колонок типа float64\n",
    "float_columns = data.select_dtypes(include='float64').shape[1]\n",
    "\n",
    "# 4. Количество дней с менее чем 20 успешными заказами для ресторана с ID 40065 (используем vendor_id и successful_orders)\n",
    "days_with_few_orders = data[(data['vendor_id'] == 40065) & (data['successful_orders'] < 20)].shape[0]\n",
    "\n",
    "(unique_cities, fish_restaurants, float_columns, days_with_few_orders)\n",
    "\n",
    "\n",
    "\n"
   ],
   "outputs": [
    {
     "data": {
      "text/plain": [
       "(4, 18, 2, 45)"
      ]
     },
     "execution_count": 1,
     "metadata": {},
     "output_type": "execute_result"
    }
   ],
   "execution_count": 1
  },
  {
   "metadata": {
    "ExecuteTime": {
     "end_time": "2024-08-25T09:54:57.335412Z",
     "start_time": "2024-08-25T09:54:57.327361Z"
    }
   },
   "cell_type": "code",
   "source": [
    "fish_count = (data['spec'] == 'Рыба').sum()\n",
    "fish_count"
   ],
   "id": "d10ad243e977b5c0",
   "outputs": [
    {
     "data": {
      "text/plain": [
       "1103"
      ]
     },
     "execution_count": 10,
     "metadata": {},
     "output_type": "execute_result"
    }
   ],
   "execution_count": 10
  },
  {
   "metadata": {
    "ExecuteTime": {
     "end_time": "2024-08-25T09:55:20.763249Z",
     "start_time": "2024-08-25T09:55:20.757355Z"
    }
   },
   "cell_type": "code",
   "source": [
    "fish_count = data['spec'].value_counts()['Рыба']\n",
    "print(fish_count)  # This will give you the count of rows where the 'spec' column is 'Рыба'."
   ],
   "id": "9a34219701c8f2c0",
   "outputs": [
    {
     "name": "stdout",
     "output_type": "stream",
     "text": [
      "1103\n"
     ]
    }
   ],
   "execution_count": 11
  },
  {
   "metadata": {},
   "cell_type": "code",
   "outputs": [],
   "execution_count": null,
   "source": [
    "fish_count = len(data.loc[data['spec'] == 'Рыба'])\n",
    "print(fish_count) # This will also give you the count of rows where the 'spec' column is 'Рыба'."
   ],
   "id": "6360aa277cf03787"
  },
  {
   "metadata": {
    "ExecuteTime": {
     "end_time": "2024-08-25T09:58:09.356837Z",
     "start_time": "2024-08-25T09:58:09.353410Z"
    }
   },
   "cell_type": "code",
   "source": "data.dtypes  # two columns have float64 as datatype",
   "id": "432bb81e5a164fd1",
   "outputs": [
    {
     "data": {
      "text/plain": [
       "date                  object\n",
       "vendor_id              int64\n",
       "chain_id               int64\n",
       "city_id                int64\n",
       "spec                  object\n",
       "successful_orders    float64\n",
       "fail_orders          float64\n",
       "dtype: object"
      ]
     },
     "execution_count": 14,
     "metadata": {},
     "output_type": "execute_result"
    }
   ],
   "execution_count": 14
  },
  {
   "metadata": {},
   "cell_type": "code",
   "outputs": [],
   "execution_count": null,
   "source": [
    "\n",
    "data.head()  # need to get the days the restaurant with the id 40065 has less than 20 successful order\n",
    "\n",
    "mask = (data['chain_id'] == 40065) & (data['successful_orders'] < 20)\n",
    "result = data[mask].shape[0]\n",
    "print(f\"Ресторан с идентификатором 40065 имел менее 20 успешных заказов в {result} днях.\")\n"
   ],
   "id": "74b7da6e005a1ce5"
  },
  {
   "metadata": {
    "ExecuteTime": {
     "end_time": "2024-08-25T10:34:21.368696Z",
     "start_time": "2024-08-25T10:34:21.362195Z"
    }
   },
   "cell_type": "code",
   "source": [
    "# Numpy\n",
    "\n",
    "# Create a NumPy vector that contains values from 10 to 500. Square all the values of the vector and subtract the number 234 from each element of the vector. What is the sum of all the elements of the resulting vector?\n",
    "import numpy as np\n",
    "\n",
    "\n",
    "npArr=np.square(np.arange(10, 500))\n",
    "npArr  # or we could have done npArr = np.arange(10, 500) squared_arr = np.square(npArr)\n",
    "\n",
    "npArr-=234\n",
    "np.sum(npArr)"
   ],
   "id": "6b64aebfe49aa54b",
   "outputs": [
    {
     "data": {
      "text/plain": [
       "41426805"
      ]
     },
     "execution_count": 42,
     "metadata": {},
     "output_type": "execute_result"
    }
   ],
   "execution_count": 42
  },
  {
   "metadata": {},
   "cell_type": "code",
   "outputs": [],
   "execution_count": null,
   "source": "",
   "id": "9b8b38fabc4c649d"
  }
 ],
 "metadata": {
  "kernelspec": {
   "display_name": "Python 3",
   "language": "python",
   "name": "python3"
  },
  "language_info": {
   "codemirror_mode": {
    "name": "ipython",
    "version": 2
   },
   "file_extension": ".py",
   "mimetype": "text/x-python",
   "name": "python",
   "nbconvert_exporter": "python",
   "pygments_lexer": "ipython2",
   "version": "2.7.6"
  }
 },
 "nbformat": 4,
 "nbformat_minor": 5
}
