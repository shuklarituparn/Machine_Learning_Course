{
 "cells": [
  {
   "metadata": {},
   "cell_type": "markdown",
   "source": [
    "Базовые операции с массивами NumPy (часть 2)\n",
    "\n",
    "Ваш коллега создал структуру данных (см. окно ввода ответа) и передал вам в работу. Преобразуйте ее в массив NumPy и выполните следующие задания:\n",
    "\n",
    "1.\tСоздайте подмассив lines, содержащий все строки со 2-й по 4-ю включительно.\n",
    "\n",
    "2.\tСоздайте подмассив last_column, содержащий последний столбец исходного массива.\n",
    "\n",
    "3.\tТранспонируйте исходный массив и сохраните результат в переменную array_t.\n",
    "\n",
    "4.\tВычислите сумму элементов исходного массива, результат сохраните в переменную array_sum.\n",
    "\n",
    "5.\tВычислите среднее значение элементов исходного массива, результат сохраните в переменную array_avg.\n",
    "\n",
    "Обратите внимание: в заданиях не требуется выполнять вывод полученных результатов на экран. Для выполнения заданий 2.2–2.5 используйте функции библиотеки NumPy.\n",
    "Ответ:(штрафной режим: 0%)"
   ],
   "id": "67a38c2759d7915e"
  },
  {
   "metadata": {
    "ExecuteTime": {
     "end_time": "2024-04-30T17:56:18.024308Z",
     "start_time": "2024-04-30T17:56:18.019362Z"
    }
   },
   "cell_type": "code",
   "source": [
    "import numpy as np\n",
    "\n",
    "some_data =  [\n",
    "    [3, 8, 1, 0, 1, 2],\n",
    "    [9, 2, 7, 3, 0, 4],\n",
    "    [2, 5, 1, 3, 1, 8],\n",
    "    [5, 1, 2, 1, 1, 0]\n",
    "]\n",
    "\n",
    "# далее запишите ваш код\n",
    "print(some_data)\n",
    "new_matrix=np.array(some_data)\n",
    "lines=new_matrix[1:]\n",
    "last_column=new_matrix[:,5]\n",
    "# print(last_column)\n",
    "array_t=new_matrix.transpose()\n",
    "array_sum=new_matrix.sum()\n",
    "array_avg=new_matrix.sum()/new_matrix.size\n",
    "print(array_sum)\n",
    "print(array_avg)\n",
    "\n",
    "# print(line)\n",
    "# print(new_matrix)\n"
   ],
   "id": "9fbd00f5e6eec805",
   "outputs": [
    {
     "name": "stdout",
     "output_type": "stream",
     "text": [
      "[[3, 8, 1, 0, 1, 2], [9, 2, 7, 3, 0, 4], [2, 5, 1, 3, 1, 8], [5, 1, 2, 1, 1, 0]]\n",
      "70\n",
      "2.9166666666666665\n"
     ]
    }
   ],
   "execution_count": 23
  }
 ],
 "metadata": {
  "kernelspec": {
   "display_name": "Python 3",
   "language": "python",
   "name": "python3"
  },
  "language_info": {
   "codemirror_mode": {
    "name": "ipython",
    "version": 2
   },
   "file_extension": ".py",
   "mimetype": "text/x-python",
   "name": "python",
   "nbconvert_exporter": "python",
   "pygments_lexer": "ipython2",
   "version": "2.7.6"
  }
 },
 "nbformat": 4,
 "nbformat_minor": 5
}
