{
 "cells": [
  {
   "metadata": {},
   "cell_type": "markdown",
   "source": [
    "Метод наименьших квадратов\n",
    "\n",
    "В этом задании вам необходимо реализовать алгоритм МНК (метод наименьших квадратов) в виде функции с использованием библиотеки numpy:\n",
    "\n",
    "def mnk(x_,y_):\n",
    "    …\n",
    "    return a,b\n",
    "\n",
    "Входные данные:\n",
    "\n",
    "●     x_: временной ряд x длиной 30 точек, сгенерированный с помощью функции linspace;\n",
    "\n",
    "●     y_: временной ряд y длиной 30 точек, сгенерированный с помощью функции linspace с коэффициентами a и b.\n",
    "\n",
    "Написанная функция должна возвращать коэффициенты a и b функции линейной аппроксимации (y = ax + b).\n",
    "Ответ:(штрафной режим: 0%)"
   ],
   "id": "1402ef0236cc904a"
  },
  {
   "metadata": {},
   "cell_type": "code",
   "outputs": [],
   "execution_count": null,
   "source": [
    "def mnk(x_,y_):\n",
    "    # запишите далее ваш код    \n",
    "    return a,b\n"
   ],
   "id": "707bee745fa7649"
  }
 ],
 "metadata": {
  "kernelspec": {
   "display_name": "Python 3",
   "language": "python",
   "name": "python3"
  },
  "language_info": {
   "codemirror_mode": {
    "name": "ipython",
    "version": 2
   },
   "file_extension": ".py",
   "mimetype": "text/x-python",
   "name": "python",
   "nbconvert_exporter": "python",
   "pygments_lexer": "ipython2",
   "version": "2.7.6"
  }
 },
 "nbformat": 4,
 "nbformat_minor": 5
}
