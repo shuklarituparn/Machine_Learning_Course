{
 "cells": [
  {
   "metadata": {},
   "cell_type": "markdown",
   "source": [
    "\n",
    "\n",
    "У вас есть два одномерных массива:\n",
    "\n",
    "●\tarray = np.arange(10) ** 4 — массив платежей по играм из сервиса;\n",
    "\n",
    "●\tarray_2 = np.arange(10) ** 3 — массив платежей по подпискам в сервисе.\n",
    "\n",
    "Выполните последовательно следующие задания применительно к исходным массивам:\n",
    "\n",
    "1. Определите общую сумму дохода следующим образом: сначала сложите исходные массивы поэлементно, затем рассчитайте\n",
    " сумму полученного массива. Результат сохраните в переменную array_sum.\n",
    "\n",
    "2. Вычислите, насколько больше денег принесла продажа игр в сравнении с подписками. Результат сохраните в\n",
    " переменную array_difference.\n",
    "\n",
    "3. Создайте ссылку на 2-й элемент массива по платежам игр в переменную game_payments2.\n",
    "\n",
    "4. Создайте ссылку на последний элемент массива по платежам подписок в переменную subscription_last.\n",
    "\n",
    "Обратите внимание: в заданиях не требуется выполнять вывод полученных результатов на экран.\n",
    "\n",
    "\n",
    "\n",
    "\n"
   ],
   "id": "dba7a5381ecae5ac"
  },
  {
   "metadata": {
    "ExecuteTime": {
     "end_time": "2024-04-30T17:44:28.199388Z",
     "start_time": "2024-04-30T17:44:28.194869Z"
    }
   },
   "cell_type": "code",
   "source": [
    "# task 2 do: sum the matrix element by element and then sum the resultant matrix totally\n",
    "# task 2 do: calculate the difference that the sale of the game brought, compared to the subscription and save it in the array_difference\n",
    "# task 2 do: create a link to the 2cond element fo the matrix on the payment in the variable game_payment2\n",
    "# task 2 do: Create a link to the last element of the array for subscription payments in the subscription_last variable.\n",
    "\n",
    "import numpy as np\n",
    "\n",
    "\n",
    "# array of payments for games from the service\n",
    "#  array_2 is of payments for subscriptions in the service.\n",
    "array = np.arange(10) ** 4   # 10 number that are 4th power of each other\n",
    "array_2 = np.arange(10) ** 3   # 10 number  that are cube of each other\n",
    "print(array_2)\n",
    "print(array)\n",
    "#sum it element wise\n",
    "import numpy as np\n",
    "\n",
    "array = np.arange(10) ** 4\n",
    "array_2 = np.arange(10) ** 3\n",
    "# далее напишите ваше решен\n",
    "array_sum=np.sum(array+array_2)  \n",
    "array_diff=np.sum(array_2)\n",
    "array_sale=np.sum(array)\n",
    "array_difference=array_sale-array_diff\n",
    "game_payments2=array[1] #getting the 2nd element\n",
    "subscription_last=array_2[-1]  #getting the last element\n",
    "\n"
   ],
   "id": "81ac9cba53595b20",
   "outputs": [
    {
     "name": "stdout",
     "output_type": "stream",
     "text": [
      "[  0   1   8  27  64 125 216 343 512 729]\n",
      "[   0    1   16   81  256  625 1296 2401 4096 6561]\n",
      "17358\n"
     ]
    }
   ],
   "execution_count": 19
  }
 ],
 "metadata": {
  "kernelspec": {
   "display_name": "Python 3",
   "language": "python",
   "name": "python3"
  },
  "language_info": {
   "codemirror_mode": {
    "name": "ipython",
    "version": 2
   },
   "file_extension": ".py",
   "mimetype": "text/x-python",
   "name": "python",
   "nbconvert_exporter": "python",
   "pygments_lexer": "ipython2",
   "version": "2.7.6"
  }
 },
 "nbformat": 4,
 "nbformat_minor": 5
}
