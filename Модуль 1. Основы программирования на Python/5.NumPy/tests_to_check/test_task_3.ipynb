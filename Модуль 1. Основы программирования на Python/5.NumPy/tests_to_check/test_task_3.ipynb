{
 "cells": [
  {
   "metadata": {},
   "cell_type": "markdown",
   "source": [
    "Решение системы линейных уравнений\n",
    "\n",
    "Из определенного листового материала необходимо выкроить 360 заготовок типа А, 300 заготовок типа Б и 675 заготовок типа В. При этом можно применять три способа раскроя. \n",
    "\n",
    "Количество заготовок, получаемых из каждого листа при каждом способе раскроя, указано в таблице:\n",
    "\n",
    "![table](Снимок%20экрана%202023-09-08%20105837.png)\n",
    "\n",
    "\n",
    "Найдите решение задачи, при котором расход материала и отходы окажутся минимальными. \n",
    "\n",
    "Важно:\n",
    "\n",
    "●\tДля решения используйте модуль linalg библиотеки NumPy.\n",
    "\n",
    "●\tОтветом должен быть массив NumPy из чисел листов, необходимых на раскрой первым, вторым и третьим способом соответственно. \n",
    "\n",
    "●\tВоспользуйтесь следующей системой уравнений:\n",
    "\n",
    "![table](Снимок%20экрана%202023-10-27%20150057.png)\n",
    "\n",
    "\n",
    "Ответ:(штрафной режим: 0%)"
   ],
   "id": "a41c871ff1e15e24"
  },
  {
   "metadata": {},
   "cell_type": "code",
   "outputs": [],
   "execution_count": null,
   "source": [
    "import numpy as np\n",
    "\n",
    "# The number of blanks we get from the given matrix is calculated from the table\n",
    "# use linalg to calculate the min\n",
    "\n",
    "# запишите здесь ваше решение\n",
    "\n",
    "# print(answer)"
   ],
   "id": "86bf575e6068981a"
  }
 ],
 "metadata": {
  "kernelspec": {
   "display_name": "Python 3",
   "language": "python",
   "name": "python3"
  },
  "language_info": {
   "codemirror_mode": {
    "name": "ipython",
    "version": 2
   },
   "file_extension": ".py",
   "mimetype": "text/x-python",
   "name": "python",
   "nbconvert_exporter": "python",
   "pygments_lexer": "ipython2",
   "version": "2.7.6"
  }
 },
 "nbformat": 4,
 "nbformat_minor": 5
}
