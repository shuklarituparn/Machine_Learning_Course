{
 "cells": [
  {
   "cell_type": "code",
   "id": "initial_id",
   "metadata": {
    "collapsed": true,
    "ExecuteTime": {
     "end_time": "2024-04-27T18:09:18.866778Z",
     "start_time": "2024-04-27T18:09:18.862933Z"
    }
   },
   "source": [
    "import numpy as np\n",
    "\n",
    "frequency = np.array([261.63, 293.66, 329.63, 349.23, 392, 440, 493])\n",
    "# when  we do frequency.size we actually do np.ndarray.size\n",
    "\n"
   ],
   "outputs": [
    {
     "name": "stdout",
     "output_type": "stream",
     "text": [
      "4\n"
     ]
    }
   ],
   "execution_count": 12
  },
  {
   "metadata": {},
   "cell_type": "markdown",
   "source": [
    "Что показывает атрибут ndarray.size?\n",
    "Выберите один ответ:\n",
    "Число измерений массива\n",
    "Типы элементов массива\n",
    "Форму массива\n",
    "Количество элементов массива (x)\n"
   ],
   "id": "3d6bacad2564f9f1"
  },
  {
   "metadata": {},
   "cell_type": "code",
   "outputs": [],
   "execution_count": null,
   "source": [
    "print(np.array([1,2,3,4])[-1]) # here we print the index of the last element of the array so 4\n",
    "\n"
   ],
   "id": "3da52ef237ab6d6"
  },
  {
   "metadata": {
    "ExecuteTime": {
     "end_time": "2024-04-27T18:11:36.670785Z",
     "start_time": "2024-04-27T18:11:36.668196Z"
    }
   },
   "cell_type": "code",
   "source": "print(np.array([1,2,3,4,5,6]).reshape(2, x))  #we are asked to change x by any number, if we change x by anything other than 3 we can't make the matrix",
   "id": "d84a74f8b3d9c1d2",
   "outputs": [
    {
     "name": "stdout",
     "output_type": "stream",
     "text": [
      "[[1 2 3]\n",
      " [4 5 6]]\n"
     ]
    }
   ],
   "execution_count": 17
  },
  {
   "metadata": {
    "ExecuteTime": {
     "end_time": "2024-04-27T18:13:27.456057Z",
     "start_time": "2024-04-27T18:13:27.453407Z"
    }
   },
   "cell_type": "code",
   "source": [
    "frequency_one= np.array([261.63, 293.66, 329.63, 349.23, 392, 440, 493])\n",
    "print(frequency_one.transpose())  # so taking the transpose is not doing anything, it will return the original matrix"
   ],
   "id": "7b96fb413ec0801c",
   "outputs": [
    {
     "name": "stdout",
     "output_type": "stream",
     "text": [
      "[261.63 293.66 329.63 349.23 392.   440.   493.  ]\n"
     ]
    }
   ],
   "execution_count": 20
  },
  {
   "metadata": {
    "ExecuteTime": {
     "end_time": "2024-04-27T18:23:46.763772Z",
     "start_time": "2024-04-27T18:23:46.759182Z"
    }
   },
   "cell_type": "code",
   "source": [
    "frequency_one= np.array([[261.63, 293.66, 329.63],[ 349.23, 392.0, 440.0]])   # if did 4 element in the second part it will give it a non-homogeneous shape\n",
    "frequency_one[0,:] # to get the first line\n",
    "\n",
    "# norm sum gives the distance between these two vectors\n"
   ],
   "id": "4541844db1f698d3",
   "outputs": [
    {
     "data": {
      "text/plain": [
       "array([261.63, 293.66, 329.63])"
      ]
     },
     "execution_count": 32,
     "metadata": {},
     "output_type": "execute_result"
    }
   ],
   "execution_count": 32
  },
  {
   "metadata": {
    "ExecuteTime": {
     "end_time": "2024-04-27T18:31:51.596112Z",
     "start_time": "2024-04-27T18:31:51.591929Z"
    }
   },
   "cell_type": "code",
   "source": [
    "a = np.array([[1, 2, 3],\n",
    "             [4, 5, 6],\n",
    "             [7, 8, 9]])\n",
    "\n",
    "#print(a[1,2]) so the index starts from zero, to and fro\n",
    "\n",
    "# to get the dimension of the matrix can do\n",
    "\n",
    "np.shape(a)\n",
    "# or\n",
    "\n",
    "a.shape\n",
    "\n",
    "print(11 in a)  # we check if the element is in the matrix"
   ],
   "id": "dfbd9ff726cfec17",
   "outputs": [
    {
     "name": "stdout",
     "output_type": "stream",
     "text": [
      "False\n"
     ]
    }
   ],
   "execution_count": 40
  },
  {
   "metadata": {},
   "cell_type": "code",
   "outputs": [],
   "execution_count": null,
   "source": "",
   "id": "5fa451f5ec5696f8"
  }
 ],
 "metadata": {
  "kernelspec": {
   "display_name": "Python 3",
   "language": "python",
   "name": "python3"
  },
  "language_info": {
   "codemirror_mode": {
    "name": "ipython",
    "version": 2
   },
   "file_extension": ".py",
   "mimetype": "text/x-python",
   "name": "python",
   "nbconvert_exporter": "python",
   "pygments_lexer": "ipython2",
   "version": "2.7.6"
  }
 },
 "nbformat": 4,
 "nbformat_minor": 5
}
