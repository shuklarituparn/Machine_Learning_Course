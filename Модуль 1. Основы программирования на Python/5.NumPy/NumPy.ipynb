{
 "nbformat": 4,
 "nbformat_minor": 0,
 "metadata": {
  "colab": {
   "provenance": [],
   "toc_visible": true,
   "authorship_tag": "ABX9TyMf28pDNhZ3TG2f/Ehs8eHS"
  },
  "kernelspec": {
   "name": "python3",
   "display_name": "Python 3 (ipykernel)",
   "language": "python"
  },
  "language_info": {
   "name": "python"
  }
 },
 "cells": [
  {
   "cell_type": "markdown",
   "source": [
    "# Библиотека NumPy"
   ],
   "metadata": {
    "id": "OoN8iUzDK01b"
   }
  },
  {
   "cell_type": "markdown",
   "source": [
    "Этот ноутбук содержит примеры кода для работы с библиотекой `NumPy`.\n",
    "\n",
    "К основным частям кода мы прописали текстовые пояснения, если же они покажутся недостаточными, пожалуйста, обратитесь к материалам лекции в LMS."
   ],
   "metadata": {
    "id": "s1rp_Ow7K1k6"
   }
  },
  {
   "cell_type": "markdown",
   "source": [
    "Импортируем библиотеку."
   ],
   "metadata": {
    "id": "pVYIFgGmLgVD"
   }
  },
  {
   "cell_type": "code",
   "metadata": {
    "id": "GbhSwqTEKvJh",
    "ExecuteTime": {
     "end_time": "2024-04-27T18:22:41.605882Z",
     "start_time": "2024-04-27T18:22:41.441382Z"
    }
   },
   "source": [
    "import numpy as np"
   ],
   "outputs": [],
   "execution_count": 2
  },
  {
   "cell_type": "markdown",
   "source": [
    "## Массивы NumPy"
   ],
   "metadata": {
    "id": "M3xOW3SeWkNP"
   }
  },
  {
   "cell_type": "markdown",
   "source": [
    "### Создание массива"
   ],
   "metadata": {
    "id": "xAqbm73yOCzr"
   }
  },
  {
   "cell_type": "markdown",
   "source": [
    "Создадим одномерный массив из чисел 1, 2, 3."
   ],
   "metadata": {
    "id": "joSGMXFZLj8j"
   }
  },
  {
   "cell_type": "code",
   "source": [
    "np.array([1,2,3])"
   ],
   "metadata": {
    "colab": {
     "base_uri": "https://localhost:8080/"
    },
    "id": "x-gagZiDLkPS",
    "executionInfo": {
     "status": "ok",
     "timestamp": 1677000659674,
     "user_tz": -420,
     "elapsed": 15,
     "user": {
      "displayName": "Надежда Тупикина",
      "userId": "16854253095026240007"
     }
    },
    "outputId": "089790ab-ea32-43c3-c67c-9e45e0a4e091"
   },
   "execution_count": null,
   "outputs": [
    {
     "output_type": "execute_result",
     "data": {
      "text/plain": [
       "array([1, 2, 3])"
      ]
     },
     "metadata": {},
     "execution_count": 32
    }
   ]
  },
  {
   "cell_type": "markdown",
   "source": [
    "Создадим двумерный массив."
   ],
   "metadata": {
    "id": "4iYfIfWmLkY7"
   }
  },
  {
   "cell_type": "code",
   "source": [
    "a = np.array([[1, 2, 3], [4, 5.0, 6]])\n",
    "print(a)"
   ],
   "metadata": {
    "colab": {
     "base_uri": "https://localhost:8080/"
    },
    "id": "cQ0oSCAcLkiU",
    "executionInfo": {
     "status": "ok",
     "timestamp": 1677000659675,
     "user_tz": -420,
     "elapsed": 13,
     "user": {
      "displayName": "Надежда Тупикина",
      "userId": "16854253095026240007"
     }
    },
    "outputId": "8c2acdf8-4149-4829-8d16-eed618a4d685",
    "ExecuteTime": {
     "end_time": "2024-04-27T18:22:44.449566Z",
     "start_time": "2024-04-27T18:22:44.427740Z"
    }
   },
   "outputs": [
    {
     "ename": "ValueError",
     "evalue": "setting an array element with a sequence. The requested array has an inhomogeneous shape after 1 dimensions. The detected shape was (2,) + inhomogeneous part.",
     "output_type": "error",
     "traceback": [
      "\u001B[0;31m---------------------------------------------------------------------------\u001B[0m",
      "\u001B[0;31mValueError\u001B[0m                                Traceback (most recent call last)",
      "Cell \u001B[0;32mIn[3], line 1\u001B[0m\n\u001B[0;32m----> 1\u001B[0m a \u001B[38;5;241m=\u001B[39m \u001B[43mnp\u001B[49m\u001B[38;5;241;43m.\u001B[39;49m\u001B[43marray\u001B[49m\u001B[43m(\u001B[49m\u001B[43m[\u001B[49m\u001B[43m[\u001B[49m\u001B[38;5;241;43m1\u001B[39;49m\u001B[43m,\u001B[49m\u001B[43m \u001B[49m\u001B[38;5;241;43m2\u001B[39;49m\u001B[43m,\u001B[49m\u001B[43m \u001B[49m\u001B[38;5;241;43m3\u001B[39;49m\u001B[43m]\u001B[49m\u001B[43m,\u001B[49m\u001B[43m \u001B[49m\u001B[43m[\u001B[49m\u001B[38;5;241;43m4\u001B[39;49m\u001B[43m,\u001B[49m\u001B[43m \u001B[49m\u001B[38;5;241;43m5.0\u001B[39;49m\u001B[43m,\u001B[49m\u001B[43m \u001B[49m\u001B[38;5;241;43m6\u001B[39;49m\u001B[43m,\u001B[49m\u001B[43m \u001B[49m\u001B[38;5;241;43m7\u001B[39;49m\u001B[43m]\u001B[49m\u001B[43m]\u001B[49m\u001B[43m)\u001B[49m\n\u001B[1;32m      2\u001B[0m \u001B[38;5;28mprint\u001B[39m(a)\n",
      "\u001B[0;31mValueError\u001B[0m: setting an array element with a sequence. The requested array has an inhomogeneous shape after 1 dimensions. The detected shape was (2,) + inhomogeneous part."
     ]
    }
   ],
   "execution_count": 3
  },
  {
   "cell_type": "markdown",
   "source": [
    "Получаем атрибуты массива:\n",
    "*   `ndarray.ndim` — число измерений матрицы. Для строки это 1, для матрицы — 2.\n",
    "*   `ndarray.shape` — размеры массива, его форма. Размер каждого из осей многомерного массива.\n",
    "*   `ndarray.size` — количество элементов массива.\n",
    "*   `ndarray.dtype` — объект, описывающий тип элементов  массива."
   ],
   "metadata": {
    "id": "gsoylY-8LkuK"
   }
  },
  {
   "cell_type": "code",
   "source": [
    "print(a.ndim)\n",
    "print(a.shape)\n",
    "print(a.size)\n",
    "print(a.dtype)"
   ],
   "metadata": {
    "colab": {
     "base_uri": "https://localhost:8080/"
    },
    "id": "uTFoTk7qNX50",
    "executionInfo": {
     "status": "ok",
     "timestamp": 1677000659675,
     "user_tz": -420,
     "elapsed": 12,
     "user": {
      "displayName": "Надежда Тупикина",
      "userId": "16854253095026240007"
     }
    },
    "outputId": "93c19275-2631-47bc-c02f-2bf1f58f1d5a"
   },
   "execution_count": null,
   "outputs": [
    {
     "output_type": "stream",
     "name": "stdout",
     "text": [
      "2\n",
      "(2, 3)\n",
      "6\n",
      "float64\n"
     ]
    }
   ]
  },
  {
   "cell_type": "markdown",
   "source": [
    "Создаем массив на основе генерации последовательности.\n",
    "\n",
    "`np.arrange(начало, конец, шаг)` — генерация последовательности на интервале, аналогично функции `range()`."
   ],
   "metadata": {
    "id": "gTwpber0NksS"
   }
  },
  {
   "cell_type": "code",
   "source": [
    "a = np.arange(0,10,2)\n",
    "print(a)"
   ],
   "metadata": {
    "colab": {
     "base_uri": "https://localhost:8080/"
    },
    "id": "LSj-OQcrNk9L",
    "executionInfo": {
     "status": "ok",
     "timestamp": 1677000659676,
     "user_tz": -420,
     "elapsed": 12,
     "user": {
      "displayName": "Надежда Тупикина",
      "userId": "16854253095026240007"
     }
    },
    "outputId": "1936892f-689b-4a03-9365-4a9c1b5f9fb1"
   },
   "execution_count": null,
   "outputs": [
    {
     "output_type": "stream",
     "name": "stdout",
     "text": [
      "[0 2 4 6 8]\n"
     ]
    }
   ]
  },
  {
   "cell_type": "markdown",
   "source": [
    "`np.linspace(начало, конец, число_элементов)` — генерация последовательности на интервале, но вместо шага указываем, сколько элементов массива нужно создать (конец включается).\n"
   ],
   "metadata": {
    "id": "Mrlx04ZuOMSs"
   }
  },
  {
   "cell_type": "code",
   "source": [
    "b = np.linspace(0,10,5)\n",
    "print(b)"
   ],
   "metadata": {
    "colab": {
     "base_uri": "https://localhost:8080/"
    },
    "id": "_9nHRdQGOMkk",
    "executionInfo": {
     "status": "ok",
     "timestamp": 1677000659676,
     "user_tz": -420,
     "elapsed": 11,
     "user": {
      "displayName": "Надежда Тупикина",
      "userId": "16854253095026240007"
     }
    },
    "outputId": "8932f12e-04a6-4649-f9ba-3e257f0778a3",
    "ExecuteTime": {
     "end_time": "2024-04-14T17:34:13.598727Z",
     "start_time": "2024-04-14T17:34:13.595969Z"
    }
   },
   "outputs": [
    {
     "name": "stdout",
     "output_type": "stream",
     "text": [
      "[ 0.   2.5  5.   7.5 10. ]\n"
     ]
    }
   ],
   "execution_count": 3
  },
  {
   "cell_type": "markdown",
   "source": [
    "Частные способы создания массивов:\n",
    "*   `np.zeros()` — создание массива из нулей.\n",
    "*   `np.ones()` — создание массива из единиц.\n",
    "*   `np.eye()` — создание единичной матрицы. Это квадратная матрица, заполненная нулями, кроме главной диагонали — от левого верхнего до правого нижнего элемента, которая заполнена единицами."
   ],
   "metadata": {
    "id": "DUZve77HOfHK"
   }
  },
  {
   "cell_type": "markdown",
   "source": [
    "### Индексирование массива"
   ],
   "metadata": {
    "id": "yqMBTq-zOtmU"
   }
  },
  {
   "cell_type": "markdown",
   "source": [
    "Система индексирования одномерных массивов аналогична спискам. Необходимо сослаться на массив и в квадратных скобках указать индекс или серию чисел — начало, конец и шаг:\n",
    "\n",
    "`your_array[начало:конец:шаг]`"
   ],
   "metadata": {
    "id": "hCKX3vZuPB57"
   }
  },
  {
   "cell_type": "markdown",
   "source": [
    "Исходный массив."
   ],
   "metadata": {
    "id": "Lx1ZwEvpPNwL"
   }
  },
  {
   "cell_type": "code",
   "source": [
    "a = np.array([[1, 2, 3], [4, 5.0, 6]])\n",
    "a"
   ],
   "metadata": {
    "colab": {
     "base_uri": "https://localhost:8080/"
    },
    "id": "PV1G9PJLPIDn",
    "executionInfo": {
     "status": "ok",
     "timestamp": 1677000659677,
     "user_tz": -420,
     "elapsed": 11,
     "user": {
      "displayName": "Надежда Тупикина",
      "userId": "16854253095026240007"
     }
    },
    "outputId": "15b7d0e7-5cd5-4ca1-a0b1-5973af07df4e"
   },
   "execution_count": null,
   "outputs": [
    {
     "output_type": "execute_result",
     "data": {
      "text/plain": [
       "array([[1., 2., 3.],\n",
       "       [4., 5., 6.]])"
      ]
     },
     "metadata": {},
     "execution_count": 37
    }
   ]
  },
  {
   "cell_type": "markdown",
   "source": [
    "Сошлемся на первый элемент первой строки."
   ],
   "metadata": {
    "id": "rX_N91UtPXJ0"
   }
  },
  {
   "cell_type": "code",
   "source": [
    "a[0,0]"
   ],
   "metadata": {
    "colab": {
     "base_uri": "https://localhost:8080/"
    },
    "id": "PU8pGXpdPXQ-",
    "executionInfo": {
     "status": "ok",
     "timestamp": 1677000660133,
     "user_tz": -420,
     "elapsed": 466,
     "user": {
      "displayName": "Надежда Тупикина",
      "userId": "16854253095026240007"
     }
    },
    "outputId": "7d878fa7-ea50-4b80-b084-f31a3bc49795"
   },
   "execution_count": null,
   "outputs": [
    {
     "output_type": "execute_result",
     "data": {
      "text/plain": [
       "1.0"
      ]
     },
     "metadata": {},
     "execution_count": 38
    }
   ]
  },
  {
   "cell_type": "markdown",
   "source": [
    "Заменим элемент первой строки первого столбца."
   ],
   "metadata": {
    "id": "fui3sI_GPXoi"
   }
  },
  {
   "cell_type": "code",
   "source": [
    "a[0][0] = 1.5\n",
    "a"
   ],
   "metadata": {
    "colab": {
     "base_uri": "https://localhost:8080/"
    },
    "id": "Fzhm_40WPX6n",
    "executionInfo": {
     "status": "ok",
     "timestamp": 1677000660133,
     "user_tz": -420,
     "elapsed": 12,
     "user": {
      "displayName": "Надежда Тупикина",
      "userId": "16854253095026240007"
     }
    },
    "outputId": "a13a4746-02ec-458e-d7ed-eee830a7cce1"
   },
   "execution_count": null,
   "outputs": [
    {
     "output_type": "execute_result",
     "data": {
      "text/plain": [
       "array([[1.5, 2. , 3. ],\n",
       "       [4. , 5. , 6. ]])"
      ]
     },
     "metadata": {},
     "execution_count": 39
    }
   ]
  },
  {
   "cell_type": "markdown",
   "source": [
    "Замена первого столбца в матрице."
   ],
   "metadata": {
    "id": "QPzSJdr1QyQL"
   }
  },
  {
   "cell_type": "code",
   "source": [
    "a[:,0] = [0, 1]\n",
    "a"
   ],
   "metadata": {
    "colab": {
     "base_uri": "https://localhost:8080/"
    },
    "id": "mL7iYvlOQyhZ",
    "executionInfo": {
     "status": "ok",
     "timestamp": 1677000660134,
     "user_tz": -420,
     "elapsed": 12,
     "user": {
      "displayName": "Надежда Тупикина",
      "userId": "16854253095026240007"
     }
    },
    "outputId": "1a904b3c-959b-4bfc-e9bc-97f788d5494f"
   },
   "execution_count": null,
   "outputs": [
    {
     "output_type": "execute_result",
     "data": {
      "text/plain": [
       "array([[0., 2., 3.],\n",
       "       [1., 5., 6.]])"
      ]
     },
     "metadata": {},
     "execution_count": 40
    }
   ]
  },
  {
   "cell_type": "markdown",
   "source": [
    "Замена первой строки."
   ],
   "metadata": {
    "id": "mn0klPiFUOpw"
   }
  },
  {
   "cell_type": "code",
   "source": [
    "a[0,:] = [1,2,3]\n",
    "a"
   ],
   "metadata": {
    "colab": {
     "base_uri": "https://localhost:8080/"
    },
    "id": "VjYOG9ulUSmb",
    "executionInfo": {
     "status": "ok",
     "timestamp": 1677000660135,
     "user_tz": -420,
     "elapsed": 12,
     "user": {
      "displayName": "Надежда Тупикина",
      "userId": "16854253095026240007"
     }
    },
    "outputId": "f5e10bcf-f10c-44ac-ae5b-c711027eb04f"
   },
   "execution_count": null,
   "outputs": [
    {
     "output_type": "execute_result",
     "data": {
      "text/plain": [
       "array([[1., 2., 3.],\n",
       "       [1., 5., 6.]])"
      ]
     },
     "metadata": {},
     "execution_count": 41
    }
   ]
  },
  {
   "cell_type": "markdown",
   "source": [
    "### Удаление элемента из массива"
   ],
   "metadata": {
    "id": "dIkKQr_SRFGk"
   }
  },
  {
   "cell_type": "markdown",
   "source": [
    "Удалить элементы из массива можно с помощью метода `np.delete(объект, индекс(ы), ось)`:\n",
    "*   объект — массив;\n",
    "*   индекс(ы) — индекс или список индексов;\n",
    "*   ось — по умолчанию `axis = 0`."
   ],
   "metadata": {
    "id": "gC0hEeH-RFPV"
   }
  },
  {
   "cell_type": "markdown",
   "source": [
    "Другой способ — сделать срез и пересохранить массив."
   ],
   "metadata": {
    "id": "mJ2kgGI1Utv_"
   }
  },
  {
   "cell_type": "markdown",
   "source": [
    "Например, нам нужно удалить последний элемент в массиве.\n",
    "1-й способ."
   ],
   "metadata": {
    "id": "6Z3GSZK9UyoH"
   }
  },
  {
   "cell_type": "code",
   "source": [
    "a = np.array([1,2,3,0])\n",
    "a1 = np.delete(a, 3)\n",
    "print(a1)"
   ],
   "metadata": {
    "colab": {
     "base_uri": "https://localhost:8080/"
    },
    "id": "FCJ7Aw5kU-QS",
    "executionInfo": {
     "status": "ok",
     "timestamp": 1677000660135,
     "user_tz": -420,
     "elapsed": 11,
     "user": {
      "displayName": "Надежда Тупикина",
      "userId": "16854253095026240007"
     }
    },
    "outputId": "dc7d7725-eb1c-4358-c71e-ee4e04a8c11b"
   },
   "execution_count": null,
   "outputs": [
    {
     "output_type": "stream",
     "name": "stdout",
     "text": [
      "[1 2 3]\n"
     ]
    }
   ]
  },
  {
   "cell_type": "markdown",
   "source": [
    "2-й способ."
   ],
   "metadata": {
    "id": "D9zW4JMBVLjW"
   }
  },
  {
   "cell_type": "code",
   "source": [
    "a2 = a[0:3]\n",
    "print(a2)"
   ],
   "metadata": {
    "colab": {
     "base_uri": "https://localhost:8080/"
    },
    "id": "gPAAnOsZVM0e",
    "executionInfo": {
     "status": "ok",
     "timestamp": 1677000660136,
     "user_tz": -420,
     "elapsed": 11,
     "user": {
      "displayName": "Надежда Тупикина",
      "userId": "16854253095026240007"
     }
    },
    "outputId": "bb9a9b1a-bb91-48ac-961c-be567f2da176"
   },
   "execution_count": null,
   "outputs": [
    {
     "output_type": "stream",
     "name": "stdout",
     "text": [
      "[1 2 3]\n"
     ]
    }
   ]
  },
  {
   "cell_type": "markdown",
   "source": [
    "Метод `np.reshape()` позволяет изменить размерность массива."
   ],
   "metadata": {
    "id": "2brhANaSVRuO"
   }
  },
  {
   "cell_type": "code",
   "source": [
    "# исходный массив — [1, 2, 3, 4, 5, 6]\n",
    "np.array([1, 2, 3, 4, 5, 6]).reshape(3,2)"
   ],
   "metadata": {
    "colab": {
     "base_uri": "https://localhost:8080/"
    },
    "id": "2t9fGn1YVjXZ",
    "executionInfo": {
     "status": "ok",
     "timestamp": 1677000660136,
     "user_tz": -420,
     "elapsed": 10,
     "user": {
      "displayName": "Надежда Тупикина",
      "userId": "16854253095026240007"
     }
    },
    "outputId": "e4de0157-c2bd-4099-de74-8d6d4cc7de35"
   },
   "execution_count": null,
   "outputs": [
    {
     "output_type": "execute_result",
     "data": {
      "text/plain": [
       "array([[1, 2],\n",
       "       [3, 4],\n",
       "       [5, 6]])"
      ]
     },
     "metadata": {},
     "execution_count": 44
    }
   ]
  },
  {
   "cell_type": "markdown",
   "source": [
    "### Транспонирование массива"
   ],
   "metadata": {
    "id": "o6Ut-u7NVyt4"
   }
  },
  {
   "cell_type": "markdown",
   "source": [
    "В `NumPy` можно транспонировать массив любой размерности с помощью метода np.`transpose()`"
   ],
   "metadata": {
    "id": "tD8RCy31V2cP"
   }
  },
  {
   "cell_type": "code",
   "source": [
    "a = np.array([[0, 1, 2], [4, 5, 6]])\n",
    "a = a.transpose()\n",
    "print(a)"
   ],
   "metadata": {
    "colab": {
     "base_uri": "https://localhost:8080/"
    },
    "id": "BnAI2PG8WFD2",
    "executionInfo": {
     "status": "ok",
     "timestamp": 1677000660137,
     "user_tz": -420,
     "elapsed": 9,
     "user": {
      "displayName": "Надежда Тупикина",
      "userId": "16854253095026240007"
     }
    },
    "outputId": "8b7f3c12-f4b3-477f-b02b-b82dee3917c2"
   },
   "execution_count": null,
   "outputs": [
    {
     "output_type": "stream",
     "name": "stdout",
     "text": [
      "[[0 4]\n",
      " [1 5]\n",
      " [2 6]]\n"
     ]
    }
   ]
  },
  {
   "cell_type": "markdown",
   "source": [
    "## Работа с векторами"
   ],
   "metadata": {
    "id": "ugVbLwYwWwxE"
   }
  },
  {
   "cell_type": "markdown",
   "source": [
    "Массивами `NumPy` поддерживаются арифметические операции основного Python:\n",
    "*   сложение +\n",
    "*   вычитание –\n",
    "*   нахождение равенства =\n",
    "*   деление /\n",
    "*   целочисленное деление //\n",
    "*   возведение в степень **\n",
    "*   и т. д."
   ],
   "metadata": {
    "id": "Tz0q1m1IW1UM"
   }
  },
  {
   "cell_type": "code",
   "source": [
    "# сложение, массив + число\n",
    "x = np.array([0,1,2,3])\n",
    "x + 5"
   ],
   "metadata": {
    "colab": {
     "base_uri": "https://localhost:8080/"
    },
    "id": "QlqdS4AJzvSW",
    "executionInfo": {
     "status": "ok",
     "timestamp": 1676998836514,
     "user_tz": -420,
     "elapsed": 300,
     "user": {
      "displayName": "Надежда Тупикина",
      "userId": "16854253095026240007"
     }
    },
    "outputId": "c528bd35-0637-49be-e1e9-df95f776a1cb"
   },
   "execution_count": null,
   "outputs": [
    {
     "output_type": "execute_result",
     "data": {
      "text/plain": [
       "array([5, 6, 7, 8])"
      ]
     },
     "metadata": {},
     "execution_count": 20
    }
   ]
  },
  {
   "cell_type": "code",
   "source": [
    "# сложение массивов\n",
    "x = np.array([0, 1, 2, 3])\n",
    "y = np.array([4, 5, 6, 7])\n",
    "x + y"
   ],
   "metadata": {
    "colab": {
     "base_uri": "https://localhost:8080/"
    },
    "id": "ybGmoy7OzvTi",
    "executionInfo": {
     "status": "ok",
     "timestamp": 1676999222212,
     "user_tz": -420,
     "elapsed": 293,
     "user": {
      "displayName": "Надежда Тупикина",
      "userId": "16854253095026240007"
     }
    },
    "outputId": "c5d9ded7-661a-4070-befd-cd2c4e54674d"
   },
   "execution_count": null,
   "outputs": [
    {
     "output_type": "execute_result",
     "data": {
      "text/plain": [
       "array([ 4,  6,  8, 10])"
      ]
     },
     "metadata": {},
     "execution_count": 23
    }
   ]
  },
  {
   "cell_type": "markdown",
   "source": [
    "### Нормализация векторов\n",
    "**Нормализация переменных** — приведение вектора чисел к стандартизированному виду."
   ],
   "metadata": {
    "id": "ixnsgSZs8ons"
   }
  },
  {
   "cell_type": "code",
   "source": [
    "heights = np.array([187, 188, 190, 177, 156, 189])\n",
    "\n",
    "print((heights- np.min(heights)) / (np.max(heights) - np.min(heights)))"
   ],
   "metadata": {
    "colab": {
     "base_uri": "https://localhost:8080/"
    },
    "id": "j6d_PCkD8awb",
    "executionInfo": {
     "status": "ok",
     "timestamp": 1676999353055,
     "user_tz": -420,
     "elapsed": 974,
     "user": {
      "displayName": "Надежда Тупикина",
      "userId": "16854253095026240007"
     }
    },
    "outputId": "82ee1e19-5848-499a-8c7a-f1278b06319d"
   },
   "execution_count": null,
   "outputs": [
    {
     "output_type": "stream",
     "name": "stdout",
     "text": [
      "[0.91176471 0.94117647 1.         0.61764706 0.         0.97058824]\n"
     ]
    }
   ]
  },
  {
   "cell_type": "markdown",
   "source": [
    "### Скалярное произведение векторов\n",
    "В экономике часто можно наблюдать скалярное произведение вектора цен на вектор количества проданных товаров. Скалярное произведение в этом случае дает стоимость всех проданных товаров."
   ],
   "metadata": {
    "id": "Ewq88-nN-vqb"
   }
  },
  {
   "cell_type": "markdown",
   "source": [
    "![image.png](data:image/png;base64,iVBORw0KGgoAAAANSUhEUgAAAwEAAACWCAYAAACGlIRzAAAgAElEQVR4nO3de1xUZf4H8M8BwhBBZVBMV0BMkdTwGihWlCyZmyIuKZaVpFwyVyVd71hprqWZoIKSlikgtkLrtl6yV4WasPoyNfECpmvgBUFAWceZYXCG5/eHy/ychsuQjCOcz/v1mtdLzjzP4TvynWfme87znCMJIQSIiIiIiEg2bKwdABERERERPVgsAoiIiIiIZIZFABERERGRzLAIICIiIiKSGRYBREREREQywyKAiIiIiEhmWAQQEREREckMiwAiIiIiIpmxq+9JSZIeVBxERERERHSfzL0PcL1FgBACkiSZvTMiczGvyBKYV2QJzCuyBOYVWUJjDuBzOhARERERkcywCCAiIiIikhkWAUREREREMsMigIiIiIhIZlgEEBERERHJDIsAIiIiIiKZYRFARERERCQzLAKIiIiIiGSGRQARERERkcywCCAiIiIikhkWAUREREREMsMigIiIiIhIZlgEEBERERHJDIsAahaEELh8+TISEhLw17/+FRqNxtohUTNWXV2NrKwshIaGwtnZGc7OzggNDcWBAwcghLB2eNRMabVaZGZmIigoCJIkQaFQYNy4ccjKykJ1dbW1w6MWQKfT4YMPPoAkSejXrx/OnTtn7ZCoGWMRQA81lUqFvXv3YvTo0XB3d8fMmTOhVCqtHRY1Y3q9HvHx8QgJCcHOnTuhVCqhVCqxc+dOjBo1Cl9++aW1Q6RmSKPRYN68eQgLC8P3338PALhx4wZ27NiBkJAQbN++nQUm3bcjR45g06ZN1g6DWggWAfRQ++STTzBy5Ejs2rXL2qFQC5Gfn49NmzZBqVRi2bJlUKvVKCwsREhICJRKJTIzM/Hf//7X2mFSM3P27Fl8+eWXcHJywqeffgq1Wo2ioiJERkZCqVRi27ZtqKiosHaY1IzdvHkTCQkJKCwstHYo1EKwCKCHmr29PWJjY3HkyBEsWLDA2uFQC/Dzzz8jLy8PgYGBmDRpEhwcHODu7o6xY8cCAJRKJXQ6nZWjpObG1dUV27Ztw549exAeHg4HBwc89thjePbZZwEAarUaWq3WylFScyWEQEZGBnbs2IH+/ftbOxxqIeysHQBRfebOnWv49759+6wYCbUUY8eORVlZGWxsbNC2bVvD9pp1JnZ2drCx4fERahwPDw94eHgYbbt58yays7MBAAMGDED79u2tERq1APn5+UhMTMRzzz2HqKgoTJgwwdohUQvATzoikhUHBwcoFAq0b9/e8GW/oKAAKSkpAIA//vGPaNeunTVDpGZu6dKlkCQJLi4uSE1NRWRkJObOnYtWrVpZOzRqhjQaDZKSknDx4kXMmDEDXbt2tXZI1EKwCCAiWVOpVFi5ciWys7MREhKC8PBwSJJk7bCohVAqlbh27RrXA9Dv9u2332LLli144403EBwcbO1wqAVhEUBEsqVSqbBw4UIkJSXBz88Py5cvh5ubm7XDomYuLi4OQgjcuHEDb731Fnbt2oWFCxfi5s2b1g6NmpmrV68iISEBTzzxBKZOnQoHBwdrh0QtCIsAIpIlrVaLNWvWICEhAd7e3lixYgV8fHysHRa1IO3bt8err74K4O6C9MuXL1s5Imputm7diqysLBw5cgRPPPEEJEnCsGHDAAAnT55Er169sHTpUitHSc0VFwYTkezodDrEx8djwYIF8PDwQHJyMp555hlrh0XN2DfffIOTJ0+ibdu2mDhxItq0aWP0/O3bt3Hnzh0rRUdEZIpnAohIVnQ6HbZs2YJly5bBw8MD69evZwFA962qqgrz5s3DnDlzkJ6eDo1Gg2vXrmHLli0AgN69e6Nz585WjpKam/nz50MIYfQ4dOgQAMDX1xf5+fmIi4uzcpTUXLEIICJZ+emnnxAbGwulUonCwkKMHDkSNjY2kCTJ8EhLS7N2mNTMDB8+HFOnToVSqURUVBRat26Nzp07Y+PGjXBxccHkyZPRqVMna4dJRGTAIoCIZEWv10OpVFo7DGphHB0dsWLFCiQlJRluEObi4oKIiAj88MMPGD9+PK86RUQPFUkIIeptIElooAlRozGvyBKYV2QJzCuyBOYVWUJj8opnAoiIiIiIZIZFABERERGRzLAIICIiIiKSGRYBREREREQywyKAiIiIiEhmWAQQEREREckMiwAiIiIiIplhEUBEREREJDMsAoiIiIiIZIZFABERERGRzLAIICIiIiKSGRYBREREREQyIwkhRJ1PStKDjIWIiIiIiO5DPV/tjdg1tBNJkszeGZG5mFdkCcwrsgTmFVkC84osoTEH8DkdiIiIiIhIZlgEEBERERHJDIsAIiIiIiKZYRFARERERCQzLAKIiIiIiGSGRQARERERkcywCCAiIiIikhkWAUREREREMsMigIiIiIhIZlgEEBERERHJDIsAIiIiIiKZYRFARERERCQzLAKakBAC//jHP7B7926z+5SVleG9995DaWmpBSMjIiIiIvp/TVYELF26FP369cO5c+eMtgshsG3bNjg7OyM5ORnV1dVN9SsfKkIIpKenY8WKFfDy8jK7X7t27eDq6oro6GiUlJRYMMLmTafTITs7G3/5y19w/vz5WtsUFBQgKioKCoUCzs7OGDduHH7++WeTdiqVCgkJCejVqxckSYK/vz+2b98OnU5n6ZdBDxlz8mr16tWQJMnkMWLECJSXlxvaMa+ouroa3333HV588UU4OztDoVAgKioKBQUFJm05XpG5avIqKCgIkiTB09MTixYtqvXgIccragw7S/+CgwcPYsGCBXjttdcwceJE2Ni0zJMP+fn52LhxIz788EP4+PiY3c/Ozg4RERHIzc3FF198gVmzZsHOzuJ/lmbj1q1b2LVrFzZs2IAff/wRvr6+mDZtmkm7goICTJw4EZ07d8bWrVthb2+P1NRUvPLKK9i+fTuefPJJAIBWq8W7776L7777DnPnzkW3bt1w+PBhvP3221AqlZgyZQokSXrQL5MeMHPzCgBu376NgIAAjBgxAo888ohhe9u2bdGqVSsAzCu6eyBo+/btmD17NmJiYjB79myoVCokJiYiPDwcKSkp6NGjBwCOV2S+e/Nq+vTpWLRoEW7duoXExERER0cjOTkZHTp0MLTneEWNIhpgRhMhhBBLliwRvr6+Ij8/37Dt7Nmzws/PT4SEhIji4mKz9tMcVVZWilmzZokFCxaIO3fu/K59HDlyRPTu3VscPXq0iaN7ODUmrzw8PMSSJUtESkqKSY7V2LBhg/Dz8xMXL140bCspKRGjR48WcXFxQqfTCSGEOHnypOjRo4fIzMw0tNPpdOJvf/ubCAoKEkVFRff5ysiamjqv1Gq1iI6OFu+++66orq6uc3/Mq5bNnLwqKCgQQ4cOFatWrTLKlZMnTwofHx/xySefGLZxvCIhzMurq1evisDAQJO8On78uOjRo4f45z//adjG8YqEMP9zUAghLHZYXqVSYd26dQCA5cuXw83Nzeh5jUaDDRs2wN/f33AqKj09HVqt1qRdTExMrae30tLS6o0hOzvbpI+npyeio6NrPT176tQpvPnmm1AoFPWexv2tCxcu4Ntvv8XIkSONjuILIXD8+HGMHTvW6HRbXFwcYmJioNFoDG179+6NwYMH4+uvv4Zer2/wd8rFa6+9hry8PMTFxaFbt261tqmsrERubi6GDh2KLl26GLZ36NAB/fv3R15eHm7fvg0AyMvLQ4cOHTBw4EBDO1tbWwQEBODMmTMoKiqy7Auih4I5eQXcnS6kVqvRtm3beo+MMa/oypUryMnJgZ+fn1GudOnSBe7u7oYxiOMVNYaNjQ1CQkIwcuRIo7xyd3eHl5cXKioqDNs4XlFjWaQI0Ol0WLduHVJSUjBz5kyT6TEajQZz5sxBfHw8IiIikJWVhfHjx2P+/PmIj483mpOmVqtRUFCAyMhIZGVlISsrC6mpqYbTquZISkoy9F2zZg2KioowceJEoy/42dnZGDVqFPR6PbZv346tW7eioqIC4eHhyMvLq3f/hw8fhpubG3r27Gm0/dixYxg7dizs7Oywa9cuLF26FPv27cOnn35qsg9HR0f4+/vj6NGjuHnzptmvraXz9PSEg4NDvW00Gg0KCwvRvn172NvbG7ZLkgQvLy8olUpDTl28eBFOTk5o06aN0T46duwIV1dXVFZWNv2LoIeOOXkFAFVVVbh+/TpycnIM83FrmzvLvKKAgAAIIRAQEGC0XavVQqvVGtaKcbyixujUqRNmzpyJXr16GW0vKytDcXEx2rVrZ9jG8Yoaq0knn6vVavz000/Ys2cPli1bhoULFyIsLMykXU5ODv71r3/h888/x/PPPw8AePbZZ+Hm5oYFCxbgueeew1NPPWXUp2vXrggMDAQAnDt3Dq1btzY7rieffNJoYFYoFBg2bBiuXr0KT09PqFQqbNq0CcHBwVi9ejUcHR0BAIMGDUJ0dDQ2bNiAFStWGObT3auqqgpnzpxB9+7djd5QWq0WKSkp6NOnD9asWYNOnToBAJ566incuXOn1jh9fHzw/vvvo7CwEK6urma/Prmrrq6uczGTra0tiouLUVZWBoVCUWc7SZJgY2ODgoICkw9xkq+aD1oAePnll/H2228jPT0dEyZMMJo7y7yi2gghsHv3bty5c8fw9+d4Rffr2rVrWLVqFby8vDBkyBDDdo5X1FhNWgScP38eEydOBAA89thjGDx4sMkiV71ej++//x6DBw82OhUlSRICAwPRrVs3ZGdnmxQBHh4eTRKjSqXCgQMHEBAQYDgV+5///AfZ2dn4+OOPDQUAALi5ueHFF1/E1q1bUVxcXGsMWq0WZWVl6NGjh9GRxfLycuTm5iI4ONhQAACAvb29SfVdo6YKv3HjRpO8ViK6P97e3jh06BDs7e0NR22Dg4PRoUMHfPHFFwgODm6ysYlanoMHD2LlypVYsmQJPD09rR0ONXNLly7F4sWLAQCjR4/G2rVrjRYFc7yixmrS6UC+vr7Iz89HcXExnnrqKSxYsMDksntVVVW4ceMGFAqF0alQAGjfvj28vb1x+fJlVFVVAbh71ESv18PW1rbO3/vbuf+/vRTWsGHDDM+1adMG27ZtQ3x8vGFQViqVOH/+PBQKhcm++/Tpg19//RVlZWW1/u6a02+/pVQqcfPmTbi7u9cZ92/VVOG17Y+IrKNNmzZGY5WjoyPGjx+PnJwcXLlyxYqR0cMsLy8Pc+fOxeTJk2s9I07UWGFhYcjKysKOHTug1Woxe/Zsk0uLc7yixrDImgA3NzcsX74cABAfHw+VSmVWPyGEyaLYGzduNHgjLW9vb8Oc/6ysLLz33ntGR9v37t1rOE128OBBBAcHY9q0aQ3O9QfARbrNgI2NTZ2XVdXr9ejUqZNhelVd7YQQqK6u5tE6MkvHjh3Rt29fw8/MK7pXXl4eIiIi4O/vj2nTphnlB8cr+r18fHwQGBiIsLAwfPbZZygrK8O2bdsa7MfxiupisasD9erVC9OnT0dKSgrWrVtnmINmb28PFxcXlJeXG47216ioqMCFCxfQtWtXQyWr1WqhVqvrTUpXV1cEBgYaHv7+/kbz952cnKBQKODm5oann34a8+fPh5OTE3bu3Gl4vkePHkZnD2rk5eWhW7dudc7Rt7Ozg5OTk8l2FxcXdOjQoVFH9WvegB07djS7DwEODg7w8PBAcXGx0YImIYRhAVTNoOfl5YWysjKTxdfXr19HWVkZHn300QcaOz3cdu/ejc8//9zoSl7A3el+p06dMvzMvKIaJSUlmD9/PgYOHIhly5YZTTEFOF5R45w/fx4fffSRyawKFxcX9OzZExcuXDDkEccraiyLFQGSJGHcuHFYuHAhli1bhh9++AHA3YVPw4cPx9GjR3Hs2DFDeyEE9u/fj19//dVoQcqFCxfQunVriyyUrSlMunfvjoCAAOzatcvorEVJSQn27t2LQYMGGc3rv5eDgwO6du2Kq1evGr3x2rZti759++L77783LNQB7k4fqrn822+Vl5ejrKwMLi4uTfHyZOPRRx/FgAEDcOzYMVy7ds2wvaioCAcPHoSvry+cnZ0B3J3epVarkZuba2in0+mwb98++Pr6cr4kGdHr9fj444+NPoB1Oh2ysrIQFBRkuOIL84qAu2eu4+LiYG9vj8WLF5sUAADHK2qc6upqpKenY//+/bh7Cfi7ysvLcfbsWTz++OOGL+0cr6ixLHprWjs7O0ybNg2XLl3C4sWL0bVrV/j4+GDo0KEYNWoUpk6ditjYWHh7e+PEiRNISEjAW2+9hQEDBkCpVGLnzp1YtWoV/P39GzW3/rdyc3MNV+TR6/XYvXs3zpw5g7i4OAB358xNmTIFr776KqZOnYqJEyeiqqoKW7ZsQXFxMZYvX17rlYGAu2c2vL29kZGRgdu3bxsWB9vb22PSpEkIDw/H9OnT8cYbbxjuCpmWlobo6GiTfZ0+fZpvwN9pxIgRSEtLw/Tp0xEZGQkHBwds3rwZarUaf/7znw3XTPb29kZoaCgWLFiA0tJSeHt7Izs7G5s2bcLq1atrXRdC8vX000+jT58+mDJlCmbNmgU3NzdkZ2dj7dq1WL16teHgAPOKVCoV4uLikJOTg7i4OOTl5ZlMOe3Tpw9cXV05XpHZunfvjgkTJmDevHkoLy+Hv78/VCoVtmzZgqqqKrz00kuGthyvqNGa6s5jtd0xuEZtdw5Wq9Vi/fr1ws/PTwAQfn5+Ytu2baKyslIIIUR+fr7w9fUVoaGh4pdffjHaX81zqamp9cZ06NAhAcDo4eTkJMaMGSP2799vcke93NxcERERIVxcXISLi4uIjIwUv/76a4Ov/fTp06Jv377i0KFDJs+dOHFChIaGGl7jpk2bxKRJk0R0dLRQq9WGdjV3+rv3bpEtmbl5da9Dhw7VmWNCCHHp0iURGRkpXFxchJOTk3j55ZfFiRMnTNqp1WqRkJAgvL29DX+X9PT03323Z3p4WCKvysvLxfLlyw35Mnz4cJGZmWmSL8yrlsucvKr5XPrtZ869j3s/IzhekbnjVWVlpcjIyBDDhw8XAISHh4eIjY0Vly5dMmnL8Yoa8zko/a9DnSRJQgNNZE+r1WLhwoVo1aoV3n///ToX3QB3bxQTGxsLAFi9erXhzEFubi6ioqKwbt06DBo06IHEbU3MK7IE5hVZAvOKLIF5RZbQmLyy2JoAOWnVqhUmT56MnJwcHDlypNH9tVottm7ditDQUPTr188CERIRERER/T8WAU2kV69eiIyMxIcffojCwkKz++l0OqSmpuLKlSuYNGlSvWcRiIiIiIiaAr9xNhFJkjBhwgQ4ODjg9OnTZi/uraiowOXLl03u/EdEREREZClcE0BWwbwiS2BekSUwr8gSmFdkCVwTQEREREREdWIRQEREREQkMywCiIiIiIhkhkUAEREREZHMsAggIiIiIpIZFgFERERERDLDIoCIiIiISGZYBBARERERyUy9NwuTJOlBxkJERERERPfB3JuF2TW0E97RjiyBeUWWwLwiS2BekSUwr8gSGnMAn9OBiIiIiIhkhkUAEREREZHMsAggIiIiIpIZFgFERERERDLDIoCIiIiISGZYBBARERERyQyLACIiIiIimWERQEREREQkMywCiIiIiIhkhkUAEREREZHMsAggIiIiIpIZFgG1OHz4MDZu3AghhFnty8rK8N5776G0tNTCkRERERER3b8mKwKWLl2KESNGoLy8/Hc9/7A4cOAAYmJi0LNnT0iSZFafdu3awdXVFdHR0SgpKbFwhPJSVVWFd955B5IkmTxiYmKg0WisHSI1Q9XV1fjuu+/w4osvwtnZGQqFAlFRUSgoKGiwL3OS6lKTV0FBQZAkCZ6enli0aBEPENF9EULg+PHjGDdunNF4dfny5Qb7cryi+thZO4CHSUlJCRISEjBnzhw888wzZvezs7NDREQEcnNz8cUXX2DWrFmws+N/bVPQ6/VQq9UYOXKkyd/E3d0dtra2VoqMmishBLZv347Zs2cjJiYGs2fPhkqlQmJiIsLDw5GSkoIePXrU2Z85SbW5N6+mT5+ORYsW4datW0hMTER0dDSSk5PRoUMHa4dJzdCxY8cQFhaGkSNHIjMzExqNBhs3bsQbb7yBlJQUdOnSpc6+HK+oPvym+j81A7iTkxNeeukls88C1HB0dMSUKVPw5ptvYvjw4Rg0aJCFIpUXtVqNgoICvPLKK3j99detHQ61AJcuXUJiYiJmz56N2NhYw3vd09MT4eHh2LVrF2JjY+vsz5yk2ly7dg0bN240yauuXbti/Pjx+Pe//43Ro0dbOUpqbvR6Pb766isMGDAAy5YtQ/v27QEA3t7eGD9+PL755htMnjy5zv4cr6g+Vl8ToNVqkZ6eDn9/f0iShKCgIPzwww+G+fgajQYxMTEmp63q2q5SqbB+/XrD/vz9/bF9+3bodLp64yguLsauXbsQHBwMZ2dnw/a0tDQEBATg4MGDiIqKgkKhgKenJxISEkxOo/Xu3RuDBw/G119/Db1e3xT/PbKn1Wqh1WrRrl07a4dCLcSVK1eQk5MDPz8/o2K/S5cucHd3x+3bt+vtz5yk2tjY2CAkJAQjR440yit3d3d4eXmhoqLCitFRc3Xr1i3k5ubi6aefNhQAwN3icvDgwThz5gyqqqrq7M/xiupj1SJAp9MhPj4eH330EaKjo5GVlYXnnnsOEyZMwNdff93o/alUKsyZMwebN29GbGwssrKyMGrUKMyYMQMZGRn19j179izKy8sxcOBAk+dOnTqFadOmYeDAgfj73/+O119/HXFxcfjggw+MigtHR0f4+/vj6NGjuHnzZqPjJ1NKpRI3b95EZmZmnYUiUWMEBARACIGAgACj7TUfll5eXvX2Z05SbTp16oSZM2eiV69eRtvLyspQXFzML2H0u5SXl6O4uBgdO3Y02u7g4IAuXbpArVbXe9CR4xXVx6rTgXJycrB582YkJSXh+eefBwAMGzYMarUaqampCAwMhL29vdn7++WXX3Dx4kWsXbsWfn5+AIAhQ4bg+vXr2LNnD/70pz/Bycmp1r65ubno2LFjrXM227Rpg/j4eEOMzz//PBQKBZKTk/HKK6+gd+/ehrY+Pj54//33UVhYCFdXV7Njp9qVlZXh5MmT6NmzJ6ZPnw69Xo+0tDSMGTMGGRkZCA4OtnaI1AIIIbB7927cuXPHpDj4LeYkmevatWtYtWoVvLy8MGTIEGuHQ82QXq+vdSaDJEmwtbVFQUEB1Go1HBwcau3P8YrqY7UiQAiBgwcPom/fvkZH3+3s7ODn54fdu3ejuLgY7u7uZu+zf//+2Lt3r9G2Vq1awdXVFefOnavzlJler0dpaSk8PT3RunVrk+c7duxotPBGkiS88MIL+Oyzz3D69GmjIqBjx45wdXXFjRs3zI6b6jZ06FDcunULDg4OhsXWwcHBiI6OxsaNG+Hn54e2bdtaOUpq7g4ePIiVK1diyZIl8PT0rLctc5IasnTpUixevBgAMHr0aKxdu5aLgskqOF5Rfaw2HaiyshJXrlxBRkYG2rVrZ3TZqpCQEJP2ycnJaN26taFN69atkZycbNKutLQUH374IQYMGGBoWzMY16WqqqrRX9o7dOiAzp07o6ioyGi7JEmwsbHB9evXG7U/qp0kSXBycjK62pKbmxvGjh2L8+fPo7i42IrRUUuQl5eHuXPnYvLkyQgLC2uwPXOSGhIWFoasrCzs2LEDWq0Ws2fP5uWjySo4XlF9rH51oDFjxuCtt94ymfZjZ2eHzp0719muqqoK69evN+pTVFSEiIgIKBQKbNiwAd27dwcAfPLJJzh27JiFXwk9SA0drSUyR15eHiIiIuDv749p06bd16V9mZNUw8fHBz4+PgDuTkl97bXXsG3btnqvOkVUG1tb21rHJSEE9Hp9nTMYGsLxigArFgH29vZwcXHB9evXMXjwYKNV7/equQKPm5sbnn76acO8N41Gg6+++sqo7Y8//oiSkhKsWbMG3t7ehu2PPvpovbHY2tqidevWUKvVZsdfWlqKoqIio0IFuPvGrK6uNlnEQ41XVVWFzMxMPPLIIwgNDTW6nrE5N0khqk9JSQnmz5+PgQMHYtmyZXB0dGywD3OS6nL+/Hl89dVXGDt2rNF9JlxcXNCzZ09cuHABlZWVDX4eEd1LoVCgU6dOuHTpktF2jUaDq1evwsnJqc5r/XO8ooZYbTqQra0tAgICkJ2djaysLKNV6qWlpTh16lSjV67rdDpUV1cb9VOpVA0mu729Pbp27WpYYPNb169fx9WrVw0/CyHw448/QqfToU+fPkZty8vLUVZWBhcXl0bFTqbs7e1RXFyMpKQko1OWKpUKBw4cQP/+/fGHP/zBihFSc3Xjxg3ExcXB3t4eixcvNqsAAJiTVLfq6mqkp6dj//79Rp9B5eXlOHv2LB5//HEWANRozs7OGDBggMlVBy9cuIDs7GwMHDiwzguocLyihjTpmYCKigrk5OTUegWey5cvG54fMmQIXF1dERgYiLCwMLzzzjsoLCxE//79UVZWhsTERPTq1QsfffQRHnnkEbN/f79+/aDT6TBz5kxMmTIFGo0GaWlp2LdvH1544YV6+/bp0webN29GaWkpFAqF0XPXrl3DO++8gxkzZqBbt244fPgwVq5ciTlz5hidcQCA06dPw9fXFx4eHmbHTXULDQ1FZmYmYmJiEBkZCUdHR+zevRvffvsttmzZYvaXN6IaKpUKcXFxyMnJQVxcHPLy8pCXl2fUpk+fPnB1dUVycjIyMjKwadMmw3uaOUm16d69OyZMmIB58+ahvLwc/v7+UKlU2LJlC6qqqvDSSy9ZO0RqhmxtbREWFoaMjAzMnDkTEydOhEajQWJiInr27ImgoCBDW45X1GiiAWY0EUIIsWTJEgHArMehQ4cM/dRqtVi/fr3w8/MTAISfn59ISkoSt2/fNjwfHR0toqOjheJq8osAAALKSURBVFqtNupX2/YTJ06I0NBQw77S09PFpk2bRN++fUVeXl6d8RcVFYmgoCCRmppqtD01NVX4+vqKvXv3isjISOHi4iI8PDxEfHy80e+9N6a4uDih0+nM+n+TK3PzSgghLl26JGJjY4WHh4dwcnISY8aMEfv37xfV1dUWjJCaI3PyKj8/X/j6+po1RiUlJQl/f3/xyy+/GO2DOSkv5o5XlZWVIiMjQwwfPlwAEB4eHiI2NlZcunTJwhFSc9SYz8ETJ06Il19+WTg5OQkXFxcRGRlpklccr0iIxuWV9L8OdZIkqcluKJGdnY1hw4bh0KFDDV6L+0ETQmDNmjU4fvw41q5da7hrcFpaGlauXIkvv/zS5Kj/b+Xm5iIqKgrr1q3DoEGDHkTYzVZT5hVRDeYVWQLziiyBeUWW0Ji8suodgx8mkiQhPDwcSqUSe/bsaXR/rVaLrVu3IjQ0FP369bNAhERERERETYNFwD3c3NwwY8YMJCcnN+qSojqdDqmpqbhy5QomTZp0X5cZJCIiIiKytAf6bTUgIOChP/X17LPPYvny5Th+/DgGDBhgVp+KigpcvnyZd4UkIiIiombhga4JIKrBvCJLYF6RJTCvyBKYV2QJXBNARERERER1YhFARERERCQzLAKIiIiIiGSGRQARERERkcywCCAiIiIikhkWAUREREREMsMigIiIiIhIZlgEEBERERHJTL03C5Mk6UHGQkRERERE98Hcm4XZNcVOiIiIiIio+eB0ICIiIiIimWERQEREREQkMywCiIiIiIhkhkUAEREREZHMsAggIiIiIpIZFgFERERERDLDIoCIiIiISGZYBBARERERyQyLACIiIiIimWERQEREREQkMywCiIiIiIhkhkUAEREREZHMsAggIiIiIpIZFgFERERERDLDIoCIiIiISGZYBBARERERyQyLACIiIiIimfk/7fOOO7jDP5sAAAAASUVORK5CYII=)"
   ],
   "metadata": {
    "id": "mvc_pesJ_Rnq"
   }
  },
  {
   "cell_type": "code",
   "source": [
    "# вектор проданных товаров\n",
    "q = np.array([100, 150, 200, 350])\n",
    "\n",
    "# вектор цен\n",
    "p = np.array([5, 2.5, 3, 0.5])\n",
    "\n",
    "np.dot(q, p)"
   ],
   "metadata": {
    "colab": {
     "base_uri": "https://localhost:8080/"
    },
    "id": "y76dWSA08oPr",
    "executionInfo": {
     "status": "ok",
     "timestamp": 1677000136480,
     "user_tz": -420,
     "elapsed": 305,
     "user": {
      "displayName": "Надежда Тупикина",
      "userId": "16854253095026240007"
     }
    },
    "outputId": "22aa45c5-2202-4116-ef37-b270106bb335"
   },
   "execution_count": null,
   "outputs": [
    {
     "output_type": "execute_result",
     "data": {
      "text/plain": [
       "1650.0"
      ]
     },
     "metadata": {},
     "execution_count": 27
    }
   ]
  },
  {
   "cell_type": "markdown",
   "source": [
    "### Решение системы линейных уравнений\n",
    "Рассмотрим в качестве примера следующую систему уравнений:\n",
    "\n",
    "20x+10y=350\n",
    "\n",
    "17x+22y=500"
   ],
   "metadata": {
    "id": "kwtXY_z8ANB2"
   }
  },
  {
   "cell_type": "code",
   "source": [
    "A = np.array([[20, 10], [17, 22]])\n",
    "B = np.array([350, 500])\n",
    "\n",
    "X = np.linalg.solve(A,B)\n",
    "print(X)"
   ],
   "metadata": {
    "colab": {
     "base_uri": "https://localhost:8080/"
    },
    "id": "qR21CTLyAgTT",
    "executionInfo": {
     "status": "ok",
     "timestamp": 1677000648714,
     "user_tz": -420,
     "elapsed": 339,
     "user": {
      "displayName": "Надежда Тупикина",
      "userId": "16854253095026240007"
     }
    },
    "outputId": "040ca098-cd3e-4d8a-cdd2-da74cffedea0"
   },
   "execution_count": null,
   "outputs": [
    {
     "output_type": "stream",
     "name": "stdout",
     "text": [
      "[10. 15.]\n"
     ]
    }
   ]
  }
 ]
}
