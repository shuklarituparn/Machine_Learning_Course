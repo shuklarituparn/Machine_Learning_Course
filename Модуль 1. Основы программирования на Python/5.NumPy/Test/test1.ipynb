{
 "cells": [
  {
   "metadata": {},
   "cell_type": "markdown",
   "source": [
    "Задание 2.1 Исследование датасета\n",
    "В этом задании предлагаем вам поработать с датасетом Pandas practices , который содержит данные об автомобилях, остановленных полицией.\n",
    "\n",
    "Исследование датасета будет состоять из нескольких частей. Чтобы проверить, как вы справились с заданием, в некоторых заданиях мы будем просить вас записать получившийся результат, в других — попросим записать код.\n",
    "\n",
    "Рекомендуем вам скачать датасет , самостоятельно создать Python-ноутбук для его выполнения, а в LMS прикладывать лишь требуемые результаты.\n",
    "\n",
    "Итак, для начала предлагаем проверить набор данных на наличие пропусков.\n",
    "\n",
    "Определите название колонки, в которой больше всего пропусков, и запишите ее название в поле ответов."
   ],
   "id": "777c9eae36694778"
  },
  {
   "metadata": {
    "ExecuteTime": {
     "end_time": "2024-05-05T13:11:16.678736Z",
     "start_time": "2024-05-05T13:11:16.588050Z"
    }
   },
   "cell_type": "code",
   "source": [
    "import pandas as pd\n",
    "\n",
    "data=pd.read_csv(\"police.csv\", sep=\",\")   # sep is used for in case the data in the original table are seperated using a seperator, so we tell how to read the data\n",
    "\n",
    "\n",
    "\n",
    "# we read the data and store it in the dataframe"
   ],
   "id": "a1e7394e556c1db",
   "outputs": [
    {
     "data": {
      "text/plain": [
       "91741"
      ]
     },
     "execution_count": 42,
     "metadata": {},
     "output_type": "execute_result"
    }
   ],
   "execution_count": 42
  },
  {
   "metadata": {
    "ExecuteTime": {
     "end_time": "2024-05-07T13:33:51.189343Z",
     "start_time": "2024-05-07T13:33:51.041440Z"
    }
   },
   "cell_type": "code",
   "source": [
    "#data.head(10)  #only showing ten from the top\n",
    "\n",
    "\n",
    "# Load the dataset\n",
    "df = pd.read_csv('police.csv')\n",
    "\n",
    "# Check for missing values\n",
    "missing_values = df.isnull().sum()\n",
    "\n",
    "# Identify the column with the most missing values\n",
    "column_with_most_missing_values = missing_values.idxmax()\n",
    "\n",
    "\n",
    "\n",
    "# Print the result\n",
    "print(column_with_most_missing_values)"
   ],
   "id": "edbf2f0de4bd41e6",
   "outputs": [
    {
     "name": "stdout",
     "output_type": "stream",
     "text": [
      "county_name\n"
     ]
    }
   ],
   "execution_count": 9
  },
  {
   "metadata": {
    "ExecuteTime": {
     "end_time": "2024-05-07T13:48:55.470315Z",
     "start_time": "2024-05-07T13:48:55.380Z"
    }
   },
   "cell_type": "code",
   "source": [
    "import pandas as pd\n",
    "\n",
    "# Load the CSV file into a DataFrame\n",
    "police = pd.read_csv('police.csv', sep=',')\n",
    "\n",
    "print(\"Columns before deletion:\", police.columns.values.tolist())\n",
    "\n",
    "police = police.drop('county_name', axis=1)   #need to assign the result back to the dataframe after dropping it\n",
    "\n",
    "print(\"Columns after deletion:\", police.columns.values.tolist())\n",
    "\n",
    "\n",
    "## THE CORRECT METHOD TO DO IT, Place the column in the square bracket, use the axis and inplace=True\n",
    "\n",
    "import pandas as pd\n",
    "police = pd.read_csv('police.csv', sep=',')\n",
    "police.drop(['county_name'], axis = 1 , inplace = True)\n"
   ],
   "id": "25554c678524c91a",
   "outputs": [
    {
     "name": "stdout",
     "output_type": "stream",
     "text": [
      "Columns before deletion: ['stop_date', 'stop_time', 'county_name', 'driver_gender', 'driver_age_raw', 'driver_age', 'driver_race', 'violation_raw', 'violation', 'search_conducted', 'search_type', 'stop_outcome', 'is_arrested', 'stop_duration', 'drugs_related_stop']\n",
      "Columns after deletion: ['stop_date', 'stop_time', 'driver_gender', 'driver_age_raw', 'driver_age', 'driver_race', 'violation_raw', 'violation', 'search_conducted', 'search_type', 'stop_outcome', 'is_arrested', 'stop_duration', 'drugs_related_stop']\n"
     ]
    }
   ],
   "execution_count": 19
  },
  {
   "metadata": {},
   "cell_type": "markdown",
   "source": [
    "Задание 2.2 Исследование датасета (продолжение)\n",
    "Мы продолжаем работать с датасетом Pandas practices. В этом задании вам необходимо написать программу, которая удаляет столбец с наибольшим количеством пропусков. \n",
    "\n",
    "Подсказка: используйте результаты ранее выполненного задания, выводить на экран ничего не требуется.\n"
   ],
   "id": "fa3a917667d48223"
  },
  {
   "metadata": {
    "ExecuteTime": {
     "end_time": "2024-05-05T12:49:04.784904Z",
     "start_time": "2024-05-05T12:49:04.776176Z"
    }
   },
   "cell_type": "code",
   "source": [
    "data[\"driver_gender\"].value_counts()  #value counts helps to count the type of data for each type\n",
    "# далее запишите ваш код\n"
   ],
   "id": "53aabfca2dce491b",
   "outputs": [
    {
     "data": {
      "text/plain": [
       "driver_gender\n",
       "M    62895\n",
       "F    23511\n",
       "Name: count, dtype: int64"
      ]
     },
     "execution_count": 35,
     "metadata": {},
     "output_type": "execute_result"
    }
   ],
   "execution_count": 35
  },
  {
   "metadata": {
    "ExecuteTime": {
     "end_time": "2024-05-05T13:10:58.942249Z",
     "start_time": "2024-05-05T13:10:58.806586Z"
    }
   },
   "cell_type": "code",
   "source": [
    "# NEED TO GET THE NUMBER OF TIMES POLICE STOP PEOPLE\n",
    "\n",
    "\n",
    "# Load the dataset\n",
    "df = pd.read_csv('police.csv')\n",
    "\n",
    "# Statement 1: Мужчин останавливают чаще, чем женщин\n",
    "male_stops = df[df['driver_gender'] == 'M'].shape[0]\n",
    "female_stops = df[df['driver_gender'] == 'F'].shape[0]\n",
    "print(\"Statement 1:\", male_stops > female_stops)\n",
    "\n",
    "# Statement 2: Чаще всего останавливают мужчин в возрасте от 40 до 50 лет\n",
    "stops_by_age = df[df['driver_gender'] == 'M']['driver_age'].value_counts()\n",
    "print(\"Statement 2:\", stops_by_age.index[0] >= 40 and stops_by_age.index[0] <= 50)\n",
    "\n",
    "# Statement 3: Остановлено более 3 тыс. водителей в возрасте 20 лет\n",
    "stops_at_20 = df[df['driver_age'] == 20].shape[0]  #returns the first shape, if the matrix is 2*3 then shape[0] is 2\n",
    "print(\"Statement 3:\", stops_at_20 > 3000)\n",
    "\n",
    "# Statement 4: Остановлено менее 50 водителей-женщин в возрасте старше 80 лет\n",
    "stops_female_over_80 = df[(df['driver_gender'] == 'F') & (df['driver_age'] > 80)].shape[0]\n",
    "print(\"Statement 4:\", stops_female_over_80 < 50)\n",
    "\n",
    "# Спасибо за ваше решение! Вы получили нужный результат!\n",
    "# \n",
    "# Чтобы получить ответ на вопрос, водителей какого пола в датасете больше, используйте код:\n",
    "# \n",
    "# police['driver_gender'].value_counts(normalize=True)\n",
    "# \n",
    "# Утверждения “Остановлено более 3 тыс. водителей в возрасте 20 лет” и “Остановлено менее 50 водителей-женщин в возрасте старше 80 лет” являются истинными. Чтобы проверить это используйте код: \n",
    "# \n",
    "# \n",
    "# df[df['driver_age']==20.].shape[0]\n",
    "# \n",
    "# df[(df['driver_gender']=='F') &\n",
    "# \n",
    "# df[(df['driver_gender']=='F') & (df['driver_age']>80.)].shape[0\n",
    "# \n",
    "# Однако, утверждать, что “Чаще всего останавливают мужчин в возрасте от 40 до 50 лет” и “Мужчин останавливают чаще, чем женщин” мы не можем, так как мы не знаем пропорции по водителям в генеральной совокупности.\n",
    "\n",
    "data.shape[1]"
   ],
   "id": "daec172ffab4d7e",
   "outputs": [
    {
     "name": "stdout",
     "output_type": "stream",
     "text": [
      "Statement 1: True\n",
      "Statement 2: False\n",
      "Statement 3: True\n",
      "Statement 4: True\n"
     ]
    },
    {
     "data": {
      "text/plain": [
       "15"
      ]
     },
     "execution_count": 40,
     "metadata": {},
     "output_type": "execute_result"
    }
   ],
   "execution_count": 40
  },
  {
   "metadata": {
    "ExecuteTime": {
     "end_time": "2024-05-07T13:28:51.166362Z",
     "start_time": "2024-05-07T13:28:51.160104Z"
    }
   },
   "cell_type": "code",
   "source": [
    "# начальный код\n",
    "\n",
    "import random\n",
    "import pandas as pd\n",
    "\n",
    "random.seed(10)\n",
    "\n",
    "list_metrics = []\n",
    "\n",
    "for i in range(0,300):\n",
    "  n = random.randint(-100,1000)\n",
    "  list_metrics.append(n)\n",
    "\n",
    "list_metrics = pd.DataFrame({'Прирост': list_metrics})\n",
    "list_metrics\n",
    "\n",
    "# далее будет код шаблона\n",
    "result1=round((list_metrics['Прирост'].std()),2)   # Need to use the \"['Прирост']\" to get just the value and not the whole datatype etc\n",
    "\n",
    "\n",
    "result2=round(list_metrics['Прирост'].max()-list_metrics['Прирост'].mean(),2)"
   ],
   "id": "75cb7f9257c5def7",
   "outputs": [
    {
     "data": {
      "text/plain": [
       "514.5433333333333"
      ]
     },
     "execution_count": 7,
     "metadata": {},
     "output_type": "execute_result"
    }
   ],
   "execution_count": 7
  },
  {
   "metadata": {
    "ExecuteTime": {
     "end_time": "2024-05-07T13:59:56.023331Z",
     "start_time": "2024-05-07T13:59:55.500383Z"
    }
   },
   "cell_type": "code",
   "source": [
    "from sklearn.datasets import load_iris\n",
    "\n",
    "iris = load_iris()\n",
    "\n",
    "# Convert the dataset to a Pandas DataFrame\n",
    "import pandas as pd\n",
    "\n",
    "iris_df = pd.DataFrame(iris.data, columns=iris.feature_names)\n",
    "iris_df['species'] = iris.target\n",
    "\n",
    "# Print the number of rows and columns in the DataFrame\n",
    "print(iris_df.shape)"
   ],
   "id": "cc8b499afa3440f4",
   "outputs": [
    {
     "name": "stdout",
     "output_type": "stream",
     "text": [
      "(150, 5)\n"
     ]
    }
   ],
   "execution_count": 21
  },
  {
   "metadata": {
    "ExecuteTime": {
     "end_time": "2024-05-07T14:25:39.809249Z",
     "start_time": "2024-05-07T14:25:39.792972Z"
    }
   },
   "cell_type": "code",
   "source": [
    "# Replace target values with target names\n",
    "iris_df.count()\n",
    "\n",
    "iris_df.describe()\n",
    "\n",
    "average_values = iris_df.mean()\n",
    "\n",
    "highest_average_column = average_values.idxmax()\n",
    "\n",
    "\n",
    "print(\"\\nAverage values:\\n\", average_values)\n",
    "\n",
    "print(\"\\nColumn with the highest average value:\", highest_average_column)\n",
    "\n",
    "# To find the number of null values\n",
    "\n",
    "iris_df.fillna(0, inplace=True)\n",
    "iris_df.drop_duplicates(inplace=True)\n",
    "num_samples=iris_df.shape[0]\n",
    "\n",
    "num_samples\n",
    "    \n",
    "    # Чтобы получить количество пустых значений (NaN), используйте функцию isna().\n",
    "    # Чтобы получить заменить пустые значения (NaN) на нули, используйте функцию fillna().\n",
    "    # Чтобы получить количество дублирующихся строк, используйте функцию duplicated().\n",
    "    # Чтобы удалить дублирующиеся строки, используйте функцию drop_duplicates().\n",
    "    \n",
    "\n",
    "\n",
    "    "
   ],
   "id": "11ecc4487d0fede4",
   "outputs": [
    {
     "name": "stdout",
     "output_type": "stream",
     "text": [
      "\n",
      "Average values:\n",
      " sepal length (cm)    5.843624\n",
      "sepal width (cm)     3.059732\n",
      "petal length (cm)    3.748993\n",
      "petal width (cm)     1.194631\n",
      "species              0.993289\n",
      "dtype: float64\n",
      "\n",
      "Column with the highest average value: sepal length (cm)\n"
     ]
    },
    {
     "data": {
      "text/plain": [
       "149"
      ]
     },
     "execution_count": 30,
     "metadata": {},
     "output_type": "execute_result"
    }
   ],
   "execution_count": 30
  },
  {
   "metadata": {
    "ExecuteTime": {
     "end_time": "2024-05-07T15:36:13.838380Z",
     "start_time": "2024-05-07T15:36:13.828408Z"
    }
   },
   "cell_type": "code",
   "source": [
    "import pandas as pd\n",
    "\n",
    "# Assume 'df' is the dataset\n",
    "\n",
    "# Calculate the new column and sort the table\n",
    "iris_df['new_column'] = iris_df[['sepal length (cm)', 'sepal width (cm)', 'petal length (cm)', 'petal width (cm)']].sum(axis=1) / iris_df['sepal length (cm)']\n",
    "iris_df.sort_values(by='new_column', inplace=True)\n",
    "\n",
    "# Get the value for the 102nd row\n",
    "value = iris_df.iloc[101]['new_column']  # Index 101 is used because Python uses 0-based indexing\n",
    "\n",
    "print(\"Value for the 102nd row:\", round(value, 3))"
   ],
   "id": "4b7ad0bdebff0e08",
   "outputs": [
    {
     "name": "stdout",
     "output_type": "stream",
     "text": [
      "Value for the 102nd row: 2.507\n"
     ]
    }
   ],
   "execution_count": 33
  },
  {
   "metadata": {},
   "cell_type": "markdown",
   "source": "Какие в ней данные? Как они распределены? Рассчитайте минимальные и максимальные значения переменных, медиану и тд - попробуйте с помощью отдельных функций min(), max() и тд., и используя функцию для describe() получения описательной статистики. Среднее значение какой колонки оказалось самым большим? Введите в поле ответов название этой колонки.",
   "id": "28e9f3beb2e1ee21"
  },
  {
   "metadata": {
    "ExecuteTime": {
     "end_time": "2024-05-05T14:03:14.867727Z",
     "start_time": "2024-05-05T14:03:14.865046Z"
    }
   },
   "cell_type": "code",
   "source": [
    "# Need to find what data, are there in the dataset\n",
    "\n",
    "print()  #need to load the data, use the statistic method,and then find the largest mean value\n",
    "\n"
   ],
   "id": "1aa18dad5f48e9fb",
   "outputs": [
    {
     "name": "stdout",
     "output_type": "stream",
     "text": [
      "Empty DataFrame\n",
      "Columns: []\n",
      "Index: []\n"
     ]
    }
   ],
   "execution_count": 73
  },
  {
   "metadata": {},
   "cell_type": "markdown",
   "source": "Строки датасета соответствуют образцам (цветкам Ириса). Первые 4 колонки являются признаками, которые описывают образцы длина чашелистика, ширина чашелистика, длина лепестка, ширина лепестка (в см). Последняя колонка называется target. В ней содержится информация о принадлежности цветка к определенному виду (Iris setosa, Iris virginica или Iris versicolor). Вы можете посмотреть атрибут target_names, чтобы узнать соответствие между значениями из колонки target и названиями видов. Замените значения в колонке target значениями, которые хранятся в атрибуте target_names. Сколько цветков каждого вида Ириса содержится в датасете? В поля ответов введите целочисленное значение.",
   "id": "b59d345512772bfb"
  },
  {
   "metadata": {
    "ExecuteTime": {
     "end_time": "2024-05-05T14:03:30.908252Z",
     "start_time": "2024-05-05T14:03:30.899231Z"
    }
   },
   "cell_type": "code",
   "source": [
    "# from sklearn.datasets import load_iris\n",
    "# \n",
    "# # Загрузка датасета Iris\n",
    "iris = load_iris()\n",
    "# \n",
    "# # Замена значений в колонке target на названия видов\n",
    "# target_names_mapping = {i: name for i, name in enumerate(iris.target_names)}\n",
    "# iris_target_names = [target_names_mapping[i] for i in iris.target]\n",
    "# \n",
    "# # Подсчет количества цветков каждого вида Ириса\n",
    "# iris_counts = {name: iris_target_names.count(name) for name in set(iris_target_names)}\n",
    "# \n",
    "# # Вывод результатов\n",
    "# for name, count in iris_counts.items():\n",
    "#     print(f\"Вид Ириса {name}: {count} цветков\")\n",
    "\n",
    "import pandas as pd \n",
    "from sklearn import datasets\n",
    " \n",
    "iris = datasets.load_iris()\n",
    " \n",
    "df = pd.DataFrame(\n",
    "    iris.data, \n",
    "    columns=iris.feature_names\n",
    "    )\n",
    " \n",
    "df['target'] = iris.target\n",
    " \n",
    "# Map targets to target names\n",
    "target_names = {\n",
    "    0:'setosa',\n",
    "    1:'versicolor', \n",
    "    2:'virginica'\n",
    "}\n",
    " \n",
    "df['target_names'] = df['target'].map(target_names)\n",
    "df.head()"
   ],
   "id": "288b198e7afa3fd1",
   "outputs": [
    {
     "data": {
      "text/plain": [
       "   sepal length (cm)  sepal width (cm)  petal length (cm)  petal width (cm)  \\\n",
       "0                5.1               3.5                1.4               0.2   \n",
       "1                4.9               3.0                1.4               0.2   \n",
       "2                4.7               3.2                1.3               0.2   \n",
       "3                4.6               3.1                1.5               0.2   \n",
       "4                5.0               3.6                1.4               0.2   \n",
       "\n",
       "   target target_names  \n",
       "0       0       setosa  \n",
       "1       0       setosa  \n",
       "2       0       setosa  \n",
       "3       0       setosa  \n",
       "4       0       setosa  "
      ],
      "text/html": [
       "<div>\n",
       "<style scoped>\n",
       "    .dataframe tbody tr th:only-of-type {\n",
       "        vertical-align: middle;\n",
       "    }\n",
       "\n",
       "    .dataframe tbody tr th {\n",
       "        vertical-align: top;\n",
       "    }\n",
       "\n",
       "    .dataframe thead th {\n",
       "        text-align: right;\n",
       "    }\n",
       "</style>\n",
       "<table border=\"1\" class=\"dataframe\">\n",
       "  <thead>\n",
       "    <tr style=\"text-align: right;\">\n",
       "      <th></th>\n",
       "      <th>sepal length (cm)</th>\n",
       "      <th>sepal width (cm)</th>\n",
       "      <th>petal length (cm)</th>\n",
       "      <th>petal width (cm)</th>\n",
       "      <th>target</th>\n",
       "      <th>target_names</th>\n",
       "    </tr>\n",
       "  </thead>\n",
       "  <tbody>\n",
       "    <tr>\n",
       "      <th>0</th>\n",
       "      <td>5.1</td>\n",
       "      <td>3.5</td>\n",
       "      <td>1.4</td>\n",
       "      <td>0.2</td>\n",
       "      <td>0</td>\n",
       "      <td>setosa</td>\n",
       "    </tr>\n",
       "    <tr>\n",
       "      <th>1</th>\n",
       "      <td>4.9</td>\n",
       "      <td>3.0</td>\n",
       "      <td>1.4</td>\n",
       "      <td>0.2</td>\n",
       "      <td>0</td>\n",
       "      <td>setosa</td>\n",
       "    </tr>\n",
       "    <tr>\n",
       "      <th>2</th>\n",
       "      <td>4.7</td>\n",
       "      <td>3.2</td>\n",
       "      <td>1.3</td>\n",
       "      <td>0.2</td>\n",
       "      <td>0</td>\n",
       "      <td>setosa</td>\n",
       "    </tr>\n",
       "    <tr>\n",
       "      <th>3</th>\n",
       "      <td>4.6</td>\n",
       "      <td>3.1</td>\n",
       "      <td>1.5</td>\n",
       "      <td>0.2</td>\n",
       "      <td>0</td>\n",
       "      <td>setosa</td>\n",
       "    </tr>\n",
       "    <tr>\n",
       "      <th>4</th>\n",
       "      <td>5.0</td>\n",
       "      <td>3.6</td>\n",
       "      <td>1.4</td>\n",
       "      <td>0.2</td>\n",
       "      <td>0</td>\n",
       "      <td>setosa</td>\n",
       "    </tr>\n",
       "  </tbody>\n",
       "</table>\n",
       "</div>"
      ]
     },
     "execution_count": 74,
     "metadata": {},
     "output_type": "execute_result"
    }
   ],
   "execution_count": 74
  },
  {
   "metadata": {
    "ExecuteTime": {
     "end_time": "2024-05-07T15:42:14.939526Z",
     "start_time": "2024-05-07T15:42:14.926720Z"
    }
   },
   "cell_type": "code",
   "source": [
    "import pandas as pd\n",
    "\n",
    "# Load the Iris dataset\n",
    "iris = load_iris()\n",
    "\n",
    "# Create a DataFrame from the dataset\n",
    "df = pd.DataFrame(iris.data, columns=iris.feature_names)\n",
    "df['species'] = pd.Categorical.from_codes(iris.target, iris.target_names)\n",
    "\n",
    "# Group by species and calculate the mean of sepal width\n",
    "grouped = df.groupby('species')['sepal length (cm)'].mean()\n",
    "\n",
    "# Print the result\n",
    "print(grouped)"
   ],
   "id": "bf493d8c757af665",
   "outputs": [
    {
     "name": "stdout",
     "output_type": "stream",
     "text": [
      "species\n",
      "setosa        5.006\n",
      "versicolor    5.936\n",
      "virginica     6.588\n",
      "Name: sepal length (cm), dtype: float64\n"
     ]
    },
    {
     "name": "stderr",
     "output_type": "stream",
     "text": [
      "/tmp/ipykernel_98962/4082454877.py:11: FutureWarning: The default of observed=False is deprecated and will be changed to True in a future version of pandas. Pass observed=False to retain current behavior or observed=True to adopt the future default and silence this warning.\n",
      "  grouped = df.groupby('species')['sepal length (cm)'].mean()\n"
     ]
    }
   ],
   "execution_count": 38
  }
 ],
 "metadata": {
  "kernelspec": {
   "display_name": "Python 3",
   "language": "python",
   "name": "python3"
  },
  "language_info": {
   "codemirror_mode": {
    "name": "ipython",
    "version": 2
   },
   "file_extension": ".py",
   "mimetype": "text/x-python",
   "name": "python",
   "nbconvert_exporter": "python",
   "pygments_lexer": "ipython2",
   "version": "2.7.6"
  }
 },
 "nbformat": 4,
 "nbformat_minor": 5
}
