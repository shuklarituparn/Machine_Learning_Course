{
 "cells": [
  {
   "metadata": {},
   "cell_type": "markdown",
   "source": [
    "Задание 1. Расчет статистических показателей подписчиков социальной сети\n",
    "\n",
    "Вам даны показатели прироста подписчиков за месяц в 300 аккаунтах социальной сети, которые сохранены в объект DataFrame с именем list_metrics:\n",
    "\n",
    "Выполните следующие задания применительно к исходным данным:\n",
    "\n",
    "    Рассчитайте стандартное отклонение прироста подписчиков. Результат округлите до второго знака после запятой и сохраните в переменную result1.\n",
    "    Рассчитайте размах прироста подписчиков. Результат округлите до второго знака после запятой и сохраните в переменную result2.\n",
    "\n",
    "\n",
    "Обратите внимание: в заданиях не требуется выполнять вывод полученных результатов на экран."
   ],
   "id": "863dd24efdd476bf"
  },
  {
   "metadata": {
    "ExecuteTime": {
     "end_time": "2024-05-07T15:46:25.271280Z",
     "start_time": "2024-05-07T15:46:24.727931Z"
    }
   },
   "cell_type": "code",
   "source": [
    "# начальный код\n",
    "\n",
    "import random\n",
    "import pandas as pd\n",
    "\n",
    "random.seed(10)\n",
    "\n",
    "list_metrics = []\n",
    "\n",
    "for i in range(0,300):\n",
    "  n = random.randint(-100,1000)\n",
    "  list_metrics.append(n)\n",
    "\n",
    "list_metrics = pd.DataFrame({'Прирост': list_metrics})\n",
    "\n",
    "# далее будет код шаблона\n",
    "result1=round((list_metrics['Прирост'].std()),2)\n",
    "\n",
    "\n",
    "result2=round(list_metrics['Прирост'].max()-list_metrics['Прирост'].mean(),2)"
   ],
   "id": "c9024188f888ee37",
   "outputs": [],
   "execution_count": 2
  },
  {
   "metadata": {},
   "cell_type": "code",
   "outputs": [],
   "execution_count": null,
   "source": "",
   "id": "94057dd6db82658c"
  },
  {
   "metadata": {},
   "cell_type": "markdown",
   "source": [
    "Задание 2.1 Исследование датасета\n",
    "\n",
    "В этом задании предлагаем вам поработать с датасетом Pandas practices , который содержит данные об автомобилях, остановленных полицией.\n",
    "\n",
    "Исследование датасета будет состоять из нескольких частей. Чтобы проверить, как вы справились с заданием, в некоторых заданиях мы будем просить вас записать получившийся результат, в других — попросим записать код.\n",
    "\n",
    "Рекомендуем вам скачать датасет , самостоятельно создать Python-ноутбук для его выполнения, а в LMS прикладывать лишь требуемые результаты.\n",
    "\n",
    "Итак, для начала предлагаем проверить набор данных на наличие пропусков.\n",
    "\n",
    "Определите название колонки, в которой больше всего пропусков, и запишите ее название в поле ответов."
   ],
   "id": "afcb23d5f15ca6ef"
  },
  {
   "metadata": {
    "ExecuteTime": {
     "end_time": "2024-05-07T15:46:27.281424Z",
     "start_time": "2024-05-07T15:46:27.044509Z"
    }
   },
   "cell_type": "code",
   "source": [
    "df = pd.read_csv('police.csv')\n",
    "\n",
    "missing_values = df.isnull().sum()\n",
    "\n",
    "column_with_most_missing_values = missing_values.idxmax()\n",
    "print(column_with_most_missing_values)"
   ],
   "id": "922a8ee8ec9281f4",
   "outputs": [
    {
     "name": "stdout",
     "output_type": "stream",
     "text": [
      "county_name\n"
     ]
    }
   ],
   "execution_count": 3
  },
  {
   "metadata": {},
   "cell_type": "markdown",
   "source": "",
   "id": "77dfce8b2d28eb25"
  },
  {
   "metadata": {},
   "cell_type": "markdown",
   "source": [
    "Задание 2.2 Исследование датасета (продолжение)\n",
    "\n",
    "Мы продолжаем работать с датасетом Pandas practices. В этом задании вам необходимо написать программу, которая удаляет столбец с наибольшим количеством пропусков. \n",
    "\n",
    "Подсказка: используйте результаты ранее выполненного задания, выводить на экран ничего не требуется.\n",
    "\n"
   ],
   "id": "f90ee9abec441227"
  },
  {
   "metadata": {},
   "cell_type": "code",
   "outputs": [],
   "execution_count": null,
   "source": [
    "police = pd.read_csv('police.csv', sep=',')\n",
    "police.drop(['county_name'], axis = 1 , inplace = True)"
   ],
   "id": "c2d9080c09bcf816"
  },
  {
   "metadata": {},
   "cell_type": "markdown",
   "source": "",
   "id": "99c94d1715c325ad"
  },
  {
   "metadata": {},
   "cell_type": "markdown",
   "source": [
    "Задание 2.3 Исследование датасета (продолжение)\n",
    "\n",
    "Мы продолжаем работать с датасетом Pandas practices . Исследуйте данные и ответьте на вопросы:\n",
    "\n",
    "\n",
    "1. Водителей какого пола в датасете больше?\n",
    "- Выберите один ответ:\n",
    "   - мужчин\n",
    "   - невозможно определить\n",
    "   - женщин\n"
   ],
   "id": "4b89754bd9dbac1a"
  },
  {
   "metadata": {},
   "cell_type": "code",
   "outputs": [],
   "execution_count": null,
   "source": [
    "import pandas as pd\n",
    "\n",
    "data=pd.read_csv(\"police.csv\", sep=\",\")   # sep is used for in case the data in the original table are seperated using a seperator, so we tell how to read the data\n",
    "data[\"driver_gender\"].value_counts()"
   ],
   "id": "c75d58c32823a8c9"
  },
  {
   "metadata": {},
   "cell_type": "markdown",
   "source": "",
   "id": "2bf545921867bc21"
  },
  {
   "metadata": {},
   "cell_type": "markdown",
   "source": [
    "2. Какие утверждения являются истинными? (вопрос с подвохом)\n",
    "   - Выберите один или несколько ответов:\n",
    "    - Чаще всего останавливают мужчин в возрасте от 40 до 50 лет\n",
    "   - Мужчин останавливают чаще, чем женщин\n",
    "    - Остановлено менее 50 водителей-женщин в возрасте старше 80 лет\n",
    "    - Остановлено более 3 тыс. водителей в возрасте 20 лет"
   ],
   "id": "81a34fc382c28b9d"
  },
  {
   "metadata": {
    "ExecuteTime": {
     "end_time": "2024-05-07T15:48:02.862598Z",
     "start_time": "2024-05-07T15:48:02.612404Z"
    }
   },
   "cell_type": "code",
   "source": [
    "# NEED TO GET THE NUMBER OF TIMES POLICE STOP PEOPLE\n",
    "\n",
    "\n",
    "# Load the dataset\n",
    "df = pd.read_csv('police.csv')\n",
    "\n",
    "\n",
    "# Statement 2: Чаще всего останавливают мужчин в возрасте от 40 до 50 лет\n",
    "stops_by_age = df[df['driver_gender'] == 'M']['driver_age'].value_counts()\n",
    "print(\"Statement 2:\", stops_by_age.index[0] >= 40 and stops_by_age.index[0] <= 50)\n",
    "\n",
    "# Statement 3: Остановлено более 3 тыс. водителей в возрасте 20 лет\n",
    "stops_at_20 = df[df['driver_age'] == 20].shape[0]  #returns the first shape, if the matrix is 2*3 then shape[0] is 2\n",
    "print(\"Statement 3:\", stops_at_20 > 3000)\n",
    "\n",
    "# Statement 4: Остановлено менее 50 водителей-женщин в возрасте старше 80 лет\n",
    "stops_female_over_80 = df[(df['driver_gender'] == 'F') & (df['driver_age'] > 80)].shape[0]\n",
    "print(\"Statement 4:\", stops_female_over_80 < 50)\n",
    "\n",
    "# Спасибо за ваше решение! Вы получили нужный результат!\n",
    "# \n",
    "# Чтобы получить ответ на вопрос, водителей какого пола в датасете больше, используйте код:\n",
    "# \n",
    "# police['driver_gender'].value_counts(normalize=True)\n",
    "# \n",
    "# Утверждения “Остановлено более 3 тыс. водителей в возрасте 20 лет” и “Остановлено менее 50 водителей-женщин в возрасте старше 80 лет” являются истинными. Чтобы проверить это используйте код: \n",
    "# \n",
    "# \n",
    "# df[df['driver_age']==20.].shape[0]\n",
    "# \n",
    "# df[(df['driver_gender']=='F') &\n",
    "# \n",
    "# df[(df['driver_gender']=='F') & (df['driver_age']>80.)].shape[0\n",
    "# \n",
    "\n",
    "\n"
   ],
   "id": "ea514e0e5dd705",
   "outputs": [
    {
     "name": "stdout",
     "output_type": "stream",
     "text": [
      "Statement 1: True\n",
      "Statement 2: False\n",
      "Statement 3: True\n",
      "Statement 4: True\n"
     ]
    }
   ],
   "execution_count": 5
  },
  {
   "metadata": {},
   "cell_type": "markdown",
   "source": " Однако, утверждать, что “Чаще всего останавливают мужчин в возрасте от 40 до 50 лет” и “Мужчин останавливают чаще, чем женщин” мы не можем, так как мы не знаем пропорции по водителям в генеральной совокупности.",
   "id": "a04c791fecad318a"
  },
  {
   "metadata": {},
   "cell_type": "markdown",
   "source": [
    "Задание 3. Исследование произвольных данных\n",
    "\n",
    "Что нужно сделать:\n",
    "\n",
    "    Создайте Python-ноутбук, загрузите в него данные о цветках Ириса (используйте для этого функцию load_iris() из sklearn.datasets) и преобразуйте в объект DataFrame для дальнейшего изучения.\n",
    "\n",
    "Вопрос 1.\tСколько строк и колонок в таблице? \n",
    "- В поле ответов введите два числа через запятую без пробела (например: 10,10)"
   ],
   "id": "b09f88852781983a"
  },
  {
   "metadata": {
    "ExecuteTime": {
     "end_time": "2024-05-07T15:53:23.654919Z",
     "start_time": "2024-05-07T15:53:23.647106Z"
    }
   },
   "cell_type": "code",
   "source": [
    "from sklearn.datasets import load_iris\n",
    "\n",
    "iris = load_iris()\n",
    "\n",
    "# Convert the dataset to a Pandas DataFrame\n",
    "import pandas as pd\n",
    "\n",
    "iris_df = pd.DataFrame(iris.data, columns=iris.feature_names)\n",
    "iris_df['species'] = iris.target\n",
    "\n",
    "# Print the number of rows and columns in the DataFrame\n",
    "print(iris_df.shape)\n",
    "\n",
    "\n",
    "    # \n",
    "    # Чтобы начать работу с датасетом, используйте функцию load_iris() в Python-ноутбук. Для этого используйте библиотеку sklearn.\n",
    "    # Для того, чтобы получить объект DataFrame, вы можете использовать параметр as_frame при вызове функции load_iris(). Тогда в атрибуте frame будет храниться датасет в виде DataFrame.\n"
   ],
   "id": "264dcbcad51a9356",
   "outputs": [
    {
     "name": "stdout",
     "output_type": "stream",
     "text": [
      "(150, 5)\n"
     ]
    }
   ],
   "execution_count": 13
  },
  {
   "metadata": {},
   "cell_type": "markdown",
   "source": "Вопрос 2.  Какие в ней данные? Как они распределены? Рассчитайте минимальные и максимальные значения переменных, медиану и тд - попробуйте с помощью отдельных функций min(), max() и тд., и используя функцию для describe() получения описательной статистики. Среднее значение какой колонки оказалось самым большим? Введите в поле ответов название этой колонки.",
   "id": "32c866d0d3bb04cf"
  },
  {
   "metadata": {
    "ExecuteTime": {
     "end_time": "2024-05-07T15:53:12.386259Z",
     "start_time": "2024-05-07T15:53:12.368131Z"
    }
   },
   "cell_type": "code",
   "source": [
    "# Replace target values with target names\n",
    "# iris_df.count()\n",
    "# \n",
    "# iris_df.describe()\n",
    "# \n",
    "# average_values = iris_df.mean()\n",
    "# \n",
    "# highest_average_column = average_values.idxmax()\n",
    "# \n",
    "# \n",
    "# print(\"\\nAverage values:\\n\", average_values)\n",
    "# \n",
    "# print(\"\\nColumn with the highest average value:\", highest_average_column)\n",
    "\n",
    "# To find the number of null values\n",
    "# \n",
    "# iris_df.fillna(0, inplace=True)\n",
    "# iris_df.drop_duplicates(inplace=True)\n",
    "# num_samples=iris_df.shape[0]\n",
    "\n",
    "# num_samples\n",
    "    \n",
    "    # Чтобы получить количество пустых значений (NaN), используйте функцию isna().\n",
    "    # Чтобы получить заменить пустые значения (NaN) на нули, используйте функцию fillna().\n",
    "    # Чтобы получить количество дублирующихся строк, используйте функцию duplicated().\n",
    "    # Чтобы удалить дублирующиеся строки, используйте функцию drop_duplicates()."
   ],
   "id": "45bdf9581e88ddae",
   "outputs": [
    {
     "name": "stdout",
     "output_type": "stream",
     "text": [
      "\n",
      "Average values:\n",
      " sepal length (cm)    5.843624\n",
      "sepal width (cm)     3.059732\n",
      "petal length (cm)    3.748993\n",
      "petal width (cm)     1.194631\n",
      "species              0.993289\n",
      "dtype: float64\n",
      "\n",
      "Column with the highest average value: sepal length (cm)\n"
     ]
    }
   ],
   "execution_count": 11
  },
  {
   "metadata": {},
   "cell_type": "markdown",
   "source": [
    "Вопрос 3.\tСтроки датасета соответствуют образцам (цветкам Ириса). Первые 4 колонки являются признаками, которые описывают образцы длина чашелистика, ширина чашелистика, длина лепестка, ширина лепестка (в см). Последняя колонка называется target. В ней содержится информация о принадлежности цветка к определенному виду (Iris setosa, Iris virginica или Iris versicolor). Вы можете посмотреть атрибут target_names, чтобы узнать соответствие между значениями из колонки target и названиями видов. Замените значения в колонке target значениями, которые хранятся в атрибуте target_names. Сколько цветков каждого вида Ириса содержится в датасете? В поля ответов введите целочисленное значение.\n",
    "\n",
    "- setosa    \t  Ответ\n",
    "\n",
    "- versicolor\t Ответ\n",
    "\n",
    "- virginica \t Ответ\n"
   ],
   "id": "179997bc00e1f08f"
  },
  {
   "metadata": {
    "ExecuteTime": {
     "end_time": "2024-05-07T15:53:53.414432Z",
     "start_time": "2024-05-07T15:53:53.409242Z"
    }
   },
   "cell_type": "code",
   "source": "iris_df.count()  ",
   "id": "ad57e799bf5b2c60",
   "outputs": [
    {
     "data": {
      "text/plain": [
       "sepal length (cm)    150\n",
       "sepal width (cm)     150\n",
       "petal length (cm)    150\n",
       "petal width (cm)     150\n",
       "species              150\n",
       "dtype: int64"
      ]
     },
     "execution_count": 16,
     "metadata": {},
     "output_type": "execute_result"
    }
   ],
   "execution_count": 16
  },
  {
   "metadata": {},
   "cell_type": "markdown",
   "source": [
    "Вопрос 4.  Проверьте, есть ли пустые значения в таблице (NaN), если есть - замените их на нули. Проверьте, есть ли дублирующиеся строки - если да, то удалите дубликаты. Сколько осталось образцов в датасете? В поле ответов введите целочисленное значение.\n",
    "Ответ:\n"
   ],
   "id": "118e5ec1998b239c"
  },
  {
   "metadata": {},
   "cell_type": "code",
   "outputs": [],
   "execution_count": null,
   "source": [
    "iris_df.fillna(0, inplace=True)\n",
    "iris_df.drop_duplicates(inplace=True)\n",
    "num_samples=iris_df.shape[0]\n",
    "\n",
    "num_samples"
   ],
   "id": "b361f51c0ab21aa5"
  },
  {
   "metadata": {},
   "cell_type": "markdown",
   "source": "Вопрос 5.\tСоздайте новую колонку, в которой будет сумма числовых значений для каждого образца, деленная на значение первого признака (sepal length (cm)). Отсортируйте таблицу по возрастанию новой колонки. В поле ответов введите число из новой колонки, полученное для 102 строки датасета (номер строки указан порядковый) и округлены до 3-го знака после запятой. В качестве разделителя дробной и целой части используйте символ точки «.».",
   "id": "4e002d1d11f20b5"
  },
  {
   "metadata": {},
   "cell_type": "code",
   "outputs": [],
   "execution_count": null,
   "source": [
    "import pandas as pd\n",
    "\n",
    "\n",
    "\n",
    "# Calculate the new column and sort the table\n",
    "iris_df['new_column'] = iris_df[['sepal length (cm)', 'sepal width (cm)', 'petal length (cm)', 'petal width (cm)']].sum(axis=1) / iris_df['sepal length (cm)']\n",
    "iris_df.sort_values(by='new_column', inplace=True)\n",
    "\n",
    "# Get the value for the 102nd row\n",
    "value = iris_df.iloc[101]['new_column']  # Index 101 is used because Python uses 0-based indexing\n",
    "\n",
    "print(\"Value for the 102nd row:\", round(value, 3))\n",
    "\n",
    "    # \n",
    "    # Чтобы рассчитать сумму числовых значений для каждого образца, используйте функцию sum(). Обратите внимание на параметры axis и numeric_only.\n",
    "    # Чтобы отсортировать таблицу по возрастанию новой колонки, используйте функцию sort_values().\n",
    "    # Чтобы получить строку по ее порядковому номеру, используйте функцию iloc."
   ],
   "id": "eeaf17905a5b3516"
  },
  {
   "metadata": {},
   "cell_type": "markdown",
   "source": "",
   "id": "6dd78a51c306fc16"
  },
  {
   "metadata": {},
   "cell_type": "markdown",
   "source": "Вопрос 6.\tСгруппируйте по виду Ириса и рассчитайте среднее для признака sepal width (cm). В поле ответов введите название вида Ириса с наименьшим средним значением для признака sepal width (cm). Название вида должно соответствовать названиям из атрибута target_names.",
   "id": "693a88350d41c788"
  },
  {
   "metadata": {},
   "cell_type": "code",
   "outputs": [],
   "execution_count": null,
   "source": "setosa  ##this is wrong",
   "id": "e47c5a9cb61d270c"
  }
 ],
 "metadata": {
  "kernelspec": {
   "display_name": "Python 3",
   "language": "python",
   "name": "python3"
  },
  "language_info": {
   "codemirror_mode": {
    "name": "ipython",
    "version": 2
   },
   "file_extension": ".py",
   "mimetype": "text/x-python",
   "name": "python",
   "nbconvert_exporter": "python",
   "pygments_lexer": "ipython2",
   "version": "2.7.6"
  }
 },
 "nbformat": 4,
 "nbformat_minor": 5
}
