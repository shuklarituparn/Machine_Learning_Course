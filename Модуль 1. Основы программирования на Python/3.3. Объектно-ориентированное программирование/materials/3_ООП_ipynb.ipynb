{
  "nbformat": 4,
  "nbformat_minor": 0,
  "metadata": {
    "colab": {
      "provenance": [],
      "toc_visible": true,
      "collapsed_sections": [
        "UtqFhrPuKKxe",
        "yQIGSs4afyXs"
      ]
    },
    "kernelspec": {
      "name": "python3",
      "display_name": "Python 3"
    },
    "language_info": {
      "name": "python"
    }
  },
  "cells": [
    {
      "cell_type": "markdown",
      "source": [
        "## ООП Python\n",
        "\n",
        "\n",
        "Объектно-ориентированного программирования:\n",
        "\n",
        "* Наследование\n",
        "* Инкапсуляция\n",
        "* Полиморфизм\n",
        "\n",
        "\n",
        "\n",
        "ООП, объектно-ориентированное программирование — это речь об объектах. Однако, перед тем как создать объект, нам нужно определить его класс.\n",
        "\n"
      ],
      "metadata": {
        "id": "-PKTJl0N7pNU"
      }
    },
    {
      "cell_type": "markdown",
      "source": [
        "### Класс"
      ],
      "metadata": {
        "id": "xSCgIDb68XL_"
      }
    },
    {
      "cell_type": "markdown",
      "source": [
        "\n",
        "\n",
        "Класс в объектно-ориентированном программировании выступает в роли чертежа для объекта. Класс можно рассматривать как схему.\n",
        "\n",
        "    \n",
        "Отношение между классом и объектом можно представить более наглядно, взглянув на отношение между машиной и Kia. Kia – это машина. Однако, нет такой вещи, как просто машина. Машина — это абстрактная концепция, которую также реализуют в Toyota, Honda, Ferrari, и других компаниях.\n",
        "\n"
      ],
      "metadata": {
        "id": "PCMqikR47uHh"
      }
    },
    {
      "cell_type": "code",
      "source": [
        "class Car:\n",
        "    make = \"Daewoo\"\n",
        "    model = \"Matiz\"\n",
        "    year = 2013\n",
        "\n",
        "    def start(self):\n",
        "        return \"Заводим двигатель\"\n",
        "\n",
        "    def stop(self):\n",
        "        return \"Глушим двигатель\""
      ],
      "metadata": {
        "id": "Kl3MTqgF8wBj"
      },
      "execution_count": null,
      "outputs": []
    },
    {
      "cell_type": "markdown",
      "source": [
        "### Объект"
      ],
      "metadata": {
        "id": "WRN-35MP9WPP"
      }
    },
    {
      "cell_type": "markdown",
      "source": [
        "Объект также называется экземпляром\n",
        "\n"
      ],
      "metadata": {
        "id": "_yh0p2iy9gDT"
      }
    },
    {
      "cell_type": "code",
      "source": [
        "car_a = Car()\n",
        "\n",
        "car_b = Car()"
      ],
      "metadata": {
        "id": "I67IO-_S9eZF"
      },
      "execution_count": null,
      "outputs": []
    },
    {
      "cell_type": "code",
      "source": [
        "print(type(2))"
      ],
      "metadata": {
        "colab": {
          "base_uri": "https://localhost:8080/"
        },
        "id": "sXbb6DNBJIrZ",
        "outputId": "d34fa5b2-e375-44e1-da41-a2bc34cb5081"
      },
      "execution_count": null,
      "outputs": [
        {
          "output_type": "stream",
          "name": "stdout",
          "text": [
            "<class 'int'>\n"
          ]
        }
      ]
    },
    {
      "cell_type": "code",
      "source": [
        "print(type(car_b))"
      ],
      "metadata": {
        "colab": {
          "base_uri": "https://localhost:8080/"
        },
        "id": "UgMwOKSc9m1q",
        "outputId": "93dd5181-916e-485e-b307-c566365e9c41"
      },
      "execution_count": null,
      "outputs": [
        {
          "output_type": "stream",
          "name": "stdout",
          "text": [
            "<class '__main__.Car'>\n"
          ]
        }
      ]
    },
    {
      "cell_type": "markdown",
      "source": [
        "Вызываем метод объекта."
      ],
      "metadata": {
        "id": "I_tpHg5z9uIq"
      }
    },
    {
      "cell_type": "code",
      "source": [
        "car_b.start()"
      ],
      "metadata": {
        "colab": {
          "base_uri": "https://localhost:8080/",
          "height": 36
        },
        "id": "aqmK1mWx9tO9",
        "outputId": "aba21c9c-980d-4dd5-d5b3-dad531675106"
      },
      "execution_count": null,
      "outputs": [
        {
          "output_type": "execute_result",
          "data": {
            "text/plain": [
              "'Заводим двигатель'"
            ],
            "application/vnd.google.colaboratory.intrinsic+json": {
              "type": "string"
            }
          },
          "metadata": {},
          "execution_count": 6
        }
      ]
    },
    {
      "cell_type": "markdown",
      "source": [
        "Получим доступ к атрибутам класса"
      ],
      "metadata": {
        "id": "fiiWq-a895gj"
      }
    },
    {
      "cell_type": "code",
      "source": [
        "car_b.make"
      ],
      "metadata": {
        "colab": {
          "base_uri": "https://localhost:8080/",
          "height": 36
        },
        "id": "LasZstOfJeyd",
        "outputId": "1ecec100-d64c-4442-d77e-1c8da9ed76ec"
      },
      "execution_count": null,
      "outputs": [
        {
          "output_type": "execute_result",
          "data": {
            "text/plain": [
              "'Daewoo'"
            ],
            "application/vnd.google.colaboratory.intrinsic+json": {
              "type": "string"
            }
          },
          "metadata": {},
          "execution_count": 7
        }
      ]
    },
    {
      "cell_type": "code",
      "source": [
        "car_b.year"
      ],
      "metadata": {
        "colab": {
          "base_uri": "https://localhost:8080/"
        },
        "id": "fQ2rsSLQJWQf",
        "outputId": "8fb46bc0-8fb5-4338-ba24-aacba7ddcbdf"
      },
      "execution_count": null,
      "outputs": [
        {
          "output_type": "execute_result",
          "data": {
            "text/plain": [
              "2013"
            ]
          },
          "metadata": {},
          "execution_count": 8
        }
      ]
    },
    {
      "cell_type": "code",
      "source": [
        "car_b.model"
      ],
      "metadata": {
        "colab": {
          "base_uri": "https://localhost:8080/",
          "height": 36
        },
        "id": "0oNoZI3797c_",
        "outputId": "f8b863b1-41ce-4109-ff70-82bd394bcc56"
      },
      "execution_count": null,
      "outputs": [
        {
          "output_type": "execute_result",
          "data": {
            "text/plain": [
              "'Matiz'"
            ],
            "application/vnd.google.colaboratory.intrinsic+json": {
              "type": "string"
            }
          },
          "metadata": {},
          "execution_count": 9
        }
      ]
    },
    {
      "cell_type": "markdown",
      "source": [
        "### Атрибуты класса"
      ],
      "metadata": {
        "id": "5DCYzr1u-R-W"
      }
    },
    {
      "cell_type": "markdown",
      "source": [
        "В Python, каждый объект содержит определенные атрибуты по умолчанию и методы в дополнение к определенным пользователем атрибутами. Чтобы посмотреть на все атрибуты и методы объекта, используйте встроенную функцию под названием dir().\n",
        "\n"
      ],
      "metadata": {
        "id": "ZAWDqQjX9Cnw"
      }
    },
    {
      "cell_type": "code",
      "source": [
        "dir(car_b)"
      ],
      "metadata": {
        "colab": {
          "base_uri": "https://localhost:8080/"
        },
        "id": "NSVR6fIt-aQp",
        "outputId": "625f522b-7567-46aa-bc16-1595dd313953"
      },
      "execution_count": null,
      "outputs": [
        {
          "output_type": "execute_result",
          "data": {
            "text/plain": [
              "['__class__',\n",
              " '__delattr__',\n",
              " '__dict__',\n",
              " '__dir__',\n",
              " '__doc__',\n",
              " '__eq__',\n",
              " '__format__',\n",
              " '__ge__',\n",
              " '__getattribute__',\n",
              " '__gt__',\n",
              " '__hash__',\n",
              " '__init__',\n",
              " '__init_subclass__',\n",
              " '__le__',\n",
              " '__lt__',\n",
              " '__module__',\n",
              " '__ne__',\n",
              " '__new__',\n",
              " '__reduce__',\n",
              " '__reduce_ex__',\n",
              " '__repr__',\n",
              " '__setattr__',\n",
              " '__sizeof__',\n",
              " '__str__',\n",
              " '__subclasshook__',\n",
              " '__weakref__',\n",
              " 'make',\n",
              " 'model',\n",
              " 'start',\n",
              " 'stop',\n",
              " 'year']"
            ]
          },
          "metadata": {},
          "execution_count": 10
        }
      ]
    },
    {
      "cell_type": "markdown",
      "source": [
        "#### Атрибуты класса и атрибуты экземпляров\n"
      ],
      "metadata": {
        "id": "lHKPBck_-jER"
      }
    },
    {
      "cell_type": "code",
      "source": [
        "class Car:\n",
        "    # создаем атрибуты класса\n",
        "    car_count = 0\n",
        "\n",
        "    # создаем методы класса\n",
        "    def start(self, make, model, year):\n",
        "        print(\"Двигатель заведен\")\n",
        "        self.make = make\n",
        "        self.model = model\n",
        "        self.year = year\n",
        "        Car.car_count += 1"
      ],
      "metadata": {
        "id": "TaB7lLgl-u3U"
      },
      "execution_count": null,
      "outputs": []
    },
    {
      "cell_type": "markdown",
      "source": [
        "Внутри метода атрибуты экземпляра ссылаются при помощи ключевого слова self, в то время как атрибуты класса ссылаются при помощи названия класса.\n"
      ],
      "metadata": {
        "id": "SsRZbdlQ_MsO"
      }
    },
    {
      "cell_type": "code",
      "source": [
        "car_a = Car()\n",
        "car_a.car_count"
      ],
      "metadata": {
        "colab": {
          "base_uri": "https://localhost:8080/"
        },
        "id": "OGmJtnPjKAqp",
        "outputId": "9ee4064e-3140-45b5-a688-883c665086b6"
      },
      "execution_count": null,
      "outputs": [
        {
          "output_type": "execute_result",
          "data": {
            "text/plain": [
              "0"
            ]
          },
          "metadata": {},
          "execution_count": 12
        }
      ]
    },
    {
      "cell_type": "code",
      "source": [
        "car_a.start(\"Toyota\", \"Corrola\", 2015)\n",
        "print(car_a.model)\n",
        "print(car_a.car_count)"
      ],
      "metadata": {
        "colab": {
          "base_uri": "https://localhost:8080/"
        },
        "id": "5mbxbMAY_H6q",
        "outputId": "fb4e171c-b204-4b0b-a069-1c46dd2628d1"
      },
      "execution_count": null,
      "outputs": [
        {
          "output_type": "stream",
          "name": "stdout",
          "text": [
            "Двигатель заведен\n",
            "Corrola\n",
            "1\n"
          ]
        }
      ]
    },
    {
      "cell_type": "markdown",
      "source": [
        "\n",
        "Теперь создадим еще один объект класса Car и вызываем метод start().\n"
      ],
      "metadata": {
        "id": "9PrDxAY4_S0Q"
      }
    },
    {
      "cell_type": "code",
      "source": [
        "car_b = Car()\n",
        "car_b.start(\"Lada\", \"Vesta\", 2022)\n",
        "print(car_b.model)\n",
        "print(car_b.car_count)"
      ],
      "metadata": {
        "colab": {
          "base_uri": "https://localhost:8080/"
        },
        "id": "74wt5HOn_Rx_",
        "outputId": "f86c5c32-d30c-4a55-f26b-2a4e8232ed49"
      },
      "execution_count": null,
      "outputs": [
        {
          "output_type": "stream",
          "name": "stdout",
          "text": [
            "Двигатель заведен\n",
            "Vesta\n",
            "2\n"
          ]
        }
      ]
    },
    {
      "cell_type": "code",
      "source": [
        "print(car_a.car_count)"
      ],
      "metadata": {
        "colab": {
          "base_uri": "https://localhost:8080/"
        },
        "id": "0tPu35V1_YRf",
        "outputId": "7d7ae3dc-6c8b-465f-ac24-fab0d26dcc68"
      },
      "execution_count": null,
      "outputs": [
        {
          "output_type": "stream",
          "name": "stdout",
          "text": [
            "2\n"
          ]
        }
      ]
    },
    {
      "cell_type": "markdown",
      "source": [
        "### Конструктор"
      ],
      "metadata": {
        "id": "OX2a1waFAJL7"
      }
    },
    {
      "cell_type": "markdown",
      "source": [
        "\n",
        "\n",
        "Конструктор — это специальный метод, который вызывается по умолчанию когда вы создаете объект класса.\n",
        "\n",
        "Для создания конструктора вам нужно создать метод с ключевым словом __init__.\n"
      ],
      "metadata": {
        "id": "kZTK4Zm2AKkl"
      }
    },
    {
      "cell_type": "code",
      "source": [
        "class Car:\n",
        "\n",
        "    # создание атрибутов класса\n",
        "    car_count = 0\n",
        "\n",
        "    # создание методов класса\n",
        "    def __init__(self, make, model, year):\n",
        "        self.make = make\n",
        "        self.model = model\n",
        "        self.year = year\n",
        "        Car.car_count += 1\n",
        "        print(Car.car_count)"
      ],
      "metadata": {
        "id": "ifBF0rvXAM0p"
      },
      "execution_count": null,
      "outputs": []
    },
    {
      "cell_type": "code",
      "source": [
        "car_a = Car('daewoo', 'matiz', 2013)\n",
        "car_a"
      ],
      "metadata": {
        "colab": {
          "base_uri": "https://localhost:8080/"
        },
        "id": "4z1g0saEAffg",
        "outputId": "383cf14a-54b0-4738-887e-d1596b33c9a6"
      },
      "execution_count": null,
      "outputs": [
        {
          "output_type": "stream",
          "name": "stdout",
          "text": [
            "1\n"
          ]
        },
        {
          "output_type": "execute_result",
          "data": {
            "text/plain": [
              "<__main__.Car at 0x7d24f9ba50f0>"
            ]
          },
          "metadata": {},
          "execution_count": 17
        }
      ]
    },
    {
      "cell_type": "code",
      "source": [
        "car_a.make, car_a.model, car_a.year, car_a.car_count"
      ],
      "metadata": {
        "colab": {
          "base_uri": "https://localhost:8080/"
        },
        "id": "KKYGA7-MLGNR",
        "outputId": "5fe8d2db-0a6f-4b5c-eaee-6920d71f22f7"
      },
      "execution_count": null,
      "outputs": [
        {
          "output_type": "execute_result",
          "data": {
            "text/plain": [
              "('daewoo', 'matiz', 2013, 1)"
            ]
          },
          "metadata": {},
          "execution_count": 18
        }
      ]
    },
    {
      "cell_type": "code",
      "source": [
        "car_b = Car(\"Toyota\", \"Corrola\", 2015)\n",
        "car_b"
      ],
      "metadata": {
        "colab": {
          "base_uri": "https://localhost:8080/"
        },
        "id": "dtC_kuGSAlc8",
        "outputId": "5b2ef88e-1595-4d69-9d29-2d7b4b70f73d"
      },
      "execution_count": null,
      "outputs": [
        {
          "output_type": "stream",
          "name": "stdout",
          "text": [
            "2\n"
          ]
        },
        {
          "output_type": "execute_result",
          "data": {
            "text/plain": [
              "<__main__.Car at 0x7d24f9ba4790>"
            ]
          },
          "metadata": {},
          "execution_count": 19
        }
      ]
    },
    {
      "cell_type": "code",
      "source": [
        "car_b.make, car_b.model, car_b.year, car_b.car_count"
      ],
      "metadata": {
        "colab": {
          "base_uri": "https://localhost:8080/"
        },
        "id": "O2LhvGt8LQd5",
        "outputId": "f0c0915b-c6c9-4d33-9bd5-e93f46ce0a04"
      },
      "execution_count": null,
      "outputs": [
        {
          "output_type": "execute_result",
          "data": {
            "text/plain": [
              "('Toyota', 'Corrola', 2015, 2)"
            ]
          },
          "metadata": {},
          "execution_count": 20
        }
      ]
    },
    {
      "cell_type": "markdown",
      "source": [
        "### Методы"
      ],
      "metadata": {
        "id": "m1ODtEhA_fg4"
      }
    },
    {
      "cell_type": "code",
      "source": [
        "# создание класса Car\n",
        "class Car:\n",
        "    # создание методов класса\n",
        "    def __init__(self, make, model, year):\n",
        "        self.make = make\n",
        "        self.model = model\n",
        "        self.year = year\n",
        "\n",
        "    # создание методов класса\n",
        "    def __str__(self):\n",
        "        return f\"{self.make} {self.model} {self.year}\"\n",
        "\n",
        "    def start(self):\n",
        "        print(f\"Двигатель {self.model} заведен\")\n",
        "\n",
        "car_a = Car('Kia', 'Ria', 2011)\n",
        "print(car_a)"
      ],
      "metadata": {
        "colab": {
          "base_uri": "https://localhost:8080/"
        },
        "id": "vJcb1XTU_-01",
        "outputId": "6742147e-aac5-45e9-c2f9-a8309ff5bc60"
      },
      "execution_count": null,
      "outputs": [
        {
          "output_type": "stream",
          "name": "stdout",
          "text": [
            "Kia Ria 2011\n"
          ]
        }
      ]
    },
    {
      "cell_type": "markdown",
      "metadata": {
        "id": "7-l-VFLxEVt4"
      },
      "source": [
        "### 🧠 Упражнение. Создайте класс сотрудника Employee.\n",
        "\n",
        "При инициализации класса задается имя сотрудника name и его текущая зарплата salary. Напишите следующие методы:\n",
        "1. Метод `up`, который увеличивает зарплату сотрудника на 100\n",
        "2. Метод `__str__`, который выводит на экран текущую зарплату сотрудника в формате \"Сотрудник Иван, зарплата 100\""
      ]
    },
    {
      "cell_type": "code",
      "source": [
        "class Employee:\n",
        "    pass"
      ],
      "metadata": {
        "id": "lZKQ1pMtKNOt"
      },
      "execution_count": null,
      "outputs": []
    },
    {
      "cell_type": "markdown",
      "source": [
        "#### Примеры использования"
      ],
      "metadata": {
        "id": "WpYZuVmheQ3_"
      }
    },
    {
      "cell_type": "code",
      "source": [
        "id1 = Employee('Vasya', 10000)"
      ],
      "metadata": {
        "id": "4KcrkjP0EZ-9"
      },
      "execution_count": null,
      "outputs": []
    },
    {
      "cell_type": "code",
      "source": [
        "print(id1)"
      ],
      "metadata": {
        "colab": {
          "base_uri": "https://localhost:8080/"
        },
        "id": "RLnDD_BEEewG",
        "outputId": "364f1fce-97de-44e3-f7e0-d68609e6721a"
      },
      "execution_count": null,
      "outputs": [
        {
          "output_type": "stream",
          "name": "stdout",
          "text": [
            "Сотрудник Vasya, зарплата 10000\n"
          ]
        }
      ]
    },
    {
      "cell_type": "code",
      "source": [
        "id1.up()\n",
        "print(id1)"
      ],
      "metadata": {
        "colab": {
          "base_uri": "https://localhost:8080/"
        },
        "id": "YMiMn4f6EjHM",
        "outputId": "eeeb4ace-a691-40ce-de11-154cb997da19"
      },
      "execution_count": null,
      "outputs": [
        {
          "output_type": "stream",
          "name": "stdout",
          "text": [
            "Сотрудник Vasya, зарплата 10100\n"
          ]
        }
      ]
    },
    {
      "cell_type": "code",
      "execution_count": null,
      "metadata": {
        "id": "NlGbsYTyEVt5"
      },
      "outputs": [],
      "source": [
        "elena = Employee(name='Елена', salary=300)"
      ]
    },
    {
      "cell_type": "code",
      "execution_count": null,
      "metadata": {
        "id": "rypafuJnEVt6",
        "outputId": "8a6071fa-7ee4-4947-9690-7ee5d8994e09",
        "colab": {
          "base_uri": "https://localhost:8080/"
        }
      },
      "outputs": [
        {
          "output_type": "stream",
          "name": "stdout",
          "text": [
            "Сотрудник Елена, зарплата 400\n"
          ]
        }
      ],
      "source": [
        "elena.up()\n",
        "print(elena)"
      ]
    },
    {
      "cell_type": "markdown",
      "source": [
        "#### 🧠 Упражнение: ответ"
      ],
      "metadata": {
        "id": "UtqFhrPuKKxe"
      }
    },
    {
      "cell_type": "code",
      "execution_count": null,
      "metadata": {
        "id": "66_SrxHcEVt4"
      },
      "outputs": [],
      "source": [
        "class Employee:\n",
        "    def __init__(self, name, salary):\n",
        "        self.name = name\n",
        "        self.salary = salary\n",
        "\n",
        "    def up(self):\n",
        "        self.salary += 100\n",
        "\n",
        "    def __str__(self):\n",
        "        return 'Сотрудник {}, зарплата {}'.format(self.name, self.salary)"
      ]
    },
    {
      "cell_type": "markdown",
      "metadata": {
        "id": "dS4K47jEEVuB"
      },
      "source": [
        "#### Система повышения сотрудников"
      ]
    },
    {
      "cell_type": "code",
      "execution_count": null,
      "metadata": {
        "id": "RXjH4PnjEVuC"
      },
      "outputs": [],
      "source": [
        "class Employee:\n",
        "    def __init__(self, name, seniority):\n",
        "        self.name = name\n",
        "        self.seniority = seniority\n",
        "        self.grade = 1\n",
        "\n",
        "    def grade_up(self):\n",
        "        \"\"\"Повышает уровень сотрудника\"\"\"\n",
        "        self.grade += 1\n",
        "\n",
        "    def publish_grade(self):\n",
        "        \"\"\"Публикация результатов аккредитации сотрудников\"\"\"\n",
        "        print(self.name, self.grade)\n",
        "\n",
        "    def check_if_it_is_time_for_upgrade(self):\n",
        "        pass"
      ]
    },
    {
      "cell_type": "code",
      "execution_count": null,
      "metadata": {
        "id": "oGTMPbihEVuC"
      },
      "outputs": [],
      "source": [
        "class Developer(Employee):\n",
        "    def __init__(self, name, seniority):\n",
        "        super().__init__(name, seniority)\n",
        "\n",
        "    def check_if_it_is_time_for_upgrade(self):\n",
        "        # для каждой аккредитации увеличиваем счетчик на 1\n",
        "        self.seniority += 1\n",
        "\n",
        "        # условие повышения сотрудника\n",
        "        if self.seniority % 3 == 0:\n",
        "            self.grade_up()\n",
        "\n",
        "        # публикация результатов\n",
        "        return self.publish_grade()"
      ]
    },
    {
      "cell_type": "code",
      "execution_count": null,
      "metadata": {
        "id": "9tE65ATBEVuD"
      },
      "outputs": [],
      "source": [
        "# проверяем как работает система повышения сотрудников на примере отдела разработки\n",
        "\n",
        "# разработчик Александр только что пришел в компанию\n",
        "alex = Developer('Александр', 0)"
      ]
    },
    {
      "cell_type": "code",
      "execution_count": null,
      "metadata": {
        "id": "xChSUmAHEVuD",
        "outputId": "bf12d60c-dcd4-4bb2-f513-cd098bdf14a1",
        "colab": {
          "base_uri": "https://localhost:8080/"
        }
      },
      "outputs": [
        {
          "output_type": "stream",
          "name": "stdout",
          "text": [
            "Александр 1\n",
            "Александр 1\n",
            "Александр 2\n",
            "Александр 2\n",
            "Александр 2\n",
            "Александр 3\n",
            "Александр 3\n",
            "Александр 3\n",
            "Александр 4\n",
            "Александр 4\n"
          ]
        }
      ],
      "source": [
        "for i in range(10):\n",
        "    alex.check_if_it_is_time_for_upgrade()"
      ]
    },
    {
      "cell_type": "markdown",
      "source": [
        "### Локальные и глобальные атрибуты"
      ],
      "metadata": {
        "id": "_xuAcIroBbQ-"
      }
    },
    {
      "cell_type": "markdown",
      "source": [
        "#### Локальные переменные\n",
        "\n",
        "Локальная переменная в классе — это переменная, доступ к которой возможен только внутри блока кода, в котором она определена. Например, если вы определите переменную внутри метода, к нему не удастся получить доступ откуда-либо вне метода."
      ],
      "metadata": {
        "id": "bZ5WKU82BjsV"
      }
    },
    {
      "cell_type": "code",
      "source": [
        "class Car:\n",
        "    def start(self):\n",
        "        message = \"Двигатель заведен\"\n",
        "        return message"
      ],
      "metadata": {
        "id": "Wguq9zk_Bnm0"
      },
      "execution_count": null,
      "outputs": []
    },
    {
      "cell_type": "markdown",
      "source": [
        "В скрипте выше мы создали локальную переменную message внутри метода start() класса Car. Теперь создадим объект класса Car и попытаемся получить доступ к локальной переменной message, как показано ниже:"
      ],
      "metadata": {
        "id": "R9A1eqrABjm9"
      }
    },
    {
      "cell_type": "code",
      "source": [
        "car_a = Car()\n",
        "car_a.start()"
      ],
      "metadata": {
        "colab": {
          "base_uri": "https://localhost:8080/",
          "height": 36
        },
        "id": "uF8rUXrmBrZb",
        "outputId": "cc8cafb3-3be7-404f-c139-4e1a69bd824f"
      },
      "execution_count": null,
      "outputs": [
        {
          "output_type": "execute_result",
          "data": {
            "text/plain": [
              "'Двигатель заведен'"
            ],
            "application/vnd.google.colaboratory.intrinsic+json": {
              "type": "string"
            }
          },
          "metadata": {},
          "execution_count": 25
        }
      ]
    },
    {
      "cell_type": "code",
      "source": [
        "print(car_a.message)"
      ],
      "metadata": {
        "colab": {
          "base_uri": "https://localhost:8080/",
          "height": 141
        },
        "id": "4PFK-SLaMj-K",
        "outputId": "2b0a3512-ef0b-44b0-ebc0-46b927bd466b"
      },
      "execution_count": null,
      "outputs": [
        {
          "output_type": "error",
          "ename": "AttributeError",
          "evalue": "'Car' object has no attribute 'message'",
          "traceback": [
            "\u001b[0;31m---------------------------------------------------------------------------\u001b[0m",
            "\u001b[0;31mAttributeError\u001b[0m                            Traceback (most recent call last)",
            "\u001b[0;32m<ipython-input-26-7da88014ba1a>\u001b[0m in \u001b[0;36m<cell line: 1>\u001b[0;34m()\u001b[0m\n\u001b[0;32m----> 1\u001b[0;31m \u001b[0mprint\u001b[0m\u001b[0;34m(\u001b[0m\u001b[0mcar_a\u001b[0m\u001b[0;34m.\u001b[0m\u001b[0mmessage\u001b[0m\u001b[0;34m)\u001b[0m\u001b[0;34m\u001b[0m\u001b[0;34m\u001b[0m\u001b[0m\n\u001b[0m",
            "\u001b[0;31mAttributeError\u001b[0m: 'Car' object has no attribute 'message'"
          ]
        }
      ]
    },
    {
      "cell_type": "markdown",
      "source": [
        "Это связано с тем, что мы не можем получить доступ к локальной переменной вне блока, где эта локальная переменная была определена.\n"
      ],
      "metadata": {
        "id": "vNKYz-0GBs66"
      }
    },
    {
      "cell_type": "markdown",
      "source": [
        "#### Глобальная переменная\n",
        "\n",
        "Глобальная переменная определяется вне любого блока. Доступ к глобальной переменной может быть получен где угодно в классе. Рассмотрим следующий пример."
      ],
      "metadata": {
        "id": "vNbsJc_nBrUE"
      }
    },
    {
      "cell_type": "code",
      "source": [
        "class Car:\n",
        "    message1 = \"Двигатель заведен\"\n",
        "\n",
        "    def start(self):\n",
        "        message2 = \"Автомобиль заведен\"\n",
        "        return message2\n",
        "\n",
        "    def stop(self):\n",
        "        # локальная переменная\n",
        "        # message1 = 'Двигатель остановлен'\n",
        "        # return message1\n",
        "\n",
        "        # переменная класса\n",
        "        # Car.message1 = 'Двигатель остановлен'\n",
        "        # print(Car.message1)\n",
        "\n",
        "        # переменная экземпляра класса\n",
        "        self.message1 = 'Двигатель остановлен'\n",
        "        print(self.message1)\n",
        "\n",
        "\n",
        "car_a = Car()\n",
        "car_a.start()"
      ],
      "metadata": {
        "colab": {
          "base_uri": "https://localhost:8080/",
          "height": 36
        },
        "id": "ZhIiM-33B3YL",
        "outputId": "5da7cfb0-4987-4a18-9359-c02393f8cf37"
      },
      "execution_count": null,
      "outputs": [
        {
          "output_type": "execute_result",
          "data": {
            "text/plain": [
              "'Автомобиль заведен'"
            ],
            "application/vnd.google.colaboratory.intrinsic+json": {
              "type": "string"
            }
          },
          "metadata": {},
          "execution_count": 27
        }
      ]
    },
    {
      "cell_type": "code",
      "source": [
        "print(car_a.message2)"
      ],
      "metadata": {
        "colab": {
          "base_uri": "https://localhost:8080/",
          "height": 141
        },
        "id": "33xAWEATM0WH",
        "outputId": "585a9c92-d9a7-4354-9aab-4d49db2a3cc7"
      },
      "execution_count": null,
      "outputs": [
        {
          "output_type": "error",
          "ename": "AttributeError",
          "evalue": "'Car' object has no attribute 'message2'",
          "traceback": [
            "\u001b[0;31m---------------------------------------------------------------------------\u001b[0m",
            "\u001b[0;31mAttributeError\u001b[0m                            Traceback (most recent call last)",
            "\u001b[0;32m<ipython-input-28-037f9e61f387>\u001b[0m in \u001b[0;36m<cell line: 1>\u001b[0;34m()\u001b[0m\n\u001b[0;32m----> 1\u001b[0;31m \u001b[0mprint\u001b[0m\u001b[0;34m(\u001b[0m\u001b[0mcar_a\u001b[0m\u001b[0;34m.\u001b[0m\u001b[0mmessage2\u001b[0m\u001b[0;34m)\u001b[0m\u001b[0;34m\u001b[0m\u001b[0;34m\u001b[0m\u001b[0m\n\u001b[0m",
            "\u001b[0;31mAttributeError\u001b[0m: 'Car' object has no attribute 'message2'"
          ]
        }
      ]
    },
    {
      "cell_type": "code",
      "source": [
        "print(car_a.message1)"
      ],
      "metadata": {
        "colab": {
          "base_uri": "https://localhost:8080/"
        },
        "id": "WVsXw5S7MzFc",
        "outputId": "8cf3ffd5-150d-4d4b-a725-48f590f8fa83"
      },
      "execution_count": null,
      "outputs": [
        {
          "output_type": "stream",
          "name": "stdout",
          "text": [
            "Двигатель заведен\n"
          ]
        }
      ]
    },
    {
      "cell_type": "code",
      "source": [
        "car_a.stop()"
      ],
      "metadata": {
        "colab": {
          "base_uri": "https://localhost:8080/"
        },
        "id": "mGR7jIUcNFFe",
        "outputId": "92615235-922b-4996-e325-5c6aed978a34"
      },
      "execution_count": null,
      "outputs": [
        {
          "output_type": "stream",
          "name": "stdout",
          "text": [
            "Двигатель остановлен\n"
          ]
        }
      ]
    },
    {
      "cell_type": "code",
      "source": [
        "car_a.message1"
      ],
      "metadata": {
        "colab": {
          "base_uri": "https://localhost:8080/",
          "height": 36
        },
        "id": "u948ITS7NJLo",
        "outputId": "cf0c0a85-be44-4034-f7e4-adff542ca5b3"
      },
      "execution_count": null,
      "outputs": [
        {
          "output_type": "execute_result",
          "data": {
            "text/plain": [
              "'Двигатель остановлен'"
            ],
            "application/vnd.google.colaboratory.intrinsic+json": {
              "type": "string"
            }
          },
          "metadata": {},
          "execution_count": 31
        }
      ]
    },
    {
      "cell_type": "markdown",
      "source": [
        "### Наследование"
      ],
      "metadata": {
        "id": "pDVQet8MDzXq"
      }
    },
    {
      "cell_type": "markdown",
      "source": [
        "В Python наследование является одним из основных принципов объектно-ориентированного программирования. Оно позволяет создавать новые классы, называемые дочерними классами (подклассами), на основе уже существующих классов, называемых родительскими классами (суперклассами, базовыми классами).\n",
        "\n"
      ],
      "metadata": {
        "id": "uo0xdemlD43z"
      }
    },
    {
      "cell_type": "code",
      "source": [
        "# Создание дочернего класса\n",
        "\n",
        "class Transport:         # Родительский класс\n",
        "    pass\n",
        "\n",
        "class Avto(Transport):   # Дочерний класс\n",
        "    pass"
      ],
      "metadata": {
        "id": "e9EWJ8-dExMk"
      },
      "execution_count": null,
      "outputs": []
    },
    {
      "cell_type": "markdown",
      "source": [
        "Когда мы объявляем дочерний класс, он наследует все свойства (атрибуты, методы) родительского класса"
      ],
      "metadata": {
        "id": "uU6uKglKFEjI"
      }
    },
    {
      "cell_type": "code",
      "source": [
        "# Наследование родительского класса\n",
        "\n",
        "class Transport:            # Родительский класс\n",
        "    name = 'transport'\n",
        "\n",
        "class Avto(Transport):      # Дочерний класс\n",
        "    def __init__(self):\n",
        "        self.car = 'car'\n",
        "\n",
        "rav4 = Avto()\n",
        "rav4.name"
      ],
      "metadata": {
        "colab": {
          "base_uri": "https://localhost:8080/",
          "height": 36
        },
        "id": "2DvxPm2pE5-1",
        "outputId": "3bc66b4c-bca6-4c81-82d9-8a53eaaebde3"
      },
      "execution_count": null,
      "outputs": [
        {
          "output_type": "execute_result",
          "data": {
            "text/plain": [
              "'transport'"
            ],
            "application/vnd.google.colaboratory.intrinsic+json": {
              "type": "string"
            }
          },
          "metadata": {},
          "execution_count": 33
        }
      ]
    },
    {
      "cell_type": "code",
      "source": [
        "class Transport:\n",
        "    def __init__(self, make, model):\n",
        "        self.make = make\n",
        "        self.model = model\n",
        "\n",
        "class Avto(Transport):\n",
        "    pass\n",
        "\n",
        "class Plain(Transport):\n",
        "    pass\n",
        "\n",
        "class Train(Transport):\n",
        "    pass\n",
        "\n",
        "rav4 = Avto('Toyota', 'rav4')   # создание экземпляра дочернего класса Avto\n",
        "rav4.model"
      ],
      "metadata": {
        "colab": {
          "base_uri": "https://localhost:8080/",
          "height": 36
        },
        "id": "n0D6WkrfFQzu",
        "outputId": "d55fec7e-85b4-4a65-dd11-44aa2789d560"
      },
      "execution_count": null,
      "outputs": [
        {
          "output_type": "execute_result",
          "data": {
            "text/plain": [
              "'rav4'"
            ],
            "application/vnd.google.colaboratory.intrinsic+json": {
              "type": "string"
            }
          },
          "metadata": {},
          "execution_count": 34
        }
      ]
    },
    {
      "cell_type": "code",
      "source": [
        "boeing = Plain('Boeing',  '737')\n",
        "boeing.model"
      ],
      "metadata": {
        "colab": {
          "base_uri": "https://localhost:8080/",
          "height": 36
        },
        "id": "qx2_xvw5GLPV",
        "outputId": "6e9dc076-606d-48e0-b31c-7f8bd4a08acd"
      },
      "execution_count": null,
      "outputs": [
        {
          "output_type": "execute_result",
          "data": {
            "text/plain": [
              "'737'"
            ],
            "application/vnd.google.colaboratory.intrinsic+json": {
              "type": "string"
            }
          },
          "metadata": {},
          "execution_count": 35
        }
      ]
    },
    {
      "cell_type": "markdown",
      "source": [
        "#### Переопределение"
      ],
      "metadata": {
        "id": "6EYgmlCVHIm5"
      }
    },
    {
      "cell_type": "code",
      "source": [
        "class Animal:\n",
        "    def say_cats(self):\n",
        "        print('Hello Cats!')\n",
        "    def say_dogs(self):\n",
        "        print('Hello Dogs!')\n",
        "\n",
        "class Dog(Animal):\n",
        "    def say_dogs(self):\n",
        "        print('Ваф! Ваф!')\n",
        "\n",
        "animal = Animal()  # экземпляр класса\n",
        "animal.say_cats()  # Hello Cats!\n",
        "animal.say_dogs()  # Hello Dogs!\n",
        "\n",
        "dog = Dog()     # экземпляр класса Dog\n",
        "dog.say_dogs()  # Ваф! Ваф!"
      ],
      "metadata": {
        "colab": {
          "base_uri": "https://localhost:8080/"
        },
        "id": "KcUu9yJqHHtc",
        "outputId": "c9f0f203-caeb-4e1a-a1cb-015c7fed0847"
      },
      "execution_count": null,
      "outputs": [
        {
          "output_type": "stream",
          "name": "stdout",
          "text": [
            "Hello Cats!\n",
            "Hello Dogs!\n",
            "Ваф! Ваф!\n"
          ]
        }
      ]
    },
    {
      "cell_type": "code",
      "source": [
        "dog.say_cats()"
      ],
      "metadata": {
        "colab": {
          "base_uri": "https://localhost:8080/"
        },
        "id": "GfOQobNRByq2",
        "outputId": "36b902f6-99da-4772-adc7-86d7c4065344"
      },
      "execution_count": null,
      "outputs": [
        {
          "output_type": "stream",
          "name": "stdout",
          "text": [
            "Hello Cats!\n"
          ]
        }
      ]
    },
    {
      "cell_type": "markdown",
      "source": [
        "#### super()"
      ],
      "metadata": {
        "id": "6fTtLV4XHk6R"
      }
    },
    {
      "cell_type": "markdown",
      "source": [
        "Подобная связка, __init__ + super() весьма эффективна, она позволяет устранять дублирование кода.\n",
        "\n",
        "Здесь мы создаём __init__ в дочернем классе, который запускает __init__ родительского класса с помощью super(). Тем самым, мы создаём два атрибута: cat и dog. Это всего лишь пример, реализация может быть различная.\n"
      ],
      "metadata": {
        "id": "hYdPVM42IlH-"
      }
    },
    {
      "cell_type": "code",
      "source": [
        "class Animal:\n",
        "    def __init__(self):\n",
        "        self.cat = 'котик'\n",
        "\n",
        "class Test(Animal):\n",
        "    def __init__(self):\n",
        "        # super().__init__()\n",
        "        self.dog = 'пёсик'\n",
        "\n",
        "test = Test()\n",
        "print(test.cat)  # котик\n",
        "print(test.dog)  # пёсик"
      ],
      "metadata": {
        "id": "MbHIh7p9Ij20",
        "colab": {
          "base_uri": "https://localhost:8080/",
          "height": 193
        },
        "outputId": "4ab9c51c-e392-46f3-f41e-46e3eb902e51"
      },
      "execution_count": null,
      "outputs": [
        {
          "output_type": "error",
          "ename": "AttributeError",
          "evalue": "'Test' object has no attribute 'cat'",
          "traceback": [
            "\u001b[0;31m---------------------------------------------------------------------------\u001b[0m",
            "\u001b[0;31mAttributeError\u001b[0m                            Traceback (most recent call last)",
            "\u001b[0;32m<ipython-input-38-ebc9107ad55c>\u001b[0m in \u001b[0;36m<cell line: 11>\u001b[0;34m()\u001b[0m\n\u001b[1;32m      9\u001b[0m \u001b[0;34m\u001b[0m\u001b[0m\n\u001b[1;32m     10\u001b[0m \u001b[0mtest\u001b[0m \u001b[0;34m=\u001b[0m \u001b[0mTest\u001b[0m\u001b[0;34m(\u001b[0m\u001b[0;34m)\u001b[0m\u001b[0;34m\u001b[0m\u001b[0;34m\u001b[0m\u001b[0m\n\u001b[0;32m---> 11\u001b[0;31m \u001b[0mprint\u001b[0m\u001b[0;34m(\u001b[0m\u001b[0mtest\u001b[0m\u001b[0;34m.\u001b[0m\u001b[0mcat\u001b[0m\u001b[0;34m)\u001b[0m  \u001b[0;31m# котик\u001b[0m\u001b[0;34m\u001b[0m\u001b[0;34m\u001b[0m\u001b[0m\n\u001b[0m\u001b[1;32m     12\u001b[0m \u001b[0mprint\u001b[0m\u001b[0;34m(\u001b[0m\u001b[0mtest\u001b[0m\u001b[0;34m.\u001b[0m\u001b[0mdog\u001b[0m\u001b[0;34m)\u001b[0m  \u001b[0;31m# пёсик\u001b[0m\u001b[0;34m\u001b[0m\u001b[0;34m\u001b[0m\u001b[0m\n",
            "\u001b[0;31mAttributeError\u001b[0m: 'Test' object has no attribute 'cat'"
          ]
        }
      ]
    },
    {
      "cell_type": "markdown",
      "source": [
        "### 🧠 Упражнение. Создайте классы людей\n",
        "\n",
        "Представьте, что нам нужно создать анкеты для разной возрастной группы (школьники, сотрудники и др). Во всех анкетах будут в основном одни и те же параметры (имя, возраст и т.д.), но будут и отличающиеся (хобби, опыт работы и т.д.). Чтобы код не повторялся, можно использовать родительский класс и ссылаться на его атрибуты при помощи super().\n",
        "\n",
        "1. Класс Person. При инициализации класса задается имя и возраст человек\n",
        "2. Класс Student наследуется от класса Person. При инициализиции задается имя, возраст, номер класса и хобби\n",
        "2. Класс Worker наслелуется от класса Person. При инициализиции задается имя, возраст, работа и стаж работы"
      ],
      "metadata": {
        "id": "Fv5FBSFbVv0u"
      }
    },
    {
      "cell_type": "code",
      "source": [
        "class Person: # родительский класс\n",
        "    pass\n",
        "\n",
        "class Student(Person): # школьники\n",
        "    pass\n",
        "\n",
        "class Worker(Person): # сотрудники\n",
        "    pass"
      ],
      "metadata": {
        "id": "ByojfiD9WiS7"
      },
      "execution_count": null,
      "outputs": []
    },
    {
      "cell_type": "markdown",
      "source": [
        "#### Примеры использования"
      ],
      "metadata": {
        "id": "3uklNRxNWiaq"
      }
    },
    {
      "cell_type": "code",
      "source": [
        "id1 = Student('Tanya', 6, 1, 'cook')"
      ],
      "metadata": {
        "id": "TVw7zu8CWias"
      },
      "execution_count": null,
      "outputs": []
    },
    {
      "cell_type": "code",
      "source": [
        "id1.name, id1.age, id1.class_number, id1.hobby"
      ],
      "metadata": {
        "colab": {
          "base_uri": "https://localhost:8080/"
        },
        "outputId": "44b8c5ab-7db2-4218-e31f-d1a2c7163c26",
        "id": "HI4MTYqcWiat"
      },
      "execution_count": null,
      "outputs": [
        {
          "output_type": "execute_result",
          "data": {
            "text/plain": [
              "('Tanya', 6, 1, 'cook')"
            ]
          },
          "metadata": {},
          "execution_count": 43
        }
      ]
    },
    {
      "cell_type": "code",
      "source": [
        "id1.work"
      ],
      "metadata": {
        "colab": {
          "base_uri": "https://localhost:8080/",
          "height": 141
        },
        "outputId": "7fc40142-a8ef-4684-857f-f450b8fa0824",
        "id": "mK3m3ar0Wiav"
      },
      "execution_count": null,
      "outputs": [
        {
          "output_type": "error",
          "ename": "AttributeError",
          "evalue": "'Student' object has no attribute 'work'",
          "traceback": [
            "\u001b[0;31m---------------------------------------------------------------------------\u001b[0m",
            "\u001b[0;31mAttributeError\u001b[0m                            Traceback (most recent call last)",
            "\u001b[0;32m<ipython-input-44-cabeab65d4cb>\u001b[0m in \u001b[0;36m<cell line: 1>\u001b[0;34m()\u001b[0m\n\u001b[0;32m----> 1\u001b[0;31m \u001b[0mid1\u001b[0m\u001b[0;34m.\u001b[0m\u001b[0mwork\u001b[0m\u001b[0;34m\u001b[0m\u001b[0;34m\u001b[0m\u001b[0m\n\u001b[0m",
            "\u001b[0;31mAttributeError\u001b[0m: 'Student' object has no attribute 'work'"
          ]
        }
      ]
    },
    {
      "cell_type": "code",
      "source": [
        "id2 = Worker('Vasya', 28, 'driver', 6)\n",
        "id2.name, id2.age"
      ],
      "metadata": {
        "colab": {
          "base_uri": "https://localhost:8080/"
        },
        "outputId": "9bd0ed97-65be-4a10-d020-ba2130b33f77",
        "id": "u7by68xYWiaw"
      },
      "execution_count": null,
      "outputs": [
        {
          "output_type": "execute_result",
          "data": {
            "text/plain": [
              "('Vasya', 28)"
            ]
          },
          "metadata": {},
          "execution_count": 45
        }
      ]
    },
    {
      "cell_type": "code",
      "source": [
        "id2.work"
      ],
      "metadata": {
        "colab": {
          "base_uri": "https://localhost:8080/",
          "height": 36
        },
        "outputId": "bb275297-d85a-478d-aaef-c1283091a32b",
        "id": "TYeQ-SYNWiax"
      },
      "execution_count": null,
      "outputs": [
        {
          "output_type": "execute_result",
          "data": {
            "text/plain": [
              "'driver'"
            ],
            "application/vnd.google.colaboratory.intrinsic+json": {
              "type": "string"
            }
          },
          "metadata": {},
          "execution_count": 46
        }
      ]
    },
    {
      "cell_type": "markdown",
      "source": [
        "#### 🧠 Упражнение. Создайте классы людей (ответ)\n"
      ],
      "metadata": {
        "id": "ds78Pl2_Wcr2"
      }
    },
    {
      "cell_type": "markdown",
      "source": [
        "Создадим родительский класс, и __init__, который будет инициализировать 2 атрибута, которые встречаются во всех анкетах.\n"
      ],
      "metadata": {
        "id": "1HKpzKCnJFdR"
      }
    },
    {
      "cell_type": "code",
      "source": [
        "class Person: # родительский класс\n",
        "    def __init__(self, name, age): # создаёт 2 атрибута\n",
        "        self.name = name\n",
        "        self.age = age"
      ],
      "metadata": {
        "id": "-V37o7HRJCkx"
      },
      "execution_count": null,
      "outputs": []
    },
    {
      "cell_type": "code",
      "source": [
        "class Student(Person): # школьники\n",
        "    def __init__(self, name, age, class_number, hobby):\n",
        "        super().__init__(name, age)  # запускает __init__ род.класса\n",
        "        self.class_number = class_number\n",
        "        self.hobby = hobby"
      ],
      "metadata": {
        "id": "Y-FUuBJKJJep"
      },
      "execution_count": null,
      "outputs": []
    },
    {
      "cell_type": "code",
      "source": [
        "class Worker(Person): # сотрудники\n",
        "    def __init__(self, name, age, work, experience):\n",
        "        super().__init__(name, age)  # запускает __init__ род.класса\n",
        "        self.work = work\n",
        "        self.experience = experience"
      ],
      "metadata": {
        "id": "OWzDrbyqJTeK"
      },
      "execution_count": null,
      "outputs": []
    },
    {
      "cell_type": "markdown",
      "source": [
        "### 🧠 Упражнение. Создайте класс ToDoList\n",
        "\n",
        "Реализуйте класс ToDoList, который будет представлять список дел. Класс должен содержать список дел, где все дела представлены в виде словаря с ключами \"задача\", а значения - \"статус\", пример:\n",
        "```\n",
        "{\n",
        "  'Помыть окна': 'todo',\n",
        "  'Сходить к зубному': 'done',\n",
        "  'Покормить рыбок': 'in work'\n",
        "}\n",
        "```\n",
        "\n",
        "Добавьте методы для добавления задачи, изменения статуса задачи и отображения всех текущих задач."
      ],
      "metadata": {
        "id": "3hLvkmlZaB6-"
      }
    },
    {
      "cell_type": "code",
      "source": [
        "class ToDoList:\n",
        "    pass"
      ],
      "metadata": {
        "id": "XNdgf1CqeCgz"
      },
      "execution_count": null,
      "outputs": []
    },
    {
      "cell_type": "markdown",
      "source": [
        "#### Примеры использования"
      ],
      "metadata": {
        "id": "-MotdTPdeC7W"
      }
    },
    {
      "cell_type": "code",
      "source": [
        "task_list = ToDoList()\n",
        "print(task_list)"
      ],
      "metadata": {
        "colab": {
          "base_uri": "https://localhost:8080/"
        },
        "id": "7g4TvLxRbDoE",
        "outputId": "83115e9b-f24c-41f5-d92e-8895b6d05025"
      },
      "execution_count": null,
      "outputs": [
        {
          "output_type": "stream",
          "name": "stdout",
          "text": [
            "Нет задач\n"
          ]
        }
      ]
    },
    {
      "cell_type": "code",
      "source": [
        "task_list = ToDoList()\n",
        "task_list.add_task('Погулять с собакой')\n",
        "task_list.add_task('Поработать')\n",
        "print(task_list)\n",
        "\n",
        "task_list.add_task('Погулять с собакой')"
      ],
      "metadata": {
        "colab": {
          "base_uri": "https://localhost:8080/",
          "height": 350
        },
        "id": "UGNaSizhbRCM",
        "outputId": "f28c800c-e17c-4362-fa3a-dbf5bebde09f"
      },
      "execution_count": null,
      "outputs": [
        {
          "output_type": "stream",
          "name": "stdout",
          "text": [
            "Погулять с собакой - to do\n",
            "Поработать - to do\n",
            "\n"
          ]
        },
        {
          "output_type": "error",
          "ename": "Exception",
          "evalue": "Задача \"Погулять с собакой\" уже есть со статусом \"to do\"",
          "traceback": [
            "\u001b[0;31m---------------------------------------------------------------------------\u001b[0m",
            "\u001b[0;31mException\u001b[0m                                 Traceback (most recent call last)",
            "\u001b[0;32m<ipython-input-30-3478840cb79c>\u001b[0m in \u001b[0;36m<cell line: 6>\u001b[0;34m()\u001b[0m\n\u001b[1;32m      4\u001b[0m \u001b[0mprint\u001b[0m\u001b[0;34m(\u001b[0m\u001b[0mtask_list\u001b[0m\u001b[0;34m)\u001b[0m\u001b[0;34m\u001b[0m\u001b[0;34m\u001b[0m\u001b[0m\n\u001b[1;32m      5\u001b[0m \u001b[0;34m\u001b[0m\u001b[0m\n\u001b[0;32m----> 6\u001b[0;31m \u001b[0mtask_list\u001b[0m\u001b[0;34m.\u001b[0m\u001b[0madd_task\u001b[0m\u001b[0;34m(\u001b[0m\u001b[0;34m'Погулять с собакой'\u001b[0m\u001b[0;34m)\u001b[0m\u001b[0;34m\u001b[0m\u001b[0;34m\u001b[0m\u001b[0m\n\u001b[0m",
            "\u001b[0;32m<ipython-input-25-d415e99995a2>\u001b[0m in \u001b[0;36madd_task\u001b[0;34m(self, task)\u001b[0m\n\u001b[1;32m      5\u001b[0m     \u001b[0;32mdef\u001b[0m \u001b[0madd_task\u001b[0m\u001b[0;34m(\u001b[0m\u001b[0mself\u001b[0m\u001b[0;34m,\u001b[0m \u001b[0mtask\u001b[0m\u001b[0;34m)\u001b[0m\u001b[0;34m:\u001b[0m\u001b[0;34m\u001b[0m\u001b[0;34m\u001b[0m\u001b[0m\n\u001b[1;32m      6\u001b[0m         \u001b[0;32mif\u001b[0m \u001b[0mtask\u001b[0m \u001b[0;32min\u001b[0m \u001b[0mself\u001b[0m\u001b[0;34m.\u001b[0m\u001b[0mtasks\u001b[0m\u001b[0;34m:\u001b[0m\u001b[0;34m\u001b[0m\u001b[0;34m\u001b[0m\u001b[0m\n\u001b[0;32m----> 7\u001b[0;31m             \u001b[0;32mraise\u001b[0m \u001b[0mException\u001b[0m\u001b[0;34m(\u001b[0m\u001b[0;34mf'Задача \"{task}\" уже есть со статусом \"{self.tasks[task]}\"'\u001b[0m\u001b[0;34m)\u001b[0m\u001b[0;34m\u001b[0m\u001b[0;34m\u001b[0m\u001b[0m\n\u001b[0m\u001b[1;32m      8\u001b[0m         \u001b[0mself\u001b[0m\u001b[0;34m.\u001b[0m\u001b[0mtasks\u001b[0m\u001b[0;34m[\u001b[0m\u001b[0mtask\u001b[0m\u001b[0;34m]\u001b[0m \u001b[0;34m=\u001b[0m \u001b[0;34m'to do'\u001b[0m\u001b[0;34m\u001b[0m\u001b[0;34m\u001b[0m\u001b[0m\n\u001b[1;32m      9\u001b[0m \u001b[0;34m\u001b[0m\u001b[0m\n",
            "\u001b[0;31mException\u001b[0m: Задача \"Погулять с собакой\" уже есть со статусом \"to do\""
          ]
        }
      ]
    },
    {
      "cell_type": "code",
      "source": [
        "task_list.change_status('Погулять с собакой', 'in work')\n",
        "task_list.change_status('Поработать', 'done')\n",
        "print(task_list)"
      ],
      "metadata": {
        "colab": {
          "base_uri": "https://localhost:8080/"
        },
        "id": "p6LEeVOCbg1x",
        "outputId": "8a6fc9c6-9649-4d1b-d3c6-ab7d6943c8d2"
      },
      "execution_count": null,
      "outputs": [
        {
          "output_type": "stream",
          "name": "stdout",
          "text": [
            "Погулять с собакой - in work\n",
            "Поработать - done\n",
            "\n"
          ]
        }
      ]
    },
    {
      "cell_type": "code",
      "source": [
        "task_list.change_status('Лечь спать', 'done')"
      ],
      "metadata": {
        "colab": {
          "base_uri": "https://localhost:8080/",
          "height": 280
        },
        "id": "xNbo4TpTd714",
        "outputId": "84dd135a-d386-42c4-d5ef-50adb2e02018"
      },
      "execution_count": null,
      "outputs": [
        {
          "output_type": "stream",
          "name": "stdout",
          "text": [
            "Лечь спать {'Погулять с собакой': 'in work', 'Поработать': 'done'}\n"
          ]
        },
        {
          "output_type": "error",
          "ename": "Exception",
          "evalue": "Задачи \"Лечь спать\" нет в списке дел",
          "traceback": [
            "\u001b[0;31m---------------------------------------------------------------------------\u001b[0m",
            "\u001b[0;31mException\u001b[0m                                 Traceback (most recent call last)",
            "\u001b[0;32m<ipython-input-32-9ccc039764bb>\u001b[0m in \u001b[0;36m<cell line: 1>\u001b[0;34m()\u001b[0m\n\u001b[0;32m----> 1\u001b[0;31m \u001b[0mtask_list\u001b[0m\u001b[0;34m.\u001b[0m\u001b[0mchange_status\u001b[0m\u001b[0;34m(\u001b[0m\u001b[0;34m'Лечь спать'\u001b[0m\u001b[0;34m,\u001b[0m \u001b[0;34m'done'\u001b[0m\u001b[0;34m)\u001b[0m\u001b[0;34m\u001b[0m\u001b[0;34m\u001b[0m\u001b[0m\n\u001b[0m",
            "\u001b[0;32m<ipython-input-25-d415e99995a2>\u001b[0m in \u001b[0;36mchange_status\u001b[0;34m(self, task, status)\u001b[0m\n\u001b[1;32m     11\u001b[0m         \u001b[0;32mif\u001b[0m \u001b[0mtask\u001b[0m \u001b[0;32mnot\u001b[0m \u001b[0;32min\u001b[0m \u001b[0mself\u001b[0m\u001b[0;34m.\u001b[0m\u001b[0mtasks\u001b[0m\u001b[0;34m:\u001b[0m\u001b[0;34m\u001b[0m\u001b[0;34m\u001b[0m\u001b[0m\n\u001b[1;32m     12\u001b[0m             \u001b[0mprint\u001b[0m\u001b[0;34m(\u001b[0m\u001b[0mtask\u001b[0m\u001b[0;34m,\u001b[0m \u001b[0mself\u001b[0m\u001b[0;34m.\u001b[0m\u001b[0mtasks\u001b[0m\u001b[0;34m)\u001b[0m\u001b[0;34m\u001b[0m\u001b[0;34m\u001b[0m\u001b[0m\n\u001b[0;32m---> 13\u001b[0;31m             \u001b[0;32mraise\u001b[0m \u001b[0mException\u001b[0m\u001b[0;34m(\u001b[0m\u001b[0;34mf'Задачи \"{task}\" нет в списке дел'\u001b[0m\u001b[0;34m)\u001b[0m\u001b[0;34m\u001b[0m\u001b[0;34m\u001b[0m\u001b[0m\n\u001b[0m\u001b[1;32m     14\u001b[0m         \u001b[0mself\u001b[0m\u001b[0;34m.\u001b[0m\u001b[0mtasks\u001b[0m\u001b[0;34m[\u001b[0m\u001b[0mtask\u001b[0m\u001b[0;34m]\u001b[0m \u001b[0;34m=\u001b[0m \u001b[0mstatus\u001b[0m\u001b[0;34m\u001b[0m\u001b[0;34m\u001b[0m\u001b[0m\n\u001b[1;32m     15\u001b[0m \u001b[0;34m\u001b[0m\u001b[0m\n",
            "\u001b[0;31mException\u001b[0m: Задачи \"Лечь спать\" нет в списке дел"
          ]
        }
      ]
    },
    {
      "cell_type": "markdown",
      "source": [
        "#### 🧠 Упражнение. Создайте класс ToDoList\n"
      ],
      "metadata": {
        "id": "BSam-xDgaPoq"
      }
    },
    {
      "cell_type": "code",
      "source": [
        "class ToDoList:\n",
        "    def __init__(self):\n",
        "        self.tasks = {}\n",
        "\n",
        "    def add_task(self, task):\n",
        "        if task in self.tasks:\n",
        "            raise Exception(f'Задача \"{task}\" уже есть со статусом \"{self.tasks[task]}\"')\n",
        "        self.tasks[task] = 'to do'\n",
        "\n",
        "    def change_status(self, task, status):\n",
        "        if task not in self.tasks:\n",
        "            print(task, self.tasks)\n",
        "            raise Exception(f'Задачи \"{task}\" нет в списке дел')\n",
        "        self.tasks[task] = status\n",
        "\n",
        "    def __str__(self):\n",
        "        res = ''\n",
        "        for key, value in self.tasks.items():\n",
        "            res += f\"{key} - {value}\\n\"\n",
        "        if not res:\n",
        "            res = 'Нет задач'\n",
        "        return res"
      ],
      "metadata": {
        "id": "-zS5Wz6saVDS"
      },
      "execution_count": null,
      "outputs": []
    },
    {
      "cell_type": "markdown",
      "source": [
        "### 🧠 Упражнение. Создайте класс Магазин\n",
        "\n",
        "Реализуйте класс \"Магазин\", который содержит атрибуты: название магазина, список товаров, список заказов и общая сумма продаж.\n",
        "\n",
        "Реализуйте методы:\n",
        "1. Для добавления нового товара\n",
        "2. Для оформления заказа\n",
        "3. Для изменения количества товара на складе\n",
        "3. Для подсчета общей суммы продаж\n",
        "4. Для вывода информации о всех товарах, заказах и общей сумме продаж"
      ],
      "metadata": {
        "id": "Et7DiUHdfkFJ"
      }
    },
    {
      "cell_type": "code",
      "source": [
        "class Shop:\n",
        "    def __init__(self, name):\n",
        "        self.name = name\n",
        "        self.products = {}\n",
        "        self.orders = []\n",
        "        self.total_sales = 0\n",
        "\n",
        "    def add_product(self, product_name, quantity, price):\n",
        "        if product_name in self.products:\n",
        "            self.products[product_name][0] += quantity\n",
        "        else:\n",
        "            self.products[product_name] = [quantity, price]\n",
        "\n",
        "    def make_order(self, product_name, quantity):\n",
        "        if product_name in self.products and self.products[product_name][0] >= quantity:\n",
        "            order_cost = self.products[product_name][1] * quantity\n",
        "            self.total_sales += order_cost\n",
        "            self.products[product_name][0] -= quantity\n",
        "            self.orders.append((product_name, quantity, order_cost))\n",
        "        else:\n",
        "            print(\"Продукта нет в наличии или же не хватает количества\")\n",
        "\n",
        "    def calculate_total_sales(self):\n",
        "        return self.total_sales\n",
        "\n",
        "    def show_products(self):\n",
        "        print(\"Продукты в магазине:\")\n",
        "        for product, details in self.products.items():\n",
        "            print(f\"{product}: {details[0]} доступно по цене {details[1]}\")\n",
        "\n",
        "    def show_orders(self):\n",
        "        print(\"Заказы:\")\n",
        "        for order in self.orders:\n",
        "            print(f\"Товар: {order[0]}, Кол-во: {order[1]}, Общая стоимость: {order[2]}\")\n",
        "\n",
        "# Пример использования класса \"Магазин\"\n",
        "shop = Shop(\"MyShop\")\n",
        "shop.add_product(\"Яблоко\", 10, 2)\n",
        "shop.add_product(\"Банан\", 20, 1.5)\n",
        "\n",
        "shop.make_order(\"Яблоко\", 5)\n",
        "shop.make_order(\"Банан\", 10)\n",
        "\n",
        "shop.show_products()\n",
        "print('\\n')\n",
        "shop.show_orders()\n",
        "\n",
        "total_sales = shop.calculate_total_sales()\n",
        "total_sales"
      ],
      "metadata": {
        "colab": {
          "base_uri": "https://localhost:8080/"
        },
        "id": "a6A9ueUzgGZ9",
        "outputId": "70c1ce2e-6635-41fd-f22e-d94efabebe28"
      },
      "execution_count": null,
      "outputs": [
        {
          "output_type": "stream",
          "name": "stdout",
          "text": [
            "Продукты в магазине:\n",
            "Яблоко: 5 доступно по цене 2\n",
            "Банан: 10 доступно по цене 1.5\n",
            "\n",
            "\n",
            "Заказы:\n",
            "Товар: Яблоко, Кол-во: 5, Общая стоимость: 10\n",
            "Товар: Банан, Кол-во: 10, Общая стоимость: 15.0\n"
          ]
        },
        {
          "output_type": "execute_result",
          "data": {
            "text/plain": [
              "25.0"
            ]
          },
          "metadata": {},
          "execution_count": 37
        }
      ]
    },
    {
      "cell_type": "markdown",
      "source": [
        "#### 🧠 Упражнение. Создайте класс Магазин\n"
      ],
      "metadata": {
        "id": "yQIGSs4afyXs"
      }
    },
    {
      "cell_type": "code",
      "source": [
        "class Shop:\n",
        "    def __init__(self, name):\n",
        "        self.name = name\n",
        "        self.products = {}\n",
        "        self.orders = []\n",
        "        self.total_sales = 0\n",
        "\n",
        "    def add_product(self, product_name, quantity, price):\n",
        "        if product_name in self.products:\n",
        "            self.products[product_name][0] += quantity\n",
        "        else:\n",
        "            self.products[product_name] = [quantity, price]\n",
        "\n",
        "    def make_order(self, product_name, quantity):\n",
        "        if product_name in self.products and self.products[product_name][0] >= quantity:\n",
        "            order_cost = self.products[product_name][1] * quantity\n",
        "            self.total_sales += order_cost\n",
        "            self.products[product_name][0] -= quantity\n",
        "            self.orders.append((product_name, quantity, order_cost))\n",
        "        else:\n",
        "            print(\"Продукта нет в наличии или же не хватает количества\")\n",
        "\n",
        "    def calculate_total_sales(self):\n",
        "        return self.total_sales\n",
        "\n",
        "    def show_products(self):\n",
        "        print(\"Продукты в магазине:\")\n",
        "        for product, details in self.products.items():\n",
        "            print(f\"{product}: {details[0]} доступно по цене {details[1]}\")\n",
        "\n",
        "    def show_orders(self):\n",
        "        print(\"Заказы:\")\n",
        "        for order in self.orders:\n",
        "            print(f\"Товар: {order[0]}, Кол-во: {order[1]}, Общая стоимость: {order[2]}\")\n"
      ],
      "metadata": {
        "id": "HfCDwX1tfw3B"
      },
      "execution_count": null,
      "outputs": []
    },
    {
      "cell_type": "markdown",
      "source": [
        "## Дополнительные ссылки:\n",
        "\n",
        "https://stepik.org/course/182023"
      ],
      "metadata": {
        "id": "-dr1wbUZQRu4"
      }
    }
  ]
}