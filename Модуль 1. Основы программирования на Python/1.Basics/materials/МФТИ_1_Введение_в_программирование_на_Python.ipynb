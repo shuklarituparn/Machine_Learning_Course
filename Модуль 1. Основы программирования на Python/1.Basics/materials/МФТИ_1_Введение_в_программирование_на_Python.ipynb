{
  "nbformat": 4,
  "nbformat_minor": 0,
  "metadata": {
    "colab": {
      "provenance": [],
      "toc_visible": true
    },
    "kernelspec": {
      "name": "python3",
      "display_name": "Python 3"
    },
    "language_info": {
      "name": "python"
    }
  },
  "cells": [
    {
      "cell_type": "markdown",
      "metadata": {
        "id": "-pkEjtMs1XRP"
      },
      "source": [
        "# Google Colab"
      ]
    },
    {
      "cell_type": "markdown",
      "source": [
        "a - создание ячейки сверху<br>b - создание ячейки снизу"
      ],
      "metadata": {
        "id": "wKi0KZF9rc_k"
      }
    },
    {
      "cell_type": "markdown",
      "source": [
        "ctrl + m + m - перевод кодовой ячейки в текстовую<br>\n",
        "ctrl + m + y - перевод текстовой ячейки в кодовую"
      ],
      "metadata": {
        "id": "kY1ZFNf0rme4"
      }
    },
    {
      "cell_type": "code",
      "source": [
        "print(1 + 2)"
      ],
      "metadata": {
        "id": "5OsiVVu-1XRS"
      },
      "execution_count": null,
      "outputs": []
    },
    {
      "cell_type": "markdown",
      "source": [
        "print(1 + 2)"
      ],
      "metadata": {
        "id": "_cVt6tCwmoaA"
      }
    },
    {
      "cell_type": "code",
      "source": [
        "print(1 + 2)"
      ],
      "metadata": {
        "colab": {
          "base_uri": "https://localhost:8080/"
        },
        "id": "CBoGewHCmnrT",
        "outputId": "55da5172-ae3e-41f7-f753-873af780dc35"
      },
      "execution_count": null,
      "outputs": [
        {
          "output_type": "stream",
          "name": "stdout",
          "text": [
            "3\n"
          ]
        }
      ]
    },
    {
      "cell_type": "code",
      "source": [],
      "metadata": {
        "id": "1HnfAaVzmt2s"
      },
      "execution_count": null,
      "outputs": []
    },
    {
      "cell_type": "markdown",
      "metadata": {
        "id": "9JBR947J1XRU"
      },
      "source": [
        "### Про выполнение команд\n",
        "- Shift + Enter - выполнить код в ячейке и перейти на следующую\n",
        "- Ctrl + Enter - выполнить и остаться\n",
        "- Alt + Enter - выполнить и создать новую ячейку\n",
        "\n",
        "### Немного полезностей и про markdown:\n",
        "* для автозаполнения длинных названий используйте табуляцию\n",
        "* добавить новую ячейку можно аналогичным образом через 'b'\n",
        "* все это можно сделать и через верхнюю панель под меню File, Edit, ...\n"
      ]
    },
    {
      "cell_type": "code",
      "execution_count": null,
      "metadata": {
        "id": "UcFf_2vi1XRW"
      },
      "outputs": [],
      "source": [
        "a = 1"
      ]
    },
    {
      "cell_type": "code",
      "source": [
        "a"
      ],
      "metadata": {
        "colab": {
          "base_uri": "https://localhost:8080/"
        },
        "id": "fybNEErvvUol",
        "outputId": "78eb91b7-c80d-4dbe-d79e-47a452713fce"
      },
      "execution_count": null,
      "outputs": [
        {
          "output_type": "execute_result",
          "data": {
            "text/plain": [
              "1"
            ]
          },
          "metadata": {},
          "execution_count": 6
        }
      ]
    },
    {
      "cell_type": "markdown",
      "metadata": {
        "id": "EMmfbwDj1XRX"
      },
      "source": [
        "---\n",
        "<div class=\"alert alert-block alert-success\">\n",
        "\n",
        "## Поддержка HTML\n",
        "\n",
        "<table>\n",
        "<tr>\n",
        "<td>\n",
        "dd\n",
        "<td>\n",
        "<td>\n",
        "df\n",
        "</td>\n",
        "\n",
        "</tr>\n",
        "\n",
        "<tr>\n",
        "<td>\n",
        "dd\n",
        "<td>\n",
        "<td>\n",
        "df\n",
        "</td>\n",
        "\n",
        "</tr>\n",
        "\n",
        "</table>\n",
        "\n",
        "\n",
        "Jupyter умеет выполнять HTML-код и понимает формулы:\n"
      ]
    },
    {
      "cell_type": "markdown",
      "source": [
        "\n",
        "$\\frac{2}{4}$\n",
        "\n",
        "LaTex"
      ],
      "metadata": {
        "id": "rsPJ3kFzu_lL"
      }
    },
    {
      "cell_type": "markdown",
      "source": [
        "## Hello World"
      ],
      "metadata": {
        "id": "ROU9rg9BOMag"
      }
    },
    {
      "cell_type": "code",
      "source": [
        "print(\"Hello World!\")"
      ],
      "metadata": {
        "colab": {
          "base_uri": "https://localhost:8080/"
        },
        "id": "EPT1pI9TOMJD",
        "outputId": "50977cb2-9b52-48da-c860-e7f1ccd4ca2f"
      },
      "execution_count": null,
      "outputs": [
        {
          "output_type": "stream",
          "name": "stdout",
          "text": [
            "Hello World!\n"
          ]
        }
      ]
    },
    {
      "cell_type": "markdown",
      "source": [
        "# Типы данных"
      ],
      "metadata": {
        "id": "xIDY7P2j1_F8"
      }
    },
    {
      "cell_type": "markdown",
      "metadata": {
        "id": "vTD-2UN8OEp-"
      },
      "source": [
        "## Численные типы\n"
      ]
    },
    {
      "cell_type": "markdown",
      "source": [
        "### int"
      ],
      "metadata": {
        "id": "y_gtFP4rMyzn"
      }
    },
    {
      "cell_type": "code",
      "metadata": {
        "id": "BoHqbFn6Nuey",
        "outputId": "4ba57d33-dfba-49df-f91e-48b4308e4adc",
        "colab": {
          "base_uri": "https://localhost:8080/"
        }
      },
      "source": [
        "a = 0\n",
        "print(type(a))"
      ],
      "execution_count": null,
      "outputs": [
        {
          "output_type": "stream",
          "name": "stdout",
          "text": [
            "<class 'int'>\n"
          ]
        }
      ]
    },
    {
      "cell_type": "code",
      "metadata": {
        "id": "q7FxUUzDOaYr",
        "outputId": "b9a547fc-d16f-4d95-f77c-e9857f81f02e",
        "colab": {
          "base_uri": "https://localhost:8080/"
        }
      },
      "source": [
        "a = a + 1\n",
        "a += 1\n",
        "a"
      ],
      "execution_count": null,
      "outputs": [
        {
          "output_type": "execute_result",
          "data": {
            "text/plain": [
              "6"
            ]
          },
          "metadata": {},
          "execution_count": 2
        }
      ]
    },
    {
      "cell_type": "code",
      "metadata": {
        "id": "YfUZTahNOaWb",
        "outputId": "e0025d9a-5ab7-426a-b0b9-1367853df1b8",
        "colab": {
          "base_uri": "https://localhost:8080/"
        }
      },
      "source": [
        "a = 5\n",
        "a -= 3\n",
        "a"
      ],
      "execution_count": null,
      "outputs": [
        {
          "output_type": "execute_result",
          "data": {
            "text/plain": [
              "2"
            ]
          },
          "metadata": {},
          "execution_count": 3
        }
      ]
    },
    {
      "cell_type": "code",
      "metadata": {
        "id": "1gSRrZnxOaUQ",
        "outputId": "92d92c3f-6e5b-46f7-87b4-5285262f6e3f",
        "colab": {
          "base_uri": "https://localhost:8080/"
        }
      },
      "source": [
        "a = 3\n",
        "a *= 2\n",
        "a"
      ],
      "execution_count": null,
      "outputs": [
        {
          "output_type": "execute_result",
          "data": {
            "text/plain": [
              "6"
            ]
          },
          "metadata": {},
          "execution_count": 4
        }
      ]
    },
    {
      "cell_type": "code",
      "metadata": {
        "id": "aaBdHV-DOaRj",
        "outputId": "d71cb909-6e9b-489a-d893-9512f770475d",
        "colab": {
          "base_uri": "https://localhost:8080/"
        }
      },
      "source": [
        "a, b = 6, 2\n",
        "\n",
        "# a = 6\n",
        "# b = 2\n",
        "\n",
        "a / b"
      ],
      "execution_count": null,
      "outputs": [
        {
          "output_type": "execute_result",
          "data": {
            "text/plain": [
              "3.0"
            ]
          },
          "metadata": {},
          "execution_count": 5
        }
      ]
    },
    {
      "cell_type": "code",
      "metadata": {
        "id": "Ed2hLK9NUAub",
        "outputId": "d714a231-3292-43f3-e405-5fd573b9ddaa",
        "colab": {
          "base_uri": "https://localhost:8080/"
        }
      },
      "source": [
        "a = b = c = 0\n",
        "a += 1\n",
        "a, b, c"
      ],
      "execution_count": null,
      "outputs": [
        {
          "output_type": "execute_result",
          "data": {
            "text/plain": [
              "(1, 0, 0)"
            ]
          },
          "metadata": {},
          "execution_count": 9
        }
      ]
    },
    {
      "cell_type": "code",
      "source": [
        "# a = b = c = []\n",
        "# a.append(1)\n",
        "# id(a), id(b), id(c)"
      ],
      "metadata": {
        "id": "8awcYPaZoho4"
      },
      "execution_count": null,
      "outputs": []
    },
    {
      "cell_type": "code",
      "source": [
        "# b, c"
      ],
      "metadata": {
        "id": "lzRVZ_z2ou93"
      },
      "execution_count": null,
      "outputs": []
    },
    {
      "cell_type": "markdown",
      "source": [
        "### float"
      ],
      "metadata": {
        "id": "fWURnR8JM0s6"
      }
    },
    {
      "cell_type": "code",
      "metadata": {
        "id": "vw_Ru0uzTGPV",
        "outputId": "fac60a65-5e06-48f6-c772-731884b1a440",
        "colab": {
          "base_uri": "https://localhost:8080/"
        }
      },
      "source": [
        "a = 3.5\n",
        "type(a)"
      ],
      "execution_count": null,
      "outputs": [
        {
          "output_type": "execute_result",
          "data": {
            "text/plain": [
              "float"
            ]
          },
          "metadata": {},
          "execution_count": 18
        }
      ]
    },
    {
      "cell_type": "code",
      "source": [
        "round(a)"
      ],
      "metadata": {
        "colab": {
          "base_uri": "https://localhost:8080/"
        },
        "id": "YzXWhRivo_U-",
        "outputId": "d11ef363-6447-4142-9907-26935beb55db"
      },
      "execution_count": null,
      "outputs": [
        {
          "output_type": "execute_result",
          "data": {
            "text/plain": [
              "4"
            ]
          },
          "metadata": {},
          "execution_count": 19
        }
      ]
    },
    {
      "cell_type": "code",
      "source": [
        "import math\n",
        "math.floor(a), math.ceil(a)"
      ],
      "metadata": {
        "colab": {
          "base_uri": "https://localhost:8080/"
        },
        "id": "gy2qKmyApGB7",
        "outputId": "6147f227-568e-4f59-d931-12ef3f79c893"
      },
      "execution_count": null,
      "outputs": [
        {
          "output_type": "execute_result",
          "data": {
            "text/plain": [
              "(3, 4)"
            ]
          },
          "metadata": {},
          "execution_count": 21
        }
      ]
    },
    {
      "cell_type": "code",
      "metadata": {
        "id": "ut_yOL1cTGNA",
        "outputId": "e7ac5134-10b5-4715-8c09-25d0d4f0ea5e",
        "colab": {
          "base_uri": "https://localhost:8080/"
        }
      },
      "source": [
        "a = int(a)\n",
        "a"
      ],
      "execution_count": null,
      "outputs": [
        {
          "output_type": "execute_result",
          "data": {
            "text/plain": [
              "3"
            ]
          },
          "metadata": {},
          "execution_count": 23
        }
      ]
    },
    {
      "cell_type": "code",
      "metadata": {
        "id": "ckJ8e7SYTGKk",
        "outputId": "5fc8be5b-9f3b-45a6-ca41-d4ef33557364",
        "colab": {
          "base_uri": "https://localhost:8080/"
        }
      },
      "source": [
        "float(a)"
      ],
      "execution_count": null,
      "outputs": [
        {
          "output_type": "execute_result",
          "data": {
            "text/plain": [
              "3.0"
            ]
          },
          "metadata": {},
          "execution_count": 24
        }
      ]
    },
    {
      "cell_type": "code",
      "metadata": {
        "id": "qUSleIRXTGH0",
        "outputId": "7f99ddd4-ff47-4c6b-cce6-2f54e966187b",
        "colab": {
          "base_uri": "https://localhost:8080/"
        }
      },
      "source": [
        "a ** 2"
      ],
      "execution_count": null,
      "outputs": [
        {
          "output_type": "execute_result",
          "data": {
            "text/plain": [
              "9"
            ]
          },
          "metadata": {},
          "execution_count": 25
        }
      ]
    },
    {
      "cell_type": "code",
      "source": [
        "pow(a, 2)"
      ],
      "metadata": {
        "colab": {
          "base_uri": "https://localhost:8080/"
        },
        "id": "pwCoY8q9pTf5",
        "outputId": "2826abf2-dc25-4835-aa39-ff2319da7a91"
      },
      "execution_count": null,
      "outputs": [
        {
          "output_type": "execute_result",
          "data": {
            "text/plain": [
              "9"
            ]
          },
          "metadata": {},
          "execution_count": 26
        }
      ]
    },
    {
      "cell_type": "code",
      "metadata": {
        "id": "V_XqIeRhTGFR",
        "outputId": "52aed234-ce51-4e24-d34c-cf1b1f4e3ae4",
        "colab": {
          "base_uri": "https://localhost:8080/"
        }
      },
      "source": [
        "9 / 5"
      ],
      "execution_count": null,
      "outputs": [
        {
          "output_type": "execute_result",
          "data": {
            "text/plain": [
              "1.8"
            ]
          },
          "metadata": {},
          "execution_count": 11
        }
      ]
    },
    {
      "cell_type": "code",
      "metadata": {
        "id": "CCdHBp4BTGC2",
        "outputId": "1edf9c7e-87da-4b2a-f8ee-be7f5aebd4dd",
        "colab": {
          "base_uri": "https://localhost:8080/"
        }
      },
      "source": [
        "9 // 5"
      ],
      "execution_count": null,
      "outputs": [
        {
          "output_type": "execute_result",
          "data": {
            "text/plain": [
              "1"
            ]
          },
          "metadata": {},
          "execution_count": 12
        }
      ]
    },
    {
      "cell_type": "code",
      "metadata": {
        "id": "Z4xkroxcTFvf",
        "outputId": "972774c9-50b4-4535-cc6f-dd214a33a231",
        "colab": {
          "base_uri": "https://localhost:8080/"
        }
      },
      "source": [
        "9 % 5"
      ],
      "execution_count": null,
      "outputs": [
        {
          "output_type": "execute_result",
          "data": {
            "text/plain": [
              "4"
            ]
          },
          "metadata": {},
          "execution_count": 13
        }
      ]
    },
    {
      "cell_type": "markdown",
      "metadata": {
        "id": "H8rzTkWtUMUZ"
      },
      "source": [
        "### Логический тип\n"
      ]
    },
    {
      "cell_type": "code",
      "metadata": {
        "id": "vEY4WF2sTl_h",
        "outputId": "a6389ee5-ce21-414b-b566-b552067aa731",
        "colab": {
          "base_uri": "https://localhost:8080/"
        }
      },
      "source": [
        "True, False"
      ],
      "execution_count": null,
      "outputs": [
        {
          "output_type": "execute_result",
          "data": {
            "text/plain": [
              "(True, False)"
            ]
          },
          "metadata": {},
          "execution_count": 14
        }
      ]
    },
    {
      "cell_type": "code",
      "metadata": {
        "id": "Oouq9A5zTl9C",
        "outputId": "77738aaf-b8a8-42c4-d7ea-8e0305d0b1a2",
        "colab": {
          "base_uri": "https://localhost:8080/"
        }
      },
      "source": [
        "12 == 11"
      ],
      "execution_count": null,
      "outputs": [
        {
          "output_type": "execute_result",
          "data": {
            "text/plain": [
              "False"
            ]
          },
          "metadata": {},
          "execution_count": 15
        }
      ]
    },
    {
      "cell_type": "code",
      "metadata": {
        "id": "04oZnZSKTl6l",
        "outputId": "6ef079d3-4b0a-4622-e07a-24004fb20577",
        "colab": {
          "base_uri": "https://localhost:8080/"
        }
      },
      "source": [
        "12 >= 11"
      ],
      "execution_count": null,
      "outputs": [
        {
          "output_type": "execute_result",
          "data": {
            "text/plain": [
              "True"
            ]
          },
          "metadata": {},
          "execution_count": 16
        }
      ]
    },
    {
      "cell_type": "code",
      "metadata": {
        "id": "TnsZPOO2Uaxc",
        "outputId": "0e757f43-16b3-4331-c72b-5a251e20aeb2",
        "colab": {
          "base_uri": "https://localhost:8080/"
        }
      },
      "source": [
        "1 < 15 < 10\n",
        "\n",
        "1 < 15 and 15 < 10"
      ],
      "execution_count": null,
      "outputs": [
        {
          "output_type": "execute_result",
          "data": {
            "text/plain": [
              "False"
            ]
          },
          "metadata": {},
          "execution_count": 29
        }
      ]
    },
    {
      "cell_type": "code",
      "metadata": {
        "id": "MIOJ8tnnUgl-",
        "outputId": "a82e8481-b0e6-4dd9-a7b2-05a249278977",
        "colab": {
          "base_uri": "https://localhost:8080/"
        }
      },
      "source": [
        "0 != 1"
      ],
      "execution_count": null,
      "outputs": [
        {
          "output_type": "execute_result",
          "data": {
            "text/plain": [
              "True"
            ]
          },
          "metadata": {},
          "execution_count": 18
        }
      ]
    },
    {
      "cell_type": "code",
      "metadata": {
        "id": "_Ime1z1cUjEd",
        "outputId": "5972e658-4385-42d8-8039-b1caf860b2fe",
        "colab": {
          "base_uri": "https://localhost:8080/"
        }
      },
      "source": [
        "bool(-1.2)"
      ],
      "execution_count": null,
      "outputs": [
        {
          "output_type": "execute_result",
          "data": {
            "text/plain": [
              "True"
            ]
          },
          "metadata": {},
          "execution_count": 33
        }
      ]
    },
    {
      "cell_type": "code",
      "metadata": {
        "id": "eucNNnTGUl3P",
        "outputId": "11c24409-cb1c-4d86-c621-bb47ade5532f",
        "colab": {
          "base_uri": "https://localhost:8080/"
        }
      },
      "source": [
        "bool(0)"
      ],
      "execution_count": null,
      "outputs": [
        {
          "output_type": "execute_result",
          "data": {
            "text/plain": [
              "False"
            ]
          },
          "metadata": {},
          "execution_count": 21
        }
      ]
    },
    {
      "cell_type": "code",
      "metadata": {
        "id": "8oFCRTojUo7P",
        "outputId": "e9d482bb-7a64-48cd-bebc-93fc01f89b38",
        "colab": {
          "base_uri": "https://localhost:8080/"
        }
      },
      "source": [
        "True and False"
      ],
      "execution_count": null,
      "outputs": [
        {
          "output_type": "execute_result",
          "data": {
            "text/plain": [
              "False"
            ]
          },
          "metadata": {},
          "execution_count": 22
        }
      ]
    },
    {
      "cell_type": "code",
      "metadata": {
        "id": "wK9BWrMZUspT",
        "outputId": "f90a4716-ab7e-4c65-f3ce-09c309b87016",
        "colab": {
          "base_uri": "https://localhost:8080/"
        }
      },
      "source": [
        "True and (False or True)"
      ],
      "execution_count": null,
      "outputs": [
        {
          "output_type": "execute_result",
          "data": {
            "text/plain": [
              "True"
            ]
          },
          "metadata": {},
          "execution_count": 23
        }
      ]
    },
    {
      "cell_type": "code",
      "source": [
        "(12 < 15 or 5 < 3) and 1 == 1"
      ],
      "metadata": {
        "colab": {
          "base_uri": "https://localhost:8080/"
        },
        "id": "M9OjNAsb_nvb",
        "outputId": "fcca879d-7e2e-4773-aaed-fb0524ac4273"
      },
      "execution_count": null,
      "outputs": [
        {
          "output_type": "execute_result",
          "data": {
            "text/plain": [
              "True"
            ]
          },
          "metadata": {},
          "execution_count": 46
        }
      ]
    },
    {
      "cell_type": "markdown",
      "metadata": {
        "id": "IVDZb9JfOGVa"
      },
      "source": [
        "### Строки\n"
      ]
    },
    {
      "cell_type": "code",
      "metadata": {
        "id": "OFaEEHIwVEvE",
        "outputId": "0b4e951d-6f7b-43de-fe4e-21956b4d43ff",
        "colab": {
          "base_uri": "https://localhost:8080/",
          "height": 36
        }
      },
      "source": [
        "'python'"
      ],
      "execution_count": null,
      "outputs": [
        {
          "output_type": "execute_result",
          "data": {
            "text/plain": [
              "'python'"
            ],
            "application/vnd.google.colaboratory.intrinsic+json": {
              "type": "string"
            }
          },
          "metadata": {},
          "execution_count": 1
        }
      ]
    },
    {
      "cell_type": "code",
      "metadata": {
        "id": "CQsrFU3sVHCd",
        "outputId": "58fcabd5-b035-4bc9-e96d-e52295576d41",
        "colab": {
          "base_uri": "https://localhost:8080/",
          "height": 36
        }
      },
      "source": [
        "\"python\""
      ],
      "execution_count": null,
      "outputs": [
        {
          "output_type": "execute_result",
          "data": {
            "text/plain": [
              "'python'"
            ],
            "application/vnd.google.colaboratory.intrinsic+json": {
              "type": "string"
            }
          },
          "metadata": {},
          "execution_count": 30
        }
      ]
    },
    {
      "cell_type": "code",
      "metadata": {
        "id": "ilzTtwRjVH4p",
        "outputId": "704e6d1f-67e0-4739-ef9e-f3fbdb590a36",
        "colab": {
          "base_uri": "https://localhost:8080/",
          "height": 36
        }
      },
      "source": [
        "\"\"\" python python\n",
        "python python\n",
        " \"\"\""
      ],
      "execution_count": null,
      "outputs": [
        {
          "output_type": "execute_result",
          "data": {
            "text/plain": [
              "' python python\\npython python '"
            ],
            "application/vnd.google.colaboratory.intrinsic+json": {
              "type": "string"
            }
          },
          "metadata": {},
          "execution_count": 31
        }
      ]
    },
    {
      "cell_type": "code",
      "metadata": {
        "id": "mg5rmc4_VMAR",
        "outputId": "9884fc5f-2698-4154-da47-dda7aae4f97d",
        "colab": {
          "base_uri": "https://localhost:8080/"
        }
      },
      "source": [
        "print(\"\"\" python python\n",
        "python python \"\"\")"
      ],
      "execution_count": null,
      "outputs": [
        {
          "output_type": "stream",
          "name": "stdout",
          "text": [
            " python python\n",
            "python python \n"
          ]
        }
      ]
    },
    {
      "cell_type": "code",
      "metadata": {
        "id": "o5s2f8OIVPZu",
        "outputId": "86d8eeb6-6bad-4934-ab6c-40ed2c232698",
        "colab": {
          "base_uri": "https://localhost:8080/",
          "height": 36
        }
      },
      "source": [
        "'строка с \"кавычками\"'"
      ],
      "execution_count": null,
      "outputs": [
        {
          "output_type": "execute_result",
          "data": {
            "text/plain": [
              "'строка с \"кавычками\"'"
            ],
            "application/vnd.google.colaboratory.intrinsic+json": {
              "type": "string"
            }
          },
          "metadata": {},
          "execution_count": 33
        }
      ]
    },
    {
      "cell_type": "code",
      "metadata": {
        "id": "Rt3LK54HVVns",
        "outputId": "36c2ba56-7f2d-4731-f0da-a6ae4f5b516a",
        "colab": {
          "base_uri": "https://localhost:8080/",
          "height": 36
        }
      },
      "source": [
        "\"строка с 'кавычками'\""
      ],
      "execution_count": null,
      "outputs": [
        {
          "output_type": "execute_result",
          "data": {
            "text/plain": [
              "\"строка с 'кавычками'\""
            ],
            "application/vnd.google.colaboratory.intrinsic+json": {
              "type": "string"
            }
          },
          "metadata": {},
          "execution_count": 34
        }
      ]
    },
    {
      "cell_type": "code",
      "metadata": {
        "id": "d90zPsRqVYZ9",
        "outputId": "4ad1e22f-312c-4755-fa71-917e39d8560f",
        "colab": {
          "base_uri": "https://localhost:8080/",
          "height": 36
        }
      },
      "source": [
        "\"строка с \\\"кавычками\\\"\""
      ],
      "execution_count": null,
      "outputs": [
        {
          "output_type": "execute_result",
          "data": {
            "text/plain": [
              "'строка с \"кавычками\"'"
            ],
            "application/vnd.google.colaboratory.intrinsic+json": {
              "type": "string"
            }
          },
          "metadata": {},
          "execution_count": 35
        }
      ]
    },
    {
      "cell_type": "code",
      "metadata": {
        "id": "LkKEx-1sVenl",
        "outputId": "c19eb0b9-50d3-4007-b310-04bd460e275f",
        "colab": {
          "base_uri": "https://localhost:8080/",
          "height": 36
        }
      },
      "source": [
        "a = 'Можно' + ' складывать строки'\n",
        "a"
      ],
      "execution_count": null,
      "outputs": [
        {
          "output_type": "execute_result",
          "data": {
            "text/plain": [
              "'Можно складывать строки'"
            ],
            "application/vnd.google.colaboratory.intrinsic+json": {
              "type": "string"
            }
          },
          "metadata": {},
          "execution_count": 35
        }
      ]
    },
    {
      "cell_type": "code",
      "metadata": {
        "id": "rWuDCJXTVl_8",
        "outputId": "36ace1c2-cbef-4f4e-b6ef-cf70922f7175",
        "colab": {
          "base_uri": "https://localhost:8080/",
          "height": 36
        }
      },
      "source": [
        "'python ' * 3"
      ],
      "execution_count": null,
      "outputs": [
        {
          "output_type": "execute_result",
          "data": {
            "text/plain": [
              "'python python python '"
            ],
            "application/vnd.google.colaboratory.intrinsic+json": {
              "type": "string"
            }
          },
          "metadata": {},
          "execution_count": 37
        }
      ]
    },
    {
      "cell_type": "code",
      "source": [
        "print('_' * 30)"
      ],
      "metadata": {
        "colab": {
          "base_uri": "https://localhost:8080/"
        },
        "id": "eeQPnfj6031K",
        "outputId": "0f0c808c-1cc2-4e6a-a451-0923aef13dd1"
      },
      "execution_count": null,
      "outputs": [
        {
          "output_type": "stream",
          "name": "stdout",
          "text": [
            "______________________________\n"
          ]
        }
      ]
    },
    {
      "cell_type": "code",
      "source": [
        "len(a)"
      ],
      "metadata": {
        "colab": {
          "base_uri": "https://localhost:8080/"
        },
        "id": "9CI93Weq1FLd",
        "outputId": "36d93c4e-770a-4975-948c-5f73452f2968"
      },
      "execution_count": null,
      "outputs": [
        {
          "output_type": "execute_result",
          "data": {
            "text/plain": [
              "23"
            ]
          },
          "metadata": {},
          "execution_count": 4
        }
      ]
    },
    {
      "cell_type": "code",
      "source": [
        "a[-23]"
      ],
      "metadata": {
        "colab": {
          "base_uri": "https://localhost:8080/",
          "height": 36
        },
        "id": "edwwkBiS1JRL",
        "outputId": "1bdcb359-6281-4422-d504-e28d94ed9133"
      },
      "execution_count": null,
      "outputs": [
        {
          "output_type": "execute_result",
          "data": {
            "text/plain": [
              "'М'"
            ],
            "application/vnd.google.colaboratory.intrinsic+json": {
              "type": "string"
            }
          },
          "metadata": {},
          "execution_count": 11
        }
      ]
    },
    {
      "cell_type": "code",
      "source": [
        "a[15]"
      ],
      "metadata": {
        "colab": {
          "base_uri": "https://localhost:8080/",
          "height": 36
        },
        "id": "ciZZ4HxE1z9F",
        "outputId": "82922a77-b472-4554-e312-36237ce6aeda"
      },
      "execution_count": null,
      "outputs": [
        {
          "output_type": "execute_result",
          "data": {
            "text/plain": [
              "'ь'"
            ],
            "application/vnd.google.colaboratory.intrinsic+json": {
              "type": "string"
            }
          },
          "metadata": {},
          "execution_count": 16
        }
      ]
    },
    {
      "cell_type": "code",
      "metadata": {
        "id": "9MStENHDVpoL",
        "outputId": "8d417cd5-46ff-402c-86cd-05ce453def75",
        "colab": {
          "base_uri": "https://localhost:8080/",
          "height": 36
        }
      },
      "source": [
        "a[6:16]"
      ],
      "execution_count": null,
      "outputs": [
        {
          "output_type": "execute_result",
          "data": {
            "text/plain": [
              "'складывать'"
            ],
            "application/vnd.google.colaboratory.intrinsic+json": {
              "type": "string"
            }
          },
          "metadata": {},
          "execution_count": 17
        }
      ]
    },
    {
      "cell_type": "code",
      "metadata": {
        "id": "EhlxrcUoVygc",
        "outputId": "276b1571-a712-49c2-87bf-08a6c13d6cf1",
        "colab": {
          "base_uri": "https://localhost:8080/",
          "height": 36
        }
      },
      "source": [
        "a[:]"
      ],
      "execution_count": null,
      "outputs": [
        {
          "output_type": "execute_result",
          "data": {
            "text/plain": [
              "'Можно складывать строки'"
            ],
            "application/vnd.google.colaboratory.intrinsic+json": {
              "type": "string"
            }
          },
          "metadata": {},
          "execution_count": 36
        }
      ]
    },
    {
      "cell_type": "code",
      "metadata": {
        "id": "3TGr1vGuV2mp",
        "outputId": "343e91a2-8738-46c9-f8b7-26b9f0753e00",
        "colab": {
          "base_uri": "https://localhost:8080/",
          "height": 36
        }
      },
      "source": [
        "a = '0123456789'\n",
        "a[1::2]"
      ],
      "execution_count": null,
      "outputs": [
        {
          "output_type": "execute_result",
          "data": {
            "text/plain": [
              "'13579'"
            ],
            "application/vnd.google.colaboratory.intrinsic+json": {
              "type": "string"
            }
          },
          "metadata": {},
          "execution_count": 38
        }
      ]
    },
    {
      "cell_type": "code",
      "source": [
        "a[::-2]"
      ],
      "metadata": {
        "colab": {
          "base_uri": "https://localhost:8080/",
          "height": 36
        },
        "id": "TSHIFv7R2Ybs",
        "outputId": "11065bf8-8d18-4a5b-baac-f81acadf8b66"
      },
      "execution_count": null,
      "outputs": [
        {
          "output_type": "execute_result",
          "data": {
            "text/plain": [
              "'97531'"
            ],
            "application/vnd.google.colaboratory.intrinsic+json": {
              "type": "string"
            }
          },
          "metadata": {},
          "execution_count": 26
        }
      ]
    },
    {
      "cell_type": "code",
      "metadata": {
        "id": "rRRCkKNAV5uK",
        "outputId": "0d714304-7944-4bbe-9dae-ac1b4617eaaa",
        "colab": {
          "base_uri": "https://localhost:8080/",
          "height": 36
        }
      },
      "source": [
        "a[::-1]"
      ],
      "execution_count": null,
      "outputs": [
        {
          "output_type": "execute_result",
          "data": {
            "text/plain": [
              "'9876543210'"
            ],
            "application/vnd.google.colaboratory.intrinsic+json": {
              "type": "string"
            }
          },
          "metadata": {},
          "execution_count": 41
        }
      ]
    },
    {
      "cell_type": "code",
      "metadata": {
        "id": "uCju1tg_WB_5",
        "outputId": "bdd3dbf5-e6ce-4e47-abf9-b87557f81c24",
        "colab": {
          "base_uri": "https://localhost:8080/"
        }
      },
      "source": [
        "a = 'хорошо'\n",
        "a.count('о')"
      ],
      "execution_count": null,
      "outputs": [
        {
          "output_type": "execute_result",
          "data": {
            "text/plain": [
              "3"
            ]
          },
          "metadata": {},
          "execution_count": 40
        }
      ]
    },
    {
      "cell_type": "code",
      "metadata": {
        "id": "bm2KbJ6CWIka",
        "outputId": "a7615ce7-e680-4b52-fcaf-a88c4ddf5661",
        "colab": {
          "base_uri": "https://localhost:8080/",
          "height": 36
        }
      },
      "source": [
        "a.capitalize()"
      ],
      "execution_count": null,
      "outputs": [
        {
          "output_type": "execute_result",
          "data": {
            "text/plain": [
              "'Хорошо'"
            ],
            "application/vnd.google.colaboratory.intrinsic+json": {
              "type": "string"
            }
          },
          "metadata": {},
          "execution_count": 44
        }
      ]
    },
    {
      "cell_type": "code",
      "source": [
        "a.upper()"
      ],
      "metadata": {
        "colab": {
          "base_uri": "https://localhost:8080/",
          "height": 36
        },
        "id": "9z5eH4IQ2zPb",
        "outputId": "5f6c7de0-1143-410d-cd04-53179356f68d"
      },
      "execution_count": null,
      "outputs": [
        {
          "output_type": "execute_result",
          "data": {
            "text/plain": [
              "'ХОРОШО'"
            ],
            "application/vnd.google.colaboratory.intrinsic+json": {
              "type": "string"
            }
          },
          "metadata": {},
          "execution_count": 31
        }
      ]
    },
    {
      "cell_type": "code",
      "source": [
        "a.lower()"
      ],
      "metadata": {
        "colab": {
          "base_uri": "https://localhost:8080/",
          "height": 36
        },
        "id": "v5KSBavo21nZ",
        "outputId": "0ff36183-f593-4f74-f334-c8d94decb2eb"
      },
      "execution_count": null,
      "outputs": [
        {
          "output_type": "execute_result",
          "data": {
            "text/plain": [
              "'хорошо'"
            ],
            "application/vnd.google.colaboratory.intrinsic+json": {
              "type": "string"
            }
          },
          "metadata": {},
          "execution_count": 32
        }
      ]
    },
    {
      "cell_type": "code",
      "metadata": {
        "id": "PMZbvyHWWNTB",
        "outputId": "e840f55e-6231-476b-db37-fbef4890df6c",
        "colab": {
          "base_uri": "https://localhost:8080/"
        }
      },
      "source": [
        "a = input()\n",
        "# a = '14'\n",
        "a.isdigit()"
      ],
      "execution_count": null,
      "outputs": [
        {
          "name": "stdout",
          "output_type": "stream",
          "text": [
            "1\n"
          ]
        },
        {
          "output_type": "execute_result",
          "data": {
            "text/plain": [
              "True"
            ]
          },
          "metadata": {},
          "execution_count": 42
        }
      ]
    },
    {
      "cell_type": "code",
      "source": [
        "type(int(a))"
      ],
      "metadata": {
        "colab": {
          "base_uri": "https://localhost:8080/"
        },
        "id": "5XY_ZoGurDvR",
        "outputId": "c40366f2-aafb-420c-e069-b03e20913bcf"
      },
      "execution_count": null,
      "outputs": [
        {
          "output_type": "execute_result",
          "data": {
            "text/plain": [
              "int"
            ]
          },
          "metadata": {},
          "execution_count": 45
        }
      ]
    },
    {
      "cell_type": "code",
      "source": [
        "a = input(\"Введите два числа через запятую\")\n",
        "a"
      ],
      "metadata": {
        "colab": {
          "base_uri": "https://localhost:8080/",
          "height": 53
        },
        "id": "mnjG2drV3Rvw",
        "outputId": "7f24d95d-7833-4af3-a193-8e1b4380688e"
      },
      "execution_count": null,
      "outputs": [
        {
          "name": "stdout",
          "output_type": "stream",
          "text": [
            "Введите два числа через запятую1,4\n"
          ]
        },
        {
          "output_type": "execute_result",
          "data": {
            "text/plain": [
              "'1,4'"
            ],
            "application/vnd.google.colaboratory.intrinsic+json": {
              "type": "string"
            }
          },
          "metadata": {},
          "execution_count": 46
        }
      ]
    },
    {
      "cell_type": "code",
      "source": [
        "a.split(',')"
      ],
      "metadata": {
        "colab": {
          "base_uri": "https://localhost:8080/"
        },
        "id": "WA3vYpCY3ec7",
        "outputId": "57481a3b-0be4-4b6b-abbe-ccd0072605fa"
      },
      "execution_count": null,
      "outputs": [
        {
          "output_type": "execute_result",
          "data": {
            "text/plain": [
              "['1', '2']"
            ]
          },
          "metadata": {},
          "execution_count": 40
        }
      ]
    },
    {
      "cell_type": "code",
      "metadata": {
        "id": "d3EysBfpn-WJ",
        "outputId": "c2d2fb63-391d-4e01-e5cb-b4cb33b05812",
        "colab": {
          "base_uri": "https://localhost:8080/"
        }
      },
      "source": [
        "a = '14 15'\n",
        "a.split(' ')"
      ],
      "execution_count": null,
      "outputs": [
        {
          "output_type": "execute_result",
          "data": {
            "text/plain": [
              "['14', '15']"
            ]
          },
          "metadata": {},
          "execution_count": 49
        }
      ]
    },
    {
      "cell_type": "code",
      "metadata": {
        "id": "gWqUUR1zoDQX",
        "outputId": "e98cb7ed-170c-4926-e951-8417cf6a4a54",
        "colab": {
          "base_uri": "https://localhost:8080/"
        }
      },
      "source": [
        "a = '14, 15,1, 6'\n",
        "a.split(',')"
      ],
      "execution_count": null,
      "outputs": [
        {
          "output_type": "execute_result",
          "data": {
            "text/plain": [
              "['14', ' 15', '1', ' 6']"
            ]
          },
          "metadata": {},
          "execution_count": 43
        }
      ]
    },
    {
      "cell_type": "code",
      "metadata": {
        "id": "iZ_4k5ecoGHU",
        "outputId": "0bd89b40-e141-4511-aac1-3208557452fd",
        "colab": {
          "base_uri": "https://localhost:8080/",
          "height": 36
        }
      },
      "source": [
        "'   15  '.strip()"
      ],
      "execution_count": null,
      "outputs": [
        {
          "output_type": "execute_result",
          "data": {
            "text/plain": [
              "'15'"
            ],
            "application/vnd.google.colaboratory.intrinsic+json": {
              "type": "string"
            }
          },
          "metadata": {},
          "execution_count": 47
        }
      ]
    },
    {
      "cell_type": "code",
      "metadata": {
        "id": "kfTBvZbYoTsb",
        "outputId": "7c263a9a-217c-4ef1-fe8d-5e34566aef62",
        "colab": {
          "base_uri": "https://localhost:8080/",
          "height": 36
        }
      },
      "source": [
        "'14  15'.replace(' ', '')"
      ],
      "execution_count": null,
      "outputs": [
        {
          "output_type": "execute_result",
          "data": {
            "text/plain": [
              "'1415'"
            ],
            "application/vnd.google.colaboratory.intrinsic+json": {
              "type": "string"
            }
          },
          "metadata": {},
          "execution_count": 50
        }
      ]
    },
    {
      "cell_type": "code",
      "metadata": {
        "id": "Dcr1TAydWRNE",
        "outputId": "0df5b74c-f69f-4e5d-b3c3-039acac331f1",
        "colab": {
          "base_uri": "https://localhost:8080/",
          "height": 36
        }
      },
      "source": [
        "str(14)"
      ],
      "execution_count": null,
      "outputs": [
        {
          "output_type": "execute_result",
          "data": {
            "text/plain": [
              "'14'"
            ],
            "application/vnd.google.colaboratory.intrinsic+json": {
              "type": "string"
            }
          },
          "metadata": {},
          "execution_count": 50
        }
      ]
    },
    {
      "cell_type": "code",
      "source": [
        "int('14c')"
      ],
      "metadata": {
        "colab": {
          "base_uri": "https://localhost:8080/",
          "height": 141
        },
        "id": "k48wQ-xTrkt8",
        "outputId": "3663f80f-b9c8-44d0-db9b-e92cce1e91b0"
      },
      "execution_count": null,
      "outputs": [
        {
          "output_type": "error",
          "ename": "ValueError",
          "evalue": "invalid literal for int() with base 10: '14c'",
          "traceback": [
            "\u001b[0;31m---------------------------------------------------------------------------\u001b[0m",
            "\u001b[0;31mValueError\u001b[0m                                Traceback (most recent call last)",
            "\u001b[0;32m<ipython-input-52-a585f4da629c>\u001b[0m in \u001b[0;36m<cell line: 1>\u001b[0;34m()\u001b[0m\n\u001b[0;32m----> 1\u001b[0;31m \u001b[0mint\u001b[0m\u001b[0;34m(\u001b[0m\u001b[0;34m'14c'\u001b[0m\u001b[0;34m)\u001b[0m\u001b[0;34m\u001b[0m\u001b[0;34m\u001b[0m\u001b[0m\n\u001b[0m",
            "\u001b[0;31mValueError\u001b[0m: invalid literal for int() with base 10: '14c'"
          ]
        }
      ]
    },
    {
      "cell_type": "code",
      "metadata": {
        "id": "TaytJDRjWW07",
        "outputId": "dc1f6b72-1d9c-4cba-c732-c3397ba6afe5",
        "colab": {
          "base_uri": "https://localhost:8080/"
        }
      },
      "source": [
        "bool('14')"
      ],
      "execution_count": null,
      "outputs": [
        {
          "output_type": "execute_result",
          "data": {
            "text/plain": [
              "True"
            ]
          },
          "metadata": {},
          "execution_count": 51
        }
      ]
    },
    {
      "cell_type": "code",
      "source": [
        "bool('0')"
      ],
      "metadata": {
        "colab": {
          "base_uri": "https://localhost:8080/"
        },
        "id": "aW5J4f4J4ZUB",
        "outputId": "3a2ee6ad-5c04-40ec-c94b-ca49f3988bec"
      },
      "execution_count": null,
      "outputs": [
        {
          "output_type": "execute_result",
          "data": {
            "text/plain": [
              "True"
            ]
          },
          "metadata": {},
          "execution_count": 53
        }
      ]
    },
    {
      "cell_type": "code",
      "metadata": {
        "id": "L4kq-ambWZbf",
        "outputId": "f2d2b9af-c049-4231-fcc9-0562114d0efc",
        "colab": {
          "base_uri": "https://localhost:8080/"
        }
      },
      "source": [
        "bool('')"
      ],
      "execution_count": null,
      "outputs": [
        {
          "output_type": "execute_result",
          "data": {
            "text/plain": [
              "False"
            ]
          },
          "metadata": {},
          "execution_count": 52
        }
      ]
    },
    {
      "cell_type": "markdown",
      "source": [
        "#### Форматирование строк"
      ],
      "metadata": {
        "id": "fehp1_G4NGp_"
      }
    },
    {
      "cell_type": "code",
      "metadata": {
        "id": "HTgtfjUNWiuB",
        "outputId": "29ad91cb-19e2-4cf4-f500-94e005ce9ce7",
        "colab": {
          "base_uri": "https://localhost:8080/",
          "height": 36
        }
      },
      "source": [
        "'%s сюда вставилось слово' % 10"
      ],
      "execution_count": null,
      "outputs": [
        {
          "output_type": "execute_result",
          "data": {
            "text/plain": [
              "'10 сюда вставилось слово'"
            ],
            "application/vnd.google.colaboratory.intrinsic+json": {
              "type": "string"
            }
          },
          "metadata": {},
          "execution_count": 55
        }
      ]
    },
    {
      "cell_type": "code",
      "metadata": {
        "id": "PcCwSKYoWtpo",
        "outputId": "5a99f5b1-e601-40e1-f933-b38f90a782cf",
        "colab": {
          "base_uri": "https://localhost:8080/",
          "height": 36
        }
      },
      "source": [
        "'%d сюда вставилось число' % 14"
      ],
      "execution_count": null,
      "outputs": [
        {
          "output_type": "execute_result",
          "data": {
            "text/plain": [
              "'14 сюда вставилось число'"
            ],
            "application/vnd.google.colaboratory.intrinsic+json": {
              "type": "string"
            }
          },
          "metadata": {},
          "execution_count": 55
        }
      ]
    },
    {
      "cell_type": "code",
      "metadata": {
        "id": "M8lo0oZnWy53",
        "outputId": "79a8f0b4-3d7d-465b-b8ac-40aa934313db",
        "colab": {
          "base_uri": "https://localhost:8080/",
          "height": 36
        }
      },
      "source": [
        "'%f сюда вставилось число' % 14.13"
      ],
      "execution_count": null,
      "outputs": [
        {
          "output_type": "execute_result",
          "data": {
            "text/plain": [
              "'14.130000 сюда вставилось число'"
            ],
            "application/vnd.google.colaboratory.intrinsic+json": {
              "type": "string"
            }
          },
          "metadata": {},
          "execution_count": 57
        }
      ]
    },
    {
      "cell_type": "code",
      "metadata": {
        "id": "8Q_WCAGtW3Nu",
        "outputId": "67ac50b8-571a-410f-873a-1f2d37e7eeb3",
        "colab": {
          "base_uri": "https://localhost:8080/",
          "height": 36
        }
      },
      "source": [
        "'%d сюда вставилось число' % 14.13"
      ],
      "execution_count": null,
      "outputs": [
        {
          "output_type": "execute_result",
          "data": {
            "text/plain": [
              "'14 сюда вставилось число'"
            ],
            "application/vnd.google.colaboratory.intrinsic+json": {
              "type": "string"
            }
          },
          "metadata": {},
          "execution_count": 57
        }
      ]
    },
    {
      "cell_type": "code",
      "metadata": {
        "id": "x_MiCGN1Wn2z",
        "outputId": "97b537c8-a152-43bb-8031-54d97abcb9c4",
        "colab": {
          "base_uri": "https://localhost:8080/",
          "height": 36
        }
      },
      "source": [
        "'{} сюда вставилось слово'.format('word')"
      ],
      "execution_count": null,
      "outputs": [
        {
          "output_type": "execute_result",
          "data": {
            "text/plain": [
              "'word сюда вставилось слово'"
            ],
            "application/vnd.google.colaboratory.intrinsic+json": {
              "type": "string"
            }
          },
          "metadata": {},
          "execution_count": 59
        }
      ]
    },
    {
      "cell_type": "code",
      "source": [
        "'{2} сюда вставилось слово'.format('word', 'dcsdc', 'sdcsdc')"
      ],
      "metadata": {
        "colab": {
          "base_uri": "https://localhost:8080/",
          "height": 36
        },
        "id": "d3-z0awj5GBu",
        "outputId": "a33ad59d-3eb8-4f45-95d0-b584e49e6e34"
      },
      "execution_count": null,
      "outputs": [
        {
          "output_type": "execute_result",
          "data": {
            "text/plain": [
              "'sdcsdc сюда вставилось слово'"
            ],
            "application/vnd.google.colaboratory.intrinsic+json": {
              "type": "string"
            }
          },
          "metadata": {},
          "execution_count": 62
        }
      ]
    },
    {
      "cell_type": "code",
      "source": [
        "'{0} сюда вставилось слово, а {1} сюда число'.format('word', 14)"
      ],
      "metadata": {
        "colab": {
          "base_uri": "https://localhost:8080/",
          "height": 36
        },
        "id": "udgHdTxG5SYg",
        "outputId": "fa7875ae-70c2-43ff-8af0-b57712dffcfb"
      },
      "execution_count": null,
      "outputs": [
        {
          "output_type": "execute_result",
          "data": {
            "text/plain": [
              "'word сюда вставилось слово, а 14 сюда число'"
            ],
            "application/vnd.google.colaboratory.intrinsic+json": {
              "type": "string"
            }
          },
          "metadata": {},
          "execution_count": 66
        }
      ]
    },
    {
      "cell_type": "code",
      "metadata": {
        "id": "_OhBsQUGW7FA",
        "outputId": "09aa9929-bdc2-4192-d913-e61a97cfd1d5",
        "colab": {
          "base_uri": "https://localhost:8080/",
          "height": 36
        }
      },
      "source": [
        "'{num} сюда вставилось слово, а {name} сюда число'.format(name='word', num=14)"
      ],
      "execution_count": null,
      "outputs": [
        {
          "output_type": "execute_result",
          "data": {
            "text/plain": [
              "'14 сюда вставилось слово, а word сюда число'"
            ],
            "application/vnd.google.colaboratory.intrinsic+json": {
              "type": "string"
            }
          },
          "metadata": {},
          "execution_count": 63
        }
      ]
    },
    {
      "cell_type": "code",
      "metadata": {
        "id": "NCEaS-TEW7Ca",
        "outputId": "cb316c89-fc03-4402-a68f-8b3ceee2288b",
        "colab": {
          "base_uri": "https://localhost:8080/",
          "height": 36
        }
      },
      "source": [
        "name = 'word'\n",
        "num = 14\n",
        "f'{name} сюда поставили слово, а сюда поставили число {num}'"
      ],
      "execution_count": null,
      "outputs": [
        {
          "output_type": "execute_result",
          "data": {
            "text/plain": [
              "'word сюда поставили слово, а сюда поставили число 14'"
            ],
            "application/vnd.google.colaboratory.intrinsic+json": {
              "type": "string"
            }
          },
          "metadata": {},
          "execution_count": 67
        }
      ]
    },
    {
      "cell_type": "code",
      "source": [
        "num = 10\n",
        "f'{num / 3} output'"
      ],
      "metadata": {
        "colab": {
          "base_uri": "https://localhost:8080/",
          "height": 36
        },
        "id": "F7zxGhhs5lz-",
        "outputId": "18856e22-e516-4535-c24b-986d8342e641"
      },
      "execution_count": null,
      "outputs": [
        {
          "output_type": "execute_result",
          "data": {
            "text/plain": [
              "'3.3333333333333335 output'"
            ],
            "application/vnd.google.colaboratory.intrinsic+json": {
              "type": "string"
            }
          },
          "metadata": {},
          "execution_count": 66
        }
      ]
    },
    {
      "cell_type": "markdown",
      "source": [
        "<img src='https://drive.google.com/uc?id=1GW3m742o-nO5nQop0gR4mLqshY86TXi7'>"
      ],
      "metadata": {
        "id": "y1-cgu7cfHrF"
      }
    },
    {
      "cell_type": "code",
      "metadata": {
        "id": "s1gMxSgcW6_r",
        "outputId": "cd876d04-2171-4971-b07a-79eeb725cd86",
        "colab": {
          "base_uri": "https://localhost:8080/",
          "height": 36
        }
      },
      "source": [
        "num = 2 / 3\n",
        "f'{num:.2f}'"
      ],
      "execution_count": null,
      "outputs": [
        {
          "output_type": "execute_result",
          "data": {
            "text/plain": [
              "'0.67'"
            ],
            "application/vnd.google.colaboratory.intrinsic+json": {
              "type": "string"
            }
          },
          "metadata": {},
          "execution_count": 71
        }
      ]
    },
    {
      "cell_type": "code",
      "metadata": {
        "id": "0sfO4Ox_W68J",
        "outputId": "8c38b021-8b84-458b-93b4-395caccf780c",
        "colab": {
          "base_uri": "https://localhost:8080/",
          "height": 53
        }
      },
      "source": [
        "name = input('Your name ')\n",
        "f'Hi, {name}'"
      ],
      "execution_count": null,
      "outputs": [
        {
          "name": "stdout",
          "output_type": "stream",
          "text": [
            "Your name Julia\n"
          ]
        },
        {
          "output_type": "execute_result",
          "data": {
            "text/plain": [
              "'Hi, Julia'"
            ],
            "application/vnd.google.colaboratory.intrinsic+json": {
              "type": "string"
            }
          },
          "metadata": {},
          "execution_count": 67
        }
      ]
    },
    {
      "cell_type": "code",
      "metadata": {
        "id": "Y0HOc-pXCvsx",
        "outputId": "9962333d-6f34-4dd0-ff76-a88a04f788e9",
        "colab": {
          "base_uri": "https://localhost:8080/"
        }
      },
      "source": [
        "n = input(\"Введите свой возраст: \")\n",
        "# пользователь вводит 18\n",
        "print(type(n))"
      ],
      "execution_count": null,
      "outputs": [
        {
          "output_type": "stream",
          "name": "stdout",
          "text": [
            "Введите свой возраст: 18\n",
            "<class 'str'>\n"
          ]
        }
      ]
    },
    {
      "cell_type": "markdown",
      "source": [
        "# Практика"
      ],
      "metadata": {
        "id": "P1q7KURSbEgh"
      }
    },
    {
      "cell_type": "markdown",
      "source": [
        "## Сумма цифр в числе\n",
        "\n",
        "Разработайте программу, запрашивающую у пользователя целое четырёхзначное число и подсчитывающую сумму составляющих его цифр.\n",
        "\n",
        "Пример работы программы:<br>\n",
        "Введите число: 5432<br>\n",
        "Сумма цифр равна 14\n"
      ],
      "metadata": {
        "id": "dMHzS0vdZP37"
      }
    },
    {
      "cell_type": "code",
      "source": [
        "#@title решение\n",
        "num = int(input('Введите четырёхзначное число: '))\n",
        "\n",
        "sum_ = num % 10 + \\\n",
        "    num // 10 % 10 + \\\n",
        "    num // 100 % 10 + \\\n",
        "    num // 1000 % 10\n",
        "\n",
        "print(f'Сумма цифр равна {sum_}')"
      ],
      "metadata": {
        "colab": {
          "base_uri": "https://localhost:8080/"
        },
        "id": "vVmrk-LBZ_wo",
        "outputId": "3cdec8d1-88fb-4f10-d9fe-4b3f21e76e80",
        "cellView": "form"
      },
      "execution_count": null,
      "outputs": [
        {
          "output_type": "stream",
          "name": "stdout",
          "text": [
            "Введите четырёхзначное число: 5432\n",
            "Сумма цифр равна 14\n"
          ]
        }
      ]
    },
    {
      "cell_type": "markdown",
      "source": [
        "## Форматирование строк\n",
        "\n",
        "Имеется три переменные:\n",
        "> name = 'ВАСЯ'<br>\n",
        "> bonus = 12345<br>\n",
        "> boost = 0.12<br>\n",
        "\n",
        "Сформируйте строку с помощью двух методов форматирования.<br>\n",
        "\n",
        "> Вася получил премию 12_345 рублей или 12.0%."
      ],
      "metadata": {
        "id": "quQNi_cGaX8i"
      }
    },
    {
      "cell_type": "code",
      "source": [
        "#@title решение\n",
        "name = 'ВАСЯ'\n",
        "bonus = 12345\n",
        "boost = 0.12\n",
        "\n",
        "print(f'{name.capitalize()} получил премию {bonus:_} рублей или {boost:.1%}.')\n",
        "print('{} получил премию {:_} рублей или {:.1%}'.format(\n",
        "    name.capitalize(), bonus, boost))"
      ],
      "metadata": {
        "colab": {
          "base_uri": "https://localhost:8080/"
        },
        "id": "jtToEK7wakED",
        "outputId": "a54d7007-52d4-47eb-be28-d455f15debf5",
        "cellView": "form"
      },
      "execution_count": null,
      "outputs": [
        {
          "output_type": "stream",
          "name": "stdout",
          "text": [
            "Вася получил премию 12_345 рублей или 12.0%.\n",
            "Вася получил премию 12_345 рублей или 12.0%\n"
          ]
        }
      ]
    },
    {
      "cell_type": "markdown",
      "metadata": {
        "id": "tkpXg-jpXzn-"
      },
      "source": [
        "# Конструкции управлением потока (if, while, for)"
      ]
    },
    {
      "cell_type": "code",
      "metadata": {
        "id": "kDWH_zRfX07c",
        "outputId": "5bca6a53-54ec-4a75-9238-db75c31274bd",
        "colab": {
          "base_uri": "https://localhost:8080/"
        }
      },
      "source": [
        "company = 'my.google.com'\n",
        "\n",
        "if 'my' in company:\n",
        "    print('подстрока my найдена')\n",
        "elif 'google' in company:\n",
        "    print('подстрока google найдена')\n",
        "else:\n",
        "    print('подстрока не найдена')"
      ],
      "execution_count": null,
      "outputs": [
        {
          "output_type": "stream",
          "name": "stdout",
          "text": [
            "подстрока my найдена\n",
            "подстрока google найдена\n"
          ]
        }
      ]
    },
    {
      "cell_type": "code",
      "source": [
        "print('условие выполнено') if 'my' in company else print('условие не выполнено')"
      ],
      "metadata": {
        "colab": {
          "base_uri": "https://localhost:8080/"
        },
        "id": "3AuAWZmEPjG_",
        "outputId": "25127431-c66f-43b7-b091-f7fe9fd5b157"
      },
      "execution_count": null,
      "outputs": [
        {
          "output_type": "stream",
          "name": "stdout",
          "text": [
            "условие выполнено\n"
          ]
        }
      ]
    },
    {
      "cell_type": "code",
      "metadata": {
        "id": "DPDyfU14YZdR",
        "outputId": "5e5a3bbc-5f88-4d76-87a3-91bf32c91f58",
        "colab": {
          "base_uri": "https://localhost:8080/",
          "height": 36
        }
      },
      "source": [
        "result = 'Правда' if 5 < 0 else 'Не правда'\n",
        "result"
      ],
      "execution_count": null,
      "outputs": [
        {
          "output_type": "execute_result",
          "data": {
            "text/plain": [
              "'Не правда'"
            ],
            "application/vnd.google.colaboratory.intrinsic+json": {
              "type": "string"
            }
          },
          "metadata": {},
          "execution_count": 78
        }
      ]
    },
    {
      "cell_type": "code",
      "source": [
        "company = 'google.com'\n",
        "\n",
        "for letter in company:\n",
        "    print(letter)"
      ],
      "metadata": {
        "colab": {
          "base_uri": "https://localhost:8080/"
        },
        "id": "9jZE7OJjo7-p",
        "outputId": "85f2ce8c-a731-40d0-9a05-a45f7d34bab4"
      },
      "execution_count": null,
      "outputs": [
        {
          "output_type": "stream",
          "name": "stdout",
          "text": [
            "g\n",
            "o\n",
            "o\n",
            "g\n",
            "l\n",
            "e\n",
            ".\n",
            "c\n",
            "o\n",
            "m\n"
          ]
        }
      ]
    },
    {
      "cell_type": "code",
      "source": [
        "range(len(company))"
      ],
      "metadata": {
        "colab": {
          "base_uri": "https://localhost:8080/"
        },
        "id": "yXIjW_W-v6aM",
        "outputId": "db41ebde-2d2b-4925-997f-bda6a9f4ea91"
      },
      "execution_count": null,
      "outputs": [
        {
          "output_type": "execute_result",
          "data": {
            "text/plain": [
              "range(0, 13)"
            ]
          },
          "metadata": {},
          "execution_count": 81
        }
      ]
    },
    {
      "cell_type": "code",
      "source": [
        "list(range(len(company)))"
      ],
      "metadata": {
        "colab": {
          "base_uri": "https://localhost:8080/"
        },
        "id": "xJMI1e3JQHT6",
        "outputId": "e68aebe6-127f-41f7-f15f-3af36108c82c"
      },
      "execution_count": null,
      "outputs": [
        {
          "output_type": "execute_result",
          "data": {
            "text/plain": [
              "[0, 1, 2, 3, 4, 5, 6, 7, 8, 9, 10, 11, 12]"
            ]
          },
          "metadata": {},
          "execution_count": 82
        }
      ]
    },
    {
      "cell_type": "code",
      "source": [
        "company = 'google.com'\n",
        "\n",
        "for i in range(len(company)):\n",
        "    print(i, company[i])"
      ],
      "metadata": {
        "colab": {
          "base_uri": "https://localhost:8080/"
        },
        "id": "88sBP6tNP56j",
        "outputId": "e79124db-b144-480c-c254-472e28a74f50"
      },
      "execution_count": null,
      "outputs": [
        {
          "output_type": "stream",
          "name": "stdout",
          "text": [
            "0 g\n",
            "1 o\n",
            "2 o\n",
            "3 g\n",
            "4 l\n",
            "5 e\n",
            "6 .\n",
            "7 c\n",
            "8 o\n",
            "9 m\n"
          ]
        }
      ]
    },
    {
      "cell_type": "code",
      "source": [
        "for i in range(5, 9, -1):\n",
        "    print(i)\n",
        "\n",
        "list(range(5, 9, -1))"
      ],
      "metadata": {
        "colab": {
          "base_uri": "https://localhost:8080/"
        },
        "id": "QuSfckYjwTOz",
        "outputId": "2c9848e6-9fa6-4fe1-cdec-3104828816c7"
      },
      "execution_count": null,
      "outputs": [
        {
          "output_type": "execute_result",
          "data": {
            "text/plain": [
              "[]"
            ]
          },
          "metadata": {},
          "execution_count": 89
        }
      ]
    },
    {
      "cell_type": "code",
      "metadata": {
        "id": "N_DQfQNmYoYX",
        "outputId": "eb7a6d7b-eaa5-4995-b959-6c22794eba02",
        "colab": {
          "base_uri": "https://localhost:8080/"
        }
      },
      "source": [
        "for i in range(9, 5, -1):\n",
        "    print(i, company[i])"
      ],
      "execution_count": null,
      "outputs": [
        {
          "output_type": "stream",
          "name": "stdout",
          "text": [
            "9 m\n",
            "8 o\n",
            "7 c\n",
            "6 .\n"
          ]
        }
      ]
    },
    {
      "cell_type": "code",
      "source": [
        "company = 'google.com'\n",
        "\n",
        "i = 0\n",
        "while i < len(company):\n",
        "    print(i, company[i])\n",
        "    i += 1"
      ],
      "metadata": {
        "colab": {
          "base_uri": "https://localhost:8080/"
        },
        "id": "q-ap844pQg9m",
        "outputId": "822f64a3-733c-4840-d6f2-dc5c5af34309"
      },
      "execution_count": null,
      "outputs": [
        {
          "output_type": "stream",
          "name": "stdout",
          "text": [
            "0 g\n",
            "1 o\n",
            "2 o\n",
            "3 g\n",
            "4 l\n",
            "5 e\n",
            "6 .\n",
            "7 c\n",
            "8 o\n",
            "9 m\n"
          ]
        }
      ]
    },
    {
      "cell_type": "code",
      "source": [
        "company = 'google.com'\n",
        "\n",
        "i = 0\n",
        "while True:\n",
        "    if i >= len(company):\n",
        "        break\n",
        "    print(i, company[i])\n",
        "    i += 1"
      ],
      "metadata": {
        "colab": {
          "base_uri": "https://localhost:8080/"
        },
        "id": "Qsm7YmlfSSbq",
        "outputId": "aca4b785-6f78-42bc-8eac-1b02debab648"
      },
      "execution_count": null,
      "outputs": [
        {
          "output_type": "stream",
          "name": "stdout",
          "text": [
            "0 g\n",
            "1 o\n",
            "2 o\n",
            "3 g\n",
            "4 l\n",
            "5 e\n",
            "6 .\n",
            "7 c\n",
            "8 o\n",
            "9 m\n"
          ]
        }
      ]
    },
    {
      "cell_type": "code",
      "source": [
        "company = 'google.com'\n",
        "\n",
        "for i, c in enumerate(company):\n",
        "    print(i, c)"
      ],
      "metadata": {
        "colab": {
          "base_uri": "https://localhost:8080/"
        },
        "id": "un3ckZ5OP7wV",
        "outputId": "88226142-2ae8-430c-cc4b-b6d66109966e"
      },
      "execution_count": null,
      "outputs": [
        {
          "output_type": "stream",
          "name": "stdout",
          "text": [
            "0 g\n",
            "1 o\n",
            "2 o\n",
            "3 g\n",
            "4 l\n",
            "5 e\n",
            "6 .\n",
            "7 c\n",
            "8 o\n",
            "9 m\n"
          ]
        }
      ]
    },
    {
      "cell_type": "code",
      "source": [
        "company = 'google.com'\n",
        "\n",
        "for letter in company:\n",
        "    print(letter, end='')"
      ],
      "metadata": {
        "colab": {
          "base_uri": "https://localhost:8080/"
        },
        "id": "e8NsHq9zpNhl",
        "outputId": "a8f473cb-3a5d-4113-90db-3aed45dd7711"
      },
      "execution_count": null,
      "outputs": [
        {
          "output_type": "stream",
          "name": "stdout",
          "text": [
            "google.com"
          ]
        }
      ]
    },
    {
      "cell_type": "code",
      "source": [
        "import string\n",
        "\n",
        "company = 'google.com'\n",
        "\n",
        "for letter in company:\n",
        "    if letter not in string.punctuation:\n",
        "        print(letter, end='')"
      ],
      "metadata": {
        "colab": {
          "base_uri": "https://localhost:8080/"
        },
        "id": "Z4QOvIlWpBHL",
        "outputId": "4e116a5f-9309-44ed-9196-78fc036618a2"
      },
      "execution_count": null,
      "outputs": [
        {
          "output_type": "stream",
          "name": "stdout",
          "text": [
            "googlecom"
          ]
        }
      ]
    },
    {
      "cell_type": "code",
      "source": [
        "'.' in string.punctuation"
      ],
      "metadata": {
        "colab": {
          "base_uri": "https://localhost:8080/"
        },
        "id": "-POYX8OexKQw",
        "outputId": "b1924022-0d23-47c7-a258-6b97978e925f"
      },
      "execution_count": null,
      "outputs": [
        {
          "output_type": "execute_result",
          "data": {
            "text/plain": [
              "True"
            ]
          },
          "metadata": {},
          "execution_count": 98
        }
      ]
    },
    {
      "cell_type": "code",
      "source": [
        "import string\n",
        "\n",
        "company = 'go!?ogle.com'\n",
        "\n",
        "for letter in company:\n",
        "    if letter in string.punctuation:\n",
        "        continue\n",
        "    if letter == 'c':\n",
        "        break\n",
        "    print(letter, end='')"
      ],
      "metadata": {
        "colab": {
          "base_uri": "https://localhost:8080/"
        },
        "id": "nW1RJASlPvKK",
        "outputId": "5c5c7792-d9f1-4af2-b3b7-717387dd684b"
      },
      "execution_count": null,
      "outputs": [
        {
          "output_type": "stream",
          "name": "stdout",
          "text": [
            "google"
          ]
        }
      ]
    },
    {
      "cell_type": "markdown",
      "source": [
        "## Практика"
      ],
      "metadata": {
        "id": "D72r2scx_vOb"
      }
    },
    {
      "cell_type": "markdown",
      "source": [
        "### Оценка\n",
        "За выполнение заданий в семестре студент получает баллы, которые переводятся в итоговую оценку по следующей таблице:\n",
        "<br>\n",
        "Баллы Оценка<br>\n",
        "80-100 5<br>\n",
        "50-70 4<br>30-49 3<br>0-29 2\n",
        "\n",
        "\n",
        "Напишите программу, в которой пользователь будет вводить количество баллов. Программа выводит соответствующую оценку.\n",
        "\n",
        "Пример работы программы: <br>\n",
        "Введите количество баллов: 90<br>\n",
        "Оценка 5"
      ],
      "metadata": {
        "id": "cBrMIW_XfbWW"
      }
    },
    {
      "cell_type": "code",
      "source": [
        "#@title Решение\n",
        "score = int(input('Введите количество баллов: '))\n",
        "\n",
        "if score >= 80:\n",
        "    grade = 5\n",
        "elif score >= 50:\n",
        "    grade = 4\n",
        "elif score >= 30:\n",
        "    grade = 3\n",
        "else:\n",
        "    grade = 2\n",
        "\n",
        "print(f'Оценка {grade}')\n"
      ],
      "metadata": {
        "cellView": "form",
        "id": "fymvwmAtfoRa",
        "colab": {
          "base_uri": "https://localhost:8080/"
        },
        "outputId": "8a6e06a7-b3b3-4817-accb-5121445c857a"
      },
      "execution_count": null,
      "outputs": [
        {
          "output_type": "stream",
          "name": "stdout",
          "text": [
            "Введите количество баллов: 56\n",
            "Оценка 4\n"
          ]
        }
      ]
    },
    {
      "cell_type": "markdown",
      "source": [
        "### Средняя оценка\n",
        "Пользователь последовательно вводит числа. Концом ввода считается пустая строка (enter). Нужно найти среднее значение среди\n",
        "введённых чисел. Если ни одно число не было введено, то считать средним значением 0.\n",
        "\n",
        "Пример работы программы: <br>\n",
        "Введите первое число: 1<br>\n",
        "Введите следующее число: 6<br>\n",
        "Введите следующее число: 2<br>\n",
        "Введите следующее число:<br>\n",
        "Среднее всех чисел: 3.0<br>"
      ],
      "metadata": {
        "id": "w9gtt7y8fv2w"
      }
    },
    {
      "cell_type": "code",
      "source": [
        "#@title Решение\n",
        "\n",
        "sum = 0\n",
        "k = 0\n",
        "\n",
        "s = input('Введите первое число: ')\n",
        "while int(s) != 0:\n",
        "    n = int(s)\n",
        "\n",
        "    sum += n\n",
        "    k += 1\n",
        "\n",
        "    s = input('Введите следующее число: ')\n",
        "\n",
        "print(f'Среднее всех чисел: {sum / k if k > 0 else 0}')"
      ],
      "metadata": {
        "cellView": "form",
        "id": "RyN8roAsf3Xx",
        "colab": {
          "base_uri": "https://localhost:8080/"
        },
        "outputId": "181bf829-47d6-4615-d774-476f87ff49f2"
      },
      "execution_count": null,
      "outputs": [
        {
          "output_type": "stream",
          "name": "stdout",
          "text": [
            "Введите первое число: 0\n",
            "Среднее всех чисел: 0\n"
          ]
        }
      ]
    },
    {
      "cell_type": "markdown",
      "source": [
        "### Длинее n букв"
      ],
      "metadata": {
        "id": "ynlVbYdFnCRp"
      }
    },
    {
      "cell_type": "markdown",
      "metadata": {
        "id": "v23yWHR_7yO3"
      },
      "source": [
        "Выведем на экран список всех слов длиннее n букв из текста"
      ]
    },
    {
      "cell_type": "code",
      "metadata": {
        "id": "ZfRx-Pag7wjm"
      },
      "source": [
        "text = 'Python — высокоуровневый язык программирования, ориентированный на повышение производительности разработчика и читаемости кода.'\n",
        "n = 4"
      ],
      "execution_count": null,
      "outputs": []
    },
    {
      "cell_type": "code",
      "source": [],
      "metadata": {
        "colab": {
          "base_uri": "https://localhost:8080/"
        },
        "id": "eTDoagBVnELL",
        "outputId": "b66a4016-d9e9-483c-d6e1-e32f133a28db"
      },
      "execution_count": null,
      "outputs": [
        {
          "output_type": "execute_result",
          "data": {
            "text/plain": [
              "['Python',\n",
              " 'высокоуровневый',\n",
              " 'программирования',\n",
              " 'ориентированный',\n",
              " 'повышение',\n",
              " 'производительности',\n",
              " 'разработчика',\n",
              " 'читаемости']"
            ]
          },
          "metadata": {},
          "execution_count": 43
        }
      ]
    },
    {
      "cell_type": "code",
      "metadata": {
        "id": "0SwJmvOG8FVs",
        "colab": {
          "base_uri": "https://localhost:8080/"
        },
        "outputId": "1b7ad3d0-fd5e-40cd-dc6a-f5cb7a827e4a",
        "cellView": "form"
      },
      "source": [
        "#@title Решение\n",
        "\n",
        "res = []\n",
        "\n",
        "for word in text.split():\n",
        "    word = word.strip(',!?;.')\n",
        "    if len(word) > n:\n",
        "        res.append(word)\n",
        "        # print(word)\n",
        "res"
      ],
      "execution_count": null,
      "outputs": [
        {
          "output_type": "execute_result",
          "data": {
            "text/plain": [
              "['Python',\n",
              " 'высокоуровневый',\n",
              " 'программирования',\n",
              " 'ориентированный',\n",
              " 'повышение',\n",
              " 'производительности',\n",
              " 'разработчика',\n",
              " 'читаемости']"
            ]
          },
          "metadata": {},
          "execution_count": 13
        }
      ]
    },
    {
      "cell_type": "markdown",
      "source": [
        "### Проверка логина и пароля"
      ],
      "metadata": {
        "id": "xRBT9atjbCay"
      }
    },
    {
      "cell_type": "markdown",
      "metadata": {
        "id": "QNfWgqNZEeYb"
      },
      "source": [
        "\n",
        "1) логин и пароль пользователя хранится в переменной\n",
        "\n",
        "2) будем давать пользователю k попыток на ввод логина и пароля\n",
        "\n",
        "3) если после трех попыток вверного ввода не было, то заблокируем вход - вывести на экран сообщение \"Вход заблокирован\"\n",
        "\n",
        "4) если пароль и логин были введены верно, то вывести на экран сообщение \"Добро пожаловать!\""
      ]
    },
    {
      "cell_type": "code",
      "source": [],
      "metadata": {
        "colab": {
          "base_uri": "https://localhost:8080/"
        },
        "id": "nM6TC-F3nVTc",
        "outputId": "486755ff-049f-4b3c-e88b-03c768dc5b20"
      },
      "execution_count": null,
      "outputs": [
        {
          "output_type": "stream",
          "name": "stdout",
          "text": [
            "Введите логин: admin\n",
            "Введите пароль: admin\n",
            "Добро пожаловать!\n"
          ]
        }
      ]
    },
    {
      "cell_type": "code",
      "metadata": {
        "id": "WPYGThD8EeYb",
        "colab": {
          "base_uri": "https://localhost:8080/"
        },
        "outputId": "a4e1590f-5a40-4d88-f2d0-18870567cac2",
        "cellView": "form"
      },
      "source": [
        "#@title Решение\n",
        "\n",
        "login_correct = 'admin'\n",
        "pswd_correct = 'admin'\n",
        "k = 3\n",
        "for i in range(k):\n",
        "    login = input('Ввеите логин')\n",
        "    pswd = input('Введите пароль')\n",
        "    if login != login_correct or pswd != pswd_correct:\n",
        "        k -= 1\n",
        "        print(f'Осталось {k} попытки')\n",
        "    else:\n",
        "        print('Добро пожаловать!')\n",
        "        break\n",
        "else:\n",
        "    print('Вход заблокирован')"
      ],
      "execution_count": null,
      "outputs": [
        {
          "output_type": "stream",
          "name": "stdout",
          "text": [
            "Ввеите логинadmin\n",
            "Введите парольa\n",
            "Осталось 2 попытки\n",
            "Ввеите логинadmin\n",
            "Введите парольa\n",
            "Осталось 1 попытки\n",
            "Ввеите логинadmin\n",
            "Введите парольadmin\n",
            "Добро пожаловать!\n"
          ]
        }
      ]
    }
  ]
}