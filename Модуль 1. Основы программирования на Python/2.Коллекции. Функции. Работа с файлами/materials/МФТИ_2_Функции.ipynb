{
  "nbformat": 4,
  "nbformat_minor": 0,
  "metadata": {
    "colab": {
      "provenance": [],
      "toc_visible": true
    },
    "kernelspec": {
      "name": "python3",
      "display_name": "Python 3"
    },
    "language_info": {
      "name": "python"
    }
  },
  "cells": [
    {
      "cell_type": "markdown",
      "metadata": {
        "id": "VcNg1Jv_5sq1"
      },
      "source": [
        "# Функции"
      ]
    },
    {
      "cell_type": "code",
      "execution_count": null,
      "metadata": {
        "id": "5PgyNPm_5sq_"
      },
      "outputs": [],
      "source": [
        "# help(print)\n",
        "?print"
      ]
    },
    {
      "cell_type": "code",
      "execution_count": null,
      "metadata": {
        "id": "ZUN282Yw5srB"
      },
      "outputs": [],
      "source": [
        "# пишем docstring к своей функции\n",
        "def square(number):\n",
        "    \"\"\"\n",
        "    this is my function\n",
        "    \"\"\"\n",
        "    result = number ** 2\n",
        "    return result"
      ]
    },
    {
      "cell_type": "code",
      "execution_count": null,
      "metadata": {
        "id": "djApNdUm5srD"
      },
      "outputs": [],
      "source": [
        "?square"
      ]
    },
    {
      "cell_type": "code",
      "metadata": {
        "id": "KB44yYtfKm5u",
        "outputId": "406b3f61-bb75-4629-c9be-8eee2e4d1e62",
        "colab": {
          "base_uri": "https://localhost:8080/"
        }
      },
      "source": [
        "print(square.__doc__)"
      ],
      "execution_count": null,
      "outputs": [
        {
          "output_type": "stream",
          "name": "stdout",
          "text": [
            "\n",
            "    this is my function\n",
            "    \n"
          ]
        }
      ]
    },
    {
      "cell_type": "code",
      "execution_count": null,
      "metadata": {
        "id": "FdbYFxe15srN",
        "outputId": "366cd844-428f-47e8-90ac-a8fc86ed4a42",
        "colab": {
          "base_uri": "https://localhost:8080/"
        }
      },
      "outputs": [
        {
          "output_type": "stream",
          "name": "stdout",
          "text": [
            "None\n"
          ]
        }
      ],
      "source": [
        "# если не указан return, функция всегда возвращает None!\n",
        "def square_3(number):\n",
        "    result = number ** 2\n",
        "    # print(result)\n",
        "    # return None\n",
        "    # return\n",
        "print(square_3(5))"
      ]
    },
    {
      "cell_type": "code",
      "source": [
        "square_3(5)"
      ],
      "metadata": {
        "id": "za9S1JIwZjL0"
      },
      "execution_count": null,
      "outputs": []
    },
    {
      "cell_type": "markdown",
      "source": [
        "### Аннотация типов"
      ],
      "metadata": {
        "id": "g2GDAksIQoKS"
      }
    },
    {
      "cell_type": "code",
      "metadata": {
        "id": "XRbw-RVFLQkP",
        "outputId": "b14bb264-1986-433f-fb7f-684fd0d7c953",
        "colab": {
          "base_uri": "https://localhost:8080/"
        }
      },
      "source": [
        "def get_sum(x: int, y: int = 3) -> int:\n",
        "  return x + y\n",
        "\n",
        "get_sum(1)"
      ],
      "execution_count": null,
      "outputs": [
        {
          "output_type": "execute_result",
          "data": {
            "text/plain": [
              "4"
            ]
          },
          "metadata": {},
          "execution_count": 9
        }
      ]
    },
    {
      "cell_type": "code",
      "metadata": {
        "id": "NY381P95LamU",
        "outputId": "173a51a3-64b3-4e9f-e9b7-c23fcd1848eb",
        "colab": {
          "base_uri": "https://localhost:8080/",
          "height": 36
        }
      },
      "source": [
        "get_sum('все равно ', 'работает')"
      ],
      "execution_count": null,
      "outputs": [
        {
          "output_type": "execute_result",
          "data": {
            "text/plain": [
              "'все равно работает'"
            ],
            "application/vnd.google.colaboratory.intrinsic+json": {
              "type": "string"
            }
          },
          "metadata": {},
          "execution_count": 10
        }
      ]
    },
    {
      "cell_type": "markdown",
      "source": [
        "### Передача в функции списка"
      ],
      "metadata": {
        "id": "6eqdxeAbQ9v1"
      }
    },
    {
      "cell_type": "code",
      "metadata": {
        "id": "KbgYeiPwLgPF",
        "outputId": "8ef87455-d69f-4a7b-da49-33c223233604",
        "colab": {
          "base_uri": "https://localhost:8080/"
        }
      },
      "source": [
        "def extender(source_lst, new_lst):\n",
        "    # source_lst = source_lst.copy()\n",
        "    source_lst.extend(new_lst)\n",
        "    return source_lst\n",
        "\n",
        "values = [1, 2, 3]\n",
        "extender(values, [3, 4, 4])"
      ],
      "execution_count": null,
      "outputs": [
        {
          "output_type": "execute_result",
          "data": {
            "text/plain": [
              "[1, 2, 3, 3, 4, 4]"
            ]
          },
          "metadata": {},
          "execution_count": 4
        }
      ]
    },
    {
      "cell_type": "code",
      "source": [
        "values"
      ],
      "metadata": {
        "colab": {
          "base_uri": "https://localhost:8080/"
        },
        "id": "vIsJ1yY1azrE",
        "outputId": "6e7e93a0-5373-4452-ebf1-7f5b445ddd45"
      },
      "execution_count": null,
      "outputs": [
        {
          "output_type": "execute_result",
          "data": {
            "text/plain": [
              "[1, 2, 3, 3, 4, 4]"
            ]
          },
          "metadata": {},
          "execution_count": 5
        }
      ]
    },
    {
      "cell_type": "code",
      "source": [
        "def sorting(source_lst):\n",
        "    # source_lst = source_lst.copy()\n",
        "    source_lst.sort()\n",
        "    return source_lst\n",
        "\n",
        "values = [3, 2, 1]\n",
        "sorting(values)"
      ],
      "metadata": {
        "colab": {
          "base_uri": "https://localhost:8080/"
        },
        "id": "zyoqyOpHbNWy",
        "outputId": "2b7fe7b8-f250-48fa-9c48-8868a28c5e05"
      },
      "execution_count": null,
      "outputs": [
        {
          "output_type": "execute_result",
          "data": {
            "text/plain": [
              "[1, 2, 3]"
            ]
          },
          "metadata": {},
          "execution_count": 6
        }
      ]
    },
    {
      "cell_type": "code",
      "source": [
        "values"
      ],
      "metadata": {
        "colab": {
          "base_uri": "https://localhost:8080/"
        },
        "id": "Jdpj7_aXbTnd",
        "outputId": "23bd4668-1611-4874-aa2d-659696c2213d"
      },
      "execution_count": null,
      "outputs": [
        {
          "output_type": "execute_result",
          "data": {
            "text/plain": [
              "[1, 2, 3]"
            ]
          },
          "metadata": {},
          "execution_count": 7
        }
      ]
    },
    {
      "cell_type": "markdown",
      "metadata": {
        "id": "aS458poE5srR"
      },
      "source": [
        "### Области видимости"
      ]
    },
    {
      "cell_type": "code",
      "execution_count": null,
      "metadata": {
        "id": "ZlMB7pVR5srT",
        "outputId": "9cfa5146-4289-4c03-ad6c-a78241c30d37",
        "colab": {
          "base_uri": "https://localhost:8080/"
        }
      },
      "outputs": [
        {
          "output_type": "stream",
          "name": "stdout",
          "text": [
            "36\n",
            "125\n"
          ]
        }
      ],
      "source": [
        "number = 5\n",
        "power = 3\n",
        "\n",
        "def power_2():\n",
        "    number = 6\n",
        "    power = 2\n",
        "    return number ** power\n",
        "\n",
        "print(power_2())\n",
        "print(number ** power)"
      ]
    },
    {
      "cell_type": "code",
      "execution_count": null,
      "metadata": {
        "id": "1TfE-s2R5srW",
        "outputId": "70cdd5ac-470e-4354-b3d1-3189b9af7171",
        "colab": {
          "base_uri": "https://localhost:8080/"
        }
      },
      "outputs": [
        {
          "output_type": "stream",
          "name": "stdout",
          "text": [
            "216\n",
            "125\n"
          ]
        }
      ],
      "source": [
        "number = 5\n",
        "power = 3\n",
        "\n",
        "def power_2():\n",
        "    number = 6\n",
        "    return number ** power\n",
        "\n",
        "print(power_2())\n",
        "print(number ** power)\n"
      ]
    },
    {
      "cell_type": "code",
      "execution_count": null,
      "metadata": {
        "id": "lwT2yAwt5srX",
        "outputId": "610af33a-f673-4263-f444-4426b49e12a0",
        "colab": {
          "base_uri": "https://localhost:8080/"
        }
      },
      "outputs": [
        {
          "output_type": "execute_result",
          "data": {
            "text/plain": [
              "125"
            ]
          },
          "metadata": {},
          "execution_count": 10
        }
      ],
      "source": [
        "number = 5\n",
        "power = 3\n",
        "\n",
        "def power_2():\n",
        "    return number ** power\n",
        "\n",
        "power_2()"
      ]
    },
    {
      "cell_type": "code",
      "execution_count": null,
      "metadata": {
        "scrolled": true,
        "id": "gQKy6Kuv5srZ",
        "outputId": "3f44edd5-e169-4a86-a8de-482d11db2856",
        "colab": {
          "base_uri": "https://localhost:8080/",
          "height": 193
        }
      },
      "outputs": [
        {
          "output_type": "stream",
          "name": "stdout",
          "text": [
            "36\n"
          ]
        },
        {
          "output_type": "error",
          "ename": "NameError",
          "evalue": "name 'some_number' is not defined",
          "traceback": [
            "\u001b[0;31m---------------------------------------------------------------------------\u001b[0m",
            "\u001b[0;31mNameError\u001b[0m                                 Traceback (most recent call last)",
            "\u001b[0;32m<ipython-input-11-c5d5360273a8>\u001b[0m in \u001b[0;36m<cell line: 8>\u001b[0;34m()\u001b[0m\n\u001b[1;32m      6\u001b[0m \u001b[0;34m\u001b[0m\u001b[0m\n\u001b[1;32m      7\u001b[0m \u001b[0mprint\u001b[0m\u001b[0;34m(\u001b[0m\u001b[0mpower_2\u001b[0m\u001b[0;34m(\u001b[0m\u001b[0;34m)\u001b[0m\u001b[0;34m)\u001b[0m\u001b[0;34m\u001b[0m\u001b[0;34m\u001b[0m\u001b[0m\n\u001b[0;32m----> 8\u001b[0;31m \u001b[0mprint\u001b[0m\u001b[0;34m(\u001b[0m\u001b[0msome_number\u001b[0m\u001b[0;34m)\u001b[0m\u001b[0;34m\u001b[0m\u001b[0;34m\u001b[0m\u001b[0m\n\u001b[0m",
            "\u001b[0;31mNameError\u001b[0m: name 'some_number' is not defined"
          ]
        }
      ],
      "source": [
        "def power_2():\n",
        "    number = 6\n",
        "    power = 2\n",
        "    some_number = 1\n",
        "    return number ** power\n",
        "\n",
        "print(power_2())\n",
        "print(some_number)"
      ]
    },
    {
      "cell_type": "markdown",
      "metadata": {
        "id": "GBFD5fZa5srd"
      },
      "source": [
        "### lambda-функции"
      ]
    },
    {
      "cell_type": "code",
      "execution_count": null,
      "metadata": {
        "id": "wGdPW6DM5srj"
      },
      "outputs": [],
      "source": [
        "nums = [1, 2, 3, 4, 5]"
      ]
    },
    {
      "cell_type": "code",
      "execution_count": null,
      "metadata": {
        "id": "r9hMdDY05srj"
      },
      "outputs": [],
      "source": [
        "# even_numbers = lambda x: x % 2 == 0\n",
        "odd_even_numbers = lambda x: 'even' if x % 2 == 0 else 'odd'"
      ]
    },
    {
      "cell_type": "code",
      "execution_count": null,
      "metadata": {
        "id": "duaNcqZi5srj",
        "outputId": "44cb83f2-c954-43c0-9fd8-37e4b5f3ec66",
        "colab": {
          "base_uri": "https://localhost:8080/"
        }
      },
      "outputs": [
        {
          "output_type": "stream",
          "name": "stdout",
          "text": [
            "odd\n",
            "even\n",
            "odd\n",
            "even\n",
            "odd\n"
          ]
        }
      ],
      "source": [
        "for num in nums:\n",
        "    print(odd_even_numbers(num))"
      ]
    },
    {
      "cell_type": "code",
      "source": [
        "def odd_even_numbers_func(num):\n",
        "    return 'even' if num % 2 == 0 else 'odd'"
      ],
      "metadata": {
        "id": "-0mlNEN1tKW8"
      },
      "execution_count": null,
      "outputs": []
    },
    {
      "cell_type": "code",
      "source": [
        "for num in nums:\n",
        "    print(odd_even_numbers_func(num))"
      ],
      "metadata": {
        "colab": {
          "base_uri": "https://localhost:8080/"
        },
        "id": "rRwTHOV6tZfg",
        "outputId": "1d37ba3e-e24c-4491-a8ec-360251a3c0cd"
      },
      "execution_count": null,
      "outputs": [
        {
          "output_type": "stream",
          "name": "stdout",
          "text": [
            "odd\n",
            "even\n",
            "odd\n",
            "even\n",
            "odd\n"
          ]
        }
      ]
    },
    {
      "cell_type": "code",
      "execution_count": null,
      "metadata": {
        "id": "Wp0PsSNC5srk",
        "outputId": "e98cd3bf-74f7-4c80-dfed-383fa61e05c1",
        "colab": {
          "base_uri": "https://localhost:8080/"
        }
      },
      "outputs": [
        {
          "output_type": "execute_result",
          "data": {
            "text/plain": [
              "['odd', 'even', 'odd', 'even', 'odd']"
            ]
          },
          "metadata": {},
          "execution_count": 22
        }
      ],
      "source": [
        "# функция map\n",
        "# list(map(odd_even_numbers, nums))\n",
        "list(map(odd_even_numbers_func, nums))"
      ]
    },
    {
      "cell_type": "markdown",
      "metadata": {
        "id": "hvVaGxqS7P9Z"
      },
      "source": [
        "#### Отсортируем словарь по значениям"
      ]
    },
    {
      "cell_type": "code",
      "metadata": {
        "id": "49SDXEYuOREp"
      },
      "source": [
        "my_dict = {\n",
        "    'id1': 65,\n",
        "    'id2': 12,\n",
        "    'id3': 77\n",
        "}"
      ],
      "execution_count": null,
      "outputs": []
    },
    {
      "cell_type": "code",
      "source": [
        "sorted(my_dict.values())"
      ],
      "metadata": {
        "colab": {
          "base_uri": "https://localhost:8080/"
        },
        "id": "NMeZDABVOpOS",
        "outputId": "4dc024df-ed4f-4377-9b3f-8d709188c605"
      },
      "execution_count": null,
      "outputs": [
        {
          "output_type": "execute_result",
          "data": {
            "text/plain": [
              "[12, 65, 77]"
            ]
          },
          "metadata": {},
          "execution_count": 24
        }
      ]
    },
    {
      "cell_type": "code",
      "metadata": {
        "colab": {
          "base_uri": "https://localhost:8080/"
        },
        "id": "avPFj4lxORa2",
        "outputId": "d7a91090-6fc0-4ad0-c4fe-5af799e7f5a6"
      },
      "source": [
        "res = {}\n",
        "for sorted_value in sorted(my_dict.values()):\n",
        "    for key, value in my_dict.items():\n",
        "        if sorted_value == value:\n",
        "           res[key] = sorted_value\n",
        "\n",
        "print(res)"
      ],
      "execution_count": null,
      "outputs": [
        {
          "output_type": "stream",
          "name": "stdout",
          "text": [
            "{'id2': 12, 'id1': 65, 'id3': 77}\n"
          ]
        }
      ]
    },
    {
      "cell_type": "markdown",
      "metadata": {
        "id": "xkoo_sMMPW_l"
      },
      "source": [
        "#### Отсортируем словарь без циклов"
      ]
    },
    {
      "cell_type": "code",
      "source": [
        "my_dict.items()"
      ],
      "metadata": {
        "colab": {
          "base_uri": "https://localhost:8080/"
        },
        "id": "m4hHMtGmdkMe",
        "outputId": "c7e76369-ecad-4410-bb03-6cd15fd29be8"
      },
      "execution_count": null,
      "outputs": [
        {
          "output_type": "execute_result",
          "data": {
            "text/plain": [
              "dict_items([('id1', 65), ('id2', 12), ('id3', 77)])"
            ]
          },
          "metadata": {},
          "execution_count": 26
        }
      ]
    },
    {
      "cell_type": "code",
      "metadata": {
        "colab": {
          "base_uri": "https://localhost:8080/"
        },
        "id": "3lsPYgCxQRYi",
        "outputId": "066ebdd6-b805-4589-ba9f-04b73933d40b"
      },
      "source": [
        "dict(sorted(my_dict.items(), key=lambda x: x[1]))"
      ],
      "execution_count": null,
      "outputs": [
        {
          "output_type": "execute_result",
          "data": {
            "text/plain": [
              "{'id2': 12, 'id1': 65, 'id3': 77}"
            ]
          },
          "metadata": {},
          "execution_count": 27
        }
      ]
    },
    {
      "cell_type": "markdown",
      "metadata": {
        "id": "UgUlEiUD5srn"
      },
      "source": [
        "### Args and kwargs"
      ]
    },
    {
      "cell_type": "code",
      "execution_count": null,
      "metadata": {
        "id": "FG2tv_dy5sro"
      },
      "outputs": [],
      "source": [
        "def api_request(*params, **kwargs):\n",
        "    date_start = params[0]\n",
        "    date_end = params[1]\n",
        "    print(params)\n",
        "    print(date_start, date_end)"
      ]
    },
    {
      "cell_type": "code",
      "execution_count": null,
      "metadata": {
        "id": "MYePPSND5srn",
        "colab": {
          "base_uri": "https://localhost:8080/"
        },
        "outputId": "010aeb07-75a5-486e-ea69-4e648005af68"
      },
      "outputs": [
        {
          "output_type": "stream",
          "name": "stdout",
          "text": [
            "(1, 2, 3)\n",
            "1 2\n"
          ]
        }
      ],
      "source": [
        "api_request(1, 2, 3)"
      ]
    },
    {
      "cell_type": "code",
      "execution_count": null,
      "metadata": {
        "id": "FOfyaAC75sro",
        "colab": {
          "base_uri": "https://localhost:8080/",
          "height": 263
        },
        "outputId": "af3abf24-9df3-40e8-b10c-b91aa61ab367"
      },
      "outputs": [
        {
          "output_type": "error",
          "ename": "IndexError",
          "evalue": "tuple index out of range",
          "traceback": [
            "\u001b[0;31m---------------------------------------------------------------------------\u001b[0m",
            "\u001b[0;31mIndexError\u001b[0m                                Traceback (most recent call last)",
            "\u001b[0;32m<ipython-input-30-ebd349e3de86>\u001b[0m in \u001b[0;36m<cell line: 1>\u001b[0;34m()\u001b[0m\n\u001b[0;32m----> 1\u001b[0;31m \u001b[0mapi_request\u001b[0m\u001b[0;34m(\u001b[0m\u001b[0mreport\u001b[0m\u001b[0;34m=\u001b[0m\u001b[0;36m2\u001b[0m\u001b[0;34m,\u001b[0m \u001b[0mdate\u001b[0m\u001b[0;34m=\u001b[0m\u001b[0;36m1\u001b[0m\u001b[0;34m,\u001b[0m \u001b[0moutput\u001b[0m\u001b[0;34m=\u001b[0m\u001b[0;36m3\u001b[0m\u001b[0;34m)\u001b[0m\u001b[0;34m\u001b[0m\u001b[0;34m\u001b[0m\u001b[0m\n\u001b[0m",
            "\u001b[0;32m<ipython-input-28-d2a674753e91>\u001b[0m in \u001b[0;36mapi_request\u001b[0;34m(*params, **kwargs)\u001b[0m\n\u001b[1;32m      1\u001b[0m \u001b[0;32mdef\u001b[0m \u001b[0mapi_request\u001b[0m\u001b[0;34m(\u001b[0m\u001b[0;34m*\u001b[0m\u001b[0mparams\u001b[0m\u001b[0;34m,\u001b[0m \u001b[0;34m**\u001b[0m\u001b[0mkwargs\u001b[0m\u001b[0;34m)\u001b[0m\u001b[0;34m:\u001b[0m\u001b[0;34m\u001b[0m\u001b[0;34m\u001b[0m\u001b[0m\n\u001b[0;32m----> 2\u001b[0;31m     \u001b[0mdate_start\u001b[0m \u001b[0;34m=\u001b[0m \u001b[0mparams\u001b[0m\u001b[0;34m[\u001b[0m\u001b[0;36m0\u001b[0m\u001b[0;34m]\u001b[0m\u001b[0;34m\u001b[0m\u001b[0;34m\u001b[0m\u001b[0m\n\u001b[0m\u001b[1;32m      3\u001b[0m     \u001b[0mdate_end\u001b[0m \u001b[0;34m=\u001b[0m \u001b[0mparams\u001b[0m\u001b[0;34m[\u001b[0m\u001b[0;36m1\u001b[0m\u001b[0;34m]\u001b[0m\u001b[0;34m\u001b[0m\u001b[0;34m\u001b[0m\u001b[0m\n\u001b[1;32m      4\u001b[0m     \u001b[0mprint\u001b[0m\u001b[0;34m(\u001b[0m\u001b[0mparams\u001b[0m\u001b[0;34m)\u001b[0m\u001b[0;34m\u001b[0m\u001b[0;34m\u001b[0m\u001b[0m\n\u001b[1;32m      5\u001b[0m     \u001b[0mprint\u001b[0m\u001b[0;34m(\u001b[0m\u001b[0mdate_start\u001b[0m\u001b[0;34m,\u001b[0m \u001b[0mdate_end\u001b[0m\u001b[0;34m)\u001b[0m\u001b[0;34m\u001b[0m\u001b[0;34m\u001b[0m\u001b[0m\n",
            "\u001b[0;31mIndexError\u001b[0m: tuple index out of range"
          ]
        }
      ],
      "source": [
        "api_request(report=2, date=1, output=3)"
      ]
    },
    {
      "cell_type": "code",
      "execution_count": null,
      "metadata": {
        "id": "N5JgLTU85srp",
        "outputId": "7cb38805-b24a-4b07-ba47-f38b2bbe91fd",
        "colab": {
          "base_uri": "https://localhost:8080/"
        }
      },
      "outputs": [
        {
          "output_type": "stream",
          "name": "stdout",
          "text": [
            "('2019-01-01', '2019-01-31')\n",
            "2019-01-01 2019-01-31\n"
          ]
        }
      ],
      "source": [
        "api_request('2019-01-01', '2019-01-31', report=2, date=1, output=3)"
      ]
    },
    {
      "cell_type": "code",
      "execution_count": null,
      "metadata": {
        "id": "gT1CZqjI5srq"
      },
      "outputs": [],
      "source": [
        "def api_requets(**params):\n",
        "    return params"
      ]
    },
    {
      "cell_type": "code",
      "execution_count": null,
      "metadata": {
        "scrolled": false,
        "id": "el1zxVt95srr",
        "outputId": "e61e6a8b-6f64-470d-fcca-5f8d4f648be2",
        "colab": {
          "base_uri": "https://localhost:8080/"
        }
      },
      "outputs": [
        {
          "output_type": "execute_result",
          "data": {
            "text/plain": [
              "{'a': 1, 'b': 2, 'c': 3, 'date': '2020-01-01'}"
            ]
          },
          "metadata": {},
          "execution_count": 36
        }
      ],
      "source": [
        "api_requets(a=1, b=2, c=3, date='2020-01-01')"
      ]
    },
    {
      "cell_type": "code",
      "execution_count": null,
      "metadata": {
        "id": "SJ80K8gg5sru"
      },
      "outputs": [],
      "source": [
        "def api_request(**params):\n",
        "    date_start = params['date_start']\n",
        "    date_end = params['date_end']\n",
        "    print(params)\n",
        "    print(date_start, date_end)"
      ]
    },
    {
      "cell_type": "code",
      "execution_count": null,
      "metadata": {
        "id": "iBwEEv-x5srv",
        "outputId": "609072fe-196e-4668-b73a-7344d143eb9a",
        "colab": {
          "base_uri": "https://localhost:8080/"
        }
      },
      "outputs": [
        {
          "output_type": "stream",
          "name": "stdout",
          "text": [
            "{'date_start': '2019-01-31', 'report': 'traffic', 'date_end': '2019-01-01'}\n",
            "2019-01-31 2019-01-01\n"
          ]
        }
      ],
      "source": [
        "api_request(date_start='2019-01-31', report='traffic', date_end='2019-01-01')"
      ]
    },
    {
      "cell_type": "code",
      "metadata": {
        "id": "9Byo3WvpOQHD",
        "outputId": "2fe6dca0-14ea-4fdd-aee8-89bc177de107",
        "colab": {
          "base_uri": "https://localhost:8080/"
        }
      },
      "source": [
        "def printer(*args):\n",
        "    print(type(args))\n",
        "    print(args)\n",
        "    for i in args:\n",
        "        print(i)\n",
        "\n",
        "printer(1, 2, 3)"
      ],
      "execution_count": null,
      "outputs": [
        {
          "output_type": "stream",
          "name": "stdout",
          "text": [
            "<class 'tuple'>\n",
            "(1, 2, 3)\n",
            "1\n",
            "2\n",
            "3\n"
          ]
        }
      ]
    },
    {
      "cell_type": "code",
      "metadata": {
        "id": "yN-5TaHJOkvj",
        "outputId": "cdab2a34-ff33-495d-b397-d91762905260",
        "colab": {
          "base_uri": "https://localhost:8080/"
        }
      },
      "source": [
        "printer(1)"
      ],
      "execution_count": null,
      "outputs": [
        {
          "output_type": "stream",
          "name": "stdout",
          "text": [
            "<class 'tuple'>\n",
            "(1,)\n",
            "1\n"
          ]
        }
      ]
    },
    {
      "cell_type": "code",
      "source": [
        "printer([1, 2, 3], (1, 2, 3), 1, 23)"
      ],
      "metadata": {
        "colab": {
          "base_uri": "https://localhost:8080/"
        },
        "id": "HMegowAsfGdv",
        "outputId": "4ea763f6-ecaf-4c37-91ce-73e70ed8599f"
      },
      "execution_count": null,
      "outputs": [
        {
          "output_type": "stream",
          "name": "stdout",
          "text": [
            "<class 'tuple'>\n",
            "([1, 2, 3], (1, 2, 3), 1, 23)\n",
            "[1, 2, 3]\n",
            "(1, 2, 3)\n",
            "1\n",
            "23\n"
          ]
        }
      ]
    },
    {
      "cell_type": "code",
      "metadata": {
        "id": "3MJVyhJBOm6S",
        "outputId": "4105b7ee-6f9c-4b03-d538-8666b9fd4524",
        "colab": {
          "base_uri": "https://localhost:8080/"
        }
      },
      "source": [
        "printer(*[1, 2, 3], (1, 2, 3), 1, 23)"
      ],
      "execution_count": null,
      "outputs": [
        {
          "output_type": "stream",
          "name": "stdout",
          "text": [
            "<class 'tuple'>\n",
            "(1, 2, 3, (1, 2, 3), 1, 23)\n",
            "1\n",
            "2\n",
            "3\n",
            "(1, 2, 3)\n",
            "1\n",
            "23\n"
          ]
        }
      ]
    },
    {
      "cell_type": "code",
      "metadata": {
        "id": "IzTju4KcOpKm",
        "outputId": "bfe09c88-599c-43d3-ce1a-98138f8d78f8",
        "colab": {
          "base_uri": "https://localhost:8080/"
        }
      },
      "source": [
        "names = ['John', 'Nick', 'Bill']\n",
        "printer(names)"
      ],
      "execution_count": null,
      "outputs": [
        {
          "output_type": "stream",
          "name": "stdout",
          "text": [
            "<class 'tuple'>\n",
            "(['John', 'Nick', 'Bill'],)\n",
            "['John', 'Nick', 'Bill']\n"
          ]
        }
      ]
    },
    {
      "cell_type": "code",
      "metadata": {
        "id": "0qLl8SdTO3eU",
        "outputId": "ce7d2474-9703-4dec-c492-17bbb5f4cdfd",
        "colab": {
          "base_uri": "https://localhost:8080/"
        }
      },
      "source": [
        "printer(*names)"
      ],
      "execution_count": null,
      "outputs": [
        {
          "output_type": "stream",
          "name": "stdout",
          "text": [
            "<class 'tuple'>\n",
            "('John', 'Nick', 'Bill')\n",
            "John\n",
            "Nick\n",
            "Bill\n"
          ]
        }
      ]
    },
    {
      "cell_type": "code",
      "metadata": {
        "id": "rlosIrJAO5rP",
        "outputId": "76df9f33-1273-4dd6-fd71-12863c770758",
        "colab": {
          "base_uri": "https://localhost:8080/"
        }
      },
      "source": [
        "def printer(**kwargs):\n",
        "    print(type(kwargs))\n",
        "    print(kwargs)\n",
        "    for key, value in kwargs.items():\n",
        "        print(f'{key} - {value}')\n",
        "\n",
        "printer(a=10, b='20')"
      ],
      "execution_count": null,
      "outputs": [
        {
          "output_type": "stream",
          "name": "stdout",
          "text": [
            "<class 'dict'>\n",
            "{'a': 10, 'b': '20'}\n",
            "a - 10\n",
            "b - 20\n"
          ]
        }
      ]
    },
    {
      "cell_type": "code",
      "metadata": {
        "id": "ZVZdYWmLPPiT",
        "outputId": "67c5248d-b172-4460-ff14-b6adf7ca5f19",
        "colab": {
          "base_uri": "https://localhost:8080/"
        }
      },
      "source": [
        "printer(key1='value1')"
      ],
      "execution_count": null,
      "outputs": [
        {
          "output_type": "stream",
          "name": "stdout",
          "text": [
            "<class 'dict'>\n",
            "{'key1': 'value1'}\n",
            "key1 - value1\n"
          ]
        }
      ]
    },
    {
      "cell_type": "code",
      "metadata": {
        "id": "tcqx4HDdPXPl",
        "outputId": "60918d8e-d83e-48be-d2c2-532840f8bec9",
        "colab": {
          "base_uri": "https://localhost:8080/"
        }
      },
      "source": [
        "user_info = {\n",
        "    'name': 'John',\n",
        "    'age': 18\n",
        "}\n",
        "\n",
        "printer(**user_info)"
      ],
      "execution_count": null,
      "outputs": [
        {
          "output_type": "stream",
          "name": "stdout",
          "text": [
            "<class 'dict'>\n",
            "{'name': 'John', 'age': 18}\n",
            "name - John\n",
            "age - 18\n"
          ]
        }
      ]
    },
    {
      "cell_type": "code",
      "source": [
        "printer(name='John', age=18)"
      ],
      "metadata": {
        "colab": {
          "base_uri": "https://localhost:8080/"
        },
        "id": "5scOxLbefawH",
        "outputId": "d1d63479-24f0-47e7-e8a8-cf10c668641f"
      },
      "execution_count": null,
      "outputs": [
        {
          "output_type": "stream",
          "name": "stdout",
          "text": [
            "<class 'dict'>\n",
            "{'name': 'John', 'age': 18}\n",
            "name - John\n",
            "age - 18\n"
          ]
        }
      ]
    },
    {
      "cell_type": "markdown",
      "metadata": {
        "id": "_mY3dvurRsd4"
      },
      "source": [
        "## Комплексный пример"
      ]
    },
    {
      "cell_type": "code",
      "metadata": {
        "id": "OPd5-8lVRuL5"
      },
      "source": [
        "students_list = [\n",
        "    {\"name\": \"Василий\", \"surname\": \"Теркин\", \"gender\": \"м\", \"program_exp\": True, \"grade\": [8, 8, 9, 10], \"exam\": 8},\n",
        "    {\"name\": \"Мария\", \"surname\": \"Павлова\", \"gender\": \"ж\", \"program_exp\": True, \"grade\": [7, 8, 9, 7, 9], \"exam\": 9},\n",
        "    {\"name\": \"Ирина\", \"surname\": \"Андреева\", \"gender\": \"ж\", \"program_exp\": False, \"grade\": [10, 9, 8, 10], \"exam\": 7},\n",
        "    {\"name\": \"Татьяна\", \"surname\": \"Сидорова\", \"gender\": \"ж\", \"program_exp\": False, \"grade\": [7, 8, 8, 9, 8],\"exam\": 10},\n",
        "    {\"name\": \"Иван\", \"surname\": \"Васильев\", \"gender\": \"м\", \"program_exp\": True, \"grade\": [9, 8, 9, 6, 9, 4], \"exam\": 5},\n",
        "    {\"name\": \"Роман\", \"surname\": \"Золотарев\", \"gender\": \"м\", \"program_exp\": False, \"grade\": [8, 9, 9, 6, 9], \"exam\": 6}\n",
        "]"
      ],
      "execution_count": null,
      "outputs": []
    },
    {
      "cell_type": "code",
      "source": [
        "def filter_students(students, gender=None, program_exp=None):\n",
        "    res = []\n",
        "\n",
        "    for student in students:\n",
        "        if (student['gender'] == gender or gender is None) \\\n",
        "           and (student['program_exp'] is program_exp or program_exp is None):\n",
        "            res.append(student)\n",
        "\n",
        "    return res\n",
        "\n",
        "\n",
        "# print(filter_students(students_list, 'м', True))\n",
        "# print(filter_students(students_list, 'ж', False))\n",
        "# print(filter_students(students_list, 'м'))\n",
        "# print(filter_students(students_list, None, False))\n",
        "print(filter_students(students_list, program_exp=True))"
      ],
      "metadata": {
        "id": "iA8Ra4MQ4KKc",
        "colab": {
          "base_uri": "https://localhost:8080/"
        },
        "outputId": "57cce67b-8aa9-4a03-8fc3-5e93a3ea351b"
      },
      "execution_count": null,
      "outputs": [
        {
          "output_type": "stream",
          "name": "stdout",
          "text": [
            "[{'name': 'Василий', 'surname': 'Теркин', 'gender': 'м', 'program_exp': True, 'grade': [8, 8, 9, 10], 'exam': 8}, {'name': 'Мария', 'surname': 'Павлова', 'gender': 'ж', 'program_exp': True, 'grade': [7, 8, 9, 7, 9], 'exam': 9}, {'name': 'Иван', 'surname': 'Васильев', 'gender': 'м', 'program_exp': True, 'grade': [9, 8, 9, 6, 9, 4], 'exam': 5}]\n"
          ]
        }
      ]
    },
    {
      "cell_type": "code",
      "source": [
        "def get_avg_grade(students):\n",
        "    sum_ = 0\n",
        "\n",
        "    for student in students:\n",
        "        sum_ += sum(student['grade']) / len(student['grade'])\n",
        "\n",
        "    return round(sum_ / len(students), 2)\n",
        "\n",
        "print(get_avg_grade(students_list))"
      ],
      "metadata": {
        "id": "2m3e8ZxCRohl",
        "colab": {
          "base_uri": "https://localhost:8080/"
        },
        "outputId": "f86962de-f8c3-4bd9-8e29-ed7e515a2dfb"
      },
      "execution_count": null,
      "outputs": [
        {
          "output_type": "stream",
          "name": "stdout",
          "text": [
            "8.28\n"
          ]
        }
      ]
    },
    {
      "cell_type": "code",
      "source": [
        "def sort_students(students):\n",
        "    return sorted(\n",
        "        students,\n",
        "        key=lambda student: student['name']\n",
        "        )\n",
        "\n",
        "sort_students(students_list)"
      ],
      "metadata": {
        "colab": {
          "base_uri": "https://localhost:8080/"
        },
        "id": "BpJKItFP_1tP",
        "outputId": "0cb97d40-3b6b-4731-922f-7b7183776bdb"
      },
      "execution_count": null,
      "outputs": [
        {
          "output_type": "execute_result",
          "data": {
            "text/plain": [
              "[{'name': 'Василий',\n",
              "  'surname': 'Теркин',\n",
              "  'gender': 'м',\n",
              "  'program_exp': True,\n",
              "  'grade': [8, 8, 9, 10],\n",
              "  'exam': 8},\n",
              " {'name': 'Иван',\n",
              "  'surname': 'Васильев',\n",
              "  'gender': 'м',\n",
              "  'program_exp': True,\n",
              "  'grade': [9, 8, 9, 6, 9, 4],\n",
              "  'exam': 5},\n",
              " {'name': 'Ирина',\n",
              "  'surname': 'Андреева',\n",
              "  'gender': 'ж',\n",
              "  'program_exp': False,\n",
              "  'grade': [10, 9, 8, 10],\n",
              "  'exam': 7},\n",
              " {'name': 'Мария',\n",
              "  'surname': 'Павлова',\n",
              "  'gender': 'ж',\n",
              "  'program_exp': True,\n",
              "  'grade': [7, 8, 9, 7, 9],\n",
              "  'exam': 9},\n",
              " {'name': 'Роман',\n",
              "  'surname': 'Золотарев',\n",
              "  'gender': 'м',\n",
              "  'program_exp': False,\n",
              "  'grade': [8, 9, 9, 6, 9],\n",
              "  'exam': 6},\n",
              " {'name': 'Татьяна',\n",
              "  'surname': 'Сидорова',\n",
              "  'gender': 'ж',\n",
              "  'program_exp': False,\n",
              "  'grade': [7, 8, 8, 9, 8],\n",
              "  'exam': 10}]"
            ]
          },
          "metadata": {},
          "execution_count": 52
        }
      ]
    },
    {
      "cell_type": "code",
      "source": [
        "def main(students):\n",
        "    while True:\n",
        "        user_input = input('Введите команду: ')\n",
        "\n",
        "        if user_input == 'q':\n",
        "            print('Выход')\n",
        "            break\n",
        "\n",
        "        elif user_input == '1':\n",
        "            print(get_avg_grade(students))\n",
        "\n",
        "        elif user_input == '2':\n",
        "            print(get_avg_grade(filter_students(students, program_exp=True)))\n",
        "\n",
        "        elif user_input == '3':\n",
        "            print(sort_students(students))\n",
        "\n",
        "\n",
        "main(students_list)"
      ],
      "metadata": {
        "colab": {
          "base_uri": "https://localhost:8080/"
        },
        "id": "51_gxLwXAPYn",
        "outputId": "36157675-32dc-455a-97e4-e74d574c0722"
      },
      "execution_count": null,
      "outputs": [
        {
          "output_type": "stream",
          "name": "stdout",
          "text": [
            "Введите команду: 2\n",
            "8.08\n",
            "Введите команду: 1\n",
            "8.28\n",
            "Введите команду: q\n",
            "Выход\n"
          ]
        }
      ]
    },
    {
      "cell_type": "markdown",
      "source": [
        "# Практика"
      ],
      "metadata": {
        "id": "27qD2VpHzl19"
      }
    },
    {
      "cell_type": "markdown",
      "metadata": {
        "id": "6GGM5SzuRYl3"
      },
      "source": [
        "## 🧠\n",
        "\n",
        "Напишем функцию, которая будет находить среднюю цену квартиры по всем переданным в нее районам города"
      ]
    },
    {
      "cell_type": "code",
      "metadata": {
        "id": "CRljX_0tRexA"
      },
      "source": [
        "district_1 = {'flat_1': 10500, 'flat_2': 11000}\n",
        "district_2 = {'flat_1': 15000}\n",
        "district_3 = {'flat_1': 6500, 'flat_2': 7000, 'flat_3': 6000}"
      ],
      "execution_count": null,
      "outputs": []
    },
    {
      "cell_type": "code",
      "source": [],
      "metadata": {
        "colab": {
          "base_uri": "https://localhost:8080/"
        },
        "id": "v5JMNyeCqAC9",
        "outputId": "69e8f210-7cc0-4aa5-8bc5-658a2150e069"
      },
      "execution_count": null,
      "outputs": [
        {
          "output_type": "stream",
          "name": "stdout",
          "text": [
            "(10500, 11000, 15000, 6500, 7000, 6000)\n"
          ]
        },
        {
          "output_type": "execute_result",
          "data": {
            "text/plain": [
              "9333.333333333334"
            ]
          },
          "metadata": {},
          "execution_count": 117
        }
      ]
    },
    {
      "cell_type": "markdown",
      "source": [
        "### 🧠 (ответ)"
      ],
      "metadata": {
        "id": "d3uxoRQotWyu"
      }
    },
    {
      "cell_type": "code",
      "source": [
        "def get_avg_price(*distrcits):\n",
        "    print(distrcits)\n",
        "    return round(sum(distrcits) / len(distrcits), 2)\n",
        "\n",
        "get_avg_price(*district_1.values(), *district_2.values(), *district_3.values())"
      ],
      "metadata": {
        "id": "mwS8YXXIRm0Z",
        "colab": {
          "base_uri": "https://localhost:8080/"
        },
        "outputId": "9e675786-0439-48fb-f361-c689c45a4105"
      },
      "execution_count": null,
      "outputs": [
        {
          "output_type": "stream",
          "name": "stdout",
          "text": [
            "(10500, 11000, 15000, 6500, 7000, 6000)\n"
          ]
        },
        {
          "output_type": "execute_result",
          "data": {
            "text/plain": [
              "9333.33"
            ]
          },
          "metadata": {},
          "execution_count": 10
        }
      ]
    },
    {
      "cell_type": "markdown",
      "source": [
        "## 🧠 Медиана\n",
        "Напишите функцию, которая принимает произвольное число параметров и вычисляет медиану:\n",
        "\n",
        "Медианой набора {11, 9, 3, 5, 5} является число 5, так как оно стоит в середине этого набора после его упорядочивания: {3, 5,\n",
        "5, 9, 11}. Если в выборке чётное число элементов, считать медианой полусумму двух соседних значений (то есть медиану\n",
        "набора {1, 3, 5, 7} принимают равной 4).\n",
        "\n",
        "\n",
        "Для проверки работоспособности функции используйте следующий код:\n",
        "```\n",
        "assert median() == 0\n",
        "assert median(1, 2, 6) == 2\n",
        "assert median(1, 2, 6, 19) == 4\n",
        "```"
      ],
      "metadata": {
        "id": "89nExq3b0WbF"
      }
    },
    {
      "cell_type": "code",
      "source": [
        "num = 120\n",
        "\n",
        "assert num == 0, 'num не ноль'"
      ],
      "metadata": {
        "colab": {
          "base_uri": "https://localhost:8080/",
          "height": 214
        },
        "id": "RPvakHNIjSsP",
        "outputId": "8643db9f-b7e0-48e8-86ea-57d1d229f972"
      },
      "execution_count": null,
      "outputs": [
        {
          "output_type": "error",
          "ename": "AssertionError",
          "evalue": "ignored",
          "traceback": [
            "\u001b[0;31m---------------------------------------------------------------------------\u001b[0m",
            "\u001b[0;31mAssertionError\u001b[0m                            Traceback (most recent call last)",
            "\u001b[0;32m<ipython-input-150-9e057890242b>\u001b[0m in \u001b[0;36m<cell line: 3>\u001b[0;34m()\u001b[0m\n\u001b[1;32m      1\u001b[0m \u001b[0mnum\u001b[0m \u001b[0;34m=\u001b[0m \u001b[0;36m120\u001b[0m\u001b[0;34m\u001b[0m\u001b[0;34m\u001b[0m\u001b[0m\n\u001b[1;32m      2\u001b[0m \u001b[0;34m\u001b[0m\u001b[0m\n\u001b[0;32m----> 3\u001b[0;31m \u001b[0;32massert\u001b[0m \u001b[0mnum\u001b[0m \u001b[0;34m==\u001b[0m \u001b[0;36m0\u001b[0m\u001b[0;34m,\u001b[0m \u001b[0;34m'num не ноль'\u001b[0m\u001b[0;34m\u001b[0m\u001b[0;34m\u001b[0m\u001b[0m\n\u001b[0m",
            "\u001b[0;31mAssertionError\u001b[0m: num не ноль"
          ]
        }
      ]
    },
    {
      "cell_type": "code",
      "source": [
        "#@title Решение\n",
        "\n",
        "def median(*numbers):\n",
        "    n = len(numbers)\n",
        "    if n == 0:\n",
        "        return 0\n",
        "    if n % 2 == 0:\n",
        "        return (numbers[(n-1)//2] + numbers[n//2]) / 2\n",
        "    return numbers[n//2]\n",
        "\n",
        "\n",
        "assert median() == 0\n",
        "assert median(1, 2, 6) == 2\n",
        "assert median(1, 2, 6, 19) == 4"
      ],
      "metadata": {
        "cellView": "form",
        "id": "UUUOmBWs0eL9"
      },
      "execution_count": null,
      "outputs": []
    },
    {
      "cell_type": "markdown",
      "source": [
        "## 🧠 Сумма квадратов положительных чисел\n",
        "Дана последовательность целых чисел. Вычислите с помощью лямбда-функций сумму квадратов положительных элементов.Шаблон программы:\n",
        "\n",
        "```\n",
        "import functools\n",
        "nums = [2, -1, 4]\n",
        "nums_filtered = filter(...)\n",
        "nums_squared = map(...)\n",
        "nums_sum = functools.reduce(...)\n",
        "assert nums_sum == 20\n",
        "```"
      ],
      "metadata": {
        "id": "u9CXZ2ruz73L"
      }
    },
    {
      "cell_type": "code",
      "source": [],
      "metadata": {
        "id": "WN9-gLvwo3ZG",
        "colab": {
          "base_uri": "https://localhost:8080/"
        },
        "outputId": "0d3d6242-1d14-4dcc-ba05-e29c5ad6f03c"
      },
      "execution_count": null,
      "outputs": [
        {
          "output_type": "execute_result",
          "data": {
            "text/plain": [
              "20"
            ]
          },
          "metadata": {},
          "execution_count": 147
        }
      ]
    },
    {
      "cell_type": "code",
      "source": [
        "#@title Решение\n",
        "import functools\n",
        "\n",
        "nums = [2, -1, 4]\n",
        "\n",
        "nums_filtered = filter(lambda x: x > 0, nums)\n",
        "nums_squared = map(lambda x: x * x, nums_filtered)\n",
        "nums_sum = functools.reduce(lambda x, y: x + y, nums_squared)\n",
        "\n",
        "assert nums_sum == 20\n"
      ],
      "metadata": {
        "id": "BVTaASTv0DQs",
        "cellView": "form"
      },
      "execution_count": null,
      "outputs": []
    },
    {
      "cell_type": "markdown",
      "source": [
        "# Что дальше"
      ],
      "metadata": {
        "id": "B0wC5zg-sXjw"
      }
    },
    {
      "cell_type": "markdown",
      "source": [
        "Файлы https://colab.research.google.com/drive/1U-om1Av71MVzTLCbJnq4XEf5EnZpKiiK"
      ],
      "metadata": {
        "id": "yXA9T-IwsabA"
      }
    }
  ]
}