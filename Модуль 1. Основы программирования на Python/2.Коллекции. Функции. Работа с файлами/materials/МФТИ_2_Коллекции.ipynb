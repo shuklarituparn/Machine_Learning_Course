{
  "nbformat": 4,
  "nbformat_minor": 0,
  "metadata": {
    "colab": {
      "provenance": [],
      "toc_visible": true,
      "collapsed_sections": [
        "nmU81H4RhJxw",
        "t2PH3YtpjJbA",
        "0fhr_Gaji449",
        "7reF69ZknnJ0",
        "Mq69xVoKjXAB",
        "sWrxP8UtjXAK",
        "UycVOMAKjXAQ"
      ]
    },
    "kernelspec": {
      "name": "python3",
      "display_name": "Python 3"
    },
    "language_info": {
      "name": "python"
    }
  },
  "cells": [
    {
      "cell_type": "markdown",
      "metadata": {
        "id": "nj-Dbw0uhJwe"
      },
      "source": [
        "# Списки"
      ]
    },
    {
      "cell_type": "code",
      "source": [
        "a = [1, 2, 3, 4, 5]"
      ],
      "metadata": {
        "id": "64b58JhvaOtz"
      },
      "execution_count": null,
      "outputs": []
    },
    {
      "cell_type": "code",
      "source": [
        "a = [1, 3.39, 'sdfuh', True]\n",
        "a"
      ],
      "metadata": {
        "colab": {
          "base_uri": "https://localhost:8080/"
        },
        "id": "NdigcksnaThA",
        "outputId": "599cb9da-51d1-4481-84bf-7a69ff9214c9"
      },
      "execution_count": null,
      "outputs": [
        {
          "output_type": "execute_result",
          "data": {
            "text/plain": [
              "[1, 3.39, 'sdfuh', True]"
            ]
          },
          "metadata": {},
          "execution_count": 2
        }
      ]
    },
    {
      "cell_type": "markdown",
      "metadata": {
        "id": "ZEwuJ6MYhJwl"
      },
      "source": [
        "Список операций:"
      ]
    },
    {
      "cell_type": "code",
      "execution_count": null,
      "metadata": {
        "id": "HnhrgkHdhJwm",
        "outputId": "42f2a706-aa1a-413c-827e-a68bdcfc7576"
      },
      "outputs": [
        {
          "data": {
            "text/plain": [
              "['append',\n",
              " 'clear',\n",
              " 'copy',\n",
              " 'count',\n",
              " 'extend',\n",
              " 'index',\n",
              " 'insert',\n",
              " 'pop',\n",
              " 'remove',\n",
              " 'reverse',\n",
              " 'sort']"
            ]
          },
          "execution_count": 1,
          "metadata": {},
          "output_type": "execute_result"
        }
      ],
      "source": [
        "[f for f in dir(list) if not f.startswith('__')]"
      ]
    },
    {
      "cell_type": "markdown",
      "metadata": {
        "id": "EbXCZ0shhJxC"
      },
      "source": [
        "## Изменение списка"
      ]
    },
    {
      "cell_type": "code",
      "execution_count": null,
      "metadata": {
        "id": "i0oN5zBkhJxD",
        "outputId": "0eab848c-fc4d-4387-980c-d7e66249774e",
        "colab": {
          "base_uri": "https://localhost:8080/"
        }
      },
      "outputs": [
        {
          "output_type": "execute_result",
          "data": {
            "text/plain": [
              "['a', 'b', 'c', 'd']"
            ]
          },
          "metadata": {},
          "execution_count": 2
        }
      ],
      "source": [
        "letters = ['a', 'b', 'c', 'd']\n",
        "letters"
      ]
    },
    {
      "cell_type": "markdown",
      "metadata": {
        "id": "W3mmy4kMhJxE"
      },
      "source": [
        "Замена элемента:"
      ]
    },
    {
      "cell_type": "code",
      "execution_count": null,
      "metadata": {
        "id": "O1Os-Sr7hJxF",
        "outputId": "6ef8a83f-8b74-4aad-a3c4-2ed5313a86b8",
        "colab": {
          "base_uri": "https://localhost:8080/"
        }
      },
      "outputs": [
        {
          "output_type": "execute_result",
          "data": {
            "text/plain": [
              "['a', 'b', 'c', 'DD']"
            ]
          },
          "metadata": {},
          "execution_count": 3
        }
      ],
      "source": [
        "letters[3] = 'DD'\n",
        "letters"
      ]
    },
    {
      "cell_type": "markdown",
      "metadata": {
        "id": "nFvmPKPZhJxG"
      },
      "source": [
        "Добавить значение _в начало_:"
      ]
    },
    {
      "cell_type": "code",
      "execution_count": null,
      "metadata": {
        "id": "wHTSg9s9hJxG",
        "outputId": "32365a71-75e7-45ef-8dc1-b371ae04f908",
        "colab": {
          "base_uri": "https://localhost:8080/"
        }
      },
      "outputs": [
        {
          "output_type": "execute_result",
          "data": {
            "text/plain": [
              "['AA', 'a', 'b', 'c', 'DD']"
            ]
          },
          "metadata": {},
          "execution_count": 4
        }
      ],
      "source": [
        "letters.insert(0, 'AA')\n",
        "letters"
      ]
    },
    {
      "cell_type": "markdown",
      "metadata": {
        "id": "qWFGRHjZhJxG"
      },
      "source": [
        "Добавить значение _в конец_:"
      ]
    },
    {
      "cell_type": "code",
      "execution_count": null,
      "metadata": {
        "id": "eQp5cAGUhJxH",
        "outputId": "b9aa1975-1c1f-4a48-91a9-ff45c6c58797",
        "colab": {
          "base_uri": "https://localhost:8080/"
        }
      },
      "outputs": [
        {
          "output_type": "execute_result",
          "data": {
            "text/plain": [
              "['AA', 'a', 'b', 'c', 'DD', 'ZZ']"
            ]
          },
          "metadata": {},
          "execution_count": 5
        }
      ],
      "source": [
        "letters.append('ZZ')\n",
        "letters"
      ]
    },
    {
      "cell_type": "markdown",
      "metadata": {
        "id": "lQnH6l_7hJxM"
      },
      "source": [
        "## Сортировка"
      ]
    },
    {
      "cell_type": "code",
      "execution_count": null,
      "metadata": {
        "id": "Pl6dzsIKhJxM",
        "outputId": "718f5985-20b4-458f-8617-eb153495117e",
        "colab": {
          "base_uri": "https://localhost:8080/"
        }
      },
      "outputs": [
        {
          "output_type": "execute_result",
          "data": {
            "text/plain": [
              "[1, 3, 4, 5]"
            ]
          },
          "metadata": {},
          "execution_count": 7
        }
      ],
      "source": [
        "x = [5, 4, 1, 3]\n",
        "x.sort()\n",
        "x"
      ]
    },
    {
      "cell_type": "code",
      "source": [
        "x = x.sort()\n",
        "x"
      ],
      "metadata": {
        "id": "en8WyBsYfjKT"
      },
      "execution_count": null,
      "outputs": []
    },
    {
      "cell_type": "markdown",
      "metadata": {
        "id": "m7uurVNbhJxN"
      },
      "source": [
        "Функция `sorted` создаёт поверхностную копию и упорядочивает элементы копии, то есть основной список остаётся неизменным:"
      ]
    },
    {
      "cell_type": "code",
      "execution_count": null,
      "metadata": {
        "id": "btxjicxOhJxN",
        "outputId": "5f7a55ca-14ec-4ef5-e04d-4d6b2ce64eb2",
        "colab": {
          "base_uri": "https://localhost:8080/"
        }
      },
      "outputs": [
        {
          "output_type": "stream",
          "name": "stdout",
          "text": [
            "x=[5, -4, 1, -3]\n",
            "x_sorted=[-4, -3, 1, 5]\n"
          ]
        }
      ],
      "source": [
        "x = [5, -4, 1, -3]\n",
        "x_sorted = sorted(x)\n",
        "\n",
        "print(f'x={x}')\n",
        "print(f'x_sorted={x_sorted}')"
      ]
    },
    {
      "cell_type": "markdown",
      "metadata": {
        "id": "cwswc--2hJxO"
      },
      "source": [
        "Обратный порядок задаётся с помощью параметра `reverse=True`:"
      ]
    },
    {
      "cell_type": "code",
      "execution_count": null,
      "metadata": {
        "id": "ZrzuQkuohJxP",
        "outputId": "0151920d-0961-4f92-c228-62237a7efded",
        "colab": {
          "base_uri": "https://localhost:8080/"
        }
      },
      "outputs": [
        {
          "output_type": "execute_result",
          "data": {
            "text/plain": [
              "[5, 4, 3, 1]"
            ]
          },
          "metadata": {},
          "execution_count": 32
        }
      ],
      "source": [
        "x = [5, 4, 1, 3]\n",
        "x.sort(reverse=True)\n",
        "x"
      ]
    },
    {
      "cell_type": "code",
      "source": [
        "sorted(x, reverse=True)"
      ],
      "metadata": {
        "colab": {
          "base_uri": "https://localhost:8080/"
        },
        "id": "H3Ow8GBmf2f3",
        "outputId": "3e704f81-2cb2-4fc8-f42d-feec908d6b9c"
      },
      "execution_count": null,
      "outputs": [
        {
          "output_type": "execute_result",
          "data": {
            "text/plain": [
              "[5, 4, 3, 1]"
            ]
          },
          "metadata": {},
          "execution_count": 33
        }
      ]
    },
    {
      "cell_type": "markdown",
      "metadata": {
        "id": "0_4oC8BLhJxP"
      },
      "source": [
        "Иногда требуется отсортировать по собственному признаку - не прямо по исходным значениям, а производным от них. Например, сортировка по абсолютному значения числа:"
      ]
    },
    {
      "cell_type": "code",
      "source": [
        "abs(-10)"
      ],
      "metadata": {
        "colab": {
          "base_uri": "https://localhost:8080/"
        },
        "id": "8XX99F4TgAxP",
        "outputId": "d4d2e213-986a-440c-ea46-a0eb8d10ba1f"
      },
      "execution_count": null,
      "outputs": [
        {
          "output_type": "execute_result",
          "data": {
            "text/plain": [
              "10"
            ]
          },
          "metadata": {},
          "execution_count": 10
        }
      ]
    },
    {
      "cell_type": "code",
      "execution_count": null,
      "metadata": {
        "id": "5G3iqDUShJxP",
        "outputId": "7579a9ec-1be6-472f-912e-39cd96b4ee19",
        "colab": {
          "base_uri": "https://localhost:8080/"
        }
      },
      "outputs": [
        {
          "output_type": "execute_result",
          "data": {
            "text/plain": [
              "[1, 15, -24, -53]"
            ]
          },
          "metadata": {},
          "execution_count": 11
        }
      ],
      "source": [
        "def myabs(y):\n",
        "    return abs(y)\n",
        "\n",
        "\n",
        "x = [15, -24, 1, -53]\n",
        "x.sort(key=myabs)\n",
        "x"
      ]
    },
    {
      "cell_type": "markdown",
      "metadata": {
        "id": "QV3sev_RhJxQ"
      },
      "source": [
        "или по длине строки:"
      ]
    },
    {
      "cell_type": "code",
      "source": [
        "def mylen(y):\n",
        "    return len(y)"
      ],
      "metadata": {
        "id": "c294e6NVgY9l"
      },
      "execution_count": null,
      "outputs": []
    },
    {
      "cell_type": "code",
      "execution_count": null,
      "metadata": {
        "id": "jQU21gQohJxQ",
        "outputId": "80469e19-325c-49fc-dec7-e763755f7d23",
        "colab": {
          "base_uri": "https://localhost:8080/"
        }
      },
      "outputs": [
        {
          "output_type": "execute_result",
          "data": {
            "text/plain": [
              "['plum', 'apple', 'banana', 'grapefruit']"
            ]
          },
          "metadata": {},
          "execution_count": 13
        }
      ],
      "source": [
        "x = ['apple', 'banana', 'plum', 'grapefruit']\n",
        "sorted(x, key=len)"
      ]
    },
    {
      "cell_type": "markdown",
      "metadata": {
        "id": "md2QYYYshJxQ"
      },
      "source": [
        "## Группировка элементов в список"
      ]
    },
    {
      "cell_type": "code",
      "source": [
        "x, y, z = [1, 2, 3, 4, 5]\n",
        "x, y, z"
      ],
      "metadata": {
        "colab": {
          "base_uri": "https://localhost:8080/",
          "height": 159
        },
        "id": "fNi6qFfkhkSM",
        "outputId": "5ee4fb2a-06b8-4c3a-a612-93d8dffb3b5a"
      },
      "execution_count": null,
      "outputs": [
        {
          "output_type": "error",
          "ename": "ValueError",
          "evalue": "too many values to unpack (expected 3)",
          "traceback": [
            "\u001b[0;31m---------------------------------------------------------------------------\u001b[0m",
            "\u001b[0;31mValueError\u001b[0m                                Traceback (most recent call last)",
            "\u001b[0;32m<ipython-input-14-cc6ad60614a7>\u001b[0m in \u001b[0;36m<cell line: 1>\u001b[0;34m()\u001b[0m\n\u001b[0;32m----> 1\u001b[0;31m \u001b[0mx\u001b[0m\u001b[0;34m,\u001b[0m \u001b[0my\u001b[0m\u001b[0;34m,\u001b[0m \u001b[0mz\u001b[0m \u001b[0;34m=\u001b[0m \u001b[0;34m[\u001b[0m\u001b[0;36m1\u001b[0m\u001b[0;34m,\u001b[0m \u001b[0;36m2\u001b[0m\u001b[0;34m,\u001b[0m \u001b[0;36m3\u001b[0m\u001b[0;34m,\u001b[0m \u001b[0;36m4\u001b[0m\u001b[0;34m,\u001b[0m \u001b[0;36m5\u001b[0m\u001b[0;34m]\u001b[0m\u001b[0;34m\u001b[0m\u001b[0;34m\u001b[0m\u001b[0m\n\u001b[0m\u001b[1;32m      2\u001b[0m \u001b[0mx\u001b[0m\u001b[0;34m,\u001b[0m \u001b[0my\u001b[0m\u001b[0;34m,\u001b[0m \u001b[0mz\u001b[0m\u001b[0;34m\u001b[0m\u001b[0;34m\u001b[0m\u001b[0m\n",
            "\u001b[0;31mValueError\u001b[0m: too many values to unpack (expected 3)"
          ]
        }
      ]
    },
    {
      "cell_type": "markdown",
      "metadata": {
        "id": "6zgtNKTNhJxR"
      },
      "source": [
        "Оператор `*` (splat, звёздочка) группирует элементы в список:"
      ]
    },
    {
      "cell_type": "code",
      "execution_count": null,
      "metadata": {
        "id": "knStZ-Q_hJxR",
        "outputId": "986bb73a-92ea-4b75-d04f-a9242017f53b",
        "colab": {
          "base_uri": "https://localhost:8080/"
        }
      },
      "outputs": [
        {
          "output_type": "stream",
          "name": "stdout",
          "text": [
            "x=1\n",
            "y=[2, 3, 4]\n",
            "z=5\n"
          ]
        }
      ],
      "source": [
        "x, *y, z = [1, 2, 3, 4, 5]\n",
        "\n",
        "print(f'x={x}')\n",
        "print(f'y={y}')\n",
        "print(f'z={z}')"
      ]
    },
    {
      "cell_type": "markdown",
      "metadata": {
        "id": "feEaHP6OhJxR"
      },
      "source": [
        "и разгруппировывает:"
      ]
    },
    {
      "cell_type": "code",
      "execution_count": null,
      "metadata": {
        "id": "nMydOlElhJxS",
        "outputId": "f26b97d5-6ebe-4b42-a774-6fd5a5ec474f",
        "colab": {
          "base_uri": "https://localhost:8080/"
        }
      },
      "outputs": [
        {
          "output_type": "execute_result",
          "data": {
            "text/plain": [
              "[[1, 2, 3], 4, 5]"
            ]
          },
          "metadata": {},
          "execution_count": 16
        }
      ],
      "source": [
        "a = [1, 2, 3]\n",
        "[a, 4, 5]"
      ]
    },
    {
      "cell_type": "code",
      "execution_count": null,
      "metadata": {
        "id": "0IMcQH4vhJxT",
        "outputId": "8d52869f-c5ae-4fb2-df28-03714eb7a30e",
        "colab": {
          "base_uri": "https://localhost:8080/"
        }
      },
      "outputs": [
        {
          "output_type": "execute_result",
          "data": {
            "text/plain": [
              "[1, 2, 3, 4, 5]"
            ]
          },
          "metadata": {},
          "execution_count": 17
        }
      ],
      "source": [
        "[*a, 4, 5]"
      ]
    },
    {
      "cell_type": "markdown",
      "metadata": {
        "id": "254Tt3vvhJxT"
      },
      "source": [
        "## Соединение списков"
      ]
    },
    {
      "cell_type": "markdown",
      "metadata": {
        "id": "hp0xOOIEhJxU"
      },
      "source": [
        "Можно объединить два списка на лету в новый, используя оператор `+`:"
      ]
    },
    {
      "cell_type": "code",
      "execution_count": null,
      "metadata": {
        "id": "8KiyECTOhJxU",
        "outputId": "80f49e86-4468-4d87-ecd2-8e167c1ddc1e",
        "colab": {
          "base_uri": "https://localhost:8080/"
        }
      },
      "outputs": [
        {
          "output_type": "execute_result",
          "data": {
            "text/plain": [
              "['a', 'b', 'c', 1, 2]"
            ]
          },
          "metadata": {},
          "execution_count": 18
        }
      ],
      "source": [
        "letters = ['a', 'b', 'c']\n",
        "nums = [1, 2]\n",
        "letters + nums"
      ]
    },
    {
      "cell_type": "markdown",
      "metadata": {
        "id": "DB9kGH3zhJxW"
      },
      "source": [
        "Другой способ это сделать, использовать оператор `*` для \"распаковки\" значений списка и составления нового:"
      ]
    },
    {
      "cell_type": "code",
      "execution_count": null,
      "metadata": {
        "id": "jlyd-QE0hJxW",
        "outputId": "394d8fea-1591-467f-84a6-3a9f333768fe",
        "colab": {
          "base_uri": "https://localhost:8080/"
        }
      },
      "outputs": [
        {
          "output_type": "execute_result",
          "data": {
            "text/plain": [
              "['a', 'b', 'c', 1, 2]"
            ]
          },
          "metadata": {},
          "execution_count": 19
        }
      ],
      "source": [
        "letters = ['a', 'b', 'c']\n",
        "nums = [1, 2]\n",
        "[*letters, *nums]"
      ]
    },
    {
      "cell_type": "markdown",
      "metadata": {
        "id": "2Bp-rrvahJxW"
      },
      "source": [
        "Нельзя на лету соединить список и элемент:\n",
        "\n",
        "```python\n",
        "[1, 2, 3] + 4  # так нельзя\n",
        "```\n",
        "\n",
        "Но можно из элемента сделать список и соединить два списка:"
      ]
    },
    {
      "cell_type": "code",
      "source": [
        "[1, 2, 3] + 4"
      ],
      "metadata": {
        "colab": {
          "base_uri": "https://localhost:8080/",
          "height": 141
        },
        "id": "0lkfV2vKiDe5",
        "outputId": "9e5a713f-97b6-4e36-9ac6-4f589c975292"
      },
      "execution_count": null,
      "outputs": [
        {
          "output_type": "error",
          "ename": "TypeError",
          "evalue": "can only concatenate list (not \"int\") to list",
          "traceback": [
            "\u001b[0;31m---------------------------------------------------------------------------\u001b[0m",
            "\u001b[0;31mTypeError\u001b[0m                                 Traceback (most recent call last)",
            "\u001b[0;32m<ipython-input-20-5842ff442cc5>\u001b[0m in \u001b[0;36m<cell line: 1>\u001b[0;34m()\u001b[0m\n\u001b[0;32m----> 1\u001b[0;31m \u001b[0;34m[\u001b[0m\u001b[0;36m1\u001b[0m\u001b[0;34m,\u001b[0m \u001b[0;36m2\u001b[0m\u001b[0;34m,\u001b[0m \u001b[0;36m3\u001b[0m\u001b[0;34m]\u001b[0m \u001b[0;34m+\u001b[0m \u001b[0;36m4\u001b[0m\u001b[0;34m\u001b[0m\u001b[0;34m\u001b[0m\u001b[0m\n\u001b[0m",
            "\u001b[0;31mTypeError\u001b[0m: can only concatenate list (not \"int\") to list"
          ]
        }
      ]
    },
    {
      "cell_type": "code",
      "source": [
        "a = [1, 2, 3]\n",
        "a.append(4)\n",
        "a"
      ],
      "metadata": {
        "colab": {
          "base_uri": "https://localhost:8080/"
        },
        "id": "17bBAxcXiNsD",
        "outputId": "93eea1da-b02e-447a-ba50-b24a20a5ce6d"
      },
      "execution_count": null,
      "outputs": [
        {
          "output_type": "execute_result",
          "data": {
            "text/plain": [
              "[1, 2, 3, 4]"
            ]
          },
          "metadata": {},
          "execution_count": 21
        }
      ]
    },
    {
      "cell_type": "code",
      "execution_count": null,
      "metadata": {
        "id": "Dh-RgalzhJxX",
        "outputId": "baff1c9d-1ab7-4619-bb2b-34c0720113ff",
        "colab": {
          "base_uri": "https://localhost:8080/"
        }
      },
      "outputs": [
        {
          "output_type": "execute_result",
          "data": {
            "text/plain": [
              "[1, 2, 3, 4]"
            ]
          },
          "metadata": {},
          "execution_count": 22
        }
      ],
      "source": [
        "[1, 2, 3] + [4]"
      ]
    },
    {
      "cell_type": "code",
      "execution_count": null,
      "metadata": {
        "id": "vKLkHxiihJxY",
        "outputId": "ca66ecca-4819-44a2-92e5-bc130fda695b",
        "colab": {
          "base_uri": "https://localhost:8080/"
        }
      },
      "outputs": [
        {
          "output_type": "execute_result",
          "data": {
            "text/plain": [
              "['a', 'b', 'c', 1, 2]"
            ]
          },
          "metadata": {},
          "execution_count": 23
        }
      ],
      "source": [
        "letters = ['a', 'b', 'c']\n",
        "nums = [1, 2]\n",
        "letters += nums\n",
        "letters"
      ]
    },
    {
      "cell_type": "markdown",
      "metadata": {
        "id": "sD8zRnq9hJxY"
      },
      "source": [
        "Соединить попарно элементы списков `letters` и `nums`:"
      ]
    },
    {
      "cell_type": "code",
      "execution_count": null,
      "metadata": {
        "id": "QuVjxlJehJxq",
        "outputId": "f81cef6c-6527-454a-884c-0adc92362bc0",
        "colab": {
          "base_uri": "https://localhost:8080/"
        }
      },
      "outputs": [
        {
          "output_type": "stream",
          "name": "stdout",
          "text": [
            "('a', 1)\n",
            "('b', 2)\n"
          ]
        }
      ],
      "source": [
        "for i in zip(letters, nums):\n",
        "    print(i)"
      ]
    },
    {
      "cell_type": "code",
      "source": [
        "list(zip(letters, nums))"
      ],
      "metadata": {
        "colab": {
          "base_uri": "https://localhost:8080/"
        },
        "id": "kUFePMmXin_g",
        "outputId": "ab67129a-1a36-487a-86d8-de83aaa0152d"
      },
      "execution_count": null,
      "outputs": [
        {
          "output_type": "execute_result",
          "data": {
            "text/plain": [
              "[('a', 1), ('b', 2)]"
            ]
          },
          "metadata": {},
          "execution_count": 25
        }
      ]
    },
    {
      "cell_type": "markdown",
      "metadata": {
        "id": "GOC4M2Q-hJxs"
      },
      "source": [
        "## 🧠 Работа со списком"
      ]
    },
    {
      "cell_type": "markdown",
      "metadata": {
        "id": "8DptsURIhJxs"
      },
      "source": [
        "Есть список со значениями ряда Фибоначчи:"
      ]
    },
    {
      "cell_type": "code",
      "execution_count": null,
      "metadata": {
        "id": "zf9W1k2KhJxt",
        "outputId": "a0dc4a9b-b039-4407-8d3c-48284a20e453",
        "colab": {
          "base_uri": "https://localhost:8080/"
        }
      },
      "outputs": [
        {
          "output_type": "execute_result",
          "data": {
            "text/plain": [
              "[1, 1, 2, 3, 5, 8, 13, 21]"
            ]
          },
          "metadata": {},
          "execution_count": 188
        }
      ],
      "source": [
        "fib = [1, 1, 2, 3, 5, 8, 13, 21]\n",
        "fib"
      ]
    },
    {
      "cell_type": "markdown",
      "metadata": {
        "id": "d8qz-o7VhJxt"
      },
      "source": [
        "Вычислите длину списка:"
      ]
    },
    {
      "cell_type": "code",
      "execution_count": null,
      "metadata": {
        "id": "nRal06M1hJxu",
        "outputId": "31ede482-e1b0-4578-9534-90e7dd7587d6",
        "colab": {
          "base_uri": "https://localhost:8080/"
        }
      },
      "outputs": [
        {
          "output_type": "execute_result",
          "data": {
            "text/plain": [
              "8"
            ]
          },
          "metadata": {},
          "execution_count": 189
        }
      ],
      "source": []
    },
    {
      "cell_type": "markdown",
      "metadata": {
        "id": "eCJ39soOhJxu"
      },
      "source": [
        "Допишите к этому списку следующие величины: `34`, `55`, `89`"
      ]
    },
    {
      "cell_type": "code",
      "source": [],
      "metadata": {
        "colab": {
          "base_uri": "https://localhost:8080/"
        },
        "id": "KmmvJYtzjdVT",
        "outputId": "43a9b4b6-5d5b-4a76-c6d7-ae3f0bad3387"
      },
      "execution_count": null,
      "outputs": [
        {
          "output_type": "execute_result",
          "data": {
            "text/plain": [
              "[1, 1, 2, 3, 5, 8, 13, 21, 34, 55, 89]"
            ]
          },
          "metadata": {},
          "execution_count": 192
        }
      ]
    },
    {
      "cell_type": "markdown",
      "metadata": {
        "id": "HTJMrVpChJxu"
      },
      "source": [
        "Удалите все элементы со значением `1`:"
      ]
    },
    {
      "cell_type": "code",
      "execution_count": null,
      "metadata": {
        "id": "MNn_xMJYhJxv",
        "outputId": "bd920ed3-e1b7-4883-d5f0-87eb974698f7",
        "colab": {
          "base_uri": "https://localhost:8080/"
        }
      },
      "outputs": [
        {
          "output_type": "execute_result",
          "data": {
            "text/plain": [
              "[2, 3, 5, 8, 13, 21, 34, 55, 89]"
            ]
          },
          "metadata": {},
          "execution_count": 195
        }
      ],
      "source": []
    },
    {
      "cell_type": "markdown",
      "metadata": {
        "id": "wNQ4oda4hJxv"
      },
      "source": [
        "Проверьте вхождение элемента со значением `111`. Если такого нет, то добавьте в начало.\n",
        "\n",
        "Ячейку можно выполнить несколько раз - результат не должен меняться (элемент появился в списке и снова не будет добавлен)."
      ]
    },
    {
      "cell_type": "code",
      "execution_count": null,
      "metadata": {
        "id": "3L-kIYukhJxv",
        "outputId": "1b5e4bc8-629b-4def-a47a-5f2438de505f",
        "colab": {
          "base_uri": "https://localhost:8080/"
        }
      },
      "outputs": [
        {
          "output_type": "execute_result",
          "data": {
            "text/plain": [
              "[111, 2, 3, 5, 8, 13, 21, 34, 55, 89]"
            ]
          },
          "metadata": {},
          "execution_count": 196
        }
      ],
      "source": []
    },
    {
      "cell_type": "markdown",
      "metadata": {
        "id": "nmU81H4RhJxw"
      },
      "source": [
        "### 🧠 Работа со списком (ответ)"
      ]
    },
    {
      "cell_type": "markdown",
      "metadata": {
        "id": "5SyEtPxHhJxw"
      },
      "source": [
        "Есть список со значениями ряда Фибоначчи:"
      ]
    },
    {
      "cell_type": "code",
      "execution_count": null,
      "metadata": {
        "id": "9WYaVtHDhJxw",
        "outputId": "f1c37a65-6b84-42ed-b803-233ebaed8088"
      },
      "outputs": [
        {
          "data": {
            "text/plain": [
              "[1, 1, 2, 3, 5, 8, 13, 21]"
            ]
          },
          "execution_count": 2,
          "metadata": {},
          "output_type": "execute_result"
        }
      ],
      "source": [
        "fib = [1, 1, 2, 3, 5, 8, 13, 21]\n",
        "fib"
      ]
    },
    {
      "cell_type": "markdown",
      "metadata": {
        "id": "ROs7iM4KhJxx"
      },
      "source": [
        "Вычислите длину списка:"
      ]
    },
    {
      "cell_type": "code",
      "execution_count": null,
      "metadata": {
        "id": "nDONqC3PhJxx",
        "outputId": "c01011e2-0f7d-42e4-d2cf-d52aa5db9cb4"
      },
      "outputs": [
        {
          "data": {
            "text/plain": [
              "8"
            ]
          },
          "execution_count": 3,
          "metadata": {},
          "output_type": "execute_result"
        }
      ],
      "source": [
        "len(fib)"
      ]
    },
    {
      "cell_type": "markdown",
      "metadata": {
        "id": "p57FSjlFhJxy"
      },
      "source": [
        "Допишите к этому списку следующие величины: `34`, `55`, `89`"
      ]
    },
    {
      "cell_type": "code",
      "execution_count": null,
      "metadata": {
        "id": "xpRj1DzyhJxy",
        "outputId": "fd0688c3-2061-4a1c-9ca1-0cbb93460a59"
      },
      "outputs": [
        {
          "data": {
            "text/plain": [
              "[1, 1, 2, 3, 5, 8, 13, 21, 34, 55, 89]"
            ]
          },
          "execution_count": 5,
          "metadata": {},
          "output_type": "execute_result"
        }
      ],
      "source": [
        "fib += [34, 55, 89]\n",
        "fib"
      ]
    },
    {
      "cell_type": "markdown",
      "metadata": {
        "id": "LWLEIhMGhJxy"
      },
      "source": [
        "Удалите все элементы со значением `1`:"
      ]
    },
    {
      "cell_type": "code",
      "execution_count": null,
      "metadata": {
        "id": "R2QF_szXhJxy",
        "outputId": "115587f8-3f76-46bf-ed44-b809161998f3"
      },
      "outputs": [
        {
          "data": {
            "text/plain": [
              "[2, 3, 5, 8, 13, 21, 34, 55, 89]"
            ]
          },
          "execution_count": 6,
          "metadata": {},
          "output_type": "execute_result"
        }
      ],
      "source": [
        "while 1 in fib:\n",
        "    fib.remove(1)\n",
        "fib"
      ]
    },
    {
      "cell_type": "markdown",
      "metadata": {
        "id": "0CsCYFmhhJxz"
      },
      "source": [
        "Проверьте вхождение элемента со значением `111`. Если такого нет, то добавьте в начало.\n",
        "\n",
        "Ячейку можно выполнить несколько раз - результат не должен меняться (элемент появился в списке и снова не будет добавлен)."
      ]
    },
    {
      "cell_type": "code",
      "execution_count": null,
      "metadata": {
        "id": "gdDF7h0GhJxz",
        "outputId": "da067362-ff35-4d05-9db8-dbdf90b2990e"
      },
      "outputs": [
        {
          "data": {
            "text/plain": [
              "[111, 2, 3, 5, 8, 13, 21, 34, 55, 89]"
            ]
          },
          "execution_count": 7,
          "metadata": {},
          "output_type": "execute_result"
        }
      ],
      "source": [
        "if 111 not in fib:\n",
        "    fib.insert(0, 111)\n",
        "fib"
      ]
    },
    {
      "cell_type": "markdown",
      "metadata": {
        "id": "jeXlRf5ghJxz"
      },
      "source": [
        "## 🧠 Преобразование текста в список"
      ]
    },
    {
      "cell_type": "markdown",
      "metadata": {
        "id": "lFiPHUevhJx1"
      },
      "source": [
        "Имеется переменная с текстовыми данными:"
      ]
    },
    {
      "cell_type": "code",
      "execution_count": null,
      "metadata": {
        "id": "a4TzqfuIhJx1"
      },
      "outputs": [],
      "source": [
        "text = \"\"\"\n",
        "name,dept,tasks\n",
        "Вася,Отдел кадров,10\n",
        "Петя,Отдел кадров,7\n",
        "Маша,Бухгалтерия,5\n",
        "Алексей,Бухгалтерия,6\n",
        "\"\"\""
      ]
    },
    {
      "cell_type": "markdown",
      "metadata": {
        "id": "d2zsDI23hJx1"
      },
      "source": [
        "Необходимо найти суммарное количество задач в подразделении \"Отдел кадров\".\n",
        "\n",
        "Алгоритм может выглядеть так:\n",
        "\n",
        "```text\n",
        "разбить текст на строки\n",
        "удалить первую строку\n",
        "сумма = 0\n",
        "для каждой строки\n",
        "  разбить по запятым на элементы\n",
        "  если dept не равен \"Отдел кадров\", то пропустить запись\n",
        "  сумма += третий элемент\n",
        "```\n",
        "\n",
        "Реализуйте его ниже:"
      ]
    },
    {
      "cell_type": "code",
      "execution_count": null,
      "metadata": {
        "id": "UrW9tlw3hJx1"
      },
      "outputs": [],
      "source": []
    },
    {
      "cell_type": "markdown",
      "metadata": {
        "id": "CE86-VjKhJx2"
      },
      "source": [
        "### 🧠 Преобразование текста в список (ответ)"
      ]
    },
    {
      "cell_type": "markdown",
      "metadata": {
        "id": "yfZUj9o3hJx3"
      },
      "source": [
        "Имеется переменная с текстовыми данными:"
      ]
    },
    {
      "cell_type": "code",
      "execution_count": null,
      "metadata": {
        "id": "VSJ_rXmGhJx3"
      },
      "outputs": [],
      "source": [
        "text = \"\"\"\n",
        "name,dept,tasks\n",
        "Вася,Отдел кадров,10\n",
        "Петя,Отдел кадров,7\n",
        "Маша,Бухгалтерия,5\n",
        "Алексей,Бухгалтерия,6\n",
        "\"\"\""
      ]
    },
    {
      "cell_type": "markdown",
      "metadata": {
        "id": "DyVPD7kQhJx3"
      },
      "source": [
        "Необходимо найти суммарное количество задач в подразделении \"Отдел кадров\".\n",
        "\n",
        "Алгоритм может выглядеть так:\n",
        "\n",
        "```text\n",
        "разбить текст на строки\n",
        "удалить первую строку\n",
        "сумма = 0\n",
        "для каждой строки\n",
        "  разбить по запятым на элементы\n",
        "  если dept не равен \"Отдел кадров\", то пропустить запись\n",
        "  сумма += третий элемент\n",
        "```\n",
        "\n",
        "Реализуйте его ниже:"
      ]
    },
    {
      "cell_type": "code",
      "execution_count": null,
      "metadata": {
        "id": "xzGgrrnohJx4",
        "outputId": "d2966f90-a0cf-442b-9bc3-18e87aa6debd"
      },
      "outputs": [
        {
          "data": {
            "text/plain": [
              "['',\n",
              " 'name,dept,tasks',\n",
              " 'Вася,Отдел кадров,10',\n",
              " 'Петя,Отдел кадров,7',\n",
              " 'Маша,Бухгалтерия,5',\n",
              " 'Алексей,Бухгалтерия,6',\n",
              " '']"
            ]
          },
          "metadata": {},
          "output_type": "display_data"
        }
      ],
      "source": [
        "text.split('\\n')"
      ]
    },
    {
      "cell_type": "code",
      "execution_count": null,
      "metadata": {
        "id": "vtQUVzk4hJx4",
        "outputId": "bdc2547d-015b-4bb5-b703-02dfbd796d84"
      },
      "outputs": [
        {
          "data": {
            "text/plain": [
              "['Вася,Отдел кадров,10',\n",
              " 'Петя,Отдел кадров,7',\n",
              " 'Маша,Бухгалтерия,5',\n",
              " 'Алексей,Бухгалтерия,6']"
            ]
          },
          "metadata": {},
          "output_type": "display_data"
        }
      ],
      "source": [
        "data = text.strip().split('\\n')[1:]\n",
        "sum = 0\n",
        "for line in data:\n",
        "    elements = line.split(',')\n",
        "    if elements[1] != 'Отдел кадров':\n",
        "        continue\n",
        "    sum += int(elements[2])\n",
        "sum"
      ]
    },
    {
      "cell_type": "markdown",
      "source": [
        "## 🧠 По убыванию\n",
        "Напишите программу, которая будет запрашивать у пользователя целые числа и сохранять их в виде списка. Индикатором окончания ввода значений также должен служить ноль. Необходимо вывести на экран введенные значения в порядке убывания.\n",
        "\n",
        "\n",
        "Пример работы программы: <br>\n",
        "Введите первое число: 1<br>\n",
        "Введите следующее число: 3<br>\n",
        "Введите следующее число: 2<br>\n",
        "Введите следующее число: 0<br>\n",
        "Введённые значения в порядке убывания: 3, 2, 1"
      ],
      "metadata": {
        "id": "t1gbfUuXh7Qa"
      }
    },
    {
      "cell_type": "code",
      "source": [],
      "metadata": {
        "id": "mDumvOaviUPT"
      },
      "execution_count": null,
      "outputs": []
    },
    {
      "cell_type": "markdown",
      "metadata": {
        "id": "fKJ7ivZqjJaO"
      },
      "source": [
        "# Множества"
      ]
    },
    {
      "cell_type": "markdown",
      "metadata": {
        "id": "FwrMWz6cjJaR"
      },
      "source": [
        "**Множество** (set) представляет собой неупорядоченную совокупность объектов, в которой не может быть дубликатов.\n",
        "\n",
        "Множества часто используются:\n",
        "\n",
        "- для удаления дубликатов\n",
        "- для проверки принадлежности"
      ]
    },
    {
      "cell_type": "markdown",
      "metadata": {
        "id": "WPS9kkudjJaV"
      },
      "source": [
        "## Список операций"
      ]
    },
    {
      "cell_type": "code",
      "execution_count": null,
      "metadata": {
        "id": "7gU_Y2eejJaW",
        "outputId": "6cd1f1d2-b2d7-4fd7-e8d8-b79ca7d7b331",
        "colab": {
          "base_uri": "https://localhost:8080/"
        }
      },
      "outputs": [
        {
          "output_type": "execute_result",
          "data": {
            "text/plain": [
              "['add',\n",
              " 'clear',\n",
              " 'copy',\n",
              " 'difference',\n",
              " 'difference_update',\n",
              " 'discard',\n",
              " 'intersection',\n",
              " 'intersection_update',\n",
              " 'isdisjoint',\n",
              " 'issubset',\n",
              " 'issuperset',\n",
              " 'pop',\n",
              " 'remove',\n",
              " 'symmetric_difference',\n",
              " 'symmetric_difference_update',\n",
              " 'union',\n",
              " 'update']"
            ]
          },
          "metadata": {},
          "execution_count": 1
        }
      ],
      "source": [
        "[f for f in dir(set) if not f.startswith('__')]"
      ]
    },
    {
      "cell_type": "markdown",
      "metadata": {
        "id": "-5DSwkV5jJaZ"
      },
      "source": [
        "## Создание"
      ]
    },
    {
      "cell_type": "code",
      "execution_count": null,
      "metadata": {
        "id": "nxIlTlQwjJab",
        "outputId": "948b69fa-c92a-435f-a3c5-b28873334137",
        "colab": {
          "base_uri": "https://localhost:8080/"
        }
      },
      "outputs": [
        {
          "output_type": "execute_result",
          "data": {
            "text/plain": [
              "set()"
            ]
          },
          "metadata": {},
          "execution_count": 2
        }
      ],
      "source": [
        "a = set()\n",
        "a"
      ]
    },
    {
      "cell_type": "code",
      "source": [
        "a = {1, 1, 4, 5}\n",
        "a"
      ],
      "metadata": {
        "colab": {
          "base_uri": "https://localhost:8080/"
        },
        "id": "XC-ubJY54Sk2",
        "outputId": "a4e11b2d-e6fa-4d06-85fd-158a134fba4d"
      },
      "execution_count": null,
      "outputs": [
        {
          "output_type": "execute_result",
          "data": {
            "text/plain": [
              "{1, 4, 5}"
            ]
          },
          "metadata": {},
          "execution_count": 5
        }
      ]
    },
    {
      "cell_type": "code",
      "source": [
        "a = {}  # dict"
      ],
      "metadata": {
        "id": "cttBl5AY4KN0"
      },
      "execution_count": null,
      "outputs": []
    },
    {
      "cell_type": "code",
      "execution_count": null,
      "metadata": {
        "id": "zfOhm7NxjJaf",
        "outputId": "48976f17-4128-47b4-eb56-2eba58473e7f",
        "colab": {
          "base_uri": "https://localhost:8080/"
        }
      },
      "outputs": [
        {
          "output_type": "execute_result",
          "data": {
            "text/plain": [
              "{1, 4, 5}"
            ]
          },
          "metadata": {},
          "execution_count": 4
        }
      ],
      "source": [
        "a = set([1, 1, 4, 5])\n",
        "a"
      ]
    },
    {
      "cell_type": "code",
      "source": [
        "list1 = [1, 2, 3]\n",
        "a = {True, 'a', 6, 6, 6, list1}\n",
        "list1[1] = 20\n",
        "a"
      ],
      "metadata": {
        "colab": {
          "base_uri": "https://localhost:8080/",
          "height": 193
        },
        "id": "Gokorb-w46Je",
        "outputId": "2cf84918-c9a0-44d3-d7f9-c6438d6efeec"
      },
      "execution_count": null,
      "outputs": [
        {
          "output_type": "error",
          "ename": "TypeError",
          "evalue": "unhashable type: 'list'",
          "traceback": [
            "\u001b[0;31m---------------------------------------------------------------------------\u001b[0m",
            "\u001b[0;31mTypeError\u001b[0m                                 Traceback (most recent call last)",
            "\u001b[0;32m<ipython-input-26-8c533749b62d>\u001b[0m in \u001b[0;36m<cell line: 2>\u001b[0;34m()\u001b[0m\n\u001b[1;32m      1\u001b[0m \u001b[0mlist1\u001b[0m \u001b[0;34m=\u001b[0m \u001b[0;34m[\u001b[0m\u001b[0;36m1\u001b[0m\u001b[0;34m,\u001b[0m \u001b[0;36m2\u001b[0m\u001b[0;34m,\u001b[0m \u001b[0;36m3\u001b[0m\u001b[0;34m]\u001b[0m\u001b[0;34m\u001b[0m\u001b[0;34m\u001b[0m\u001b[0m\n\u001b[0;32m----> 2\u001b[0;31m \u001b[0ma\u001b[0m \u001b[0;34m=\u001b[0m \u001b[0;34m{\u001b[0m\u001b[0;32mTrue\u001b[0m\u001b[0;34m,\u001b[0m \u001b[0;34m'a'\u001b[0m\u001b[0;34m,\u001b[0m \u001b[0;36m6\u001b[0m\u001b[0;34m,\u001b[0m \u001b[0;36m6\u001b[0m\u001b[0;34m,\u001b[0m \u001b[0;36m6\u001b[0m\u001b[0;34m,\u001b[0m \u001b[0mlist1\u001b[0m\u001b[0;34m}\u001b[0m\u001b[0;34m\u001b[0m\u001b[0;34m\u001b[0m\u001b[0m\n\u001b[0m\u001b[1;32m      3\u001b[0m \u001b[0mlist1\u001b[0m\u001b[0;34m[\u001b[0m\u001b[0;36m1\u001b[0m\u001b[0;34m]\u001b[0m \u001b[0;34m=\u001b[0m \u001b[0;36m20\u001b[0m\u001b[0;34m\u001b[0m\u001b[0;34m\u001b[0m\u001b[0m\n\u001b[1;32m      4\u001b[0m \u001b[0ma\u001b[0m\u001b[0;34m\u001b[0m\u001b[0;34m\u001b[0m\u001b[0m\n",
            "\u001b[0;31mTypeError\u001b[0m: unhashable type: 'list'"
          ]
        }
      ]
    },
    {
      "cell_type": "code",
      "source": [
        "a = {True, 'a', 6, 6, 6, (1, 2, 3)}\n",
        "a"
      ],
      "metadata": {
        "colab": {
          "base_uri": "https://localhost:8080/"
        },
        "id": "mmUo8fO-5PEN",
        "outputId": "e1470ebe-24a1-49b9-ecd9-c03dc0758b4e"
      },
      "execution_count": null,
      "outputs": [
        {
          "output_type": "execute_result",
          "data": {
            "text/plain": [
              "{(1, 2, 3), 6, True, 'a'}"
            ]
          },
          "metadata": {},
          "execution_count": 27
        }
      ]
    },
    {
      "cell_type": "markdown",
      "metadata": {
        "id": "cGxYxFUzjJag"
      },
      "source": [
        "## Операции над множествами"
      ]
    },
    {
      "cell_type": "markdown",
      "metadata": {
        "id": "HcGAgDT9jJal"
      },
      "source": [
        "Множества не поддерживают сортировку."
      ]
    },
    {
      "cell_type": "code",
      "source": [
        "a.sort()"
      ],
      "metadata": {
        "id": "lYrR0pcX9RF6",
        "colab": {
          "base_uri": "https://localhost:8080/",
          "height": 141
        },
        "outputId": "8699e05a-02ff-418e-d7bb-5931eccd4e0e"
      },
      "execution_count": null,
      "outputs": [
        {
          "output_type": "error",
          "ename": "AttributeError",
          "evalue": "'set' object has no attribute 'sort'",
          "traceback": [
            "\u001b[0;31m---------------------------------------------------------------------------\u001b[0m",
            "\u001b[0;31mAttributeError\u001b[0m                            Traceback (most recent call last)",
            "\u001b[0;32m<ipython-input-28-2ed0d7de6146>\u001b[0m in \u001b[0;36m<cell line: 1>\u001b[0;34m()\u001b[0m\n\u001b[0;32m----> 1\u001b[0;31m \u001b[0ma\u001b[0m\u001b[0;34m.\u001b[0m\u001b[0msort\u001b[0m\u001b[0;34m(\u001b[0m\u001b[0;34m)\u001b[0m\u001b[0;34m\u001b[0m\u001b[0;34m\u001b[0m\u001b[0m\n\u001b[0m",
            "\u001b[0;31mAttributeError\u001b[0m: 'set' object has no attribute 'sort'"
          ]
        }
      ]
    },
    {
      "cell_type": "code",
      "source": [
        "a = {6, 7, 8, 1, 2, 3, 4}\n",
        "a"
      ],
      "metadata": {
        "colab": {
          "base_uri": "https://localhost:8080/"
        },
        "id": "vTriYPZ05X2d",
        "outputId": "aa8f17f1-f1ba-4609-85d3-bd6c09d9842a"
      },
      "execution_count": null,
      "outputs": [
        {
          "output_type": "execute_result",
          "data": {
            "text/plain": [
              "{1, 2, 3, 4, 6, 7, 8}"
            ]
          },
          "metadata": {},
          "execution_count": 29
        }
      ]
    },
    {
      "cell_type": "code",
      "source": [
        "sorted(a)"
      ],
      "metadata": {
        "colab": {
          "base_uri": "https://localhost:8080/"
        },
        "id": "v9rVdJQD9UOz",
        "outputId": "a991e31a-da16-4947-9983-61f8e325061b"
      },
      "execution_count": null,
      "outputs": [
        {
          "output_type": "execute_result",
          "data": {
            "text/plain": [
              "[1, 2, 3, 4, 6, 7, 8]"
            ]
          },
          "metadata": {},
          "execution_count": 30
        }
      ]
    },
    {
      "cell_type": "markdown",
      "metadata": {
        "id": "cPwJv2QbjJal"
      },
      "source": [
        "Множества не поддерживают индексирование элементов - нельзя обращаться по индексу и делать срез."
      ]
    },
    {
      "cell_type": "code",
      "source": [
        "a[-1]"
      ],
      "metadata": {
        "colab": {
          "base_uri": "https://localhost:8080/",
          "height": 141
        },
        "id": "upCZj37X9t4o",
        "outputId": "e28a1cd9-b55b-4fce-946c-b347c368e5dd"
      },
      "execution_count": null,
      "outputs": [
        {
          "output_type": "error",
          "ename": "TypeError",
          "evalue": "'set' object is not subscriptable",
          "traceback": [
            "\u001b[0;31m---------------------------------------------------------------------------\u001b[0m",
            "\u001b[0;31mTypeError\u001b[0m                                 Traceback (most recent call last)",
            "\u001b[0;32m<ipython-input-52-a01440cf14bb>\u001b[0m in \u001b[0;36m<cell line: 1>\u001b[0;34m()\u001b[0m\n\u001b[0;32m----> 1\u001b[0;31m \u001b[0ma\u001b[0m\u001b[0;34m[\u001b[0m\u001b[0;34m-\u001b[0m\u001b[0;36m1\u001b[0m\u001b[0;34m]\u001b[0m\u001b[0;34m\u001b[0m\u001b[0;34m\u001b[0m\u001b[0m\n\u001b[0m",
            "\u001b[0;31mTypeError\u001b[0m: 'set' object is not subscriptable"
          ]
        }
      ]
    },
    {
      "cell_type": "markdown",
      "metadata": {
        "id": "i0CW6AeWjJam"
      },
      "source": [
        "Но можно перебирать элементы множества:"
      ]
    },
    {
      "cell_type": "code",
      "execution_count": null,
      "metadata": {
        "id": "mBPk849BjJam",
        "outputId": "aeda1563-3561-48f1-d074-df5941b71534",
        "colab": {
          "base_uri": "https://localhost:8080/"
        }
      },
      "outputs": [
        {
          "output_type": "stream",
          "name": "stdout",
          "text": [
            "1\n",
            "4\n",
            "5\n"
          ]
        }
      ],
      "source": [
        "a = {1, 1, 5, 4}\n",
        "for element in a:\n",
        "    print(element)"
      ]
    },
    {
      "cell_type": "code",
      "source": [
        "for i, el in enumerate(a):\n",
        "    print(el)\n",
        "    print(a[i])"
      ],
      "metadata": {
        "colab": {
          "base_uri": "https://localhost:8080/",
          "height": 193
        },
        "id": "oNrmhTMw5kFI",
        "outputId": "310a7a3f-4c04-4c3c-ebb8-3f8d6c22b014"
      },
      "execution_count": null,
      "outputs": [
        {
          "output_type": "stream",
          "name": "stdout",
          "text": [
            "1\n"
          ]
        },
        {
          "output_type": "error",
          "ename": "TypeError",
          "evalue": "'set' object is not subscriptable",
          "traceback": [
            "\u001b[0;31m---------------------------------------------------------------------------\u001b[0m",
            "\u001b[0;31mTypeError\u001b[0m                                 Traceback (most recent call last)",
            "\u001b[0;32m<ipython-input-32-03c5d28f3d43>\u001b[0m in \u001b[0;36m<cell line: 1>\u001b[0;34m()\u001b[0m\n\u001b[1;32m      1\u001b[0m \u001b[0;32mfor\u001b[0m \u001b[0mi\u001b[0m\u001b[0;34m,\u001b[0m \u001b[0mel\u001b[0m \u001b[0;32min\u001b[0m \u001b[0menumerate\u001b[0m\u001b[0;34m(\u001b[0m\u001b[0ma\u001b[0m\u001b[0;34m)\u001b[0m\u001b[0;34m:\u001b[0m\u001b[0;34m\u001b[0m\u001b[0;34m\u001b[0m\u001b[0m\n\u001b[1;32m      2\u001b[0m     \u001b[0mprint\u001b[0m\u001b[0;34m(\u001b[0m\u001b[0mel\u001b[0m\u001b[0;34m)\u001b[0m\u001b[0;34m\u001b[0m\u001b[0;34m\u001b[0m\u001b[0m\n\u001b[0;32m----> 3\u001b[0;31m     \u001b[0mprint\u001b[0m\u001b[0;34m(\u001b[0m\u001b[0ma\u001b[0m\u001b[0;34m[\u001b[0m\u001b[0mi\u001b[0m\u001b[0;34m]\u001b[0m\u001b[0;34m)\u001b[0m\u001b[0;34m\u001b[0m\u001b[0;34m\u001b[0m\u001b[0m\n\u001b[0m",
            "\u001b[0;31mTypeError\u001b[0m: 'set' object is not subscriptable"
          ]
        }
      ]
    },
    {
      "cell_type": "markdown",
      "metadata": {
        "id": "D5IW1fGgjJam"
      },
      "source": [
        "### Множество и элемент"
      ]
    },
    {
      "cell_type": "markdown",
      "metadata": {
        "id": "_oKHxx-ZjJas"
      },
      "source": [
        "Проверка на вхождение:"
      ]
    },
    {
      "cell_type": "code",
      "execution_count": null,
      "metadata": {
        "id": "B9oiJAgrjJas",
        "outputId": "1660e30b-05c0-4270-cef6-5a276883aac4",
        "colab": {
          "base_uri": "https://localhost:8080/"
        }
      },
      "outputs": [
        {
          "output_type": "execute_result",
          "data": {
            "text/plain": [
              "True"
            ]
          },
          "metadata": {},
          "execution_count": 33
        }
      ],
      "source": [
        "a = {1, 1, 4, 5}\n",
        "5 in a"
      ]
    },
    {
      "cell_type": "code",
      "execution_count": null,
      "metadata": {
        "id": "PEf3N64njJas",
        "outputId": "c9f0c265-3f27-4a2a-8dfb-9581c92366b0",
        "colab": {
          "base_uri": "https://localhost:8080/"
        }
      },
      "outputs": [
        {
          "output_type": "execute_result",
          "data": {
            "text/plain": [
              "False"
            ]
          },
          "metadata": {},
          "execution_count": 34
        }
      ],
      "source": [
        "6 in a"
      ]
    },
    {
      "cell_type": "markdown",
      "metadata": {
        "id": "fvQVCcUFjJat"
      },
      "source": [
        "### Множество и другое множество"
      ]
    },
    {
      "cell_type": "markdown",
      "metadata": {
        "id": "0HhzJhSRjJat"
      },
      "source": [
        "Множества поддерживают классические операции теории множеств, такие как объединение (`|`), пересечение (`&`), вычитание (`-`) и исключающее ИЛИ (`^`).\n",
        "\n",
        "<img src='https://drive.google.com/uc?id=1IHypqKaTmrLLHg7aAuadjixn8ma3mQJR'>"
      ]
    },
    {
      "cell_type": "code",
      "execution_count": null,
      "metadata": {
        "id": "JP6DX_n1jJat",
        "outputId": "d24cfc9e-3132-4bbc-b222-fd1c9b4dc3b7",
        "colab": {
          "base_uri": "https://localhost:8080/"
        }
      },
      "outputs": [
        {
          "output_type": "stream",
          "name": "stdout",
          "text": [
            "{1, 2, 3, 4}\n",
            "{1, 2, 3, 4}\n",
            "{1, 2, 3}\n",
            "{1, 2, 3, 4}\n",
            "{1, 2, 3}\n"
          ]
        }
      ],
      "source": [
        "a = {1, 2, 3}\n",
        "b = {2, 3, 4}\n",
        "print(a.union(b))\n",
        "print(b.union(a))\n",
        "print(a)\n",
        "print(a | b)\n",
        "print(a)"
      ]
    },
    {
      "cell_type": "code",
      "execution_count": null,
      "metadata": {
        "id": "oCjTw1H3jJau",
        "outputId": "21aad042-ae2a-486b-8725-ae8df401432f",
        "colab": {
          "base_uri": "https://localhost:8080/"
        }
      },
      "outputs": [
        {
          "output_type": "stream",
          "name": "stdout",
          "text": [
            "{2, 3}\n",
            "{2, 3}\n",
            "{2, 3}\n"
          ]
        }
      ],
      "source": [
        "a = {1, 2, 3}\n",
        "b = {2, 3, 4}\n",
        "print(a.intersection(b))\n",
        "print(b.intersection(a))\n",
        "print(a & b)"
      ]
    },
    {
      "cell_type": "code",
      "execution_count": null,
      "metadata": {
        "id": "5jH39plkjJau",
        "outputId": "f96e85f3-3d54-4285-ced6-2c8dc79c1eaa",
        "colab": {
          "base_uri": "https://localhost:8080/"
        }
      },
      "outputs": [
        {
          "output_type": "stream",
          "name": "stdout",
          "text": [
            "{1, 4}\n",
            "{1, 4}\n"
          ]
        }
      ],
      "source": [
        "a = {1, 2, 3}\n",
        "b = {2, 3, 4}\n",
        "print(a.symmetric_difference(b))\n",
        "print(a ^ b)"
      ]
    },
    {
      "cell_type": "code",
      "execution_count": null,
      "metadata": {
        "id": "SWybbPrIjJav",
        "outputId": "554e80a7-894f-4c4e-c6e7-91442ce0516a",
        "colab": {
          "base_uri": "https://localhost:8080/"
        }
      },
      "outputs": [
        {
          "output_type": "stream",
          "name": "stdout",
          "text": [
            "{1}\n",
            "{1}\n"
          ]
        }
      ],
      "source": [
        "a = {1, 2, 3}\n",
        "b = {2, 3, 4}\n",
        "print(a.difference(b))\n",
        "print(a - b)"
      ]
    },
    {
      "cell_type": "code",
      "source": [
        "a = {1, 2, 3}\n",
        "b = {2, 3, 4}\n",
        "print(b.difference(a))\n",
        "print(b - a)"
      ],
      "metadata": {
        "colab": {
          "base_uri": "https://localhost:8080/"
        },
        "id": "kQCieQm9-J94",
        "outputId": "c59cc594-2e27-47ea-f8b1-54f2cf8903b9"
      },
      "execution_count": null,
      "outputs": [
        {
          "output_type": "stream",
          "name": "stdout",
          "text": [
            "{4}\n",
            "{4}\n"
          ]
        }
      ]
    },
    {
      "cell_type": "markdown",
      "metadata": {
        "id": "8_5ozYp3jJav"
      },
      "source": [
        "Для изменения исходного множества есть вторая группа операций с суффиксом `_update`."
      ]
    },
    {
      "cell_type": "code",
      "execution_count": null,
      "metadata": {
        "id": "59hNfrDbjJaw",
        "outputId": "055b4fd1-a6cf-4361-be40-b9699b494acc",
        "colab": {
          "base_uri": "https://localhost:8080/"
        }
      },
      "outputs": [
        {
          "output_type": "execute_result",
          "data": {
            "text/plain": [
              "{1, 2, 3, 4}"
            ]
          },
          "metadata": {},
          "execution_count": 36
        }
      ],
      "source": [
        "a = {1, 2, 3}\n",
        "b = {2, 3, 4}\n",
        "a.update(b)  # union!\n",
        "a"
      ]
    },
    {
      "cell_type": "code",
      "execution_count": null,
      "metadata": {
        "id": "mVjKnHOfjJax",
        "outputId": "ae1fe191-7716-48e6-ee79-88feefc7a899",
        "colab": {
          "base_uri": "https://localhost:8080/"
        }
      },
      "outputs": [
        {
          "output_type": "execute_result",
          "data": {
            "text/plain": [
              "{2, 3}"
            ]
          },
          "metadata": {},
          "execution_count": 37
        }
      ],
      "source": [
        "a = {1, 2, 3}\n",
        "b = {2, 3, 4}\n",
        "a.intersection_update(b)\n",
        "a"
      ]
    },
    {
      "cell_type": "code",
      "execution_count": null,
      "metadata": {
        "id": "T4Qub6rHjJay",
        "outputId": "9c88fd63-c0a1-4ee1-9ae7-505692a60c82",
        "colab": {
          "base_uri": "https://localhost:8080/"
        }
      },
      "outputs": [
        {
          "output_type": "execute_result",
          "data": {
            "text/plain": [
              "{1, 4}"
            ]
          },
          "metadata": {},
          "execution_count": 38
        }
      ],
      "source": [
        "a = {1, 2, 3}\n",
        "b = {2, 3, 4}\n",
        "a.symmetric_difference_update(b)\n",
        "a"
      ]
    },
    {
      "cell_type": "code",
      "execution_count": null,
      "metadata": {
        "id": "4TqwiB9XjJaz",
        "outputId": "59dfb992-6137-4ac0-edc8-739721c0dd7d",
        "colab": {
          "base_uri": "https://localhost:8080/"
        }
      },
      "outputs": [
        {
          "output_type": "execute_result",
          "data": {
            "text/plain": [
              "{1}"
            ]
          },
          "metadata": {},
          "execution_count": 39
        }
      ],
      "source": [
        "a = {1, 2, 3}\n",
        "b = {2, 3, 4}\n",
        "a.difference_update(b)\n",
        "a"
      ]
    },
    {
      "cell_type": "markdown",
      "metadata": {
        "id": "nZx4TIEZjJa0"
      },
      "source": [
        "Проверка на равенство:"
      ]
    },
    {
      "cell_type": "code",
      "execution_count": null,
      "metadata": {
        "id": "f_d-ETChjJa1",
        "outputId": "29ea31bb-f08f-4bdd-cd30-82ff466e1222",
        "colab": {
          "base_uri": "https://localhost:8080/"
        }
      },
      "outputs": [
        {
          "output_type": "execute_result",
          "data": {
            "text/plain": [
              "True"
            ]
          },
          "metadata": {},
          "execution_count": 40
        }
      ],
      "source": [
        "a = {1, 2, 3}\n",
        "b = {2, 3, 1}\n",
        "a == b"
      ]
    },
    {
      "cell_type": "code",
      "source": [
        "a"
      ],
      "metadata": {
        "colab": {
          "base_uri": "https://localhost:8080/"
        },
        "id": "rt3N5n6C79Mj",
        "outputId": "7b2edd84-d495-45f1-9977-c96d591858f4"
      },
      "execution_count": null,
      "outputs": [
        {
          "output_type": "execute_result",
          "data": {
            "text/plain": [
              "{1, 2, 3}"
            ]
          },
          "metadata": {},
          "execution_count": 41
        }
      ]
    },
    {
      "cell_type": "code",
      "source": [
        "b"
      ],
      "metadata": {
        "colab": {
          "base_uri": "https://localhost:8080/"
        },
        "id": "EB9VvBLV79uY",
        "outputId": "a8100e7e-8205-4d84-d58e-b2eca35b6f17"
      },
      "execution_count": null,
      "outputs": [
        {
          "output_type": "execute_result",
          "data": {
            "text/plain": [
              "{1, 2, 3}"
            ]
          },
          "metadata": {},
          "execution_count": 42
        }
      ]
    },
    {
      "cell_type": "markdown",
      "metadata": {
        "id": "45pkw4bzjJa5"
      },
      "source": [
        "Проверка на _отсутствие_ общих элементов (обратное пересечение):"
      ]
    },
    {
      "cell_type": "code",
      "execution_count": null,
      "metadata": {
        "id": "09JUx-wTjJa5",
        "outputId": "937b396a-109d-4800-fd8d-f0124ef788a6",
        "colab": {
          "base_uri": "https://localhost:8080/"
        }
      },
      "outputs": [
        {
          "output_type": "execute_result",
          "data": {
            "text/plain": [
              "True"
            ]
          },
          "metadata": {},
          "execution_count": 43
        }
      ],
      "source": [
        "a = {1, 2}\n",
        "b = {3}\n",
        "a.isdisjoint(b)"
      ]
    },
    {
      "cell_type": "code",
      "execution_count": null,
      "metadata": {
        "id": "0DV77aV0jJa6",
        "outputId": "b90a0621-de5b-43c7-da11-28904ad2b78a",
        "colab": {
          "base_uri": "https://localhost:8080/"
        }
      },
      "outputs": [
        {
          "output_type": "execute_result",
          "data": {
            "text/plain": [
              "False"
            ]
          },
          "metadata": {},
          "execution_count": 44
        }
      ],
      "source": [
        "a = {1, 2}\n",
        "b = {2, 3}\n",
        "a.isdisjoint(b)"
      ]
    },
    {
      "cell_type": "markdown",
      "metadata": {
        "id": "EibY53vCjJa7"
      },
      "source": [
        "## 🧠 Работа с множествами"
      ]
    },
    {
      "cell_type": "markdown",
      "metadata": {
        "id": "f13ejDdfjJa7"
      },
      "source": [
        "Даны следующие данные:"
      ]
    },
    {
      "cell_type": "code",
      "execution_count": null,
      "metadata": {
        "id": "N-YQg9zLjJa7"
      },
      "outputs": [],
      "source": [
        "text1 = \"\"\"\n",
        "январь: 2\n",
        "февраль: 4\n",
        "март: 7\n",
        "\"\"\""
      ]
    },
    {
      "cell_type": "code",
      "execution_count": null,
      "metadata": {
        "id": "-RMA_hBcjJa8"
      },
      "outputs": [],
      "source": [
        "text2 = \"\"\"\n",
        "февраль: 10\n",
        "март: 8\n",
        "апрель: 3\n",
        "\"\"\""
      ]
    },
    {
      "cell_type": "markdown",
      "metadata": {
        "id": "FPaO-4vpjJa8"
      },
      "source": [
        "Составьте множества по месяцам:"
      ]
    },
    {
      "cell_type": "code",
      "execution_count": null,
      "metadata": {
        "id": "dH-mQmCrjJa8",
        "outputId": "f7959e91-e28c-4714-894a-c8ba4c466f66",
        "colab": {
          "base_uri": "https://localhost:8080/"
        }
      },
      "outputs": [
        {
          "output_type": "execute_result",
          "data": {
            "text/plain": [
              "{'март', 'февраль', 'январь'}"
            ]
          },
          "metadata": {},
          "execution_count": 61
        }
      ],
      "source": []
    },
    {
      "cell_type": "code",
      "execution_count": null,
      "metadata": {
        "id": "kpxvBTrYjJa9",
        "outputId": "bc6c66df-c8ad-4c0f-e10a-5ed3629983f1",
        "colab": {
          "base_uri": "https://localhost:8080/"
        }
      },
      "outputs": [
        {
          "output_type": "execute_result",
          "data": {
            "text/plain": [
              "{'апрель', 'март', 'февраль'}"
            ]
          },
          "metadata": {},
          "execution_count": 64
        }
      ],
      "source": []
    },
    {
      "cell_type": "markdown",
      "metadata": {
        "id": "FaSFcLyvjJa9"
      },
      "source": [
        "Найдите общие месяцы:"
      ]
    },
    {
      "cell_type": "code",
      "execution_count": null,
      "metadata": {
        "id": "whZzRam1jJa-",
        "outputId": "c71c3db8-2ea7-4f13-9e29-a26b6d8a6289",
        "colab": {
          "base_uri": "https://localhost:8080/"
        }
      },
      "outputs": [
        {
          "output_type": "execute_result",
          "data": {
            "text/plain": [
              "{'март', 'февраль'}"
            ]
          },
          "metadata": {},
          "execution_count": 66
        }
      ],
      "source": []
    },
    {
      "cell_type": "markdown",
      "metadata": {
        "id": "_T9hkIQ2jJa-"
      },
      "source": [
        "Создайте переменную `months` и поместите в неё все месяцы:"
      ]
    },
    {
      "cell_type": "code",
      "execution_count": null,
      "metadata": {
        "id": "IsV-CwjDjJa-",
        "outputId": "04e3b03c-7932-4e91-dd02-2b2b947010fa",
        "colab": {
          "base_uri": "https://localhost:8080/"
        }
      },
      "outputs": [
        {
          "output_type": "execute_result",
          "data": {
            "text/plain": [
              "{'апрель', 'март', 'февраль', 'январь'}"
            ]
          },
          "metadata": {},
          "execution_count": 68
        }
      ],
      "source": []
    },
    {
      "cell_type": "markdown",
      "metadata": {
        "id": "1bfS_AZfjJa_"
      },
      "source": [
        "Найдите месяцы которые не перечислены в обоих текстах:"
      ]
    },
    {
      "cell_type": "code",
      "execution_count": null,
      "metadata": {
        "id": "BrR1p-SZjJa_",
        "outputId": "b2243a46-850e-44c8-f4d3-3bdf4741d4dd",
        "colab": {
          "base_uri": "https://localhost:8080/"
        }
      },
      "outputs": [
        {
          "output_type": "execute_result",
          "data": {
            "text/plain": [
              "{'август', 'декабрь', 'июль', 'июнь', 'май', 'ноябрь', 'октябрь', 'сентябрь'}"
            ]
          },
          "metadata": {},
          "execution_count": 70
        }
      ],
      "source": []
    },
    {
      "cell_type": "markdown",
      "metadata": {
        "id": "t2PH3YtpjJbA"
      },
      "source": [
        "### 🧠 Работа с множествами (ответ)"
      ]
    },
    {
      "cell_type": "markdown",
      "metadata": {
        "id": "zrY9WyHKjJbB"
      },
      "source": [
        "Даны следующие данные:"
      ]
    },
    {
      "cell_type": "code",
      "execution_count": null,
      "metadata": {
        "id": "cjNUomlijJbB"
      },
      "outputs": [],
      "source": [
        "text1 = \"\"\"\n",
        "1. январь: 2\n",
        "февраль: 4\n",
        "3. март: 7\n",
        "\"\"\""
      ]
    },
    {
      "cell_type": "code",
      "execution_count": null,
      "metadata": {
        "id": "1v9a-XcQjJbB"
      },
      "outputs": [],
      "source": [
        "text1 = \"\"\"\n",
        "январь: 2\n",
        "февраль: 4\n",
        "март: 7\n",
        "\"\"\""
      ]
    },
    {
      "cell_type": "code",
      "execution_count": null,
      "metadata": {
        "id": "twhoXITpjJbB"
      },
      "outputs": [],
      "source": [
        "text2 = \"\"\"\n",
        "февраль: 10\n",
        "март: 8\n",
        "апрель: 3\n",
        "\"\"\""
      ]
    },
    {
      "cell_type": "markdown",
      "metadata": {
        "id": "OZ15m6q2jJbC"
      },
      "source": [
        "Составьте множества по месяцам:"
      ]
    },
    {
      "cell_type": "code",
      "execution_count": null,
      "metadata": {
        "id": "zit4srkNjJbC",
        "outputId": "41ad4733-726c-469d-f405-c2896e3db01f"
      },
      "outputs": [
        {
          "data": {
            "text/plain": [
              "{'март', 'февраль', 'январь'}"
            ]
          },
          "execution_count": 65,
          "metadata": {},
          "output_type": "execute_result"
        }
      ],
      "source": [
        "s1 = text1.strip().split('\\n')\n",
        "mon1 = set()\n",
        "for e1 in s1:\n",
        "    mon1.add(e1.split(':')[0])\n",
        "mon1"
      ]
    },
    {
      "cell_type": "code",
      "execution_count": null,
      "metadata": {
        "id": "wrvRroqvjJbC",
        "outputId": "f20e98e2-6b56-47db-d035-81c197e7a94b"
      },
      "outputs": [
        {
          "data": {
            "text/plain": [
              "{'март', 'февраль', 'январь'}"
            ]
          },
          "execution_count": 66,
          "metadata": {},
          "output_type": "execute_result"
        }
      ],
      "source": [
        "mon1 = set(text1.\n",
        "    strip().\n",
        "    replace(':', '').\n",
        "    replace('\\n', ' ').\n",
        "    split(' ')\n",
        "    [::2])\n",
        "mon1"
      ]
    },
    {
      "cell_type": "code",
      "execution_count": null,
      "metadata": {
        "id": "ds6BEgAojJbD",
        "outputId": "6d65238f-77d6-4a21-b035-96629452e8e1"
      },
      "outputs": [
        {
          "data": {
            "text/plain": [
              "{'март', 'февраль', 'январь'}"
            ]
          },
          "metadata": {},
          "output_type": "display_data"
        }
      ],
      "source": [
        "mon1 = set(text1.replace(':', '').strip().split()[::2])\n",
        "mon1"
      ]
    },
    {
      "cell_type": "code",
      "execution_count": null,
      "metadata": {
        "id": "-f2dR1WMjJbD",
        "outputId": "76cd1231-1077-414e-96bd-36750f615ab7"
      },
      "outputs": [
        {
          "data": {
            "text/plain": [
              "{'апрель', 'март', 'февраль'}"
            ]
          },
          "metadata": {},
          "output_type": "display_data"
        }
      ],
      "source": [
        "mon2 = set(text2.replace(':', '').strip().split()[::2])\n",
        "mon2"
      ]
    },
    {
      "cell_type": "markdown",
      "metadata": {
        "id": "8hd8vYu4jJbE"
      },
      "source": [
        "Найдите общие месяцы:"
      ]
    },
    {
      "cell_type": "code",
      "execution_count": null,
      "metadata": {
        "id": "LrsHXVWZjJbF",
        "outputId": "5676b8da-6362-470e-f41c-a6009cc22b75"
      },
      "outputs": [
        {
          "data": {
            "text/plain": [
              "{'март', 'февраль'}"
            ]
          },
          "metadata": {},
          "output_type": "display_data"
        }
      ],
      "source": [
        "mon1 & mon2"
      ]
    },
    {
      "cell_type": "markdown",
      "metadata": {
        "id": "mOJU7v-hjJbF"
      },
      "source": [
        "Создайте переменную `months` и поместите в неё все месяцы:"
      ]
    },
    {
      "cell_type": "code",
      "execution_count": null,
      "metadata": {
        "id": "Ec_X2p0NjJbG",
        "outputId": "11b632a2-ef77-4924-c21e-a7186c46c402"
      },
      "outputs": [
        {
          "data": {
            "text/plain": [
              "{'апрель', 'март', 'февраль', 'январь'}"
            ]
          },
          "metadata": {},
          "output_type": "display_data"
        }
      ],
      "source": [
        "months = mon1 | mon2\n",
        "months"
      ]
    },
    {
      "cell_type": "markdown",
      "metadata": {
        "id": "YpbQ7g29jJbG"
      },
      "source": [
        "Найдите месяцы которые не перечислены в обоих текстах:"
      ]
    },
    {
      "cell_type": "code",
      "execution_count": null,
      "metadata": {
        "id": "KEAkPzgvjJbG",
        "outputId": "3fcf1cb0-74e8-46ea-9d66-f772f5320992"
      },
      "outputs": [
        {
          "data": {
            "text/plain": [
              "{'август', 'декабрь', 'июль', 'июнь', 'май', 'ноябрь', 'октябрь', 'сентябрь'}"
            ]
          },
          "metadata": {},
          "output_type": "display_data"
        }
      ],
      "source": [
        "all = {\n",
        "    'январь',\n",
        "    'февраль',\n",
        "    'март',\n",
        "    'апрель',\n",
        "    'май',\n",
        "    'июнь',\n",
        "    'июль',\n",
        "    'август',\n",
        "    'сентябрь',\n",
        "    'октябрь',\n",
        "    'ноябрь',\n",
        "    'декабрь',\n",
        "}\n",
        "all - months"
      ]
    },
    {
      "cell_type": "markdown",
      "metadata": {
        "id": "Y9Nexpt3i44U"
      },
      "source": [
        "# Словари"
      ]
    },
    {
      "cell_type": "markdown",
      "metadata": {
        "id": "CShrgUC1i44X"
      },
      "source": [
        "**Словари** (dictionary) позволяют хранить пары ключ-значение. В качестве ключей могут выступать неизменяемые (immutable) значения.\n",
        "\n",
        "Поэтому они используются для быстрого доступа к значению по ключу.\n",
        "\n",
        "Орфографический словарь похож на Python-список. Толковый словарь похож на Python-словарь."
      ]
    },
    {
      "cell_type": "markdown",
      "metadata": {
        "id": "dsq5DdPPi44Z"
      },
      "source": [
        "Список операций:"
      ]
    },
    {
      "cell_type": "code",
      "execution_count": null,
      "metadata": {
        "id": "bPPxr4mUi44a",
        "outputId": "c8eef77d-968c-4e46-ba34-d894573e7e97",
        "colab": {
          "base_uri": "https://localhost:8080/"
        }
      },
      "outputs": [
        {
          "output_type": "execute_result",
          "data": {
            "text/plain": [
              "['clear',\n",
              " 'copy',\n",
              " 'fromkeys',\n",
              " 'get',\n",
              " 'items',\n",
              " 'keys',\n",
              " 'pop',\n",
              " 'popitem',\n",
              " 'setdefault',\n",
              " 'update',\n",
              " 'values']"
            ]
          },
          "metadata": {},
          "execution_count": 1
        }
      ],
      "source": [
        "[f for f in dir(dict) if not f.startswith('__')]"
      ]
    },
    {
      "cell_type": "markdown",
      "metadata": {
        "id": "ErAKNyHqi44r"
      },
      "source": [
        "Для создания словаря со парами ключ-значение, их нужно перечислить в `{}` через двоеточие `:`"
      ]
    },
    {
      "cell_type": "code",
      "execution_count": null,
      "metadata": {
        "id": "RHir9tUii44r",
        "outputId": "cc9e487e-46a3-4d73-cbfe-bfa130329891",
        "colab": {
          "base_uri": "https://localhost:8080/"
        }
      },
      "outputs": [
        {
          "output_type": "execute_result",
          "data": {
            "text/plain": [
              "{'Alice': 7, 'Bob': 11, 'Charlie': 27}"
            ]
          },
          "metadata": {},
          "execution_count": 46
        }
      ],
      "source": [
        "ages = {'Alice': 7, 'Bob' : 11, 'Charlie': 27}\n",
        "ages"
      ]
    },
    {
      "cell_type": "code",
      "source": [
        "{'Alice': {'7.0': 5}, 'Bob' : 11}"
      ],
      "metadata": {
        "colab": {
          "base_uri": "https://localhost:8080/"
        },
        "id": "wrvh7l73p7xK",
        "outputId": "b10b65cc-4ae3-4393-e19f-5e89f65b3c30"
      },
      "execution_count": null,
      "outputs": [
        {
          "output_type": "execute_result",
          "data": {
            "text/plain": [
              "{'Alice': {'7.0': 5}, 'Bob': 11}"
            ]
          },
          "metadata": {},
          "execution_count": 19
        }
      ]
    },
    {
      "cell_type": "markdown",
      "metadata": {
        "id": "iutIGkf1i44y"
      },
      "source": [
        "## Доступ к элементам"
      ]
    },
    {
      "cell_type": "markdown",
      "metadata": {
        "id": "mVUcMcrFi440"
      },
      "source": [
        "Доступ по несуществующему ключу создаст исключение `KeyError`:"
      ]
    },
    {
      "cell_type": "code",
      "execution_count": null,
      "metadata": {
        "id": "fUz6kYQLi440",
        "outputId": "01985d23-1cf9-42ec-e4ef-acb671494ebd",
        "colab": {
          "base_uri": "https://localhost:8080/",
          "height": 141
        }
      },
      "outputs": [
        {
          "output_type": "error",
          "ename": "KeyError",
          "evalue": "'Вася'",
          "traceback": [
            "\u001b[0;31m---------------------------------------------------------------------------\u001b[0m",
            "\u001b[0;31mKeyError\u001b[0m                                  Traceback (most recent call last)",
            "\u001b[0;32m<ipython-input-48-de8d53d0eb1d>\u001b[0m in \u001b[0;36m<cell line: 1>\u001b[0;34m()\u001b[0m\n\u001b[0;32m----> 1\u001b[0;31m \u001b[0mages\u001b[0m\u001b[0;34m[\u001b[0m\u001b[0;34m'Вася'\u001b[0m\u001b[0;34m]\u001b[0m\u001b[0;34m\u001b[0m\u001b[0;34m\u001b[0m\u001b[0m\n\u001b[0m",
            "\u001b[0;31mKeyError\u001b[0m: 'Вася'"
          ]
        }
      ],
      "source": [
        "ages['Вася']"
      ]
    },
    {
      "cell_type": "markdown",
      "metadata": {
        "id": "e9fPQBKEi440"
      },
      "source": [
        "Чтобы его избежать, часто используют оператор `in` и выражение `not in`:"
      ]
    },
    {
      "cell_type": "code",
      "execution_count": null,
      "metadata": {
        "id": "NC-5yEJxi441"
      },
      "outputs": [],
      "source": [
        "if 'Вася' in ages:\n",
        "    print(ages['Вася'])"
      ]
    },
    {
      "cell_type": "markdown",
      "metadata": {
        "id": "mnmbfaugi441"
      },
      "source": [
        "#### `dict.get(key, default)`"
      ]
    },
    {
      "cell_type": "code",
      "source": [
        "ages.get('Вася')"
      ],
      "metadata": {
        "id": "310zBhDf6Qe4"
      },
      "execution_count": null,
      "outputs": []
    },
    {
      "cell_type": "code",
      "source": [
        "ages.get('Вася', 'нет такого ключа')"
      ],
      "metadata": {
        "colab": {
          "base_uri": "https://localhost:8080/",
          "height": 36
        },
        "id": "OXqFXUDJ6Fwj",
        "outputId": "7fa99227-bc40-4931-8f87-61bc88a4b310"
      },
      "execution_count": null,
      "outputs": [
        {
          "output_type": "execute_result",
          "data": {
            "text/plain": [
              "'нет такого ключа'"
            ],
            "application/vnd.google.colaboratory.intrinsic+json": {
              "type": "string"
            }
          },
          "metadata": {},
          "execution_count": 51
        }
      ]
    },
    {
      "cell_type": "markdown",
      "metadata": {
        "id": "pI9TVdWci442"
      },
      "source": [
        "#### `dict.setdefault(key, default)`"
      ]
    },
    {
      "cell_type": "markdown",
      "metadata": {
        "id": "7_SienkSi442"
      },
      "source": [
        "Если ключа key не существует, то создаёт ключ `key` со значением `default`. **Возвращает** (название метода сильно путает) значение по ключу.\n",
        "\n",
        "```\n",
        "if key not in dict:\n",
        "    dict[key] = default\n",
        "return dict[key]\n",
        "```"
      ]
    },
    {
      "cell_type": "code",
      "source": [
        "ages['Петя'] = 5\n",
        "ages"
      ],
      "metadata": {
        "colab": {
          "base_uri": "https://localhost:8080/"
        },
        "id": "RO885q69sIvo",
        "outputId": "658f5453-f7e8-4a0e-bed7-ba6d8a3345ad"
      },
      "execution_count": null,
      "outputs": [
        {
          "output_type": "execute_result",
          "data": {
            "text/plain": [
              "{'Alice': 7, 'Bob': 11, 'Charlie': 27, 'Петя': 5}"
            ]
          },
          "metadata": {},
          "execution_count": 52
        }
      ]
    },
    {
      "cell_type": "code",
      "source": [
        "ages['Петя'] = 50\n",
        "ages"
      ],
      "metadata": {
        "colab": {
          "base_uri": "https://localhost:8080/"
        },
        "id": "kriMrOCKsPAY",
        "outputId": "1bbed163-67e5-4f89-ba3d-4a24a3a09525"
      },
      "execution_count": null,
      "outputs": [
        {
          "output_type": "execute_result",
          "data": {
            "text/plain": [
              "{'Alice': 7, 'Bob': 11, 'Charlie': 27, 'Петя': 50}"
            ]
          },
          "metadata": {},
          "execution_count": 53
        }
      ]
    },
    {
      "cell_type": "code",
      "source": [
        "if 'Петя' in ages:\n",
        "    print(ages['Петя'])\n",
        "else:\n",
        "    ages['Петя'] = 555\n",
        "\n",
        "ages"
      ],
      "metadata": {
        "colab": {
          "base_uri": "https://localhost:8080/"
        },
        "id": "ivBTdhF6sWFX",
        "outputId": "b0c1fa1b-3b10-4738-9daa-464be90c3e04"
      },
      "execution_count": null,
      "outputs": [
        {
          "output_type": "stream",
          "name": "stdout",
          "text": [
            "50\n"
          ]
        },
        {
          "output_type": "execute_result",
          "data": {
            "text/plain": [
              "{'Alice': 7, 'Bob': 11, 'Charlie': 27, 'Петя': 50}"
            ]
          },
          "metadata": {},
          "execution_count": 54
        }
      ]
    },
    {
      "cell_type": "code",
      "source": [
        "ages = {'Alice': 7, 'Bob' : 11, 'Charlie': 27}\n",
        "\n",
        "ages.setdefault('Петя', 5)"
      ],
      "metadata": {
        "colab": {
          "base_uri": "https://localhost:8080/"
        },
        "id": "uait-2U_6Wdw",
        "outputId": "0b311820-0177-4fcf-8cbf-d05d8f2ae0d9"
      },
      "execution_count": null,
      "outputs": [
        {
          "output_type": "execute_result",
          "data": {
            "text/plain": [
              "5"
            ]
          },
          "metadata": {},
          "execution_count": 55
        }
      ]
    },
    {
      "cell_type": "code",
      "execution_count": null,
      "metadata": {
        "id": "K94p3PNhi444",
        "colab": {
          "base_uri": "https://localhost:8080/"
        },
        "outputId": "0fe3283d-3696-4440-c0b2-ae3de37c5be0"
      },
      "outputs": [
        {
          "output_type": "execute_result",
          "data": {
            "text/plain": [
              "{'Alice': 7, 'Bob': 11, 'Charlie': 27, 'Петя': 5}"
            ]
          },
          "metadata": {},
          "execution_count": 56
        }
      ],
      "source": [
        "ages"
      ]
    },
    {
      "cell_type": "code",
      "execution_count": null,
      "metadata": {
        "id": "kU3hDggTi444",
        "outputId": "417436f4-430a-4495-ef2c-e90c1af70257",
        "colab": {
          "base_uri": "https://localhost:8080/"
        }
      },
      "outputs": [
        {
          "output_type": "execute_result",
          "data": {
            "text/plain": [
              "5"
            ]
          },
          "metadata": {},
          "execution_count": 57
        }
      ],
      "source": [
        "ages.setdefault('Петя', 555)"
      ]
    },
    {
      "cell_type": "markdown",
      "metadata": {
        "id": "diTHwYBSi444"
      },
      "source": [
        "### Перебор ключей и значений"
      ]
    },
    {
      "cell_type": "markdown",
      "metadata": {
        "id": "RFpKVZayi444"
      },
      "source": [
        "Можно получить все ключи и значения в виде списка:"
      ]
    },
    {
      "cell_type": "code",
      "execution_count": null,
      "metadata": {
        "id": "ZdQ7zhf9i444",
        "outputId": "62470284-bd6c-43d5-fe0e-1a5afd155224",
        "colab": {
          "base_uri": "https://localhost:8080/"
        }
      },
      "outputs": [
        {
          "output_type": "execute_result",
          "data": {
            "text/plain": [
              "dict_keys(['Alice', 'Bob', 'Charlie', 'Петя'])"
            ]
          },
          "metadata": {},
          "execution_count": 58
        }
      ],
      "source": [
        "ages.keys()"
      ]
    },
    {
      "cell_type": "code",
      "source": [
        "for key in ages.keys():\n",
        "    print(key)"
      ],
      "metadata": {
        "colab": {
          "base_uri": "https://localhost:8080/"
        },
        "id": "ZwmwDSpLtI39",
        "outputId": "67dd5331-f17b-4dee-de41-5e460763896e"
      },
      "execution_count": null,
      "outputs": [
        {
          "output_type": "stream",
          "name": "stdout",
          "text": [
            "Alice\n",
            "Bob\n",
            "Charlie\n",
            "Петя\n"
          ]
        }
      ]
    },
    {
      "cell_type": "code",
      "execution_count": null,
      "metadata": {
        "id": "XHUy1mkCi445",
        "outputId": "41045fac-0e6a-448f-d9ae-1c2fa54143bd",
        "colab": {
          "base_uri": "https://localhost:8080/"
        }
      },
      "outputs": [
        {
          "output_type": "stream",
          "name": "stdout",
          "text": [
            "Имя=Alice, Возраст=7\n",
            "Имя=Bob, Возраст=11\n",
            "Имя=Charlie, Возраст=27\n",
            "Имя=Петя, Возраст=5\n"
          ]
        }
      ],
      "source": [
        "for key in ages.keys():\n",
        "    val = ages[key]\n",
        "    print(f'Имя={key}, Возраст={val}')"
      ]
    },
    {
      "cell_type": "code",
      "execution_count": null,
      "metadata": {
        "id": "cgkJ9OTei445",
        "outputId": "35ce9a1b-9b66-45a5-b765-93699013d23d",
        "colab": {
          "base_uri": "https://localhost:8080/"
        }
      },
      "outputs": [
        {
          "output_type": "execute_result",
          "data": {
            "text/plain": [
              "dict_values([7, 11, 27, 5])"
            ]
          },
          "metadata": {},
          "execution_count": 61
        }
      ],
      "source": [
        "ages.values()"
      ]
    },
    {
      "cell_type": "code",
      "source": [
        "for val in ages.values():\n",
        "    print(val)"
      ],
      "metadata": {
        "colab": {
          "base_uri": "https://localhost:8080/"
        },
        "id": "lQk3xjeKtUEM",
        "outputId": "aa442bb5-8e0c-4f5e-aabd-5a39ced4f0c8"
      },
      "execution_count": null,
      "outputs": [
        {
          "output_type": "stream",
          "name": "stdout",
          "text": [
            "7\n",
            "11\n",
            "27\n",
            "5\n"
          ]
        }
      ]
    },
    {
      "cell_type": "code",
      "execution_count": null,
      "metadata": {
        "id": "tHkS8Rrti446",
        "outputId": "9fa51570-feb0-411a-db7c-6e27c35e2a78",
        "colab": {
          "base_uri": "https://localhost:8080/"
        }
      },
      "outputs": [
        {
          "output_type": "execute_result",
          "data": {
            "text/plain": [
              "dict_items([('Alice', 7), ('Bob', 11), ('Charlie', 27), ('Петя', 5)])"
            ]
          },
          "metadata": {},
          "execution_count": 63
        }
      ],
      "source": [
        "ages.items()"
      ]
    },
    {
      "cell_type": "code",
      "execution_count": null,
      "metadata": {
        "id": "cEIWEHkhi446",
        "outputId": "37ef5aca-9389-4448-aa23-a4e49546ee87",
        "colab": {
          "base_uri": "https://localhost:8080/"
        }
      },
      "outputs": [
        {
          "output_type": "stream",
          "name": "stdout",
          "text": [
            "('Alice', 7)\n",
            "Имя=Alice, Возраст=7\n",
            "('Bob', 11)\n",
            "Имя=Bob, Возраст=11\n",
            "('Charlie', 27)\n",
            "Имя=Charlie, Возраст=27\n",
            "('Петя', 5)\n",
            "Имя=Петя, Возраст=5\n"
          ]
        }
      ],
      "source": [
        "for el in ages.items():\n",
        "    print(el)\n",
        "    print(f'Имя={el[0]}, Возраст={el[1]}')"
      ]
    },
    {
      "cell_type": "code",
      "source": [
        "for k, v in ages.items():\n",
        "    print(f'Имя={k}, Возраст={v}')"
      ],
      "metadata": {
        "colab": {
          "base_uri": "https://localhost:8080/"
        },
        "id": "whTmsqlGtoFd",
        "outputId": "78dce439-285f-420b-9a52-43e730ea8b51"
      },
      "execution_count": null,
      "outputs": [
        {
          "output_type": "stream",
          "name": "stdout",
          "text": [
            "Имя=Alice, Возраст=7\n",
            "Имя=Bob, Возраст=11\n",
            "Имя=Charlie, Возраст=27\n",
            "Имя=Петя, Возраст=5\n"
          ]
        }
      ]
    },
    {
      "cell_type": "markdown",
      "metadata": {
        "id": "v05mMogOi448"
      },
      "source": [
        "## 🧠 Популярная буква"
      ]
    },
    {
      "cell_type": "markdown",
      "metadata": {
        "id": "Fc3jy6p3i448"
      },
      "source": [
        "Задана строка. Нужно найти букву, которая встречается чаще всего. Если таких букв несколько, то можно использовать любую среди них."
      ]
    },
    {
      "cell_type": "code",
      "execution_count": null,
      "metadata": {
        "id": "vuwY12vri448",
        "outputId": "bbab4b7a-5747-4bf0-85b1-91274d2d0ce6",
        "colab": {
          "base_uri": "https://localhost:8080/"
        }
      },
      "outputs": [
        {
          "output_type": "stream",
          "name": "stdout",
          "text": [
            "Самая популярная буква: в\n"
          ]
        }
      ],
      "source": [
        "sent = \"Вот такие буквы\"\n",
        "\n",
        "..."
      ]
    },
    {
      "cell_type": "markdown",
      "metadata": {
        "id": "0fhr_Gaji449"
      },
      "source": [
        "### 🧠 Популярная буква (ответ)"
      ]
    },
    {
      "cell_type": "markdown",
      "metadata": {
        "id": "JuoP4j9Wi449"
      },
      "source": [
        "Задана строка. Нужно найти букву, которая встречается чаще всего. Если таких букв несколько, то можно использовать любую среди них."
      ]
    },
    {
      "cell_type": "code",
      "execution_count": null,
      "metadata": {
        "id": "uIsIamnGi449",
        "outputId": "1b7d2249-9806-40ee-db3c-afe76acef7de",
        "colab": {
          "base_uri": "https://localhost:8080/"
        }
      },
      "outputs": [
        {
          "output_type": "stream",
          "name": "stdout",
          "text": [
            "Самая популярная буква: т\n"
          ]
        }
      ],
      "source": [
        "s = \"Вот такие буквы\"\n",
        "\n",
        "freq = {}\n",
        "for letter in s:\n",
        "    freq[letter] = freq.get(letter, 0) + 1\n",
        "\n",
        "max_n, max_letter = 0, None\n",
        "for letter, count in freq.items():\n",
        "    if count > max_n:\n",
        "        max_n = count\n",
        "        max_letter = letter\n",
        "\n",
        "print('Самая популярная буква:', max_letter)"
      ]
    },
    {
      "cell_type": "markdown",
      "source": [
        "Или же можно воспользоваться специальным объектом Counter"
      ],
      "metadata": {
        "id": "h1ZdDkJd7Wzr"
      }
    },
    {
      "cell_type": "code",
      "source": [
        "from collections import Counter\n",
        "\n",
        "counter_s = Counter(s.lower())\n",
        "counter_s"
      ],
      "metadata": {
        "colab": {
          "base_uri": "https://localhost:8080/"
        },
        "id": "sWQIiji46pZP",
        "outputId": "3c844fbb-2afe-404f-b6c3-73354b1275b7"
      },
      "execution_count": null,
      "outputs": [
        {
          "output_type": "execute_result",
          "data": {
            "text/plain": [
              "Counter({'в': 2,\n",
              "         'о': 1,\n",
              "         'т': 2,\n",
              "         ' ': 2,\n",
              "         'а': 1,\n",
              "         'к': 2,\n",
              "         'и': 1,\n",
              "         'е': 1,\n",
              "         'б': 1,\n",
              "         'у': 1,\n",
              "         'ы': 1})"
            ]
          },
          "metadata": {},
          "execution_count": 100
        }
      ]
    },
    {
      "cell_type": "code",
      "source": [
        "sorted(counter_s)"
      ],
      "metadata": {
        "colab": {
          "base_uri": "https://localhost:8080/"
        },
        "id": "rlvFmb9h6yRz",
        "outputId": "cab43dc2-7dce-4d75-a838-b9c5e25ff715"
      },
      "execution_count": null,
      "outputs": [
        {
          "output_type": "execute_result",
          "data": {
            "text/plain": [
              "[' ', 'а', 'б', 'в', 'е', 'и', 'к', 'о', 'т', 'у', 'ы']"
            ]
          },
          "metadata": {},
          "execution_count": 101
        }
      ]
    },
    {
      "cell_type": "code",
      "source": [
        "counter_s.items()"
      ],
      "metadata": {
        "colab": {
          "base_uri": "https://localhost:8080/"
        },
        "id": "rdvy42qUy058",
        "outputId": "46b75b0a-0f68-4c05-dc39-f05caeb75418"
      },
      "execution_count": null,
      "outputs": [
        {
          "output_type": "execute_result",
          "data": {
            "text/plain": [
              "dict_items([('в', 2), ('о', 1), ('т', 2), (' ', 2), ('а', 1), ('к', 2), ('и', 1), ('е', 1), ('б', 1), ('у', 1), ('ы', 1)])"
            ]
          },
          "metadata": {},
          "execution_count": 102
        }
      ]
    },
    {
      "cell_type": "code",
      "source": [
        "def my_key(item):\n",
        "    return item[1]\n",
        "\n",
        "sorted(counter_s.items(), key=my_key)"
      ],
      "metadata": {
        "colab": {
          "base_uri": "https://localhost:8080/"
        },
        "id": "0MyCjk7C6zYJ",
        "outputId": "22b7fc4c-f531-4215-a4a5-a827e04f011a"
      },
      "execution_count": null,
      "outputs": [
        {
          "output_type": "execute_result",
          "data": {
            "text/plain": [
              "[('о', 1),\n",
              " ('а', 1),\n",
              " ('и', 1),\n",
              " ('е', 1),\n",
              " ('б', 1),\n",
              " ('у', 1),\n",
              " ('ы', 1),\n",
              " ('в', 2),\n",
              " ('т', 2),\n",
              " (' ', 2),\n",
              " ('к', 2)]"
            ]
          },
          "metadata": {},
          "execution_count": 107
        }
      ]
    },
    {
      "cell_type": "code",
      "source": [
        "sorted_counter_s = sorted(counter_s.items(), key=lambda item: item[1])\n",
        "sorted_counter_s"
      ],
      "metadata": {
        "colab": {
          "base_uri": "https://localhost:8080/"
        },
        "id": "tgLlkBS_65Pv",
        "outputId": "2dbf207c-0ee8-40bb-84df-7250b742aac6"
      },
      "execution_count": null,
      "outputs": [
        {
          "output_type": "execute_result",
          "data": {
            "text/plain": [
              "[('о', 1),\n",
              " ('а', 1),\n",
              " ('и', 1),\n",
              " ('е', 1),\n",
              " ('б', 1),\n",
              " ('у', 1),\n",
              " ('ы', 1),\n",
              " ('в', 2),\n",
              " ('т', 2),\n",
              " (' ', 2),\n",
              " ('к', 2)]"
            ]
          },
          "metadata": {},
          "execution_count": 104
        }
      ]
    },
    {
      "cell_type": "code",
      "source": [
        "sorted_counter_s[-1][0]"
      ],
      "metadata": {
        "colab": {
          "base_uri": "https://localhost:8080/",
          "height": 36
        },
        "id": "iAmGtnw37Rqf",
        "outputId": "6a7f08b2-c277-43d9-8f68-ab58850f3aa5"
      },
      "execution_count": null,
      "outputs": [
        {
          "output_type": "execute_result",
          "data": {
            "text/plain": [
              "'к'"
            ],
            "application/vnd.google.colaboratory.intrinsic+json": {
              "type": "string"
            }
          },
          "metadata": {},
          "execution_count": 106
        }
      ]
    },
    {
      "cell_type": "markdown",
      "metadata": {
        "id": "M_J5Soup_9eI"
      },
      "source": [
        "## 🧠 Посчитаем средний возраст в коллективе"
      ]
    },
    {
      "cell_type": "code",
      "metadata": {
        "id": "1p9kq0qx__sL"
      },
      "source": [
        "people = {1: {'name': 'Oleg', 'age': '29', 'sex': 'Male'},\n",
        "          2: {'name': 'Kate', 'age': '21', 'sex': 'Female'},\n",
        "          3: {'name': 'Liza', 'age': '24', 'sex': 'Female'},\n",
        "          4: {'name': 'Pavel', 'age': '36', 'sex': 'Male'}}"
      ],
      "execution_count": null,
      "outputs": []
    },
    {
      "cell_type": "code",
      "source": [],
      "metadata": {
        "colab": {
          "base_uri": "https://localhost:8080/"
        },
        "id": "T6o_7CWlnpHb",
        "outputId": "3851af1a-4799-41bb-db41-b380588c1e8f"
      },
      "execution_count": null,
      "outputs": [
        {
          "output_type": "execute_result",
          "data": {
            "text/plain": [
              "27.5"
            ]
          },
          "metadata": {},
          "execution_count": 105
        }
      ]
    },
    {
      "cell_type": "markdown",
      "source": [
        "### 🧠 Посчитаем средний возраст в коллективе (ответ)"
      ],
      "metadata": {
        "id": "7reF69ZknnJ0"
      }
    },
    {
      "cell_type": "code",
      "source": [
        "age = 0\n",
        "\n",
        "for el in people.values():\n",
        "    age += int(el['age'])\n",
        "print(age / len(people))"
      ],
      "metadata": {
        "colab": {
          "base_uri": "https://localhost:8080/"
        },
        "id": "MFwhuil_65OI",
        "outputId": "2e2babdf-aca6-4ebd-9d42-4c0451378f05"
      },
      "execution_count": null,
      "outputs": [
        {
          "output_type": "stream",
          "name": "stdout",
          "text": [
            "27.5\n"
          ]
        }
      ]
    },
    {
      "cell_type": "code",
      "source": [
        "sum([int(el['age']) for el in people.values()]) / len(people)"
      ],
      "metadata": {
        "colab": {
          "base_uri": "https://localhost:8080/"
        },
        "id": "kuraalY8_M3U",
        "outputId": "2cdd9c24-faf5-4df4-886f-d6b8d55c57b1"
      },
      "execution_count": null,
      "outputs": [
        {
          "output_type": "execute_result",
          "data": {
            "text/plain": [
              "27.5"
            ]
          },
          "metadata": {},
          "execution_count": 6
        }
      ]
    },
    {
      "cell_type": "markdown",
      "metadata": {
        "id": "KUXrz2EDjW_X"
      },
      "source": [
        "# Списковые выражения"
      ]
    },
    {
      "cell_type": "markdown",
      "metadata": {
        "id": "4gjR1dSqjW_b"
      },
      "source": [
        "**Списковые выражения** (list comprehension) генерирует новый список на основе имеющейся коллекции (часто это другие списки; но можно взять и словари, например).\n",
        "\n",
        "Синтаксис:\n",
        "\n",
        "```python\n",
        "new_list = [expression for member in iterable]\n",
        "new_list = [expression for member in iterable if conditional]\n",
        "new_list = [expression1 if conditional else expression2 for member in iterable]\n",
        "```\n",
        "\n",
        "Пример:"
      ]
    },
    {
      "cell_type": "code",
      "source": [
        "list1 = []\n",
        "for x in range(1, 10):\n",
        "    list1.append(x)\n",
        "\n",
        "list1"
      ],
      "metadata": {
        "colab": {
          "base_uri": "https://localhost:8080/"
        },
        "id": "E3YTnwbv_J63",
        "outputId": "a4638865-584e-466c-8b7b-00a20db66c85"
      },
      "execution_count": null,
      "outputs": [
        {
          "output_type": "execute_result",
          "data": {
            "text/plain": [
              "[1, 2, 3, 4, 5, 6, 7, 8, 9]"
            ]
          },
          "metadata": {},
          "execution_count": 66
        }
      ]
    },
    {
      "cell_type": "code",
      "execution_count": null,
      "metadata": {
        "id": "PSbOCInGjW_d",
        "outputId": "381127f8-d817-497a-ed9a-45cad6c3c4ae",
        "colab": {
          "base_uri": "https://localhost:8080/"
        }
      },
      "outputs": [
        {
          "output_type": "execute_result",
          "data": {
            "text/plain": [
              "[1, 2, 3, 4, 5, 6, 7, 8, 9]"
            ]
          },
          "metadata": {},
          "execution_count": 67
        }
      ],
      "source": [
        "[x for x in range(1, 10)]"
      ]
    },
    {
      "cell_type": "code",
      "execution_count": null,
      "metadata": {
        "id": "Not3E7-ljW_i",
        "outputId": "b5f8e523-6c82-461c-81b2-6609ce9554f9",
        "colab": {
          "base_uri": "https://localhost:8080/"
        }
      },
      "outputs": [
        {
          "output_type": "execute_result",
          "data": {
            "text/plain": [
              "[1, 4, 9, 16]"
            ]
          },
          "metadata": {},
          "execution_count": 68
        }
      ],
      "source": [
        "data = [1, 2, 3, 4]\n",
        "\n",
        "squares = []\n",
        "for d in data:\n",
        "    squares.append(d*d)\n",
        "\n",
        "squares"
      ]
    },
    {
      "cell_type": "code",
      "source": [
        "# через list comprehesnsion\n",
        "[x*x for x in data]"
      ],
      "metadata": {
        "colab": {
          "base_uri": "https://localhost:8080/"
        },
        "id": "PAVZ6fsk_xTi",
        "outputId": "d5303acb-4364-4895-9903-ab47dbba9f49"
      },
      "execution_count": null,
      "outputs": [
        {
          "output_type": "execute_result",
          "data": {
            "text/plain": [
              "[1, 4, 9, 16]"
            ]
          },
          "metadata": {},
          "execution_count": 69
        }
      ]
    },
    {
      "cell_type": "markdown",
      "metadata": {
        "id": "I9mj9YLhjW_v"
      },
      "source": [
        "По сути, это синтаксический сахар для цикла `for`:"
      ]
    },
    {
      "cell_type": "code",
      "execution_count": null,
      "metadata": {
        "id": "fsIbGa4LjW_w",
        "outputId": "f455341f-70c2-4794-d64b-13fb33c0382d",
        "colab": {
          "base_uri": "https://localhost:8080/"
        }
      },
      "outputs": [
        {
          "output_type": "execute_result",
          "data": {
            "text/plain": [
              "[1, 4, 9, 16]"
            ]
          },
          "metadata": {},
          "execution_count": 70
        }
      ],
      "source": [
        "squares = []\n",
        "for x in range(1, 5):\n",
        "    squares.append(x ** 2)\n",
        "\n",
        "squares"
      ]
    },
    {
      "cell_type": "markdown",
      "metadata": {
        "id": "PaFkY2czjW_x"
      },
      "source": [
        "## Условия в выражении\n",
        "\n",
        "Условие (`if` без `else`) позволяет указать значения, которые попадут в результат:"
      ]
    },
    {
      "cell_type": "code",
      "execution_count": null,
      "metadata": {
        "id": "zfVbhpw5jW_1",
        "outputId": "8fc29c94-a98a-4851-a36e-d4e3585c38ce",
        "colab": {
          "base_uri": "https://localhost:8080/"
        }
      },
      "outputs": [
        {
          "output_type": "execute_result",
          "data": {
            "text/plain": [
              "[1, 3, 5, 7, 9]"
            ]
          },
          "metadata": {},
          "execution_count": 71
        }
      ],
      "source": [
        "odds = [x for x in range(10) if x % 2 != 0]\n",
        "odds"
      ]
    },
    {
      "cell_type": "code",
      "execution_count": null,
      "metadata": {
        "id": "JfCwX-mPjW_2",
        "outputId": "a2d7634c-5102-4ef9-c0ad-fecbc60610b1",
        "colab": {
          "base_uri": "https://localhost:8080/"
        }
      },
      "outputs": [
        {
          "output_type": "execute_result",
          "data": {
            "text/plain": [
              "[1, 3, 5, 7, 9]"
            ]
          },
          "metadata": {},
          "execution_count": 72
        }
      ],
      "source": [
        "odds = []\n",
        "\n",
        "for x in range(10):\n",
        "    if x % 2 != 0:\n",
        "        odds.append(x)\n",
        "odds"
      ]
    },
    {
      "cell_type": "markdown",
      "metadata": {
        "id": "94xMlY-pjW_3"
      },
      "source": [
        "Условие может содержать ветку `else`, но записывается оно до `for`:\n",
        "\n",
        "```python\n",
        "new_list = [expression for member in iterable if conditional]\n",
        "new_list = [expression1 if conditional else expression2 for member in iterable]\n",
        "```"
      ]
    },
    {
      "cell_type": "code",
      "source": [
        "import math\n",
        "\n",
        "sqrts = []\n",
        "for x in range(-4, 5):\n",
        "    if x >= 0:\n",
        "        sqrts.append(math.sqrt(x))\n",
        "    else:\n",
        "        sqrts.append(math.nan)\n",
        "\n",
        "sqrts"
      ],
      "metadata": {
        "colab": {
          "base_uri": "https://localhost:8080/"
        },
        "id": "qEY-3g1sBCDk",
        "outputId": "a331e3fb-8695-4187-ca96-f9bf4d8265f0"
      },
      "execution_count": null,
      "outputs": [
        {
          "output_type": "execute_result",
          "data": {
            "text/plain": [
              "[nan, nan, nan, nan, 0.0, 1.0, 1.4142135623730951, 1.7320508075688772, 2.0]"
            ]
          },
          "metadata": {},
          "execution_count": 73
        }
      ]
    },
    {
      "cell_type": "code",
      "execution_count": null,
      "metadata": {
        "id": "f1Zd3J6CjW_3",
        "outputId": "7ac17534-a84d-41f2-ed65-cbfc92fc17c7",
        "colab": {
          "base_uri": "https://localhost:8080/"
        }
      },
      "outputs": [
        {
          "output_type": "execute_result",
          "data": {
            "text/plain": [
              "[nan, nan, nan, nan, 0.0, 1.0, 1.4142135623730951, 1.7320508075688772, 2.0]"
            ]
          },
          "metadata": {},
          "execution_count": 74
        }
      ],
      "source": [
        "import math\n",
        "\n",
        "[math.sqrt(x) if x >= 0 else math.nan for x in range(-4, 5)]"
      ]
    },
    {
      "cell_type": "markdown",
      "metadata": {
        "id": "LTZAb9dRjW_4"
      },
      "source": [
        "## Последовательные выражения подряд\n",
        "\n",
        "Можно строить вложенные конструкции, используя запись нескольких выражений подряд:"
      ]
    },
    {
      "cell_type": "code",
      "source": [
        "result = []\n",
        "for x in range(1, 3):\n",
        "    for y in ['A', 'B', 'C']:\n",
        "        result.append((x, y))\n",
        "\n",
        "result"
      ],
      "metadata": {
        "colab": {
          "base_uri": "https://localhost:8080/"
        },
        "id": "5E8YQdfuBWjn",
        "outputId": "7a6d9bfc-e1cd-4a26-f3d3-57cd9c952680"
      },
      "execution_count": null,
      "outputs": [
        {
          "output_type": "execute_result",
          "data": {
            "text/plain": [
              "[(1, 'A'), (1, 'B'), (1, 'C'), (2, 'A'), (2, 'B'), (2, 'C')]"
            ]
          },
          "metadata": {},
          "execution_count": 75
        }
      ]
    },
    {
      "cell_type": "code",
      "execution_count": null,
      "metadata": {
        "id": "-v35cuIVjW_4",
        "outputId": "1461b9b3-f94b-45b8-f077-832f5bdd60e9",
        "colab": {
          "base_uri": "https://localhost:8080/"
        }
      },
      "outputs": [
        {
          "output_type": "execute_result",
          "data": {
            "text/plain": [
              "[(1, 'A'), (1, 'B'), (1, 'C'), (2, 'A'), (2, 'B'), (2, 'C')]"
            ]
          },
          "metadata": {},
          "execution_count": 76
        }
      ],
      "source": [
        "[(x, y) for x in range(1, 3) for y in ['A', 'B', 'C']]"
      ]
    },
    {
      "cell_type": "code",
      "execution_count": null,
      "metadata": {
        "id": "yTEjjufSjW_5",
        "outputId": "5dc40cc4-b515-40af-b7e4-5ce84d84c695",
        "colab": {
          "base_uri": "https://localhost:8080/"
        }
      },
      "outputs": [
        {
          "output_type": "execute_result",
          "data": {
            "text/plain": [
              "[(1, 'A', 'X'),\n",
              " (1, 'A', 'Y'),\n",
              " (1, 'B', 'X'),\n",
              " (1, 'B', 'Y'),\n",
              " (1, 'C', 'X'),\n",
              " (1, 'C', 'Y'),\n",
              " (2, 'A', 'X'),\n",
              " (2, 'A', 'Y'),\n",
              " (2, 'B', 'X'),\n",
              " (2, 'B', 'Y'),\n",
              " (2, 'C', 'X'),\n",
              " (2, 'C', 'Y')]"
            ]
          },
          "metadata": {},
          "execution_count": 77
        }
      ],
      "source": [
        "[(x, y, z) for x in range(1, 3) for y in ['A', 'B', 'C'] for z in ['X', 'Y']]"
      ]
    },
    {
      "cell_type": "markdown",
      "metadata": {
        "id": "WpD8Bh-vjW_6"
      },
      "source": [
        "Можно также использовать условия:"
      ]
    },
    {
      "cell_type": "code",
      "source": [
        "result = []\n",
        "for x in range(1, 4):\n",
        "    for y in range(3, 0, -1):\n",
        "        if x != y:\n",
        "            result.append((x, y))\n",
        "\n",
        "result"
      ],
      "metadata": {
        "colab": {
          "base_uri": "https://localhost:8080/"
        },
        "id": "WxSKZki6BuI2",
        "outputId": "375fd54f-99db-4e17-b8a4-c9ffb1e7d5d3"
      },
      "execution_count": null,
      "outputs": [
        {
          "output_type": "execute_result",
          "data": {
            "text/plain": [
              "[(1, 3), (1, 2), (2, 3), (2, 1), (3, 2), (3, 1)]"
            ]
          },
          "metadata": {},
          "execution_count": 78
        }
      ]
    },
    {
      "cell_type": "code",
      "execution_count": null,
      "metadata": {
        "id": "zKD57yn-jW_6",
        "outputId": "f133d9be-23b5-4cb2-a783-f4b235f718c3",
        "colab": {
          "base_uri": "https://localhost:8080/"
        }
      },
      "outputs": [
        {
          "output_type": "execute_result",
          "data": {
            "text/plain": [
              "[(1, 3), (1, 2), (2, 3), (2, 1), (3, 2), (3, 1)]"
            ]
          },
          "metadata": {},
          "execution_count": 79
        }
      ],
      "source": [
        "[(x, y) for x in range(1, 4) for y in range(3, 0, -1) if x != y]"
      ]
    },
    {
      "cell_type": "markdown",
      "metadata": {
        "id": "zrrma9oGjW_8"
      },
      "source": [
        "## Переменная `_`\n",
        "\n",
        "Иногда используют валидное имя переменной `_`, чтобы не придумывать другое:"
      ]
    },
    {
      "cell_type": "code",
      "source": [
        "[x for x in range(5)]"
      ],
      "metadata": {
        "colab": {
          "base_uri": "https://localhost:8080/"
        },
        "id": "0l3bKrXfCFj3",
        "outputId": "a02de6f2-16e7-4524-8e32-20f066971734"
      },
      "execution_count": null,
      "outputs": [
        {
          "output_type": "execute_result",
          "data": {
            "text/plain": [
              "[0, 1, 2, 3, 4]"
            ]
          },
          "metadata": {},
          "execution_count": 80
        }
      ]
    },
    {
      "cell_type": "code",
      "execution_count": null,
      "metadata": {
        "id": "bd59UjX6jW_9",
        "outputId": "a319e22b-6c3f-400e-ea9e-0c8ed5a763bd",
        "colab": {
          "base_uri": "https://localhost:8080/"
        }
      },
      "outputs": [
        {
          "output_type": "execute_result",
          "data": {
            "text/plain": [
              "[0, 1, 2, 3, 4]"
            ]
          },
          "metadata": {},
          "execution_count": 81
        }
      ],
      "source": [
        "[_ for _ in range(5)]"
      ]
    },
    {
      "cell_type": "code",
      "execution_count": null,
      "metadata": {
        "id": "uiUqIp55jW_9",
        "outputId": "67d30d3a-b4d2-426f-9c7f-96250a0a8ad2",
        "colab": {
          "base_uri": "https://localhost:8080/"
        }
      },
      "outputs": [
        {
          "output_type": "execute_result",
          "data": {
            "text/plain": [
              "[0, 0, 0]"
            ]
          },
          "metadata": {},
          "execution_count": 82
        }
      ],
      "source": [
        "[0 for _ in range(3)]"
      ]
    },
    {
      "cell_type": "markdown",
      "metadata": {
        "id": "i8_AfVvdjXAG"
      },
      "source": [
        "# ~~Выражения для кортежей~~"
      ]
    },
    {
      "cell_type": "markdown",
      "metadata": {
        "id": "QsO12VZGjXAH"
      },
      "source": [
        "Выражения для кортежей отсутствуют. Но можно создать список и преобразовать его в кортеж:"
      ]
    },
    {
      "cell_type": "code",
      "source": [
        "tuple()\n",
        "()\n",
        "\n",
        "list()\n",
        "[]"
      ],
      "metadata": {
        "id": "0Yt8C6wR3wE_",
        "colab": {
          "base_uri": "https://localhost:8080/"
        },
        "outputId": "b5ee4701-227f-4f25-8693-c1bf1b13dd2d"
      },
      "execution_count": null,
      "outputs": [
        {
          "output_type": "execute_result",
          "data": {
            "text/plain": [
              "[]"
            ]
          },
          "metadata": {},
          "execution_count": 89
        }
      ]
    },
    {
      "cell_type": "code",
      "source": [
        "(1 for i in range(5))"
      ],
      "metadata": {
        "colab": {
          "base_uri": "https://localhost:8080/"
        },
        "id": "Mr_dasLLrgNE",
        "outputId": "5499d7d3-d492-4108-fa76-1b234dec0c67"
      },
      "execution_count": null,
      "outputs": [
        {
          "output_type": "execute_result",
          "data": {
            "text/plain": [
              "<generator object <genexpr> at 0x7a06e5768ba0>"
            ]
          },
          "metadata": {},
          "execution_count": 83
        }
      ]
    },
    {
      "cell_type": "code",
      "source": [
        "[1 for i in range(5)]"
      ],
      "metadata": {
        "colab": {
          "base_uri": "https://localhost:8080/"
        },
        "id": "1vyZGqm-33OM",
        "outputId": "217f10be-7c87-489c-ae76-b9ec0cda3c42"
      },
      "execution_count": null,
      "outputs": [
        {
          "output_type": "execute_result",
          "data": {
            "text/plain": [
              "[1, 1, 1, 1, 1]"
            ]
          },
          "metadata": {},
          "execution_count": 84
        }
      ]
    },
    {
      "cell_type": "code",
      "source": [
        "tuple([1 for i in range(5)])"
      ],
      "metadata": {
        "colab": {
          "base_uri": "https://localhost:8080/"
        },
        "id": "aM9cF22t36X9",
        "outputId": "ea6c8024-cd27-480a-a09b-6c229194d9a3"
      },
      "execution_count": null,
      "outputs": [
        {
          "output_type": "execute_result",
          "data": {
            "text/plain": [
              "(1, 1, 1, 1, 1)"
            ]
          },
          "metadata": {},
          "execution_count": 85
        }
      ]
    },
    {
      "cell_type": "code",
      "execution_count": null,
      "metadata": {
        "id": "XmdmHgGzjXAH",
        "outputId": "3a3b3d33-2bf0-4060-e6d7-3b21bb188c16",
        "colab": {
          "base_uri": "https://localhost:8080/"
        }
      },
      "outputs": [
        {
          "output_type": "execute_result",
          "data": {
            "text/plain": [
              "(0, 2, 4)"
            ]
          },
          "metadata": {},
          "execution_count": 86
        }
      ],
      "source": [
        "tuple([x for x in range(5) if x % 2 == 0])"
      ]
    },
    {
      "cell_type": "markdown",
      "metadata": {
        "id": "3CsivAQ2jXAH"
      },
      "source": [
        "# Выражения для множеств"
      ]
    },
    {
      "cell_type": "code",
      "source": [
        "set()\n",
        "{}  # dict\n",
        "{1, 2, 3}"
      ],
      "metadata": {
        "id": "UWeSdfm74bnY",
        "colab": {
          "base_uri": "https://localhost:8080/"
        },
        "outputId": "3c7868c8-7f9a-429b-adc3-a33daa0df698"
      },
      "execution_count": null,
      "outputs": [
        {
          "output_type": "execute_result",
          "data": {
            "text/plain": [
              "{1, 2, 3}"
            ]
          },
          "metadata": {},
          "execution_count": 93
        }
      ]
    },
    {
      "cell_type": "markdown",
      "metadata": {
        "id": "8lK3xgk-jXAH"
      },
      "source": [
        "Применяется всё то же самое, что для списков, но скобки `[]` заменяются на `{}`:"
      ]
    },
    {
      "cell_type": "code",
      "execution_count": null,
      "metadata": {
        "id": "_c5R2mEZjXAH",
        "outputId": "49ac686d-d9ae-4954-c747-de7060e89b2b",
        "colab": {
          "base_uri": "https://localhost:8080/"
        }
      },
      "outputs": [
        {
          "output_type": "execute_result",
          "data": {
            "text/plain": [
              "{' ', 'H', 'W', 'd', 'e', 'l', 'o', 'r'}"
            ]
          },
          "metadata": {},
          "execution_count": 94
        }
      ],
      "source": [
        "{x for x in 'Hello World'}"
      ]
    },
    {
      "cell_type": "code",
      "execution_count": null,
      "metadata": {
        "id": "CZIs1EfbjXAJ",
        "outputId": "26b15828-be6d-426f-e493-22ae5f2a22d1",
        "colab": {
          "base_uri": "https://localhost:8080/"
        }
      },
      "outputs": [
        {
          "output_type": "execute_result",
          "data": {
            "text/plain": [
              "{'H', 'W'}"
            ]
          },
          "metadata": {},
          "execution_count": 95
        }
      ],
      "source": [
        "{x for x in 'Hello World' if x.isupper()}"
      ]
    },
    {
      "cell_type": "markdown",
      "metadata": {
        "id": "YjkTF5isjXAM"
      },
      "source": [
        "# Выражения для словарей"
      ]
    },
    {
      "cell_type": "markdown",
      "metadata": {
        "id": "nCk-gknNjXAN"
      },
      "source": [
        "Выражения для словарей строятся по похожему принципу, но с двумя отличиями:\n",
        "\n",
        "1. Используйте `{}` вместо `[]`\n",
        "2. Задавайте `key: value` на месте результата"
      ]
    },
    {
      "cell_type": "code",
      "execution_count": null,
      "metadata": {
        "id": "NK6n0FpejXAN",
        "outputId": "2edc9286-6b73-4b76-df02-3cdb4e719fc2",
        "colab": {
          "base_uri": "https://localhost:8080/"
        }
      },
      "outputs": [
        {
          "output_type": "execute_result",
          "data": {
            "text/plain": [
              "{0: 0, 1: 1, 2: 4, 3: 9, 4: 16}"
            ]
          },
          "metadata": {},
          "execution_count": 87
        }
      ],
      "source": [
        "squares = {i: i**2 for i in range(5)}\n",
        "squares"
      ]
    },
    {
      "cell_type": "code",
      "source": [
        "squares = {}\n",
        "for i in range(5):\n",
        "    squares[i] = [j for j in range(0, i)]\n",
        "\n",
        "squares"
      ],
      "metadata": {
        "colab": {
          "base_uri": "https://localhost:8080/"
        },
        "id": "Ys8KBE715vad",
        "outputId": "2cefb2cc-54ec-462a-8bc1-9dc9a1574c1a"
      },
      "execution_count": null,
      "outputs": [
        {
          "output_type": "execute_result",
          "data": {
            "text/plain": [
              "{0: [], 1: [0], 2: [0, 1], 3: [0, 1, 2], 4: [0, 1, 2, 3]}"
            ]
          },
          "metadata": {},
          "execution_count": 88
        }
      ]
    },
    {
      "cell_type": "code",
      "source": [
        "squares = {}\n",
        "for i in range(5):\n",
        "    mylist = []\n",
        "    for j in range(0, i):\n",
        "        mylist.append(j)\n",
        "    squares[i] = mylist\n",
        "\n",
        "squares"
      ],
      "metadata": {
        "colab": {
          "base_uri": "https://localhost:8080/"
        },
        "id": "6lbVkquY55m2",
        "outputId": "cdf30df3-9286-4568-865c-0df288567df0"
      },
      "execution_count": null,
      "outputs": [
        {
          "output_type": "execute_result",
          "data": {
            "text/plain": [
              "{0: [], 1: [0], 2: [0, 1], 3: [0, 1, 2], 4: [0, 1, 2, 3]}"
            ]
          },
          "metadata": {},
          "execution_count": 89
        }
      ]
    },
    {
      "cell_type": "code",
      "execution_count": null,
      "metadata": {
        "id": "3rsZrAp9jXAN",
        "outputId": "625c5b3b-6972-4bfb-d971-1cd9ee1e2b79",
        "colab": {
          "base_uri": "https://localhost:8080/"
        }
      },
      "outputs": [
        {
          "output_type": "execute_result",
          "data": {
            "text/plain": [
              "{0: [], 1: [0], 2: [0, 1], 3: [0, 1, 2], 4: [0, 1, 2, 3]}"
            ]
          },
          "metadata": {},
          "execution_count": 90
        }
      ],
      "source": [
        "squares = {\n",
        "    i: [j for j in range(0, i)]\n",
        "    for i in range(5)\n",
        "}\n",
        "squares"
      ]
    },
    {
      "cell_type": "markdown",
      "metadata": {
        "id": "PcuqdtrpjW_-"
      },
      "source": [
        "## 🧠 list"
      ]
    },
    {
      "cell_type": "markdown",
      "metadata": {
        "id": "xOQbSjlqjW_-"
      },
      "source": [
        "С помощью выражений создайте список из `n` одинаковых элементов:\n",
        "\n",
        "- `[0, 0, 0, 0, 0]`\n",
        "- `[1, 1, 1, 1, 1, 1]`"
      ]
    },
    {
      "cell_type": "code",
      "source": [],
      "metadata": {
        "colab": {
          "base_uri": "https://localhost:8080/"
        },
        "id": "jcbPgF2o0q5-",
        "outputId": "50475f04-c7ff-4ef6-e15d-4a36c3ebf898"
      },
      "execution_count": null,
      "outputs": [
        {
          "output_type": "execute_result",
          "data": {
            "text/plain": [
              "[0, 0, 0, 0, 0]"
            ]
          },
          "metadata": {},
          "execution_count": 4
        }
      ]
    },
    {
      "cell_type": "code",
      "execution_count": null,
      "metadata": {
        "id": "30cVY-2PjW_-",
        "colab": {
          "base_uri": "https://localhost:8080/"
        },
        "outputId": "39a037c1-8bad-4514-8864-0ab1da696109"
      },
      "outputs": [
        {
          "output_type": "execute_result",
          "data": {
            "text/plain": [
              "[1, 1, 1, 1, 1, 1]"
            ]
          },
          "metadata": {},
          "execution_count": 6
        }
      ],
      "source": []
    },
    {
      "cell_type": "markdown",
      "metadata": {
        "id": "jxKagM_SjW_-"
      },
      "source": [
        "Создайте нулевую матрицу размера `n x n`:"
      ]
    },
    {
      "cell_type": "code",
      "source": [],
      "metadata": {
        "colab": {
          "base_uri": "https://localhost:8080/"
        },
        "id": "lixXQQni1Qr7",
        "outputId": "4e17a601-261a-4b5a-f0e8-1f48dbb86134"
      },
      "execution_count": null,
      "outputs": [
        {
          "output_type": "execute_result",
          "data": {
            "text/plain": [
              "[[0, 0, 0, 0, 0],\n",
              " [0, 0, 0, 0, 0],\n",
              " [0, 0, 0, 0, 0],\n",
              " [0, 0, 0, 0, 0],\n",
              " [0, 0, 0, 0, 0]]"
            ]
          },
          "metadata": {},
          "execution_count": 10
        }
      ]
    },
    {
      "cell_type": "markdown",
      "metadata": {
        "id": "ar5g4s7IjW__"
      },
      "source": [
        "Создайте единичную матрицу размера `n x n`:"
      ]
    },
    {
      "cell_type": "code",
      "source": [],
      "metadata": {
        "colab": {
          "base_uri": "https://localhost:8080/"
        },
        "id": "CreOzGwp2iOz",
        "outputId": "60374a38-1c57-4871-85d8-eac484c75d44"
      },
      "execution_count": null,
      "outputs": [
        {
          "output_type": "execute_result",
          "data": {
            "text/plain": [
              "[[1, 0, 0, 0, 0],\n",
              " [0, 1, 0, 0, 0],\n",
              " [0, 0, 1, 0, 0],\n",
              " [0, 0, 0, 1, 0],\n",
              " [0, 0, 0, 0, 1]]"
            ]
          },
          "metadata": {},
          "execution_count": 17
        }
      ]
    },
    {
      "cell_type": "markdown",
      "metadata": {
        "id": "wSDgad4XjXAA"
      },
      "source": [
        "Создайте колоду карт попарно перебирая символы `6`, `7`, `8`, `9`, `10`, `В`, `Д`, `К`, `Т` и `♤`, `♡`, `♢`, `♧`:"
      ]
    },
    {
      "cell_type": "code",
      "source": [
        "dos = ['6', '7', '8', '9', '10', 'В', 'Д', 'К', 'Т']\n",
        "mast = ['♤', '♡', '♢', '♧']\n",
        "\n",
        "..."
      ],
      "metadata": {
        "colab": {
          "base_uri": "https://localhost:8080/"
        },
        "id": "UNon9fsY3VyN",
        "outputId": "2fd8b940-c90c-4a35-b90a-2ef3acdbb1b7"
      },
      "execution_count": null,
      "outputs": [
        {
          "output_type": "execute_result",
          "data": {
            "text/plain": [
              "['6♤',\n",
              " '6♡',\n",
              " '6♢',\n",
              " '6♧',\n",
              " '7♤',\n",
              " '7♡',\n",
              " '7♢',\n",
              " '7♧',\n",
              " '8♤',\n",
              " '8♡',\n",
              " '8♢',\n",
              " '8♧',\n",
              " '9♤',\n",
              " '9♡',\n",
              " '9♢',\n",
              " '9♧',\n",
              " '10♤',\n",
              " '10♡',\n",
              " '10♢',\n",
              " '10♧',\n",
              " 'В♤',\n",
              " 'В♡',\n",
              " 'В♢',\n",
              " 'В♧',\n",
              " 'Д♤',\n",
              " 'Д♡',\n",
              " 'Д♢',\n",
              " 'Д♧',\n",
              " 'К♤',\n",
              " 'К♡',\n",
              " 'К♢',\n",
              " 'К♧',\n",
              " 'Т♤',\n",
              " 'Т♡',\n",
              " 'Т♢',\n",
              " 'Т♧']"
            ]
          },
          "metadata": {},
          "execution_count": 20
        }
      ]
    },
    {
      "cell_type": "markdown",
      "metadata": {
        "id": "Mq69xVoKjXAB"
      },
      "source": [
        "### 🧠 (ответ)"
      ]
    },
    {
      "cell_type": "markdown",
      "metadata": {
        "id": "hMq8GfOYjXAC"
      },
      "source": [
        "С помощью выражений создайте список из `n` одинаковых элементов:\n",
        "\n",
        "- `[0, 0, 0, 0, 0]`\n",
        "- `[1, 1, 1, 1, 1, 1]`"
      ]
    },
    {
      "cell_type": "code",
      "execution_count": null,
      "metadata": {
        "id": "hLmB9Qf3jXAC",
        "outputId": "d2984184-438e-4281-9cd4-7ecbf9c1087e"
      },
      "outputs": [
        {
          "data": {
            "text/plain": [
              "[0, 0, 0, 0, 0, 0]"
            ]
          },
          "execution_count": 41,
          "metadata": {},
          "output_type": "execute_result"
        }
      ],
      "source": [
        "n = 6\n",
        "zeros = [0 for _ in range(n)]\n",
        "zeros"
      ]
    },
    {
      "cell_type": "code",
      "execution_count": null,
      "metadata": {
        "id": "k8QBQr6tjXAC",
        "outputId": "1eb17d87-7d2d-4d56-ab06-6fecc26b5c04"
      },
      "outputs": [
        {
          "data": {
            "text/plain": [
              "[1, 1, 1, 1, 1]"
            ]
          },
          "execution_count": 40,
          "metadata": {},
          "output_type": "execute_result"
        }
      ],
      "source": [
        "n = 5\n",
        "ones = [1 for _ in range(n)]\n",
        "ones"
      ]
    },
    {
      "cell_type": "markdown",
      "metadata": {
        "id": "f_a1ATEJjXAD"
      },
      "source": [
        "Создайте нулевую матрицу размера `n x n`:"
      ]
    },
    {
      "cell_type": "code",
      "execution_count": null,
      "metadata": {
        "id": "JgKk6CBrjXAD",
        "outputId": "76ba35a6-728e-4b66-c763-56ac0e855cf9"
      },
      "outputs": [
        {
          "data": {
            "text/plain": [
              "[[0, 0, 0, 0, 0],\n",
              " [0, 0, 0, 0, 0],\n",
              " [0, 0, 0, 0, 0],\n",
              " [0, 0, 0, 0, 0],\n",
              " [0, 0, 0, 0, 0]]"
            ]
          },
          "execution_count": 45,
          "metadata": {},
          "output_type": "execute_result"
        }
      ],
      "source": [
        "n = 5\n",
        "zero_mat = [[0 for c in range(n)] for r in range(n)]\n",
        "zero_mat"
      ]
    },
    {
      "cell_type": "markdown",
      "metadata": {
        "id": "vl1_BSYnjXAD"
      },
      "source": [
        "Создайте единичную матрицу размера `n x n`:"
      ]
    },
    {
      "cell_type": "code",
      "execution_count": null,
      "metadata": {
        "id": "hlOSvXaIjXAE",
        "outputId": "afac79bf-f638-4d08-ac4f-6da9d7b9761d"
      },
      "outputs": [
        {
          "data": {
            "text/plain": [
              "[[1, 0, 0, 0, 0],\n",
              " [0, 1, 0, 0, 0],\n",
              " [0, 0, 1, 0, 0],\n",
              " [0, 0, 0, 1, 0],\n",
              " [0, 0, 0, 0, 1]]"
            ]
          },
          "execution_count": 47,
          "metadata": {},
          "output_type": "execute_result"
        }
      ],
      "source": [
        "n = 5\n",
        "eye_mat = [[ 0 for c in range(n)] for r in range(n)]\n",
        "for i in range(n):\n",
        "    eye_mat[i][i] = 1\n",
        "eye_mat"
      ]
    },
    {
      "cell_type": "code",
      "execution_count": null,
      "metadata": {
        "id": "3azGtyc1jXAE",
        "outputId": "3891376a-51eb-48dd-d96e-9b0a9286de17"
      },
      "outputs": [
        {
          "data": {
            "text/plain": [
              "[[1, 0, 0, 0, 0],\n",
              " [0, 1, 0, 0, 0],\n",
              " [0, 0, 1, 0, 0],\n",
              " [0, 0, 0, 1, 0],\n",
              " [0, 0, 0, 0, 1]]"
            ]
          },
          "execution_count": 49,
          "metadata": {},
          "output_type": "execute_result"
        }
      ],
      "source": [
        "n = 5\n",
        "eye_mat = [[1 if c==r else 0 for c in range(n)] for r in range(n)]\n",
        "eye_mat"
      ]
    },
    {
      "cell_type": "markdown",
      "metadata": {
        "id": "kmFwvEZJjXAF"
      },
      "source": [
        "Создайте колоду карт попарно перебирая символы `6`, `7`, `8`, `9`, `10`, `В`, `Д`, `К`, `Т` и `♤`, `♡`, `♢`, `♧`.\n",
        "\n",
        "Каждое значение - это кортеж из достоинства и масти."
      ]
    },
    {
      "cell_type": "code",
      "execution_count": null,
      "metadata": {
        "id": "-myoZwkajXAF",
        "outputId": "db9e5044-f223-43cc-cceb-de3c0701a74a"
      },
      "outputs": [
        {
          "data": {
            "text/plain": [
              "['6♤',\n",
              " '7♤',\n",
              " '8♤',\n",
              " '9♤',\n",
              " '10♤',\n",
              " 'В♤',\n",
              " 'Д♤',\n",
              " 'К♤',\n",
              " 'Т♤',\n",
              " '6♡',\n",
              " '7♡',\n",
              " '8♡',\n",
              " '9♡',\n",
              " '10♡',\n",
              " 'В♡',\n",
              " 'Д♡',\n",
              " 'К♡',\n",
              " 'Т♡',\n",
              " '6♢',\n",
              " '7♢',\n",
              " '8♢',\n",
              " '9♢',\n",
              " '10♢',\n",
              " 'В♢',\n",
              " 'Д♢',\n",
              " 'К♢',\n",
              " 'Т♢',\n",
              " '6♧',\n",
              " '7♧',\n",
              " '8♧',\n",
              " '9♧',\n",
              " '10♧',\n",
              " 'В♧',\n",
              " 'Д♧',\n",
              " 'К♧',\n",
              " 'Т♧']"
            ]
          },
          "execution_count": 53,
          "metadata": {},
          "output_type": "execute_result"
        }
      ],
      "source": [
        "dos = ['6', '7', '8', '9', '10', 'В', 'Д', 'К', 'Т']\n",
        "mast = ['♤', '♡', '♢', '♧']\n",
        "[d+m for d in dos for m in mast]"
      ]
    },
    {
      "cell_type": "markdown",
      "metadata": {
        "id": "Bgo6eQt9jXAJ"
      },
      "source": [
        "## 🧠 set"
      ]
    },
    {
      "cell_type": "markdown",
      "metadata": {
        "id": "0ATbMoRVjXAK"
      },
      "source": [
        "Преобразуйте список в множество, оставив в нём элементы большие `25`:"
      ]
    },
    {
      "cell_type": "code",
      "execution_count": null,
      "metadata": {
        "id": "WR3nr06wjXAK",
        "colab": {
          "base_uri": "https://localhost:8080/"
        },
        "outputId": "76c7332e-98fb-4bf7-a10b-10637b0e1d8a"
      },
      "outputs": [
        {
          "output_type": "execute_result",
          "data": {
            "text/plain": [
              "{30, 40, 50}"
            ]
          },
          "metadata": {},
          "execution_count": 27
        }
      ],
      "source": [
        "mylist = [10, 20, 30, 40, 10, 30, 50]\n"
      ]
    },
    {
      "cell_type": "markdown",
      "metadata": {
        "id": "sWrxP8UtjXAK"
      },
      "source": [
        "### 🧠 (ответ)"
      ]
    },
    {
      "cell_type": "markdown",
      "metadata": {
        "id": "iYxEQpudjXAL"
      },
      "source": [
        "Преобразуйте список в множество, оставив в нём элементы большие `25`:"
      ]
    },
    {
      "cell_type": "code",
      "execution_count": null,
      "metadata": {
        "id": "fyM4BygMjXAM",
        "outputId": "02f5cede-ad5c-4cf1-c7ab-6e67924d32fa"
      },
      "outputs": [
        {
          "data": {
            "text/plain": [
              "{30, 40, 50}"
            ]
          },
          "execution_count": 58,
          "metadata": {},
          "output_type": "execute_result"
        }
      ],
      "source": [
        "mylist = [10, 20, 30, 40, 10, 30, 50]\n",
        "myset = {x for x in mylist if x > 25}\n",
        "myset"
      ]
    },
    {
      "cell_type": "markdown",
      "metadata": {
        "id": "ezxEltgajXAO"
      },
      "source": [
        "## 🧠 dict"
      ]
    },
    {
      "cell_type": "markdown",
      "metadata": {
        "id": "phT-vsljjXAO"
      },
      "source": [
        "Задан словарь:"
      ]
    },
    {
      "cell_type": "code",
      "execution_count": null,
      "metadata": {
        "id": "diI6jlm9jXAP"
      },
      "outputs": [],
      "source": [
        "persons = {\n",
        "    'Alice': 7,\n",
        "    'Bob' : 11,\n",
        "    'Charlie': 27,\n",
        "}"
      ]
    },
    {
      "cell_type": "markdown",
      "metadata": {
        "id": "0gyIitlPjXAP"
      },
      "source": [
        "Составьте обратный словарь:\n",
        "- 7 -> Alice\n",
        "- 11 -> Bob\n",
        "- 27 -> Charlie"
      ]
    },
    {
      "cell_type": "code",
      "execution_count": null,
      "metadata": {
        "id": "Dd_nQt8BjXAQ",
        "colab": {
          "base_uri": "https://localhost:8080/"
        },
        "outputId": "cbc33080-fe77-47bb-bd68-e81a15c38e0c"
      },
      "outputs": [
        {
          "output_type": "execute_result",
          "data": {
            "text/plain": [
              "{7: 'Alice', 11: 'Bob', 27: 'Charlie'}"
            ]
          },
          "metadata": {},
          "execution_count": 35
        }
      ],
      "source": []
    },
    {
      "cell_type": "markdown",
      "metadata": {
        "id": "HoZVPoGejXAQ"
      },
      "source": [
        "Какая проблема при обращении словаря может быть?\n",
        "\n",
        "Измените исходные данные, чтобы её продемонстрировать."
      ]
    },
    {
      "cell_type": "markdown",
      "metadata": {
        "id": "UycVOMAKjXAQ"
      },
      "source": [
        "### 🧠 (ответ)"
      ]
    },
    {
      "cell_type": "markdown",
      "metadata": {
        "id": "U-kY_AK2jXAR"
      },
      "source": [
        "Задан словарь:"
      ]
    },
    {
      "cell_type": "code",
      "execution_count": null,
      "metadata": {
        "id": "vtPutOisjXAR",
        "outputId": "4f5e3cf4-33fb-4adf-8171-429954962de2",
        "colab": {
          "base_uri": "https://localhost:8080/"
        }
      },
      "outputs": [
        {
          "output_type": "execute_result",
          "data": {
            "text/plain": [
              "{'Alice': 7, 'Bob': 11, 'Charlie': 27, 'David': 11}"
            ]
          },
          "metadata": {},
          "execution_count": 36
        }
      ],
      "source": [
        "persons = {\n",
        "    'Alice': 7,\n",
        "    'Bob' : 11,\n",
        "    'Charlie': 27,\n",
        "    'David': 11,\n",
        "}\n",
        "persons"
      ]
    },
    {
      "cell_type": "markdown",
      "metadata": {
        "id": "mMuAIcPEjXAR"
      },
      "source": [
        "Составьте обратный словарь:\n",
        "- 7 -> Alice\n",
        "- 11 -> Bob\n",
        "- 27 -> Charlie"
      ]
    },
    {
      "cell_type": "code",
      "execution_count": null,
      "metadata": {
        "id": "FnTL5W2cjXAR",
        "outputId": "f81c512c-fe9f-4a42-a6d0-4dbc2a7bc5c3",
        "colab": {
          "base_uri": "https://localhost:8080/"
        }
      },
      "outputs": [
        {
          "output_type": "execute_result",
          "data": {
            "text/plain": [
              "{7: 'Alice', 11: 'David', 27: 'Charlie'}"
            ]
          },
          "metadata": {},
          "execution_count": 37
        }
      ],
      "source": [
        "{p[1]: p[0] for p in persons.items()}"
      ]
    },
    {
      "cell_type": "code",
      "execution_count": null,
      "metadata": {
        "id": "p38OQT8mjXAS",
        "outputId": "ffecdced-b59c-4189-825f-73ad8358d04d",
        "colab": {
          "base_uri": "https://localhost:8080/"
        }
      },
      "outputs": [
        {
          "output_type": "stream",
          "name": "stdout",
          "text": [
            "('Alice', 7) Alice 7\n",
            "('Bob', 11) Bob 11\n",
            "('Charlie', 27) Charlie 27\n",
            "('David', 11) David 11\n"
          ]
        }
      ],
      "source": [
        "for p in persons.items():\n",
        "    print(p, p[0], p[1])"
      ]
    },
    {
      "cell_type": "code",
      "execution_count": null,
      "metadata": {
        "id": "5Y_I1336jXAS",
        "outputId": "48871e95-65da-4e87-fb63-9bede51ac7fa",
        "colab": {
          "base_uri": "https://localhost:8080/"
        }
      },
      "outputs": [
        {
          "output_type": "execute_result",
          "data": {
            "text/plain": [
              "{7: 'Alice', 11: 'David', 27: 'Charlie'}"
            ]
          },
          "metadata": {},
          "execution_count": 49
        }
      ],
      "source": [
        "{persons[k]: k for k in persons.keys()}"
      ]
    },
    {
      "cell_type": "code",
      "execution_count": null,
      "metadata": {
        "id": "B7AXlbX5jXAT",
        "outputId": "5f7bec4f-cd3a-4f4d-c34d-074d8012753b",
        "colab": {
          "base_uri": "https://localhost:8080/"
        }
      },
      "outputs": [
        {
          "output_type": "execute_result",
          "data": {
            "text/plain": [
              "dict_keys(['Alice', 'Bob', 'Charlie', 'David'])"
            ]
          },
          "metadata": {},
          "execution_count": 50
        }
      ],
      "source": [
        "persons.keys()"
      ]
    },
    {
      "cell_type": "code",
      "execution_count": null,
      "metadata": {
        "id": "3M92uiJdjXAT",
        "outputId": "7173d49f-3914-432d-f858-6d05c8e97a3d",
        "colab": {
          "base_uri": "https://localhost:8080/"
        }
      },
      "outputs": [
        {
          "output_type": "stream",
          "name": "stdout",
          "text": [
            "Alice\n",
            "Bob\n",
            "Charlie\n",
            "David\n"
          ]
        }
      ],
      "source": [
        "for k in persons.keys():\n",
        "    print(k)"
      ]
    },
    {
      "cell_type": "markdown",
      "metadata": {
        "id": "N63ecow_jXAU"
      },
      "source": [
        "Какая проблема при обращении словаря может быть?\n",
        "\n",
        "Измените исходные данные, чтобы её продемонстрировать."
      ]
    },
    {
      "cell_type": "code",
      "source": [
        "d = {}\n",
        "for k, v in persons.items():\n",
        "    if v in d:\n",
        "        v_old = d[v]\n",
        "        v_old.append(k)\n",
        "        d[v] = v_old\n",
        "    else:\n",
        "        d[v] = [k]\n",
        "d"
      ],
      "metadata": {
        "colab": {
          "base_uri": "https://localhost:8080/"
        },
        "id": "RcU1wMPTDGwR",
        "outputId": "0b5f727a-4d34-4b90-88f3-61e9273a347d"
      },
      "execution_count": null,
      "outputs": [
        {
          "output_type": "execute_result",
          "data": {
            "text/plain": [
              "{7: ['Alice'], 11: ['Bob', 'David'], 27: ['Charlie']}"
            ]
          },
          "metadata": {},
          "execution_count": 42
        }
      ]
    },
    {
      "cell_type": "markdown",
      "source": [
        "# Что дальше"
      ],
      "metadata": {
        "id": "B0wC5zg-sXjw"
      }
    },
    {
      "cell_type": "markdown",
      "source": [
        "Функции https://colab.research.google.com/drive/1vsiONEIhTK0Q_of9Zs83W5zb3Izpf7cL"
      ],
      "metadata": {
        "id": "yXA9T-IwsabA"
      }
    }
  ]
}